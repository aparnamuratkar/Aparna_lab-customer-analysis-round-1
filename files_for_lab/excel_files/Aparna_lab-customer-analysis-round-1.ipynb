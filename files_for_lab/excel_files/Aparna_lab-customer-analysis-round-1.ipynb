{
 "cells": [
  {
   "cell_type": "code",
   "execution_count": 20,
   "id": "ccd464f0",
   "metadata": {},
   "outputs": [],
   "source": [
    "import pandas as pd \n",
    "import numpy as np"
   ]
  },
  {
   "cell_type": "code",
   "execution_count": 21,
   "id": "1a7e2c74",
   "metadata": {},
   "outputs": [
    {
     "data": {
      "text/plain": [
       "Index(['Customer', 'ST', 'GENDER', 'Education', 'Customer Lifetime Value',\n",
       "       'Income', 'Monthly Premium Auto', 'Number of Open Complaints',\n",
       "       'Policy Type', 'Vehicle Class', 'Total Claim Amount'],\n",
       "      dtype='object')"
      ]
     },
     "execution_count": 21,
     "metadata": {},
     "output_type": "execute_result"
    }
   ],
   "source": [
    "file1 = pd.read_excel('file1.xlsx')\n",
    "file1.columns"
   ]
  },
  {
   "cell_type": "code",
   "execution_count": 3,
   "id": "7ae082a1",
   "metadata": {},
   "outputs": [
    {
     "data": {
      "text/plain": [
       "(1071, 11)"
      ]
     },
     "execution_count": 3,
     "metadata": {},
     "output_type": "execute_result"
    }
   ],
   "source": [
    "file1.shape"
   ]
  },
  {
   "cell_type": "code",
   "execution_count": 4,
   "id": "cd970967",
   "metadata": {},
   "outputs": [
    {
     "data": {
      "text/plain": [
       "Customer                      object\n",
       "ST                            object\n",
       "GENDER                        object\n",
       "Education                     object\n",
       "Customer Lifetime Value       object\n",
       "Income                         int64\n",
       "Monthly Premium Auto           int64\n",
       "Number of Open Complaints     object\n",
       "Policy Type                   object\n",
       "Vehicle Class                 object\n",
       "Total Claim Amount           float64\n",
       "dtype: object"
      ]
     },
     "execution_count": 4,
     "metadata": {},
     "output_type": "execute_result"
    }
   ],
   "source": [
    "file1.dtypes"
   ]
  },
  {
   "cell_type": "code",
   "execution_count": 5,
   "id": "810ffd17",
   "metadata": {},
   "outputs": [
    {
     "data": {
      "text/plain": [
       "Index(['Customer', 'ST', 'GENDER', 'Education', 'Customer Lifetime Value',\n",
       "       'Income', 'Monthly Premium Auto', 'Number of Open Complaints',\n",
       "       'Total Claim Amount', 'Policy Type', 'Vehicle Class'],\n",
       "      dtype='object')"
      ]
     },
     "execution_count": 5,
     "metadata": {},
     "output_type": "execute_result"
    }
   ],
   "source": [
    "file2 = pd.read_excel('file2.xlsx')\n",
    "file2.columns"
   ]
  },
  {
   "cell_type": "code",
   "execution_count": 6,
   "id": "59bb8c8b",
   "metadata": {},
   "outputs": [
    {
     "data": {
      "text/plain": [
       "(996, 11)"
      ]
     },
     "execution_count": 6,
     "metadata": {},
     "output_type": "execute_result"
    }
   ],
   "source": [
    "file2.shape"
   ]
  },
  {
   "cell_type": "code",
   "execution_count": 7,
   "id": "d7e7dad2",
   "metadata": {},
   "outputs": [
    {
     "data": {
      "text/plain": [
       "Customer                      object\n",
       "ST                            object\n",
       "GENDER                        object\n",
       "Education                     object\n",
       "Customer Lifetime Value       object\n",
       "Income                         int64\n",
       "Monthly Premium Auto           int64\n",
       "Number of Open Complaints     object\n",
       "Total Claim Amount           float64\n",
       "Policy Type                   object\n",
       "Vehicle Class                 object\n",
       "dtype: object"
      ]
     },
     "execution_count": 7,
     "metadata": {},
     "output_type": "execute_result"
    }
   ],
   "source": [
    "file2.dtypes"
   ]
  },
  {
   "cell_type": "code",
   "execution_count": 25,
   "id": "9a133160",
   "metadata": {
    "scrolled": true
   },
   "outputs": [
    {
     "data": {
      "text/plain": [
       "Index(['Customer', 'State', 'Customer Lifetime Value', 'Education', 'Gender',\n",
       "       'Income', 'Monthly Premium Auto', 'Number of Open Complaints',\n",
       "       'Policy Type', 'Total Claim Amount', 'Vehicle Class'],\n",
       "      dtype='object')"
      ]
     },
     "execution_count": 25,
     "metadata": {},
     "output_type": "execute_result"
    }
   ],
   "source": [
    "file3 = pd.read_excel('file3.xlsx')\n",
    "file3.columns"
   ]
  },
  {
   "cell_type": "code",
   "execution_count": 27,
   "id": "79a68c6f",
   "metadata": {},
   "outputs": [
    {
     "data": {
      "text/plain": [
       "Index(['Customer', 'ST', 'GENDER', 'Education', 'Customer Lifetime Value',\n",
       "       'Income', 'Monthly Premium Auto', 'Number of Open Complaints',\n",
       "       'Policy Type', 'Vehicle Class', 'Total Claim Amount'],\n",
       "      dtype='object')"
      ]
     },
     "execution_count": 27,
     "metadata": {},
     "output_type": "execute_result"
    }
   ],
   "source": [
    "column_names = file1.columns\n",
    "column_names"
   ]
  },
  {
   "cell_type": "code",
   "execution_count": 28,
   "id": "af30096a",
   "metadata": {},
   "outputs": [
    {
     "data": {
      "text/plain": [
       "(7070, 11)"
      ]
     },
     "execution_count": 28,
     "metadata": {},
     "output_type": "execute_result"
    }
   ],
   "source": [
    "file3.shape"
   ]
  },
  {
   "cell_type": "code",
   "execution_count": 29,
   "id": "09887612",
   "metadata": {},
   "outputs": [
    {
     "data": {
      "text/plain": [
       "Index(['customer', 'state', 'gender', 'education', 'customer lifetime value',\n",
       "       'income', 'monthly premium auto', 'number of open complaints',\n",
       "       'total claim amount', 'policy type', 'vehicle class'],\n",
       "      dtype='object')"
      ]
     },
     "execution_count": 29,
     "metadata": {},
     "output_type": "execute_result"
    }
   ],
   "source": [
    "column_names = file2.columns\n",
    "column_names"
   ]
  },
  {
   "cell_type": "code",
   "execution_count": 30,
   "id": "d0e5cfa0",
   "metadata": {},
   "outputs": [
    {
     "data": {
      "text/plain": [
       "Index(['Customer', 'State', 'Customer Lifetime Value', 'Education', 'Gender',\n",
       "       'Income', 'Monthly Premium Auto', 'Number of Open Complaints',\n",
       "       'Policy Type', 'Total Claim Amount', 'Vehicle Class'],\n",
       "      dtype='object')"
      ]
     },
     "execution_count": 30,
     "metadata": {},
     "output_type": "execute_result"
    }
   ],
   "source": [
    "column_names = file3.columns\n",
    "column_names"
   ]
  },
  {
   "cell_type": "code",
   "execution_count": 39,
   "id": "65ae87c9",
   "metadata": {},
   "outputs": [
    {
     "data": {
      "text/html": [
       "<div>\n",
       "<style scoped>\n",
       "    .dataframe tbody tr th:only-of-type {\n",
       "        vertical-align: middle;\n",
       "    }\n",
       "\n",
       "    .dataframe tbody tr th {\n",
       "        vertical-align: top;\n",
       "    }\n",
       "\n",
       "    .dataframe thead th {\n",
       "        text-align: right;\n",
       "    }\n",
       "</style>\n",
       "<table border=\"1\" class=\"dataframe\">\n",
       "  <thead>\n",
       "    <tr style=\"text-align: right;\">\n",
       "      <th></th>\n",
       "      <th>customer</th>\n",
       "      <th>state</th>\n",
       "      <th>gender</th>\n",
       "      <th>education</th>\n",
       "      <th>customer lifetime value</th>\n",
       "      <th>income</th>\n",
       "      <th>monthly premium auto</th>\n",
       "      <th>number of open complaints</th>\n",
       "      <th>policy type</th>\n",
       "      <th>vehicle class</th>\n",
       "      <th>total claim amount</th>\n",
       "    </tr>\n",
       "  </thead>\n",
       "  <tbody>\n",
       "    <tr>\n",
       "      <th>0</th>\n",
       "      <td>RB50392</td>\n",
       "      <td>Washington</td>\n",
       "      <td>NaN</td>\n",
       "      <td>Master</td>\n",
       "      <td>NaN</td>\n",
       "      <td>0</td>\n",
       "      <td>1000</td>\n",
       "      <td>1/0/00</td>\n",
       "      <td>Personal Auto</td>\n",
       "      <td>Four-Door Car</td>\n",
       "      <td>2.704934</td>\n",
       "    </tr>\n",
       "    <tr>\n",
       "      <th>1</th>\n",
       "      <td>QZ44356</td>\n",
       "      <td>Arizona</td>\n",
       "      <td>F</td>\n",
       "      <td>Bachelor</td>\n",
       "      <td>697953.59%</td>\n",
       "      <td>0</td>\n",
       "      <td>94</td>\n",
       "      <td>1/0/00</td>\n",
       "      <td>Personal Auto</td>\n",
       "      <td>Four-Door Car</td>\n",
       "      <td>1131.464935</td>\n",
       "    </tr>\n",
       "    <tr>\n",
       "      <th>2</th>\n",
       "      <td>AI49188</td>\n",
       "      <td>Nevada</td>\n",
       "      <td>F</td>\n",
       "      <td>Bachelor</td>\n",
       "      <td>1288743.17%</td>\n",
       "      <td>48767</td>\n",
       "      <td>108</td>\n",
       "      <td>1/0/00</td>\n",
       "      <td>Personal Auto</td>\n",
       "      <td>Two-Door Car</td>\n",
       "      <td>566.472247</td>\n",
       "    </tr>\n",
       "    <tr>\n",
       "      <th>3</th>\n",
       "      <td>WW63253</td>\n",
       "      <td>California</td>\n",
       "      <td>M</td>\n",
       "      <td>Bachelor</td>\n",
       "      <td>764586.18%</td>\n",
       "      <td>0</td>\n",
       "      <td>106</td>\n",
       "      <td>1/0/00</td>\n",
       "      <td>Corporate Auto</td>\n",
       "      <td>SUV</td>\n",
       "      <td>529.881344</td>\n",
       "    </tr>\n",
       "    <tr>\n",
       "      <th>4</th>\n",
       "      <td>GA49547</td>\n",
       "      <td>Washington</td>\n",
       "      <td>M</td>\n",
       "      <td>High School or Below</td>\n",
       "      <td>536307.65%</td>\n",
       "      <td>36357</td>\n",
       "      <td>68</td>\n",
       "      <td>1/0/00</td>\n",
       "      <td>Personal Auto</td>\n",
       "      <td>Four-Door Car</td>\n",
       "      <td>17.269323</td>\n",
       "    </tr>\n",
       "  </tbody>\n",
       "</table>\n",
       "</div>"
      ],
      "text/plain": [
       "  customer       state gender             education customer lifetime value  \\\n",
       "0  RB50392  Washington    NaN                Master                     NaN   \n",
       "1  QZ44356     Arizona      F              Bachelor              697953.59%   \n",
       "2  AI49188      Nevada      F              Bachelor             1288743.17%   \n",
       "3  WW63253  California      M              Bachelor              764586.18%   \n",
       "4  GA49547  Washington      M  High School or Below              536307.65%   \n",
       "\n",
       "   income  monthly premium auto number of open complaints     policy type  \\\n",
       "0       0                  1000                    1/0/00   Personal Auto   \n",
       "1       0                    94                    1/0/00   Personal Auto   \n",
       "2   48767                   108                    1/0/00   Personal Auto   \n",
       "3       0                   106                    1/0/00  Corporate Auto   \n",
       "4   36357                    68                    1/0/00   Personal Auto   \n",
       "\n",
       "   vehicle class  total claim amount  \n",
       "0  Four-Door Car            2.704934  \n",
       "1  Four-Door Car         1131.464935  \n",
       "2   Two-Door Car          566.472247  \n",
       "3            SUV          529.881344  \n",
       "4  Four-Door Car           17.269323  "
      ]
     },
     "execution_count": 39,
     "metadata": {},
     "output_type": "execute_result"
    }
   ],
   "source": [
    "cols = []\n",
    "for column in file1.columns:\n",
    "    cols.append(column.lower())\n",
    "file1.columns = cols\n",
    "\n",
    "data = file1\n",
    "#data1.head()\n",
    "\n",
    "# renaming columns\n",
    "file1 = file1.rename(columns={'st':'state'})\n",
    "#                            ,'hv1':'median_home_val', \n",
    "#                            'ic1':'median_household_income'})\n",
    "data1 = file1\n",
    "data1.head()"
   ]
  },
  {
   "cell_type": "code",
   "execution_count": 40,
   "id": "763406dc",
   "metadata": {},
   "outputs": [
    {
     "data": {
      "text/html": [
       "<div>\n",
       "<style scoped>\n",
       "    .dataframe tbody tr th:only-of-type {\n",
       "        vertical-align: middle;\n",
       "    }\n",
       "\n",
       "    .dataframe tbody tr th {\n",
       "        vertical-align: top;\n",
       "    }\n",
       "\n",
       "    .dataframe thead th {\n",
       "        text-align: right;\n",
       "    }\n",
       "</style>\n",
       "<table border=\"1\" class=\"dataframe\">\n",
       "  <thead>\n",
       "    <tr style=\"text-align: right;\">\n",
       "      <th></th>\n",
       "      <th>customer</th>\n",
       "      <th>state</th>\n",
       "      <th>gender</th>\n",
       "      <th>education</th>\n",
       "      <th>customer lifetime value</th>\n",
       "      <th>income</th>\n",
       "      <th>monthly premium auto</th>\n",
       "      <th>number of open complaints</th>\n",
       "      <th>total claim amount</th>\n",
       "      <th>policy type</th>\n",
       "      <th>vehicle class</th>\n",
       "    </tr>\n",
       "  </thead>\n",
       "  <tbody>\n",
       "    <tr>\n",
       "      <th>0</th>\n",
       "      <td>GS98873</td>\n",
       "      <td>Arizona</td>\n",
       "      <td>F</td>\n",
       "      <td>Bachelor</td>\n",
       "      <td>323912.47%</td>\n",
       "      <td>16061</td>\n",
       "      <td>88</td>\n",
       "      <td>1/0/00</td>\n",
       "      <td>633.6</td>\n",
       "      <td>Personal Auto</td>\n",
       "      <td>Four-Door Car</td>\n",
       "    </tr>\n",
       "    <tr>\n",
       "      <th>1</th>\n",
       "      <td>CW49887</td>\n",
       "      <td>California</td>\n",
       "      <td>F</td>\n",
       "      <td>Master</td>\n",
       "      <td>462680.11%</td>\n",
       "      <td>79487</td>\n",
       "      <td>114</td>\n",
       "      <td>1/0/00</td>\n",
       "      <td>547.2</td>\n",
       "      <td>Special Auto</td>\n",
       "      <td>SUV</td>\n",
       "    </tr>\n",
       "    <tr>\n",
       "      <th>2</th>\n",
       "      <td>MY31220</td>\n",
       "      <td>California</td>\n",
       "      <td>F</td>\n",
       "      <td>College</td>\n",
       "      <td>899704.02%</td>\n",
       "      <td>54230</td>\n",
       "      <td>112</td>\n",
       "      <td>1/0/00</td>\n",
       "      <td>537.6</td>\n",
       "      <td>Personal Auto</td>\n",
       "      <td>Two-Door Car</td>\n",
       "    </tr>\n",
       "    <tr>\n",
       "      <th>3</th>\n",
       "      <td>UH35128</td>\n",
       "      <td>Oregon</td>\n",
       "      <td>F</td>\n",
       "      <td>College</td>\n",
       "      <td>2580706.30%</td>\n",
       "      <td>71210</td>\n",
       "      <td>214</td>\n",
       "      <td>1/1/00</td>\n",
       "      <td>1027.2</td>\n",
       "      <td>Personal Auto</td>\n",
       "      <td>Luxury Car</td>\n",
       "    </tr>\n",
       "    <tr>\n",
       "      <th>4</th>\n",
       "      <td>WH52799</td>\n",
       "      <td>Arizona</td>\n",
       "      <td>F</td>\n",
       "      <td>College</td>\n",
       "      <td>380812.21%</td>\n",
       "      <td>94903</td>\n",
       "      <td>94</td>\n",
       "      <td>1/0/00</td>\n",
       "      <td>451.2</td>\n",
       "      <td>Corporate Auto</td>\n",
       "      <td>Two-Door Car</td>\n",
       "    </tr>\n",
       "  </tbody>\n",
       "</table>\n",
       "</div>"
      ],
      "text/plain": [
       "  customer       state gender education customer lifetime value  income  \\\n",
       "0  GS98873     Arizona      F  Bachelor              323912.47%   16061   \n",
       "1  CW49887  California      F    Master              462680.11%   79487   \n",
       "2  MY31220  California      F   College              899704.02%   54230   \n",
       "3  UH35128      Oregon      F   College             2580706.30%   71210   \n",
       "4  WH52799     Arizona      F   College              380812.21%   94903   \n",
       "\n",
       "   monthly premium auto number of open complaints  total claim amount  \\\n",
       "0                    88                    1/0/00               633.6   \n",
       "1                   114                    1/0/00               547.2   \n",
       "2                   112                    1/0/00               537.6   \n",
       "3                   214                    1/1/00              1027.2   \n",
       "4                    94                    1/0/00               451.2   \n",
       "\n",
       "      policy type  vehicle class  \n",
       "0   Personal Auto  Four-Door Car  \n",
       "1    Special Auto            SUV  \n",
       "2   Personal Auto   Two-Door Car  \n",
       "3   Personal Auto     Luxury Car  \n",
       "4  Corporate Auto   Two-Door Car  "
      ]
     },
     "execution_count": 40,
     "metadata": {},
     "output_type": "execute_result"
    }
   ],
   "source": [
    "cols = []\n",
    "for column in file2.columns:\n",
    "    cols.append(column.lower())\n",
    "file2.columns = cols\n",
    "file2 = file2.rename(columns={'st':'state'})\n",
    "data2 = file2\n",
    "data2.head()"
   ]
  },
  {
   "cell_type": "code",
   "execution_count": 41,
   "id": "a83bab85",
   "metadata": {
    "scrolled": true
   },
   "outputs": [
    {
     "data": {
      "text/html": [
       "<div>\n",
       "<style scoped>\n",
       "    .dataframe tbody tr th:only-of-type {\n",
       "        vertical-align: middle;\n",
       "    }\n",
       "\n",
       "    .dataframe tbody tr th {\n",
       "        vertical-align: top;\n",
       "    }\n",
       "\n",
       "    .dataframe thead th {\n",
       "        text-align: right;\n",
       "    }\n",
       "</style>\n",
       "<table border=\"1\" class=\"dataframe\">\n",
       "  <thead>\n",
       "    <tr style=\"text-align: right;\">\n",
       "      <th></th>\n",
       "      <th>customer</th>\n",
       "      <th>state</th>\n",
       "      <th>customer lifetime value</th>\n",
       "      <th>education</th>\n",
       "      <th>gender</th>\n",
       "      <th>income</th>\n",
       "      <th>monthly premium auto</th>\n",
       "      <th>number of open complaints</th>\n",
       "      <th>policy type</th>\n",
       "      <th>total claim amount</th>\n",
       "      <th>vehicle class</th>\n",
       "    </tr>\n",
       "  </thead>\n",
       "  <tbody>\n",
       "    <tr>\n",
       "      <th>0</th>\n",
       "      <td>SA25987</td>\n",
       "      <td>Washington</td>\n",
       "      <td>3479.137523</td>\n",
       "      <td>High School or Below</td>\n",
       "      <td>M</td>\n",
       "      <td>0</td>\n",
       "      <td>104</td>\n",
       "      <td>0</td>\n",
       "      <td>Personal Auto</td>\n",
       "      <td>499.200000</td>\n",
       "      <td>Two-Door Car</td>\n",
       "    </tr>\n",
       "    <tr>\n",
       "      <th>1</th>\n",
       "      <td>TB86706</td>\n",
       "      <td>Arizona</td>\n",
       "      <td>2502.637401</td>\n",
       "      <td>Master</td>\n",
       "      <td>M</td>\n",
       "      <td>0</td>\n",
       "      <td>66</td>\n",
       "      <td>0</td>\n",
       "      <td>Personal Auto</td>\n",
       "      <td>3.468912</td>\n",
       "      <td>Two-Door Car</td>\n",
       "    </tr>\n",
       "    <tr>\n",
       "      <th>2</th>\n",
       "      <td>ZL73902</td>\n",
       "      <td>Nevada</td>\n",
       "      <td>3265.156348</td>\n",
       "      <td>Bachelor</td>\n",
       "      <td>F</td>\n",
       "      <td>25820</td>\n",
       "      <td>82</td>\n",
       "      <td>0</td>\n",
       "      <td>Personal Auto</td>\n",
       "      <td>393.600000</td>\n",
       "      <td>Four-Door Car</td>\n",
       "    </tr>\n",
       "    <tr>\n",
       "      <th>3</th>\n",
       "      <td>KX23516</td>\n",
       "      <td>California</td>\n",
       "      <td>4455.843406</td>\n",
       "      <td>High School or Below</td>\n",
       "      <td>F</td>\n",
       "      <td>0</td>\n",
       "      <td>121</td>\n",
       "      <td>0</td>\n",
       "      <td>Personal Auto</td>\n",
       "      <td>699.615192</td>\n",
       "      <td>SUV</td>\n",
       "    </tr>\n",
       "    <tr>\n",
       "      <th>4</th>\n",
       "      <td>FN77294</td>\n",
       "      <td>California</td>\n",
       "      <td>7704.958480</td>\n",
       "      <td>High School or Below</td>\n",
       "      <td>M</td>\n",
       "      <td>30366</td>\n",
       "      <td>101</td>\n",
       "      <td>2</td>\n",
       "      <td>Personal Auto</td>\n",
       "      <td>484.800000</td>\n",
       "      <td>SUV</td>\n",
       "    </tr>\n",
       "  </tbody>\n",
       "</table>\n",
       "</div>"
      ],
      "text/plain": [
       "  customer       state  customer lifetime value             education gender  \\\n",
       "0  SA25987  Washington              3479.137523  High School or Below      M   \n",
       "1  TB86706     Arizona              2502.637401                Master      M   \n",
       "2  ZL73902      Nevada              3265.156348              Bachelor      F   \n",
       "3  KX23516  California              4455.843406  High School or Below      F   \n",
       "4  FN77294  California              7704.958480  High School or Below      M   \n",
       "\n",
       "   income  monthly premium auto  number of open complaints    policy type  \\\n",
       "0       0                   104                          0  Personal Auto   \n",
       "1       0                    66                          0  Personal Auto   \n",
       "2   25820                    82                          0  Personal Auto   \n",
       "3       0                   121                          0  Personal Auto   \n",
       "4   30366                   101                          2  Personal Auto   \n",
       "\n",
       "   total claim amount  vehicle class  \n",
       "0          499.200000   Two-Door Car  \n",
       "1            3.468912   Two-Door Car  \n",
       "2          393.600000  Four-Door Car  \n",
       "3          699.615192            SUV  \n",
       "4          484.800000            SUV  "
      ]
     },
     "execution_count": 41,
     "metadata": {},
     "output_type": "execute_result"
    }
   ],
   "source": [
    "cols = []\n",
    "for column in file3.columns:\n",
    "    cols.append(column.lower())\n",
    "file3.columns = cols\n",
    "\n",
    "data3 = file3\n",
    "\n",
    "data3.head()"
   ]
  },
  {
   "cell_type": "code",
   "execution_count": 42,
   "id": "6a9c69db",
   "metadata": {
    "scrolled": true
   },
   "outputs": [
    {
     "data": {
      "text/plain": [
       "Index(['customer', 'state', 'gender', 'education', 'customer lifetime value',\n",
       "       'income', 'monthly premium auto', 'number of open complaints',\n",
       "       'policy type', 'vehicle class', 'total claim amount'],\n",
       "      dtype='object')"
      ]
     },
     "execution_count": 42,
     "metadata": {},
     "output_type": "execute_result"
    }
   ],
   "source": [
    "file1.columns"
   ]
  },
  {
   "cell_type": "code",
   "execution_count": 43,
   "id": "9482fb16",
   "metadata": {},
   "outputs": [],
   "source": [
    "data1 = data[['customer', 'state', 'gender', 'education', 'customer lifetime value',\n",
    "       'income', 'monthly premium auto', 'number of open complaints',\n",
    "       'policy type', 'vehicle class', 'total claim amount']]"
   ]
  },
  {
   "cell_type": "code",
   "execution_count": 34,
   "id": "72970f87",
   "metadata": {
    "scrolled": true
   },
   "outputs": [
    {
     "data": {
      "text/plain": [
       "Index(['customer', 'state', 'gender', 'education', 'customer lifetime value',\n",
       "       'income', 'monthly premium auto', 'number of open complaints',\n",
       "       'total claim amount', 'policy type', 'vehicle class'],\n",
       "      dtype='object')"
      ]
     },
     "execution_count": 34,
     "metadata": {},
     "output_type": "execute_result"
    }
   ],
   "source": [
    "file2.columns"
   ]
  },
  {
   "cell_type": "code",
   "execution_count": 44,
   "id": "0c0d847b",
   "metadata": {},
   "outputs": [],
   "source": [
    "data2 = data[['customer', 'state', 'gender', 'education', 'customer lifetime value',\n",
    "       'income', 'monthly premium auto', 'number of open complaints',\n",
    "       'policy type', 'vehicle class', 'total claim amount']]"
   ]
  },
  {
   "cell_type": "code",
   "execution_count": 45,
   "id": "852a1ba1",
   "metadata": {},
   "outputs": [
    {
     "data": {
      "text/plain": [
       "Index(['customer', 'state', 'customer lifetime value', 'education', 'gender',\n",
       "       'income', 'monthly premium auto', 'number of open complaints',\n",
       "       'policy type', 'total claim amount', 'vehicle class'],\n",
       "      dtype='object')"
      ]
     },
     "execution_count": 45,
     "metadata": {},
     "output_type": "execute_result"
    }
   ],
   "source": [
    "file3.columns"
   ]
  },
  {
   "cell_type": "code",
   "execution_count": 46,
   "id": "c2061778",
   "metadata": {},
   "outputs": [],
   "source": [
    "file3 = data[['customer', 'state', 'gender', 'education', 'customer lifetime value','income', 'monthly premium auto', \n",
    "               'number of open complaints', 'policy type', 'vehicle class', 'total claim amount']]"
   ]
  },
  {
   "cell_type": "code",
   "execution_count": 47,
   "id": "9f4c891c",
   "metadata": {},
   "outputs": [
    {
     "data": {
      "text/plain": [
       "(1071, 11)"
      ]
     },
     "execution_count": 47,
     "metadata": {},
     "output_type": "execute_result"
    }
   ],
   "source": [
    "file1.shape"
   ]
  },
  {
   "cell_type": "code",
   "execution_count": 48,
   "id": "17093d08",
   "metadata": {},
   "outputs": [
    {
     "data": {
      "text/plain": [
       "(996, 11)"
      ]
     },
     "execution_count": 48,
     "metadata": {},
     "output_type": "execute_result"
    }
   ],
   "source": [
    "file2.shape"
   ]
  },
  {
   "cell_type": "code",
   "execution_count": 49,
   "id": "0ace03de",
   "metadata": {},
   "outputs": [
    {
     "data": {
      "text/plain": [
       "(1071, 11)"
      ]
     },
     "execution_count": 49,
     "metadata": {},
     "output_type": "execute_result"
    }
   ],
   "source": [
    "file3.shape"
   ]
  },
  {
   "cell_type": "code",
   "execution_count": 50,
   "id": "721ffc91",
   "metadata": {},
   "outputs": [
    {
     "data": {
      "text/plain": [
       "array([ True,  True,  True,  True,  True,  True,  True,  True,  True,\n",
       "        True,  True])"
      ]
     },
     "execution_count": 50,
     "metadata": {},
     "output_type": "execute_result"
    }
   ],
   "source": [
    "data1.columns == data.columns"
   ]
  },
  {
   "cell_type": "code",
   "execution_count": 51,
   "id": "5f078c62",
   "metadata": {},
   "outputs": [
    {
     "data": {
      "text/plain": [
       "array([ True,  True,  True,  True,  True,  True,  True,  True,  True,\n",
       "        True,  True])"
      ]
     },
     "execution_count": 51,
     "metadata": {},
     "output_type": "execute_result"
    }
   ],
   "source": [
    "data2.columns == data.columns"
   ]
  },
  {
   "cell_type": "code",
   "execution_count": 52,
   "id": "d4a64ae0",
   "metadata": {},
   "outputs": [
    {
     "data": {
      "text/plain": [
       "array([ True,  True, False,  True, False,  True,  True,  True,  True,\n",
       "       False, False])"
      ]
     },
     "execution_count": 52,
     "metadata": {},
     "output_type": "execute_result"
    }
   ],
   "source": [
    "data3.columns == data.columns"
   ]
  },
  {
   "cell_type": "code",
   "execution_count": 53,
   "id": "c1cdbc53",
   "metadata": {
    "scrolled": false
   },
   "outputs": [
    {
     "data": {
      "text/html": [
       "<div>\n",
       "<style scoped>\n",
       "    .dataframe tbody tr th:only-of-type {\n",
       "        vertical-align: middle;\n",
       "    }\n",
       "\n",
       "    .dataframe tbody tr th {\n",
       "        vertical-align: top;\n",
       "    }\n",
       "\n",
       "    .dataframe thead th {\n",
       "        text-align: right;\n",
       "    }\n",
       "</style>\n",
       "<table border=\"1\" class=\"dataframe\">\n",
       "  <thead>\n",
       "    <tr style=\"text-align: right;\">\n",
       "      <th></th>\n",
       "      <th>customer</th>\n",
       "      <th>state</th>\n",
       "      <th>gender</th>\n",
       "      <th>education</th>\n",
       "      <th>customer lifetime value</th>\n",
       "      <th>income</th>\n",
       "      <th>monthly premium auto</th>\n",
       "      <th>number of open complaints</th>\n",
       "      <th>policy type</th>\n",
       "      <th>vehicle class</th>\n",
       "      <th>total claim amount</th>\n",
       "    </tr>\n",
       "  </thead>\n",
       "  <tbody>\n",
       "    <tr>\n",
       "      <th>0</th>\n",
       "      <td>RB50392</td>\n",
       "      <td>Washington</td>\n",
       "      <td>NaN</td>\n",
       "      <td>Master</td>\n",
       "      <td>NaN</td>\n",
       "      <td>0</td>\n",
       "      <td>1000</td>\n",
       "      <td>1/0/00</td>\n",
       "      <td>Personal Auto</td>\n",
       "      <td>Four-Door Car</td>\n",
       "      <td>2.704934</td>\n",
       "    </tr>\n",
       "    <tr>\n",
       "      <th>1</th>\n",
       "      <td>QZ44356</td>\n",
       "      <td>Arizona</td>\n",
       "      <td>F</td>\n",
       "      <td>Bachelor</td>\n",
       "      <td>697953.59%</td>\n",
       "      <td>0</td>\n",
       "      <td>94</td>\n",
       "      <td>1/0/00</td>\n",
       "      <td>Personal Auto</td>\n",
       "      <td>Four-Door Car</td>\n",
       "      <td>1131.464935</td>\n",
       "    </tr>\n",
       "    <tr>\n",
       "      <th>2</th>\n",
       "      <td>AI49188</td>\n",
       "      <td>Nevada</td>\n",
       "      <td>F</td>\n",
       "      <td>Bachelor</td>\n",
       "      <td>1288743.17%</td>\n",
       "      <td>48767</td>\n",
       "      <td>108</td>\n",
       "      <td>1/0/00</td>\n",
       "      <td>Personal Auto</td>\n",
       "      <td>Two-Door Car</td>\n",
       "      <td>566.472247</td>\n",
       "    </tr>\n",
       "    <tr>\n",
       "      <th>3</th>\n",
       "      <td>WW63253</td>\n",
       "      <td>California</td>\n",
       "      <td>M</td>\n",
       "      <td>Bachelor</td>\n",
       "      <td>764586.18%</td>\n",
       "      <td>0</td>\n",
       "      <td>106</td>\n",
       "      <td>1/0/00</td>\n",
       "      <td>Corporate Auto</td>\n",
       "      <td>SUV</td>\n",
       "      <td>529.881344</td>\n",
       "    </tr>\n",
       "    <tr>\n",
       "      <th>4</th>\n",
       "      <td>GA49547</td>\n",
       "      <td>Washington</td>\n",
       "      <td>M</td>\n",
       "      <td>High School or Below</td>\n",
       "      <td>536307.65%</td>\n",
       "      <td>36357</td>\n",
       "      <td>68</td>\n",
       "      <td>1/0/00</td>\n",
       "      <td>Personal Auto</td>\n",
       "      <td>Four-Door Car</td>\n",
       "      <td>17.269323</td>\n",
       "    </tr>\n",
       "    <tr>\n",
       "      <th>...</th>\n",
       "      <td>...</td>\n",
       "      <td>...</td>\n",
       "      <td>...</td>\n",
       "      <td>...</td>\n",
       "      <td>...</td>\n",
       "      <td>...</td>\n",
       "      <td>...</td>\n",
       "      <td>...</td>\n",
       "      <td>...</td>\n",
       "      <td>...</td>\n",
       "      <td>...</td>\n",
       "    </tr>\n",
       "    <tr>\n",
       "      <th>7065</th>\n",
       "      <td>LA72316</td>\n",
       "      <td>California</td>\n",
       "      <td>M</td>\n",
       "      <td>Bachelor</td>\n",
       "      <td>23405.98798</td>\n",
       "      <td>71941</td>\n",
       "      <td>73</td>\n",
       "      <td>0</td>\n",
       "      <td>Personal Auto</td>\n",
       "      <td>Four-Door Car</td>\n",
       "      <td>198.234764</td>\n",
       "    </tr>\n",
       "    <tr>\n",
       "      <th>7066</th>\n",
       "      <td>PK87824</td>\n",
       "      <td>California</td>\n",
       "      <td>F</td>\n",
       "      <td>College</td>\n",
       "      <td>3096.511217</td>\n",
       "      <td>21604</td>\n",
       "      <td>79</td>\n",
       "      <td>0</td>\n",
       "      <td>Corporate Auto</td>\n",
       "      <td>Four-Door Car</td>\n",
       "      <td>379.200000</td>\n",
       "    </tr>\n",
       "    <tr>\n",
       "      <th>7067</th>\n",
       "      <td>TD14365</td>\n",
       "      <td>California</td>\n",
       "      <td>M</td>\n",
       "      <td>Bachelor</td>\n",
       "      <td>8163.890428</td>\n",
       "      <td>0</td>\n",
       "      <td>85</td>\n",
       "      <td>3</td>\n",
       "      <td>Corporate Auto</td>\n",
       "      <td>Four-Door Car</td>\n",
       "      <td>790.784983</td>\n",
       "    </tr>\n",
       "    <tr>\n",
       "      <th>7068</th>\n",
       "      <td>UP19263</td>\n",
       "      <td>California</td>\n",
       "      <td>M</td>\n",
       "      <td>College</td>\n",
       "      <td>7524.442436</td>\n",
       "      <td>21941</td>\n",
       "      <td>96</td>\n",
       "      <td>0</td>\n",
       "      <td>Personal Auto</td>\n",
       "      <td>Four-Door Car</td>\n",
       "      <td>691.200000</td>\n",
       "    </tr>\n",
       "    <tr>\n",
       "      <th>7069</th>\n",
       "      <td>Y167826</td>\n",
       "      <td>California</td>\n",
       "      <td>M</td>\n",
       "      <td>College</td>\n",
       "      <td>2611.836866</td>\n",
       "      <td>0</td>\n",
       "      <td>77</td>\n",
       "      <td>0</td>\n",
       "      <td>Corporate Auto</td>\n",
       "      <td>Two-Door Car</td>\n",
       "      <td>369.600000</td>\n",
       "    </tr>\n",
       "  </tbody>\n",
       "</table>\n",
       "<p>9212 rows × 11 columns</p>\n",
       "</div>"
      ],
      "text/plain": [
       "     customer       state gender             education  \\\n",
       "0     RB50392  Washington    NaN                Master   \n",
       "1     QZ44356     Arizona      F              Bachelor   \n",
       "2     AI49188      Nevada      F              Bachelor   \n",
       "3     WW63253  California      M              Bachelor   \n",
       "4     GA49547  Washington      M  High School or Below   \n",
       "...       ...         ...    ...                   ...   \n",
       "7065  LA72316  California      M              Bachelor   \n",
       "7066  PK87824  California      F               College   \n",
       "7067  TD14365  California      M              Bachelor   \n",
       "7068  UP19263  California      M               College   \n",
       "7069  Y167826  California      M               College   \n",
       "\n",
       "     customer lifetime value  income  monthly premium auto  \\\n",
       "0                        NaN       0                  1000   \n",
       "1                 697953.59%       0                    94   \n",
       "2                1288743.17%   48767                   108   \n",
       "3                 764586.18%       0                   106   \n",
       "4                 536307.65%   36357                    68   \n",
       "...                      ...     ...                   ...   \n",
       "7065             23405.98798   71941                    73   \n",
       "7066             3096.511217   21604                    79   \n",
       "7067             8163.890428       0                    85   \n",
       "7068             7524.442436   21941                    96   \n",
       "7069             2611.836866       0                    77   \n",
       "\n",
       "     number of open complaints     policy type  vehicle class  \\\n",
       "0                       1/0/00   Personal Auto  Four-Door Car   \n",
       "1                       1/0/00   Personal Auto  Four-Door Car   \n",
       "2                       1/0/00   Personal Auto   Two-Door Car   \n",
       "3                       1/0/00  Corporate Auto            SUV   \n",
       "4                       1/0/00   Personal Auto  Four-Door Car   \n",
       "...                        ...             ...            ...   \n",
       "7065                         0   Personal Auto  Four-Door Car   \n",
       "7066                         0  Corporate Auto  Four-Door Car   \n",
       "7067                         3  Corporate Auto  Four-Door Car   \n",
       "7068                         0   Personal Auto  Four-Door Car   \n",
       "7069                         0  Corporate Auto   Two-Door Car   \n",
       "\n",
       "      total claim amount  \n",
       "0               2.704934  \n",
       "1            1131.464935  \n",
       "2             566.472247  \n",
       "3             529.881344  \n",
       "4              17.269323  \n",
       "...                  ...  \n",
       "7065          198.234764  \n",
       "7066          379.200000  \n",
       "7067          790.784983  \n",
       "7068          691.200000  \n",
       "7069          369.600000  \n",
       "\n",
       "[9212 rows x 11 columns]"
      ]
     },
     "execution_count": 53,
     "metadata": {},
     "output_type": "execute_result"
    }
   ],
   "source": [
    "data = pd.concat([data1, data2, data3], axis=0) #discuss axis here\n",
    "data.shape\n",
    "data"
   ]
  },
  {
   "cell_type": "code",
   "execution_count": 54,
   "id": "2aae4a14",
   "metadata": {},
   "outputs": [
    {
     "data": {
      "text/plain": [
       "customer                      object\n",
       "state                         object\n",
       "gender                        object\n",
       "education                     object\n",
       "customer lifetime value       object\n",
       "income                         int64\n",
       "monthly premium auto           int64\n",
       "number of open complaints     object\n",
       "policy type                   object\n",
       "vehicle class                 object\n",
       "total claim amount           float64\n",
       "dtype: object"
      ]
     },
     "execution_count": 54,
     "metadata": {},
     "output_type": "execute_result"
    }
   ],
   "source": [
    "data.dtypes"
   ]
  },
  {
   "cell_type": "code",
   "execution_count": 55,
   "id": "2ed96864",
   "metadata": {},
   "outputs": [
    {
     "data": {
      "text/html": [
       "<div>\n",
       "<style scoped>\n",
       "    .dataframe tbody tr th:only-of-type {\n",
       "        vertical-align: middle;\n",
       "    }\n",
       "\n",
       "    .dataframe tbody tr th {\n",
       "        vertical-align: top;\n",
       "    }\n",
       "\n",
       "    .dataframe thead th {\n",
       "        text-align: right;\n",
       "    }\n",
       "</style>\n",
       "<table border=\"1\" class=\"dataframe\">\n",
       "  <thead>\n",
       "    <tr style=\"text-align: right;\">\n",
       "      <th></th>\n",
       "      <th>income</th>\n",
       "      <th>monthly premium auto</th>\n",
       "      <th>total claim amount</th>\n",
       "    </tr>\n",
       "  </thead>\n",
       "  <tbody>\n",
       "    <tr>\n",
       "      <th>0</th>\n",
       "      <td>0</td>\n",
       "      <td>1000</td>\n",
       "      <td>2.704934</td>\n",
       "    </tr>\n",
       "    <tr>\n",
       "      <th>1</th>\n",
       "      <td>0</td>\n",
       "      <td>94</td>\n",
       "      <td>1131.464935</td>\n",
       "    </tr>\n",
       "    <tr>\n",
       "      <th>2</th>\n",
       "      <td>48767</td>\n",
       "      <td>108</td>\n",
       "      <td>566.472247</td>\n",
       "    </tr>\n",
       "    <tr>\n",
       "      <th>3</th>\n",
       "      <td>0</td>\n",
       "      <td>106</td>\n",
       "      <td>529.881344</td>\n",
       "    </tr>\n",
       "    <tr>\n",
       "      <th>4</th>\n",
       "      <td>36357</td>\n",
       "      <td>68</td>\n",
       "      <td>17.269323</td>\n",
       "    </tr>\n",
       "    <tr>\n",
       "      <th>...</th>\n",
       "      <td>...</td>\n",
       "      <td>...</td>\n",
       "      <td>...</td>\n",
       "    </tr>\n",
       "    <tr>\n",
       "      <th>7065</th>\n",
       "      <td>71941</td>\n",
       "      <td>73</td>\n",
       "      <td>198.234764</td>\n",
       "    </tr>\n",
       "    <tr>\n",
       "      <th>7066</th>\n",
       "      <td>21604</td>\n",
       "      <td>79</td>\n",
       "      <td>379.200000</td>\n",
       "    </tr>\n",
       "    <tr>\n",
       "      <th>7067</th>\n",
       "      <td>0</td>\n",
       "      <td>85</td>\n",
       "      <td>790.784983</td>\n",
       "    </tr>\n",
       "    <tr>\n",
       "      <th>7068</th>\n",
       "      <td>21941</td>\n",
       "      <td>96</td>\n",
       "      <td>691.200000</td>\n",
       "    </tr>\n",
       "    <tr>\n",
       "      <th>7069</th>\n",
       "      <td>0</td>\n",
       "      <td>77</td>\n",
       "      <td>369.600000</td>\n",
       "    </tr>\n",
       "  </tbody>\n",
       "</table>\n",
       "<p>9212 rows × 3 columns</p>\n",
       "</div>"
      ],
      "text/plain": [
       "      income  monthly premium auto  total claim amount\n",
       "0          0                  1000            2.704934\n",
       "1          0                    94         1131.464935\n",
       "2      48767                   108          566.472247\n",
       "3          0                   106          529.881344\n",
       "4      36357                    68           17.269323\n",
       "...      ...                   ...                 ...\n",
       "7065   71941                    73          198.234764\n",
       "7066   21604                    79          379.200000\n",
       "7067       0                    85          790.784983\n",
       "7068   21941                    96          691.200000\n",
       "7069       0                    77          369.600000\n",
       "\n",
       "[9212 rows x 3 columns]"
      ]
     },
     "execution_count": 55,
     "metadata": {},
     "output_type": "execute_result"
    }
   ],
   "source": [
    "data._get_numeric_data()"
   ]
  },
  {
   "cell_type": "code",
   "execution_count": 56,
   "id": "bf9c2f36",
   "metadata": {
    "scrolled": true
   },
   "outputs": [
    {
     "data": {
      "text/html": [
       "<div>\n",
       "<style scoped>\n",
       "    .dataframe tbody tr th:only-of-type {\n",
       "        vertical-align: middle;\n",
       "    }\n",
       "\n",
       "    .dataframe tbody tr th {\n",
       "        vertical-align: top;\n",
       "    }\n",
       "\n",
       "    .dataframe thead th {\n",
       "        text-align: right;\n",
       "    }\n",
       "</style>\n",
       "<table border=\"1\" class=\"dataframe\">\n",
       "  <thead>\n",
       "    <tr style=\"text-align: right;\">\n",
       "      <th></th>\n",
       "      <th>income</th>\n",
       "      <th>monthly premium auto</th>\n",
       "      <th>total claim amount</th>\n",
       "    </tr>\n",
       "  </thead>\n",
       "  <tbody>\n",
       "    <tr>\n",
       "      <th>0</th>\n",
       "      <td>0</td>\n",
       "      <td>1000</td>\n",
       "      <td>2.704934</td>\n",
       "    </tr>\n",
       "    <tr>\n",
       "      <th>1</th>\n",
       "      <td>0</td>\n",
       "      <td>94</td>\n",
       "      <td>1131.464935</td>\n",
       "    </tr>\n",
       "    <tr>\n",
       "      <th>2</th>\n",
       "      <td>48767</td>\n",
       "      <td>108</td>\n",
       "      <td>566.472247</td>\n",
       "    </tr>\n",
       "    <tr>\n",
       "      <th>3</th>\n",
       "      <td>0</td>\n",
       "      <td>106</td>\n",
       "      <td>529.881344</td>\n",
       "    </tr>\n",
       "    <tr>\n",
       "      <th>4</th>\n",
       "      <td>36357</td>\n",
       "      <td>68</td>\n",
       "      <td>17.269323</td>\n",
       "    </tr>\n",
       "    <tr>\n",
       "      <th>...</th>\n",
       "      <td>...</td>\n",
       "      <td>...</td>\n",
       "      <td>...</td>\n",
       "    </tr>\n",
       "    <tr>\n",
       "      <th>7065</th>\n",
       "      <td>71941</td>\n",
       "      <td>73</td>\n",
       "      <td>198.234764</td>\n",
       "    </tr>\n",
       "    <tr>\n",
       "      <th>7066</th>\n",
       "      <td>21604</td>\n",
       "      <td>79</td>\n",
       "      <td>379.200000</td>\n",
       "    </tr>\n",
       "    <tr>\n",
       "      <th>7067</th>\n",
       "      <td>0</td>\n",
       "      <td>85</td>\n",
       "      <td>790.784983</td>\n",
       "    </tr>\n",
       "    <tr>\n",
       "      <th>7068</th>\n",
       "      <td>21941</td>\n",
       "      <td>96</td>\n",
       "      <td>691.200000</td>\n",
       "    </tr>\n",
       "    <tr>\n",
       "      <th>7069</th>\n",
       "      <td>0</td>\n",
       "      <td>77</td>\n",
       "      <td>369.600000</td>\n",
       "    </tr>\n",
       "  </tbody>\n",
       "</table>\n",
       "<p>9212 rows × 3 columns</p>\n",
       "</div>"
      ],
      "text/plain": [
       "      income  monthly premium auto  total claim amount\n",
       "0          0                  1000            2.704934\n",
       "1          0                    94         1131.464935\n",
       "2      48767                   108          566.472247\n",
       "3          0                   106          529.881344\n",
       "4      36357                    68           17.269323\n",
       "...      ...                   ...                 ...\n",
       "7065   71941                    73          198.234764\n",
       "7066   21604                    79          379.200000\n",
       "7067       0                    85          790.784983\n",
       "7068   21941                    96          691.200000\n",
       "7069       0                    77          369.600000\n",
       "\n",
       "[9212 rows x 3 columns]"
      ]
     },
     "execution_count": 56,
     "metadata": {},
     "output_type": "execute_result"
    }
   ],
   "source": [
    "data.select_dtypes(['int64','float64'])"
   ]
  },
  {
   "cell_type": "code",
   "execution_count": 57,
   "id": "fdb5869a",
   "metadata": {
    "scrolled": true
   },
   "outputs": [
    {
     "data": {
      "text/html": [
       "<div>\n",
       "<style scoped>\n",
       "    .dataframe tbody tr th:only-of-type {\n",
       "        vertical-align: middle;\n",
       "    }\n",
       "\n",
       "    .dataframe tbody tr th {\n",
       "        vertical-align: top;\n",
       "    }\n",
       "\n",
       "    .dataframe thead th {\n",
       "        text-align: right;\n",
       "    }\n",
       "</style>\n",
       "<table border=\"1\" class=\"dataframe\">\n",
       "  <thead>\n",
       "    <tr style=\"text-align: right;\">\n",
       "      <th></th>\n",
       "      <th>customer</th>\n",
       "      <th>state</th>\n",
       "      <th>gender</th>\n",
       "      <th>education</th>\n",
       "      <th>customer lifetime value</th>\n",
       "      <th>number of open complaints</th>\n",
       "      <th>policy type</th>\n",
       "      <th>vehicle class</th>\n",
       "    </tr>\n",
       "  </thead>\n",
       "  <tbody>\n",
       "    <tr>\n",
       "      <th>0</th>\n",
       "      <td>RB50392</td>\n",
       "      <td>Washington</td>\n",
       "      <td>NaN</td>\n",
       "      <td>Master</td>\n",
       "      <td>NaN</td>\n",
       "      <td>1/0/00</td>\n",
       "      <td>Personal Auto</td>\n",
       "      <td>Four-Door Car</td>\n",
       "    </tr>\n",
       "    <tr>\n",
       "      <th>1</th>\n",
       "      <td>QZ44356</td>\n",
       "      <td>Arizona</td>\n",
       "      <td>F</td>\n",
       "      <td>Bachelor</td>\n",
       "      <td>697953.59%</td>\n",
       "      <td>1/0/00</td>\n",
       "      <td>Personal Auto</td>\n",
       "      <td>Four-Door Car</td>\n",
       "    </tr>\n",
       "    <tr>\n",
       "      <th>2</th>\n",
       "      <td>AI49188</td>\n",
       "      <td>Nevada</td>\n",
       "      <td>F</td>\n",
       "      <td>Bachelor</td>\n",
       "      <td>1288743.17%</td>\n",
       "      <td>1/0/00</td>\n",
       "      <td>Personal Auto</td>\n",
       "      <td>Two-Door Car</td>\n",
       "    </tr>\n",
       "    <tr>\n",
       "      <th>3</th>\n",
       "      <td>WW63253</td>\n",
       "      <td>California</td>\n",
       "      <td>M</td>\n",
       "      <td>Bachelor</td>\n",
       "      <td>764586.18%</td>\n",
       "      <td>1/0/00</td>\n",
       "      <td>Corporate Auto</td>\n",
       "      <td>SUV</td>\n",
       "    </tr>\n",
       "    <tr>\n",
       "      <th>4</th>\n",
       "      <td>GA49547</td>\n",
       "      <td>Washington</td>\n",
       "      <td>M</td>\n",
       "      <td>High School or Below</td>\n",
       "      <td>536307.65%</td>\n",
       "      <td>1/0/00</td>\n",
       "      <td>Personal Auto</td>\n",
       "      <td>Four-Door Car</td>\n",
       "    </tr>\n",
       "    <tr>\n",
       "      <th>...</th>\n",
       "      <td>...</td>\n",
       "      <td>...</td>\n",
       "      <td>...</td>\n",
       "      <td>...</td>\n",
       "      <td>...</td>\n",
       "      <td>...</td>\n",
       "      <td>...</td>\n",
       "      <td>...</td>\n",
       "    </tr>\n",
       "    <tr>\n",
       "      <th>7065</th>\n",
       "      <td>LA72316</td>\n",
       "      <td>California</td>\n",
       "      <td>M</td>\n",
       "      <td>Bachelor</td>\n",
       "      <td>23405.98798</td>\n",
       "      <td>0</td>\n",
       "      <td>Personal Auto</td>\n",
       "      <td>Four-Door Car</td>\n",
       "    </tr>\n",
       "    <tr>\n",
       "      <th>7066</th>\n",
       "      <td>PK87824</td>\n",
       "      <td>California</td>\n",
       "      <td>F</td>\n",
       "      <td>College</td>\n",
       "      <td>3096.511217</td>\n",
       "      <td>0</td>\n",
       "      <td>Corporate Auto</td>\n",
       "      <td>Four-Door Car</td>\n",
       "    </tr>\n",
       "    <tr>\n",
       "      <th>7067</th>\n",
       "      <td>TD14365</td>\n",
       "      <td>California</td>\n",
       "      <td>M</td>\n",
       "      <td>Bachelor</td>\n",
       "      <td>8163.890428</td>\n",
       "      <td>3</td>\n",
       "      <td>Corporate Auto</td>\n",
       "      <td>Four-Door Car</td>\n",
       "    </tr>\n",
       "    <tr>\n",
       "      <th>7068</th>\n",
       "      <td>UP19263</td>\n",
       "      <td>California</td>\n",
       "      <td>M</td>\n",
       "      <td>College</td>\n",
       "      <td>7524.442436</td>\n",
       "      <td>0</td>\n",
       "      <td>Personal Auto</td>\n",
       "      <td>Four-Door Car</td>\n",
       "    </tr>\n",
       "    <tr>\n",
       "      <th>7069</th>\n",
       "      <td>Y167826</td>\n",
       "      <td>California</td>\n",
       "      <td>M</td>\n",
       "      <td>College</td>\n",
       "      <td>2611.836866</td>\n",
       "      <td>0</td>\n",
       "      <td>Corporate Auto</td>\n",
       "      <td>Two-Door Car</td>\n",
       "    </tr>\n",
       "  </tbody>\n",
       "</table>\n",
       "<p>9212 rows × 8 columns</p>\n",
       "</div>"
      ],
      "text/plain": [
       "     customer       state gender             education  \\\n",
       "0     RB50392  Washington    NaN                Master   \n",
       "1     QZ44356     Arizona      F              Bachelor   \n",
       "2     AI49188      Nevada      F              Bachelor   \n",
       "3     WW63253  California      M              Bachelor   \n",
       "4     GA49547  Washington      M  High School or Below   \n",
       "...       ...         ...    ...                   ...   \n",
       "7065  LA72316  California      M              Bachelor   \n",
       "7066  PK87824  California      F               College   \n",
       "7067  TD14365  California      M              Bachelor   \n",
       "7068  UP19263  California      M               College   \n",
       "7069  Y167826  California      M               College   \n",
       "\n",
       "     customer lifetime value number of open complaints     policy type  \\\n",
       "0                        NaN                    1/0/00   Personal Auto   \n",
       "1                 697953.59%                    1/0/00   Personal Auto   \n",
       "2                1288743.17%                    1/0/00   Personal Auto   \n",
       "3                 764586.18%                    1/0/00  Corporate Auto   \n",
       "4                 536307.65%                    1/0/00   Personal Auto   \n",
       "...                      ...                       ...             ...   \n",
       "7065             23405.98798                         0   Personal Auto   \n",
       "7066             3096.511217                         0  Corporate Auto   \n",
       "7067             8163.890428                         3  Corporate Auto   \n",
       "7068             7524.442436                         0   Personal Auto   \n",
       "7069             2611.836866                         0  Corporate Auto   \n",
       "\n",
       "      vehicle class  \n",
       "0     Four-Door Car  \n",
       "1     Four-Door Car  \n",
       "2      Two-Door Car  \n",
       "3               SUV  \n",
       "4     Four-Door Car  \n",
       "...             ...  \n",
       "7065  Four-Door Car  \n",
       "7066  Four-Door Car  \n",
       "7067  Four-Door Car  \n",
       "7068  Four-Door Car  \n",
       "7069   Two-Door Car  \n",
       "\n",
       "[9212 rows x 8 columns]"
      ]
     },
     "execution_count": 57,
     "metadata": {},
     "output_type": "execute_result"
    }
   ],
   "source": [
    "data.select_dtypes(['object'])"
   ]
  },
  {
   "cell_type": "code",
   "execution_count": 58,
   "id": "03f1c9f6",
   "metadata": {},
   "outputs": [
    {
     "data": {
      "text/plain": [
       "0       RB50392\n",
       "1       QZ44356\n",
       "2       AI49188\n",
       "3       WW63253\n",
       "4       GA49547\n",
       "         ...   \n",
       "7065    LA72316\n",
       "7066    PK87824\n",
       "7067    TD14365\n",
       "7068    UP19263\n",
       "7069    Y167826\n",
       "Name: customer, Length: 9212, dtype: object"
      ]
     },
     "execution_count": 58,
     "metadata": {},
     "output_type": "execute_result"
    }
   ],
   "source": [
    "data.T.loc['customer' , :]"
   ]
  },
  {
   "cell_type": "code",
   "execution_count": 59,
   "id": "1794b488",
   "metadata": {},
   "outputs": [
    {
     "data": {
      "text/plain": [
       "F         4490\n",
       "M         4320\n",
       "Male        78\n",
       "female      56\n",
       "Femal       34\n",
       "Name: gender, dtype: int64"
      ]
     },
     "execution_count": 59,
     "metadata": {},
     "output_type": "execute_result"
    }
   ],
   "source": [
    "data['gender'].value_counts()"
   ]
  },
  {
   "cell_type": "code",
   "execution_count": 60,
   "id": "9bd558f7",
   "metadata": {},
   "outputs": [
    {
     "data": {
      "text/plain": [
       "array([nan, 'F', 'M', 'Femal', 'Male', 'female'], dtype=object)"
      ]
     },
     "execution_count": 60,
     "metadata": {},
     "output_type": "execute_result"
    }
   ],
   "source": [
    "data['gender'].unique()"
   ]
  },
  {
   "cell_type": "code",
   "execution_count": 61,
   "id": "56d7e1b3",
   "metadata": {},
   "outputs": [
    {
     "data": {
      "text/plain": [
       "F         4490\n",
       "M         4320\n",
       "NaN        234\n",
       "Male        78\n",
       "female      56\n",
       "Femal       34\n",
       "Name: gender, dtype: int64"
      ]
     },
     "execution_count": 61,
     "metadata": {},
     "output_type": "execute_result"
    }
   ],
   "source": [
    "data['gender'].value_counts(dropna = False)"
   ]
  },
  {
   "cell_type": "code",
   "execution_count": 62,
   "id": "3485435d",
   "metadata": {},
   "outputs": [
    {
     "ename": "AttributeError",
     "evalue": "'list' object has no attribute 'isin'",
     "output_type": "error",
     "traceback": [
      "\u001b[1;31m---------------------------------------------------------------------------\u001b[0m",
      "\u001b[1;31mAttributeError\u001b[0m                            Traceback (most recent call last)",
      "\u001b[1;32m~\\AppData\\Local\\Temp\\ipykernel_4112\\2588353147.py\u001b[0m in \u001b[0;36m<module>\u001b[1;34m\u001b[0m\n\u001b[0;32m      1\u001b[0m \u001b[1;31m#[[data['gender'].isin['nan', 'F', 'M', 'Femal', 'Male', 'female'] & data['state'] =='Arizona' | data['state'] =='AZ']]#.isin(['FL', 'Florida', 'CA'])==True #(data['avggift']<50))]\u001b[0m\u001b[1;33m\u001b[0m\u001b[1;33m\u001b[0m\u001b[0m\n\u001b[1;32m----> 2\u001b[1;33m \u001b[0mfiltered\u001b[0m \u001b[1;33m=\u001b[0m \u001b[0mdata\u001b[0m\u001b[1;33m[\u001b[0m\u001b[0mdata\u001b[0m\u001b[1;33m[\u001b[0m\u001b[1;33m[\u001b[0m\u001b[1;34m'gender'\u001b[0m\u001b[1;33m]\u001b[0m\u001b[1;33m==\u001b[0m\u001b[1;33m[\u001b[0m\u001b[1;34m'nan'\u001b[0m\u001b[1;33m,\u001b[0m \u001b[1;34m'F'\u001b[0m\u001b[1;33m,\u001b[0m \u001b[1;34m'M'\u001b[0m\u001b[1;33m,\u001b[0m \u001b[1;34m'Femal'\u001b[0m\u001b[1;33m,\u001b[0m \u001b[1;34m'Male'\u001b[0m\u001b[1;33m,\u001b[0m \u001b[1;34m'female'\u001b[0m\u001b[1;33m]\u001b[0m\u001b[1;33m.\u001b[0m\u001b[0misin\u001b[0m\u001b[1;33m(\u001b[0m\u001b[1;33m[\u001b[0m\u001b[1;34m'Arizona'\u001b[0m\u001b[1;33m,\u001b[0m \u001b[1;34m'AZ'\u001b[0m \u001b[1;33m]\u001b[0m\u001b[1;33m)\u001b[0m\u001b[1;33m==\u001b[0m\u001b[1;32mTrue\u001b[0m\u001b[1;33m]\u001b[0m\u001b[1;33m]\u001b[0m \u001b[1;31m# Lets say that we are working on this filtered data\u001b[0m\u001b[1;33m\u001b[0m\u001b[1;33m\u001b[0m\u001b[0m\n\u001b[0m\u001b[0;32m      3\u001b[0m \u001b[0mfiltered\u001b[0m\u001b[1;33m\u001b[0m\u001b[1;33m\u001b[0m\u001b[0m\n",
      "\u001b[1;31mAttributeError\u001b[0m: 'list' object has no attribute 'isin'"
     ]
    }
   ],
   "source": [
    "#[[data['gender'].isin['nan', 'F', 'M', 'Femal', 'Male', 'female'] & data['state'] =='Arizona' | data['state'] =='AZ']]#.isin(['FL', 'Florida', 'CA'])==True #(data['avggift']<50))]\n",
    "filtered = data[data[['gender']==['nan', 'F', 'M', 'Femal', 'Male', 'female'].isin(['Arizona', 'AZ' ])==True]] # Lets say that we are working on this filtered data\n",
    "filtered"
   ]
  },
  {
   "cell_type": "code",
   "execution_count": 63,
   "id": "249c554c",
   "metadata": {},
   "outputs": [
    {
     "data": {
      "text/plain": [
       "array(['Washington', 'Arizona', 'Nevada', 'California', 'Oregon', 'Cali',\n",
       "       'AZ', 'WA'], dtype=object)"
      ]
     },
     "execution_count": 63,
     "metadata": {},
     "output_type": "execute_result"
    }
   ],
   "source": [
    "data['state'].unique()"
   ]
  },
  {
   "cell_type": "code",
   "execution_count": 64,
   "id": "4eb2cf9c",
   "metadata": {
    "scrolled": true
   },
   "outputs": [
    {
     "data": {
      "text/plain": [
       "California    2966\n",
       "Oregon        2618\n",
       "Arizona       1674\n",
       "Nevada         855\n",
       "Washington     749\n",
       "Cali           240\n",
       "WA              60\n",
       "AZ              50\n",
       "Name: state, dtype: int64"
      ]
     },
     "execution_count": 64,
     "metadata": {},
     "output_type": "execute_result"
    }
   ],
   "source": [
    "data['state'].value_counts()"
   ]
  },
  {
   "cell_type": "code",
   "execution_count": null,
   "id": "3c8390e1",
   "metadata": {},
   "outputs": [],
   "source": []
  },
  {
   "cell_type": "code",
   "execution_count": 80,
   "id": "c5f6ae84",
   "metadata": {},
   "outputs": [
    {
     "ename": "KeyError",
     "evalue": "\"['education', 'number of open complaints'] not found in axis\"",
     "output_type": "error",
     "traceback": [
      "\u001b[1;31m---------------------------------------------------------------------------\u001b[0m",
      "\u001b[1;31mKeyError\u001b[0m                                  Traceback (most recent call last)",
      "\u001b[1;32m~\\AppData\\Local\\Temp\\ipykernel_4112\\3311470212.py\u001b[0m in \u001b[0;36m<module>\u001b[1;34m\u001b[0m\n\u001b[1;32m----> 1\u001b[1;33m \u001b[0mdata\u001b[0m \u001b[1;33m=\u001b[0m \u001b[0mdata\u001b[0m\u001b[1;33m.\u001b[0m\u001b[0mdrop\u001b[0m\u001b[1;33m(\u001b[0m\u001b[1;33m[\u001b[0m\u001b[1;34m'education'\u001b[0m\u001b[1;33m,\u001b[0m\u001b[1;34m'number of open complaints'\u001b[0m\u001b[1;33m]\u001b[0m\u001b[1;33m,\u001b[0m \u001b[0maxis\u001b[0m\u001b[1;33m=\u001b[0m\u001b[1;36m1\u001b[0m\u001b[1;33m)\u001b[0m\u001b[1;33m\u001b[0m\u001b[1;33m\u001b[0m\u001b[0m\n\u001b[0m\u001b[0;32m      2\u001b[0m \u001b[0mdata\u001b[0m\u001b[1;33m.\u001b[0m\u001b[0mhead\u001b[0m\u001b[1;33m(\u001b[0m\u001b[1;33m)\u001b[0m\u001b[1;33m\u001b[0m\u001b[1;33m\u001b[0m\u001b[0m\n",
      "\u001b[1;32m~\\anaconda3\\lib\\site-packages\\pandas\\util\\_decorators.py\u001b[0m in \u001b[0;36mwrapper\u001b[1;34m(*args, **kwargs)\u001b[0m\n\u001b[0;32m    309\u001b[0m                     \u001b[0mstacklevel\u001b[0m\u001b[1;33m=\u001b[0m\u001b[0mstacklevel\u001b[0m\u001b[1;33m,\u001b[0m\u001b[1;33m\u001b[0m\u001b[1;33m\u001b[0m\u001b[0m\n\u001b[0;32m    310\u001b[0m                 )\n\u001b[1;32m--> 311\u001b[1;33m             \u001b[1;32mreturn\u001b[0m \u001b[0mfunc\u001b[0m\u001b[1;33m(\u001b[0m\u001b[1;33m*\u001b[0m\u001b[0margs\u001b[0m\u001b[1;33m,\u001b[0m \u001b[1;33m**\u001b[0m\u001b[0mkwargs\u001b[0m\u001b[1;33m)\u001b[0m\u001b[1;33m\u001b[0m\u001b[1;33m\u001b[0m\u001b[0m\n\u001b[0m\u001b[0;32m    312\u001b[0m \u001b[1;33m\u001b[0m\u001b[0m\n\u001b[0;32m    313\u001b[0m         \u001b[1;32mreturn\u001b[0m \u001b[0mwrapper\u001b[0m\u001b[1;33m\u001b[0m\u001b[1;33m\u001b[0m\u001b[0m\n",
      "\u001b[1;32m~\\anaconda3\\lib\\site-packages\\pandas\\core\\frame.py\u001b[0m in \u001b[0;36mdrop\u001b[1;34m(self, labels, axis, index, columns, level, inplace, errors)\u001b[0m\n\u001b[0;32m   4955\u001b[0m                 \u001b[0mweight\u001b[0m  \u001b[1;36m1.0\u001b[0m     \u001b[1;36m0.8\u001b[0m\u001b[1;33m\u001b[0m\u001b[1;33m\u001b[0m\u001b[0m\n\u001b[0;32m   4956\u001b[0m         \"\"\"\n\u001b[1;32m-> 4957\u001b[1;33m         return super().drop(\n\u001b[0m\u001b[0;32m   4958\u001b[0m             \u001b[0mlabels\u001b[0m\u001b[1;33m=\u001b[0m\u001b[0mlabels\u001b[0m\u001b[1;33m,\u001b[0m\u001b[1;33m\u001b[0m\u001b[1;33m\u001b[0m\u001b[0m\n\u001b[0;32m   4959\u001b[0m             \u001b[0maxis\u001b[0m\u001b[1;33m=\u001b[0m\u001b[0maxis\u001b[0m\u001b[1;33m,\u001b[0m\u001b[1;33m\u001b[0m\u001b[1;33m\u001b[0m\u001b[0m\n",
      "\u001b[1;32m~\\anaconda3\\lib\\site-packages\\pandas\\core\\generic.py\u001b[0m in \u001b[0;36mdrop\u001b[1;34m(self, labels, axis, index, columns, level, inplace, errors)\u001b[0m\n\u001b[0;32m   4265\u001b[0m         \u001b[1;32mfor\u001b[0m \u001b[0maxis\u001b[0m\u001b[1;33m,\u001b[0m \u001b[0mlabels\u001b[0m \u001b[1;32min\u001b[0m \u001b[0maxes\u001b[0m\u001b[1;33m.\u001b[0m\u001b[0mitems\u001b[0m\u001b[1;33m(\u001b[0m\u001b[1;33m)\u001b[0m\u001b[1;33m:\u001b[0m\u001b[1;33m\u001b[0m\u001b[1;33m\u001b[0m\u001b[0m\n\u001b[0;32m   4266\u001b[0m             \u001b[1;32mif\u001b[0m \u001b[0mlabels\u001b[0m \u001b[1;32mis\u001b[0m \u001b[1;32mnot\u001b[0m \u001b[1;32mNone\u001b[0m\u001b[1;33m:\u001b[0m\u001b[1;33m\u001b[0m\u001b[1;33m\u001b[0m\u001b[0m\n\u001b[1;32m-> 4267\u001b[1;33m                 \u001b[0mobj\u001b[0m \u001b[1;33m=\u001b[0m \u001b[0mobj\u001b[0m\u001b[1;33m.\u001b[0m\u001b[0m_drop_axis\u001b[0m\u001b[1;33m(\u001b[0m\u001b[0mlabels\u001b[0m\u001b[1;33m,\u001b[0m \u001b[0maxis\u001b[0m\u001b[1;33m,\u001b[0m \u001b[0mlevel\u001b[0m\u001b[1;33m=\u001b[0m\u001b[0mlevel\u001b[0m\u001b[1;33m,\u001b[0m \u001b[0merrors\u001b[0m\u001b[1;33m=\u001b[0m\u001b[0merrors\u001b[0m\u001b[1;33m)\u001b[0m\u001b[1;33m\u001b[0m\u001b[1;33m\u001b[0m\u001b[0m\n\u001b[0m\u001b[0;32m   4268\u001b[0m \u001b[1;33m\u001b[0m\u001b[0m\n\u001b[0;32m   4269\u001b[0m         \u001b[1;32mif\u001b[0m \u001b[0minplace\u001b[0m\u001b[1;33m:\u001b[0m\u001b[1;33m\u001b[0m\u001b[1;33m\u001b[0m\u001b[0m\n",
      "\u001b[1;32m~\\anaconda3\\lib\\site-packages\\pandas\\core\\generic.py\u001b[0m in \u001b[0;36m_drop_axis\u001b[1;34m(self, labels, axis, level, errors, consolidate, only_slice)\u001b[0m\n\u001b[0;32m   4309\u001b[0m                 \u001b[0mnew_axis\u001b[0m \u001b[1;33m=\u001b[0m \u001b[0maxis\u001b[0m\u001b[1;33m.\u001b[0m\u001b[0mdrop\u001b[0m\u001b[1;33m(\u001b[0m\u001b[0mlabels\u001b[0m\u001b[1;33m,\u001b[0m \u001b[0mlevel\u001b[0m\u001b[1;33m=\u001b[0m\u001b[0mlevel\u001b[0m\u001b[1;33m,\u001b[0m \u001b[0merrors\u001b[0m\u001b[1;33m=\u001b[0m\u001b[0merrors\u001b[0m\u001b[1;33m)\u001b[0m\u001b[1;33m\u001b[0m\u001b[1;33m\u001b[0m\u001b[0m\n\u001b[0;32m   4310\u001b[0m             \u001b[1;32melse\u001b[0m\u001b[1;33m:\u001b[0m\u001b[1;33m\u001b[0m\u001b[1;33m\u001b[0m\u001b[0m\n\u001b[1;32m-> 4311\u001b[1;33m                 \u001b[0mnew_axis\u001b[0m \u001b[1;33m=\u001b[0m \u001b[0maxis\u001b[0m\u001b[1;33m.\u001b[0m\u001b[0mdrop\u001b[0m\u001b[1;33m(\u001b[0m\u001b[0mlabels\u001b[0m\u001b[1;33m,\u001b[0m \u001b[0merrors\u001b[0m\u001b[1;33m=\u001b[0m\u001b[0merrors\u001b[0m\u001b[1;33m)\u001b[0m\u001b[1;33m\u001b[0m\u001b[1;33m\u001b[0m\u001b[0m\n\u001b[0m\u001b[0;32m   4312\u001b[0m             \u001b[0mindexer\u001b[0m \u001b[1;33m=\u001b[0m \u001b[0maxis\u001b[0m\u001b[1;33m.\u001b[0m\u001b[0mget_indexer\u001b[0m\u001b[1;33m(\u001b[0m\u001b[0mnew_axis\u001b[0m\u001b[1;33m)\u001b[0m\u001b[1;33m\u001b[0m\u001b[1;33m\u001b[0m\u001b[0m\n\u001b[0;32m   4313\u001b[0m \u001b[1;33m\u001b[0m\u001b[0m\n",
      "\u001b[1;32m~\\anaconda3\\lib\\site-packages\\pandas\\core\\indexes\\base.py\u001b[0m in \u001b[0;36mdrop\u001b[1;34m(self, labels, errors)\u001b[0m\n\u001b[0;32m   6659\u001b[0m         \u001b[1;32mif\u001b[0m \u001b[0mmask\u001b[0m\u001b[1;33m.\u001b[0m\u001b[0many\u001b[0m\u001b[1;33m(\u001b[0m\u001b[1;33m)\u001b[0m\u001b[1;33m:\u001b[0m\u001b[1;33m\u001b[0m\u001b[1;33m\u001b[0m\u001b[0m\n\u001b[0;32m   6660\u001b[0m             \u001b[1;32mif\u001b[0m \u001b[0merrors\u001b[0m \u001b[1;33m!=\u001b[0m \u001b[1;34m\"ignore\"\u001b[0m\u001b[1;33m:\u001b[0m\u001b[1;33m\u001b[0m\u001b[1;33m\u001b[0m\u001b[0m\n\u001b[1;32m-> 6661\u001b[1;33m                 \u001b[1;32mraise\u001b[0m \u001b[0mKeyError\u001b[0m\u001b[1;33m(\u001b[0m\u001b[1;34mf\"{list(labels[mask])} not found in axis\"\u001b[0m\u001b[1;33m)\u001b[0m\u001b[1;33m\u001b[0m\u001b[1;33m\u001b[0m\u001b[0m\n\u001b[0m\u001b[0;32m   6662\u001b[0m             \u001b[0mindexer\u001b[0m \u001b[1;33m=\u001b[0m \u001b[0mindexer\u001b[0m\u001b[1;33m[\u001b[0m\u001b[1;33m~\u001b[0m\u001b[0mmask\u001b[0m\u001b[1;33m]\u001b[0m\u001b[1;33m\u001b[0m\u001b[1;33m\u001b[0m\u001b[0m\n\u001b[0;32m   6663\u001b[0m         \u001b[1;32mreturn\u001b[0m \u001b[0mself\u001b[0m\u001b[1;33m.\u001b[0m\u001b[0mdelete\u001b[0m\u001b[1;33m(\u001b[0m\u001b[0mindexer\u001b[0m\u001b[1;33m)\u001b[0m\u001b[1;33m\u001b[0m\u001b[1;33m\u001b[0m\u001b[0m\n",
      "\u001b[1;31mKeyError\u001b[0m: \"['education', 'number of open complaints'] not found in axis\""
     ]
    }
   ],
   "source": [
    "data = data.drop(['education','number of open complaints'], axis=1)\n",
    "data.head()"
   ]
  },
  {
   "cell_type": "code",
   "execution_count": null,
   "id": "947e3b1c",
   "metadata": {},
   "outputs": [],
   "source": [
    "#Correct the values in the column customer lifetime value. They are given as a percent, so multiply them by 100 and \n",
    "#change `dtype` to `numerical` type.\n",
    "\n",
    "#data.head()\n",
    "#customer lifetime value.dtype\n",
    "#data._get_numeric_data()"
   ]
  },
  {
   "cell_type": "code",
   "execution_count": 73,
   "id": "cc4f3501",
   "metadata": {},
   "outputs": [
    {
     "ename": "KeyError",
     "evalue": "\"None of [Index([(nan, '697953.59%', '1288743.17%', '764586.18%', '536307.65%', '825629.78%', '538089.86%', '721610.03%', '2412750.40%', '738817.81%', '473899.20%', '819719.71%', '879879.70%', '881901.89%', '538443.17%', '746313.94%', '256686.78%', '394524.16%', '571033.31%', '816261.71%', '287205.13%', '617710.93%', '2412750.40%', '245019.10%', '239210.79%', '580206.60%', '394637.21%', '916206.32%', '1290256.01%', '323536.05%', '245458.35%', '1897545.61%', '471532.13%', '473787.17%', '493291.63%', '574422.97%', '1389173.57%', '738097.67%', '309003.41%', '252163.31%', '265206.18%', '277104.50%', '393900.64%', '1223187.97%', '495165.61%', '1281910.29%', '446851.05%', '551434.40%', '334387.53%', '229447.89%', '3670742.64%', '3347334.95%', '798343.17%', '487938.48%', '429399.73%', '716439.55%', '761951.58%', '395800.28%', '449949.33%', '405956.74%', '445811.34%', '811033.31%', '333976.49%', '2426101.78%', '661397.37%', '293069.35%', '867219.43%', '1163866.93%', '684615.03%', '1172777.65%', '2264383.48%', '261447.43%', '245175.27%', '678127.02%', '497480.15%', '859160.49%', '559216.14%', '800947.28%', nan, '5816655.35%', '802522.94%', '578018.22%', '411853.91%', '252307.02%', '655421.64%', '538275.20%', '592672.94%', '268347.07%', '269518.24%', '604702.52%', '1317101.28%', '1595001.95%', '252765.38%', '267209.58%', '531329.40%', '2094619.25%', '837535.39%', '480166.15%', '574594.33%', '606611.60%', ...),\\n       (nan, '697953.59%', '1288743.17%', '764586.18%', '536307.65%', '825629.78%', '538089.86%', '721610.03%', '2412750.40%', '738817.81%', '473899.20%', '819719.71%', '879879.70%', '881901.89%', '538443.17%', '746313.94%', '256686.78%', '394524.16%', '571033.31%', '816261.71%', '287205.13%', '617710.93%', '2412750.40%', '245019.10%', '239210.79%', '580206.60%', '394637.21%', '916206.32%', '1290256.01%', '323536.05%', '245458.35%', '1897545.61%', '471532.13%', '473787.17%', '493291.63%', '574422.97%', '1389173.57%', '738097.67%', '309003.41%', '252163.31%', '265206.18%', '277104.50%', '393900.64%', '1223187.97%', '495165.61%', '1281910.29%', '446851.05%', '551434.40%', '334387.53%', '229447.89%', '3670742.64%', '3347334.95%', '798343.17%', '487938.48%', '429399.73%', '716439.55%', '761951.58%', '395800.28%', '449949.33%', '405956.74%', '445811.34%', '811033.31%', '333976.49%', '2426101.78%', '661397.37%', '293069.35%', '867219.43%', '1163866.93%', '684615.03%', '1172777.65%', '2264383.48%', '261447.43%', '245175.27%', '678127.02%', '497480.15%', '859160.49%', '559216.14%', '800947.28%', nan, '5816655.35%', '802522.94%', '578018.22%', '411853.91%', '252307.02%', '655421.64%', '538275.20%', '592672.94%', '268347.07%', '269518.24%', '604702.52%', '1317101.28%', '1595001.95%', '252765.38%', '267209.58%', '531329.40%', '2094619.25%', '837535.39%', '480166.15%', '574594.33%', '606611.60%', ...),\\n       (nan, '697953.59%', '1288743.17%', '764586.18%', '536307.65%', '825629.78%', '538089.86%', '721610.03%', '2412750.40%', '738817.81%', '473899.20%', '819719.71%', '879879.70%', '881901.89%', '538443.17%', '746313.94%', '256686.78%', '394524.16%', '571033.31%', '816261.71%', '287205.13%', '617710.93%', '2412750.40%', '245019.10%', '239210.79%', '580206.60%', '394637.21%', '916206.32%', '1290256.01%', '323536.05%', '245458.35%', '1897545.61%', '471532.13%', '473787.17%', '493291.63%', '574422.97%', '1389173.57%', '738097.67%', '309003.41%', '252163.31%', '265206.18%', '277104.50%', '393900.64%', '1223187.97%', '495165.61%', '1281910.29%', '446851.05%', '551434.40%', '334387.53%', '229447.89%', '3670742.64%', '3347334.95%', '798343.17%', '487938.48%', '429399.73%', '716439.55%', '761951.58%', '395800.28%', '449949.33%', '405956.74%', '445811.34%', '811033.31%', '333976.49%', '2426101.78%', '661397.37%', '293069.35%', '867219.43%', '1163866.93%', '684615.03%', '1172777.65%', '2264383.48%', '261447.43%', '245175.27%', '678127.02%', '497480.15%', '859160.49%', '559216.14%', '800947.28%', nan, '5816655.35%', '802522.94%', '578018.22%', '411853.91%', '252307.02%', '655421.64%', '538275.20%', '592672.94%', '268347.07%', '269518.24%', '604702.52%', '1317101.28%', '1595001.95%', '252765.38%', '267209.58%', '531329.40%', '2094619.25%', '837535.39%', '480166.15%', '574594.33%', '606611.60%', ...),\\n       (nan, '697953.59%', '1288743.17%', '764586.18%', '536307.65%', '825629.78%', '538089.86%', '721610.03%', '2412750.40%', '738817.81%', '473899.20%', '819719.71%', '879879.70%', '881901.89%', '538443.17%', '746313.94%', '256686.78%', '394524.16%', '571033.31%', '816261.71%', '287205.13%', '617710.93%', '2412750.40%', '245019.10%', '239210.79%', '580206.60%', '394637.21%', '916206.32%', '1290256.01%', '323536.05%', '245458.35%', '1897545.61%', '471532.13%', '473787.17%', '493291.63%', '574422.97%', '1389173.57%', '738097.67%', '309003.41%', '252163.31%', '265206.18%', '277104.50%', '393900.64%', '1223187.97%', '495165.61%', '1281910.29%', '446851.05%', '551434.40%', '334387.53%', '229447.89%', '3670742.64%', '3347334.95%', '798343.17%', '487938.48%', '429399.73%', '716439.55%', '761951.58%', '395800.28%', '449949.33%', '405956.74%', '445811.34%', '811033.31%', '333976.49%', '2426101.78%', '661397.37%', '293069.35%', '867219.43%', '1163866.93%', '684615.03%', '1172777.65%', '2264383.48%', '261447.43%', '245175.27%', '678127.02%', '497480.15%', '859160.49%', '559216.14%', '800947.28%', nan, '5816655.35%', '802522.94%', '578018.22%', '411853.91%', '252307.02%', '655421.64%', '538275.20%', '592672.94%', '268347.07%', '269518.24%', '604702.52%', '1317101.28%', '1595001.95%', '252765.38%', '267209.58%', '531329.40%', '2094619.25%', '837535.39%', '480166.15%', '574594.33%', '606611.60%', ...),\\n       (nan, '697953.59%', '1288743.17%', '764586.18%', '536307.65%', '825629.78%', '538089.86%', '721610.03%', '2412750.40%', '738817.81%', '473899.20%', '819719.71%', '879879.70%', '881901.89%', '538443.17%', '746313.94%', '256686.78%', '394524.16%', '571033.31%', '816261.71%', '287205.13%', '617710.93%', '2412750.40%', '245019.10%', '239210.79%', '580206.60%', '394637.21%', '916206.32%', '1290256.01%', '323536.05%', '245458.35%', '1897545.61%', '471532.13%', '473787.17%', '493291.63%', '574422.97%', '1389173.57%', '738097.67%', '309003.41%', '252163.31%', '265206.18%', '277104.50%', '393900.64%', '1223187.97%', '495165.61%', '1281910.29%', '446851.05%', '551434.40%', '334387.53%', '229447.89%', '3670742.64%', '3347334.95%', '798343.17%', '487938.48%', '429399.73%', '716439.55%', '761951.58%', '395800.28%', '449949.33%', '405956.74%', '445811.34%', '811033.31%', '333976.49%', '2426101.78%', '661397.37%', '293069.35%', '867219.43%', '1163866.93%', '684615.03%', '1172777.65%', '2264383.48%', '261447.43%', '245175.27%', '678127.02%', '497480.15%', '859160.49%', '559216.14%', '800947.28%', nan, '5816655.35%', '802522.94%', '578018.22%', '411853.91%', '252307.02%', '655421.64%', '538275.20%', '592672.94%', '268347.07%', '269518.24%', '604702.52%', '1317101.28%', '1595001.95%', '252765.38%', '267209.58%', '531329.40%', '2094619.25%', '837535.39%', '480166.15%', '574594.33%', '606611.60%', ...),\\n       (nan, '697953.59%', '1288743.17%', '764586.18%', '536307.65%', '825629.78%', '538089.86%', '721610.03%', '2412750.40%', '738817.81%', '473899.20%', '819719.71%', '879879.70%', '881901.89%', '538443.17%', '746313.94%', '256686.78%', '394524.16%', '571033.31%', '816261.71%', '287205.13%', '617710.93%', '2412750.40%', '245019.10%', '239210.79%', '580206.60%', '394637.21%', '916206.32%', '1290256.01%', '323536.05%', '245458.35%', '1897545.61%', '471532.13%', '473787.17%', '493291.63%', '574422.97%', '1389173.57%', '738097.67%', '309003.41%', '252163.31%', '265206.18%', '277104.50%', '393900.64%', '1223187.97%', '495165.61%', '1281910.29%', '446851.05%', '551434.40%', '334387.53%', '229447.89%', '3670742.64%', '3347334.95%', '798343.17%', '487938.48%', '429399.73%', '716439.55%', '761951.58%', '395800.28%', '449949.33%', '405956.74%', '445811.34%', '811033.31%', '333976.49%', '2426101.78%', '661397.37%', '293069.35%', '867219.43%', '1163866.93%', '684615.03%', '1172777.65%', '2264383.48%', '261447.43%', '245175.27%', '678127.02%', '497480.15%', '859160.49%', '559216.14%', '800947.28%', nan, '5816655.35%', '802522.94%', '578018.22%', '411853.91%', '252307.02%', '655421.64%', '538275.20%', '592672.94%', '268347.07%', '269518.24%', '604702.52%', '1317101.28%', '1595001.95%', '252765.38%', '267209.58%', '531329.40%', '2094619.25%', '837535.39%', '480166.15%', '574594.33%', '606611.60%', ...),\\n       (nan, '697953.59%', '1288743.17%', '764586.18%', '536307.65%', '825629.78%', '538089.86%', '721610.03%', '2412750.40%', '738817.81%', '473899.20%', '819719.71%', '879879.70%', '881901.89%', '538443.17%', '746313.94%', '256686.78%', '394524.16%', '571033.31%', '816261.71%', '287205.13%', '617710.93%', '2412750.40%', '245019.10%', '239210.79%', '580206.60%', '394637.21%', '916206.32%', '1290256.01%', '323536.05%', '245458.35%', '1897545.61%', '471532.13%', '473787.17%', '493291.63%', '574422.97%', '1389173.57%', '738097.67%', '309003.41%', '252163.31%', '265206.18%', '277104.50%', '393900.64%', '1223187.97%', '495165.61%', '1281910.29%', '446851.05%', '551434.40%', '334387.53%', '229447.89%', '3670742.64%', '3347334.95%', '798343.17%', '487938.48%', '429399.73%', '716439.55%', '761951.58%', '395800.28%', '449949.33%', '405956.74%', '445811.34%', '811033.31%', '333976.49%', '2426101.78%', '661397.37%', '293069.35%', '867219.43%', '1163866.93%', '684615.03%', '1172777.65%', '2264383.48%', '261447.43%', '245175.27%', '678127.02%', '497480.15%', '859160.49%', '559216.14%', '800947.28%', nan, '5816655.35%', '802522.94%', '578018.22%', '411853.91%', '252307.02%', '655421.64%', '538275.20%', '592672.94%', '268347.07%', '269518.24%', '604702.52%', '1317101.28%', '1595001.95%', '252765.38%', '267209.58%', '531329.40%', '2094619.25%', '837535.39%', '480166.15%', '574594.33%', '606611.60%', ...),\\n       (nan, '697953.59%', '1288743.17%', '764586.18%', '536307.65%', '825629.78%', '538089.86%', '721610.03%', '2412750.40%', '738817.81%', '473899.20%', '819719.71%', '879879.70%', '881901.89%', '538443.17%', '746313.94%', '256686.78%', '394524.16%', '571033.31%', '816261.71%', '287205.13%', '617710.93%', '2412750.40%', '245019.10%', '239210.79%', '580206.60%', '394637.21%', '916206.32%', '1290256.01%', '323536.05%', '245458.35%', '1897545.61%', '471532.13%', '473787.17%', '493291.63%', '574422.97%', '1389173.57%', '738097.67%', '309003.41%', '252163.31%', '265206.18%', '277104.50%', '393900.64%', '1223187.97%', '495165.61%', '1281910.29%', '446851.05%', '551434.40%', '334387.53%', '229447.89%', '3670742.64%', '3347334.95%', '798343.17%', '487938.48%', '429399.73%', '716439.55%', '761951.58%', '395800.28%', '449949.33%', '405956.74%', '445811.34%', '811033.31%', '333976.49%', '2426101.78%', '661397.37%', '293069.35%', '867219.43%', '1163866.93%', '684615.03%', '1172777.65%', '2264383.48%', '261447.43%', '245175.27%', '678127.02%', '497480.15%', '859160.49%', '559216.14%', '800947.28%', nan, '5816655.35%', '802522.94%', '578018.22%', '411853.91%', '252307.02%', '655421.64%', '538275.20%', '592672.94%', '268347.07%', '269518.24%', '604702.52%', '1317101.28%', '1595001.95%', '252765.38%', '267209.58%', '531329.40%', '2094619.25%', '837535.39%', '480166.15%', '574594.33%', '606611.60%', ...),\\n       (nan, '697953.59%', '1288743.17%', '764586.18%', '536307.65%', '825629.78%', '538089.86%', '721610.03%', '2412750.40%', '738817.81%', '473899.20%', '819719.71%', '879879.70%', '881901.89%', '538443.17%', '746313.94%', '256686.78%', '394524.16%', '571033.31%', '816261.71%', '287205.13%', '617710.93%', '2412750.40%', '245019.10%', '239210.79%', '580206.60%', '394637.21%', '916206.32%', '1290256.01%', '323536.05%', '245458.35%', '1897545.61%', '471532.13%', '473787.17%', '493291.63%', '574422.97%', '1389173.57%', '738097.67%', '309003.41%', '252163.31%', '265206.18%', '277104.50%', '393900.64%', '1223187.97%', '495165.61%', '1281910.29%', '446851.05%', '551434.40%', '334387.53%', '229447.89%', '3670742.64%', '3347334.95%', '798343.17%', '487938.48%', '429399.73%', '716439.55%', '761951.58%', '395800.28%', '449949.33%', '405956.74%', '445811.34%', '811033.31%', '333976.49%', '2426101.78%', '661397.37%', '293069.35%', '867219.43%', '1163866.93%', '684615.03%', '1172777.65%', '2264383.48%', '261447.43%', '245175.27%', '678127.02%', '497480.15%', '859160.49%', '559216.14%', '800947.28%', nan, '5816655.35%', '802522.94%', '578018.22%', '411853.91%', '252307.02%', '655421.64%', '538275.20%', '592672.94%', '268347.07%', '269518.24%', '604702.52%', '1317101.28%', '1595001.95%', '252765.38%', '267209.58%', '531329.40%', '2094619.25%', '837535.39%', '480166.15%', '574594.33%', '606611.60%', ...),\\n       (nan, '697953.59%', '1288743.17%', '764586.18%', '536307.65%', '825629.78%', '538089.86%', '721610.03%', '2412750.40%', '738817.81%', '473899.20%', '819719.71%', '879879.70%', '881901.89%', '538443.17%', '746313.94%', '256686.78%', '394524.16%', '571033.31%', '816261.71%', '287205.13%', '617710.93%', '2412750.40%', '245019.10%', '239210.79%', '580206.60%', '394637.21%', '916206.32%', '1290256.01%', '323536.05%', '245458.35%', '1897545.61%', '471532.13%', '473787.17%', '493291.63%', '574422.97%', '1389173.57%', '738097.67%', '309003.41%', '252163.31%', '265206.18%', '277104.50%', '393900.64%', '1223187.97%', '495165.61%', '1281910.29%', '446851.05%', '551434.40%', '334387.53%', '229447.89%', '3670742.64%', '3347334.95%', '798343.17%', '487938.48%', '429399.73%', '716439.55%', '761951.58%', '395800.28%', '449949.33%', '405956.74%', '445811.34%', '811033.31%', '333976.49%', '2426101.78%', '661397.37%', '293069.35%', '867219.43%', '1163866.93%', '684615.03%', '1172777.65%', '2264383.48%', '261447.43%', '245175.27%', '678127.02%', '497480.15%', '859160.49%', '559216.14%', '800947.28%', nan, '5816655.35%', '802522.94%', '578018.22%', '411853.91%', '252307.02%', '655421.64%', '538275.20%', '592672.94%', '268347.07%', '269518.24%', '604702.52%', '1317101.28%', '1595001.95%', '252765.38%', '267209.58%', '531329.40%', '2094619.25%', '837535.39%', '480166.15%', '574594.33%', '606611.60%', ...),\\n       (nan, '697953.59%', '1288743.17%', '764586.18%', '536307.65%', '825629.78%', '538089.86%', '721610.03%', '2412750.40%', '738817.81%', '473899.20%', '819719.71%', '879879.70%', '881901.89%', '538443.17%', '746313.94%', '256686.78%', '394524.16%', '571033.31%', '816261.71%', '287205.13%', '617710.93%', '2412750.40%', '245019.10%', '239210.79%', '580206.60%', '394637.21%', '916206.32%', '1290256.01%', '323536.05%', '245458.35%', '1897545.61%', '471532.13%', '473787.17%', '493291.63%', '574422.97%', '1389173.57%', '738097.67%', '309003.41%', '252163.31%', '265206.18%', '277104.50%', '393900.64%', '1223187.97%', '495165.61%', '1281910.29%', '446851.05%', '551434.40%', '334387.53%', '229447.89%', '3670742.64%', '3347334.95%', '798343.17%', '487938.48%', '429399.73%', '716439.55%', '761951.58%', '395800.28%', '449949.33%', '405956.74%', '445811.34%', '811033.31%', '333976.49%', '2426101.78%', '661397.37%', '293069.35%', '867219.43%', '1163866.93%', '684615.03%', '1172777.65%', '2264383.48%', '261447.43%', '245175.27%', '678127.02%', '497480.15%', '859160.49%', '559216.14%', '800947.28%', nan, '5816655.35%', '802522.94%', '578018.22%', '411853.91%', '252307.02%', '655421.64%', '538275.20%', '592672.94%', '268347.07%', '269518.24%', '604702.52%', '1317101.28%', '1595001.95%', '252765.38%', '267209.58%', '531329.40%', '2094619.25%', '837535.39%', '480166.15%', '574594.33%', '606611.60%', ...),\\n       (nan, '697953.59%', '1288743.17%', '764586.18%', '536307.65%', '825629.78%', '538089.86%', '721610.03%', '2412750.40%', '738817.81%', '473899.20%', '819719.71%', '879879.70%', '881901.89%', '538443.17%', '746313.94%', '256686.78%', '394524.16%', '571033.31%', '816261.71%', '287205.13%', '617710.93%', '2412750.40%', '245019.10%', '239210.79%', '580206.60%', '394637.21%', '916206.32%', '1290256.01%', '323536.05%', '245458.35%', '1897545.61%', '471532.13%', '473787.17%', '493291.63%', '574422.97%', '1389173.57%', '738097.67%', '309003.41%', '252163.31%', '265206.18%', '277104.50%', '393900.64%', '1223187.97%', '495165.61%', '1281910.29%', '446851.05%', '551434.40%', '334387.53%', '229447.89%', '3670742.64%', '3347334.95%', '798343.17%', '487938.48%', '429399.73%', '716439.55%', '761951.58%', '395800.28%', '449949.33%', '405956.74%', '445811.34%', '811033.31%', '333976.49%', '2426101.78%', '661397.37%', '293069.35%', '867219.43%', '1163866.93%', '684615.03%', '1172777.65%', '2264383.48%', '261447.43%', '245175.27%', '678127.02%', '497480.15%', '859160.49%', '559216.14%', '800947.28%', nan, '5816655.35%', '802522.94%', '578018.22%', '411853.91%', '252307.02%', '655421.64%', '538275.20%', '592672.94%', '268347.07%', '269518.24%', '604702.52%', '1317101.28%', '1595001.95%', '252765.38%', '267209.58%', '531329.40%', '2094619.25%', '837535.39%', '480166.15%', '574594.33%', '606611.60%', ...),\\n       (nan, '697953.59%', '1288743.17%', '764586.18%', '536307.65%', '825629.78%', '538089.86%', '721610.03%', '2412750.40%', '738817.81%', '473899.20%', '819719.71%', '879879.70%', '881901.89%', '538443.17%', '746313.94%', '256686.78%', '394524.16%', '571033.31%', '816261.71%', '287205.13%', '617710.93%', '2412750.40%', '245019.10%', '239210.79%', '580206.60%', '394637.21%', '916206.32%', '1290256.01%', '323536.05%', '245458.35%', '1897545.61%', '471532.13%', '473787.17%', '493291.63%', '574422.97%', '1389173.57%', '738097.67%', '309003.41%', '252163.31%', '265206.18%', '277104.50%', '393900.64%', '1223187.97%', '495165.61%', '1281910.29%', '446851.05%', '551434.40%', '334387.53%', '229447.89%', '3670742.64%', '3347334.95%', '798343.17%', '487938.48%', '429399.73%', '716439.55%', '761951.58%', '395800.28%', '449949.33%', '405956.74%', '445811.34%', '811033.31%', '333976.49%', '2426101.78%', '661397.37%', '293069.35%', '867219.43%', '1163866.93%', '684615.03%', '1172777.65%', '2264383.48%', '261447.43%', '245175.27%', '678127.02%', '497480.15%', '859160.49%', '559216.14%', '800947.28%', nan, '5816655.35%', '802522.94%', '578018.22%', '411853.91%', '252307.02%', '655421.64%', '538275.20%', '592672.94%', '268347.07%', '269518.24%', '604702.52%', '1317101.28%', '1595001.95%', '252765.38%', '267209.58%', '531329.40%', '2094619.25%', '837535.39%', '480166.15%', '574594.33%', '606611.60%', ...),\\n       (nan, '697953.59%', '1288743.17%', '764586.18%', '536307.65%', '825629.78%', '538089.86%', '721610.03%', '2412750.40%', '738817.81%', '473899.20%', '819719.71%', '879879.70%', '881901.89%', '538443.17%', '746313.94%', '256686.78%', '394524.16%', '571033.31%', '816261.71%', '287205.13%', '617710.93%', '2412750.40%', '245019.10%', '239210.79%', '580206.60%', '394637.21%', '916206.32%', '1290256.01%', '323536.05%', '245458.35%', '1897545.61%', '471532.13%', '473787.17%', '493291.63%', '574422.97%', '1389173.57%', '738097.67%', '309003.41%', '252163.31%', '265206.18%', '277104.50%', '393900.64%', '1223187.97%', '495165.61%', '1281910.29%', '446851.05%', '551434.40%', '334387.53%', '229447.89%', '3670742.64%', '3347334.95%', '798343.17%', '487938.48%', '429399.73%', '716439.55%', '761951.58%', '395800.28%', '449949.33%', '405956.74%', '445811.34%', '811033.31%', '333976.49%', '2426101.78%', '661397.37%', '293069.35%', '867219.43%', '1163866.93%', '684615.03%', '1172777.65%', '2264383.48%', '261447.43%', '245175.27%', '678127.02%', '497480.15%', '859160.49%', '559216.14%', '800947.28%', nan, '5816655.35%', '802522.94%', '578018.22%', '411853.91%', '252307.02%', '655421.64%', '538275.20%', '592672.94%', '268347.07%', '269518.24%', '604702.52%', '1317101.28%', '1595001.95%', '252765.38%', '267209.58%', '531329.40%', '2094619.25%', '837535.39%', '480166.15%', '574594.33%', '606611.60%', ...),\\n       (nan, '697953.59%', '1288743.17%', '764586.18%', '536307.65%', '825629.78%', '538089.86%', '721610.03%', '2412750.40%', '738817.81%', '473899.20%', '819719.71%', '879879.70%', '881901.89%', '538443.17%', '746313.94%', '256686.78%', '394524.16%', '571033.31%', '816261.71%', '287205.13%', '617710.93%', '2412750.40%', '245019.10%', '239210.79%', '580206.60%', '394637.21%', '916206.32%', '1290256.01%', '323536.05%', '245458.35%', '1897545.61%', '471532.13%', '473787.17%', '493291.63%', '574422.97%', '1389173.57%', '738097.67%', '309003.41%', '252163.31%', '265206.18%', '277104.50%', '393900.64%', '1223187.97%', '495165.61%', '1281910.29%', '446851.05%', '551434.40%', '334387.53%', '229447.89%', '3670742.64%', '3347334.95%', '798343.17%', '487938.48%', '429399.73%', '716439.55%', '761951.58%', '395800.28%', '449949.33%', '405956.74%', '445811.34%', '811033.31%', '333976.49%', '2426101.78%', '661397.37%', '293069.35%', '867219.43%', '1163866.93%', '684615.03%', '1172777.65%', '2264383.48%', '261447.43%', '245175.27%', '678127.02%', '497480.15%', '859160.49%', '559216.14%', '800947.28%', nan, '5816655.35%', '802522.94%', '578018.22%', '411853.91%', '252307.02%', '655421.64%', '538275.20%', '592672.94%', '268347.07%', '269518.24%', '604702.52%', '1317101.28%', '1595001.95%', '252765.38%', '267209.58%', '531329.40%', '2094619.25%', '837535.39%', '480166.15%', '574594.33%', '606611.60%', ...),\\n       (nan, '697953.59%', '1288743.17%', '764586.18%', '536307.65%', '825629.78%', '538089.86%', '721610.03%', '2412750.40%', '738817.81%', '473899.20%', '819719.71%', '879879.70%', '881901.89%', '538443.17%', '746313.94%', '256686.78%', '394524.16%', '571033.31%', '816261.71%', '287205.13%', '617710.93%', '2412750.40%', '245019.10%', '239210.79%', '580206.60%', '394637.21%', '916206.32%', '1290256.01%', '323536.05%', '245458.35%', '1897545.61%', '471532.13%', '473787.17%', '493291.63%', '574422.97%', '1389173.57%', '738097.67%', '309003.41%', '252163.31%', '265206.18%', '277104.50%', '393900.64%', '1223187.97%', '495165.61%', '1281910.29%', '446851.05%', '551434.40%', '334387.53%', '229447.89%', '3670742.64%', '3347334.95%', '798343.17%', '487938.48%', '429399.73%', '716439.55%', '761951.58%', '395800.28%', '449949.33%', '405956.74%', '445811.34%', '811033.31%', '333976.49%', '2426101.78%', '661397.37%', '293069.35%', '867219.43%', '1163866.93%', '684615.03%', '1172777.65%', '2264383.48%', '261447.43%', '245175.27%', '678127.02%', '497480.15%', '859160.49%', '559216.14%', '800947.28%', nan, '5816655.35%', '802522.94%', '578018.22%', '411853.91%', '252307.02%', '655421.64%', '538275.20%', '592672.94%', '268347.07%', '269518.24%', '604702.52%', '1317101.28%', '1595001.95%', '252765.38%', '267209.58%', '531329.40%', '2094619.25%', '837535.39%', '480166.15%', '574594.33%', '606611.60%', ...),\\n       (nan, '697953.59%', '1288743.17%', '764586.18%', '536307.65%', '825629.78%', '538089.86%', '721610.03%', '2412750.40%', '738817.81%', '473899.20%', '819719.71%', '879879.70%', '881901.89%', '538443.17%', '746313.94%', '256686.78%', '394524.16%', '571033.31%', '816261.71%', '287205.13%', '617710.93%', '2412750.40%', '245019.10%', '239210.79%', '580206.60%', '394637.21%', '916206.32%', '1290256.01%', '323536.05%', '245458.35%', '1897545.61%', '471532.13%', '473787.17%', '493291.63%', '574422.97%', '1389173.57%', '738097.67%', '309003.41%', '252163.31%', '265206.18%', '277104.50%', '393900.64%', '1223187.97%', '495165.61%', '1281910.29%', '446851.05%', '551434.40%', '334387.53%', '229447.89%', '3670742.64%', '3347334.95%', '798343.17%', '487938.48%', '429399.73%', '716439.55%', '761951.58%', '395800.28%', '449949.33%', '405956.74%', '445811.34%', '811033.31%', '333976.49%', '2426101.78%', '661397.37%', '293069.35%', '867219.43%', '1163866.93%', '684615.03%', '1172777.65%', '2264383.48%', '261447.43%', '245175.27%', '678127.02%', '497480.15%', '859160.49%', '559216.14%', '800947.28%', nan, '5816655.35%', '802522.94%', '578018.22%', '411853.91%', '252307.02%', '655421.64%', '538275.20%', '592672.94%', '268347.07%', '269518.24%', '604702.52%', '1317101.28%', '1595001.95%', '252765.38%', '267209.58%', '531329.40%', '2094619.25%', '837535.39%', '480166.15%', '574594.33%', '606611.60%', ...),\\n       (nan, '697953.59%', '1288743.17%', '764586.18%', '536307.65%', '825629.78%', '538089.86%', '721610.03%', '2412750.40%', '738817.81%', '473899.20%', '819719.71%', '879879.70%', '881901.89%', '538443.17%', '746313.94%', '256686.78%', '394524.16%', '571033.31%', '816261.71%', '287205.13%', '617710.93%', '2412750.40%', '245019.10%', '239210.79%', '580206.60%', '394637.21%', '916206.32%', '1290256.01%', '323536.05%', '245458.35%', '1897545.61%', '471532.13%', '473787.17%', '493291.63%', '574422.97%', '1389173.57%', '738097.67%', '309003.41%', '252163.31%', '265206.18%', '277104.50%', '393900.64%', '1223187.97%', '495165.61%', '1281910.29%', '446851.05%', '551434.40%', '334387.53%', '229447.89%', '3670742.64%', '3347334.95%', '798343.17%', '487938.48%', '429399.73%', '716439.55%', '761951.58%', '395800.28%', '449949.33%', '405956.74%', '445811.34%', '811033.31%', '333976.49%', '2426101.78%', '661397.37%', '293069.35%', '867219.43%', '1163866.93%', '684615.03%', '1172777.65%', '2264383.48%', '261447.43%', '245175.27%', '678127.02%', '497480.15%', '859160.49%', '559216.14%', '800947.28%', nan, '5816655.35%', '802522.94%', '578018.22%', '411853.91%', '252307.02%', '655421.64%', '538275.20%', '592672.94%', '268347.07%', '269518.24%', '604702.52%', '1317101.28%', '1595001.95%', '252765.38%', '267209.58%', '531329.40%', '2094619.25%', '837535.39%', '480166.15%', '574594.33%', '606611.60%', ...),\\n       (nan, '697953.59%', '1288743.17%', '764586.18%', '536307.65%', '825629.78%', '538089.86%', '721610.03%', '2412750.40%', '738817.81%', '473899.20%', '819719.71%', '879879.70%', '881901.89%', '538443.17%', '746313.94%', '256686.78%', '394524.16%', '571033.31%', '816261.71%', '287205.13%', '617710.93%', '2412750.40%', '245019.10%', '239210.79%', '580206.60%', '394637.21%', '916206.32%', '1290256.01%', '323536.05%', '245458.35%', '1897545.61%', '471532.13%', '473787.17%', '493291.63%', '574422.97%', '1389173.57%', '738097.67%', '309003.41%', '252163.31%', '265206.18%', '277104.50%', '393900.64%', '1223187.97%', '495165.61%', '1281910.29%', '446851.05%', '551434.40%', '334387.53%', '229447.89%', '3670742.64%', '3347334.95%', '798343.17%', '487938.48%', '429399.73%', '716439.55%', '761951.58%', '395800.28%', '449949.33%', '405956.74%', '445811.34%', '811033.31%', '333976.49%', '2426101.78%', '661397.37%', '293069.35%', '867219.43%', '1163866.93%', '684615.03%', '1172777.65%', '2264383.48%', '261447.43%', '245175.27%', '678127.02%', '497480.15%', '859160.49%', '559216.14%', '800947.28%', nan, '5816655.35%', '802522.94%', '578018.22%', '411853.91%', '252307.02%', '655421.64%', '538275.20%', '592672.94%', '268347.07%', '269518.24%', '604702.52%', '1317101.28%', '1595001.95%', '252765.38%', '267209.58%', '531329.40%', '2094619.25%', '837535.39%', '480166.15%', '574594.33%', '606611.60%', ...),\\n       (nan, '697953.59%', '1288743.17%', '764586.18%', '536307.65%', '825629.78%', '538089.86%', '721610.03%', '2412750.40%', '738817.81%', '473899.20%', '819719.71%', '879879.70%', '881901.89%', '538443.17%', '746313.94%', '256686.78%', '394524.16%', '571033.31%', '816261.71%', '287205.13%', '617710.93%', '2412750.40%', '245019.10%', '239210.79%', '580206.60%', '394637.21%', '916206.32%', '1290256.01%', '323536.05%', '245458.35%', '1897545.61%', '471532.13%', '473787.17%', '493291.63%', '574422.97%', '1389173.57%', '738097.67%', '309003.41%', '252163.31%', '265206.18%', '277104.50%', '393900.64%', '1223187.97%', '495165.61%', '1281910.29%', '446851.05%', '551434.40%', '334387.53%', '229447.89%', '3670742.64%', '3347334.95%', '798343.17%', '487938.48%', '429399.73%', '716439.55%', '761951.58%', '395800.28%', '449949.33%', '405956.74%', '445811.34%', '811033.31%', '333976.49%', '2426101.78%', '661397.37%', '293069.35%', '867219.43%', '1163866.93%', '684615.03%', '1172777.65%', '2264383.48%', '261447.43%', '245175.27%', '678127.02%', '497480.15%', '859160.49%', '559216.14%', '800947.28%', nan, '5816655.35%', '802522.94%', '578018.22%', '411853.91%', '252307.02%', '655421.64%', '538275.20%', '592672.94%', '268347.07%', '269518.24%', '604702.52%', '1317101.28%', '1595001.95%', '252765.38%', '267209.58%', '531329.40%', '2094619.25%', '837535.39%', '480166.15%', '574594.33%', '606611.60%', ...),\\n       (nan, '697953.59%', '1288743.17%', '764586.18%', '536307.65%', '825629.78%', '538089.86%', '721610.03%', '2412750.40%', '738817.81%', '473899.20%', '819719.71%', '879879.70%', '881901.89%', '538443.17%', '746313.94%', '256686.78%', '394524.16%', '571033.31%', '816261.71%', '287205.13%', '617710.93%', '2412750.40%', '245019.10%', '239210.79%', '580206.60%', '394637.21%', '916206.32%', '1290256.01%', '323536.05%', '245458.35%', '1897545.61%', '471532.13%', '473787.17%', '493291.63%', '574422.97%', '1389173.57%', '738097.67%', '309003.41%', '252163.31%', '265206.18%', '277104.50%', '393900.64%', '1223187.97%', '495165.61%', '1281910.29%', '446851.05%', '551434.40%', '334387.53%', '229447.89%', '3670742.64%', '3347334.95%', '798343.17%', '487938.48%', '429399.73%', '716439.55%', '761951.58%', '395800.28%', '449949.33%', '405956.74%', '445811.34%', '811033.31%', '333976.49%', '2426101.78%', '661397.37%', '293069.35%', '867219.43%', '1163866.93%', '684615.03%', '1172777.65%', '2264383.48%', '261447.43%', '245175.27%', '678127.02%', '497480.15%', '859160.49%', '559216.14%', '800947.28%', nan, '5816655.35%', '802522.94%', '578018.22%', '411853.91%', '252307.02%', '655421.64%', '538275.20%', '592672.94%', '268347.07%', '269518.24%', '604702.52%', '1317101.28%', '1595001.95%', '252765.38%', '267209.58%', '531329.40%', '2094619.25%', '837535.39%', '480166.15%', '574594.33%', '606611.60%', ...),\\n       (nan, '697953.59%', '1288743.17%', '764586.18%', '536307.65%', '825629.78%', '538089.86%', '721610.03%', '2412750.40%', '738817.81%', '473899.20%', '819719.71%', '879879.70%', '881901.89%', '538443.17%', '746313.94%', '256686.78%', '394524.16%', '571033.31%', '816261.71%', '287205.13%', '617710.93%', '2412750.40%', '245019.10%', '239210.79%', '580206.60%', '394637.21%', '916206.32%', '1290256.01%', '323536.05%', '245458.35%', '1897545.61%', '471532.13%', '473787.17%', '493291.63%', '574422.97%', '1389173.57%', '738097.67%', '309003.41%', '252163.31%', '265206.18%', '277104.50%', '393900.64%', '1223187.97%', '495165.61%', '1281910.29%', '446851.05%', '551434.40%', '334387.53%', '229447.89%', '3670742.64%', '3347334.95%', '798343.17%', '487938.48%', '429399.73%', '716439.55%', '761951.58%', '395800.28%', '449949.33%', '405956.74%', '445811.34%', '811033.31%', '333976.49%', '2426101.78%', '661397.37%', '293069.35%', '867219.43%', '1163866.93%', '684615.03%', '1172777.65%', '2264383.48%', '261447.43%', '245175.27%', '678127.02%', '497480.15%', '859160.49%', '559216.14%', '800947.28%', nan, '5816655.35%', '802522.94%', '578018.22%', '411853.91%', '252307.02%', '655421.64%', '538275.20%', '592672.94%', '268347.07%', '269518.24%', '604702.52%', '1317101.28%', '1595001.95%', '252765.38%', '267209.58%', '531329.40%', '2094619.25%', '837535.39%', '480166.15%', '574594.33%', '606611.60%', ...),\\n       (nan, '697953.59%', '1288743.17%', '764586.18%', '536307.65%', '825629.78%', '538089.86%', '721610.03%', '2412750.40%', '738817.81%', '473899.20%', '819719.71%', '879879.70%', '881901.89%', '538443.17%', '746313.94%', '256686.78%', '394524.16%', '571033.31%', '816261.71%', '287205.13%', '617710.93%', '2412750.40%', '245019.10%', '239210.79%', '580206.60%', '394637.21%', '916206.32%', '1290256.01%', '323536.05%', '245458.35%', '1897545.61%', '471532.13%', '473787.17%', '493291.63%', '574422.97%', '1389173.57%', '738097.67%', '309003.41%', '252163.31%', '265206.18%', '277104.50%', '393900.64%', '1223187.97%', '495165.61%', '1281910.29%', '446851.05%', '551434.40%', '334387.53%', '229447.89%', '3670742.64%', '3347334.95%', '798343.17%', '487938.48%', '429399.73%', '716439.55%', '761951.58%', '395800.28%', '449949.33%', '405956.74%', '445811.34%', '811033.31%', '333976.49%', '2426101.78%', '661397.37%', '293069.35%', '867219.43%', '1163866.93%', '684615.03%', '1172777.65%', '2264383.48%', '261447.43%', '245175.27%', '678127.02%', '497480.15%', '859160.49%', '559216.14%', '800947.28%', nan, '5816655.35%', '802522.94%', '578018.22%', '411853.91%', '252307.02%', '655421.64%', '538275.20%', '592672.94%', '268347.07%', '269518.24%', '604702.52%', '1317101.28%', '1595001.95%', '252765.38%', '267209.58%', '531329.40%', '2094619.25%', '837535.39%', '480166.15%', '574594.33%', '606611.60%', ...),\\n       (nan, '697953.59%', '1288743.17%', '764586.18%', '536307.65%', '825629.78%', '538089.86%', '721610.03%', '2412750.40%', '738817.81%', '473899.20%', '819719.71%', '879879.70%', '881901.89%', '538443.17%', '746313.94%', '256686.78%', '394524.16%', '571033.31%', '816261.71%', '287205.13%', '617710.93%', '2412750.40%', '245019.10%', '239210.79%', '580206.60%', '394637.21%', '916206.32%', '1290256.01%', '323536.05%', '245458.35%', '1897545.61%', '471532.13%', '473787.17%', '493291.63%', '574422.97%', '1389173.57%', '738097.67%', '309003.41%', '252163.31%', '265206.18%', '277104.50%', '393900.64%', '1223187.97%', '495165.61%', '1281910.29%', '446851.05%', '551434.40%', '334387.53%', '229447.89%', '3670742.64%', '3347334.95%', '798343.17%', '487938.48%', '429399.73%', '716439.55%', '761951.58%', '395800.28%', '449949.33%', '405956.74%', '445811.34%', '811033.31%', '333976.49%', '2426101.78%', '661397.37%', '293069.35%', '867219.43%', '1163866.93%', '684615.03%', '1172777.65%', '2264383.48%', '261447.43%', '245175.27%', '678127.02%', '497480.15%', '859160.49%', '559216.14%', '800947.28%', nan, '5816655.35%', '802522.94%', '578018.22%', '411853.91%', '252307.02%', '655421.64%', '538275.20%', '592672.94%', '268347.07%', '269518.24%', '604702.52%', '1317101.28%', '1595001.95%', '252765.38%', '267209.58%', '531329.40%', '2094619.25%', '837535.39%', '480166.15%', '574594.33%', '606611.60%', ...),\\n       (nan, '697953.59%', '1288743.17%', '764586.18%', '536307.65%', '825629.78%', '538089.86%', '721610.03%', '2412750.40%', '738817.81%', '473899.20%', '819719.71%', '879879.70%', '881901.89%', '538443.17%', '746313.94%', '256686.78%', '394524.16%', '571033.31%', '816261.71%', '287205.13%', '617710.93%', '2412750.40%', '245019.10%', '239210.79%', '580206.60%', '394637.21%', '916206.32%', '1290256.01%', '323536.05%', '245458.35%', '1897545.61%', '471532.13%', '473787.17%', '493291.63%', '574422.97%', '1389173.57%', '738097.67%', '309003.41%', '252163.31%', '265206.18%', '277104.50%', '393900.64%', '1223187.97%', '495165.61%', '1281910.29%', '446851.05%', '551434.40%', '334387.53%', '229447.89%', '3670742.64%', '3347334.95%', '798343.17%', '487938.48%', '429399.73%', '716439.55%', '761951.58%', '395800.28%', '449949.33%', '405956.74%', '445811.34%', '811033.31%', '333976.49%', '2426101.78%', '661397.37%', '293069.35%', '867219.43%', '1163866.93%', '684615.03%', '1172777.65%', '2264383.48%', '261447.43%', '245175.27%', '678127.02%', '497480.15%', '859160.49%', '559216.14%', '800947.28%', nan, '5816655.35%', '802522.94%', '578018.22%', '411853.91%', '252307.02%', '655421.64%', '538275.20%', '592672.94%', '268347.07%', '269518.24%', '604702.52%', '1317101.28%', '1595001.95%', '252765.38%', '267209.58%', '531329.40%', '2094619.25%', '837535.39%', '480166.15%', '574594.33%', '606611.60%', ...),\\n       (nan, '697953.59%', '1288743.17%', '764586.18%', '536307.65%', '825629.78%', '538089.86%', '721610.03%', '2412750.40%', '738817.81%', '473899.20%', '819719.71%', '879879.70%', '881901.89%', '538443.17%', '746313.94%', '256686.78%', '394524.16%', '571033.31%', '816261.71%', '287205.13%', '617710.93%', '2412750.40%', '245019.10%', '239210.79%', '580206.60%', '394637.21%', '916206.32%', '1290256.01%', '323536.05%', '245458.35%', '1897545.61%', '471532.13%', '473787.17%', '493291.63%', '574422.97%', '1389173.57%', '738097.67%', '309003.41%', '252163.31%', '265206.18%', '277104.50%', '393900.64%', '1223187.97%', '495165.61%', '1281910.29%', '446851.05%', '551434.40%', '334387.53%', '229447.89%', '3670742.64%', '3347334.95%', '798343.17%', '487938.48%', '429399.73%', '716439.55%', '761951.58%', '395800.28%', '449949.33%', '405956.74%', '445811.34%', '811033.31%', '333976.49%', '2426101.78%', '661397.37%', '293069.35%', '867219.43%', '1163866.93%', '684615.03%', '1172777.65%', '2264383.48%', '261447.43%', '245175.27%', '678127.02%', '497480.15%', '859160.49%', '559216.14%', '800947.28%', nan, '5816655.35%', '802522.94%', '578018.22%', '411853.91%', '252307.02%', '655421.64%', '538275.20%', '592672.94%', '268347.07%', '269518.24%', '604702.52%', '1317101.28%', '1595001.95%', '252765.38%', '267209.58%', '531329.40%', '2094619.25%', '837535.39%', '480166.15%', '574594.33%', '606611.60%', ...),\\n       (nan, '697953.59%', '1288743.17%', '764586.18%', '536307.65%', '825629.78%', '538089.86%', '721610.03%', '2412750.40%', '738817.81%', '473899.20%', '819719.71%', '879879.70%', '881901.89%', '538443.17%', '746313.94%', '256686.78%', '394524.16%', '571033.31%', '816261.71%', '287205.13%', '617710.93%', '2412750.40%', '245019.10%', '239210.79%', '580206.60%', '394637.21%', '916206.32%', '1290256.01%', '323536.05%', '245458.35%', '1897545.61%', '471532.13%', '473787.17%', '493291.63%', '574422.97%', '1389173.57%', '738097.67%', '309003.41%', '252163.31%', '265206.18%', '277104.50%', '393900.64%', '1223187.97%', '495165.61%', '1281910.29%', '446851.05%', '551434.40%', '334387.53%', '229447.89%', '3670742.64%', '3347334.95%', '798343.17%', '487938.48%', '429399.73%', '716439.55%', '761951.58%', '395800.28%', '449949.33%', '405956.74%', '445811.34%', '811033.31%', '333976.49%', '2426101.78%', '661397.37%', '293069.35%', '867219.43%', '1163866.93%', '684615.03%', '1172777.65%', '2264383.48%', '261447.43%', '245175.27%', '678127.02%', '497480.15%', '859160.49%', '559216.14%', '800947.28%', nan, '5816655.35%', '802522.94%', '578018.22%', '411853.91%', '252307.02%', '655421.64%', '538275.20%', '592672.94%', '268347.07%', '269518.24%', '604702.52%', '1317101.28%', '1595001.95%', '252765.38%', '267209.58%', '531329.40%', '2094619.25%', '837535.39%', '480166.15%', '574594.33%', '606611.60%', ...),\\n       (nan, '697953.59%', '1288743.17%', '764586.18%', '536307.65%', '825629.78%', '538089.86%', '721610.03%', '2412750.40%', '738817.81%', '473899.20%', '819719.71%', '879879.70%', '881901.89%', '538443.17%', '746313.94%', '256686.78%', '394524.16%', '571033.31%', '816261.71%', '287205.13%', '617710.93%', '2412750.40%', '245019.10%', '239210.79%', '580206.60%', '394637.21%', '916206.32%', '1290256.01%', '323536.05%', '245458.35%', '1897545.61%', '471532.13%', '473787.17%', '493291.63%', '574422.97%', '1389173.57%', '738097.67%', '309003.41%', '252163.31%', '265206.18%', '277104.50%', '393900.64%', '1223187.97%', '495165.61%', '1281910.29%', '446851.05%', '551434.40%', '334387.53%', '229447.89%', '3670742.64%', '3347334.95%', '798343.17%', '487938.48%', '429399.73%', '716439.55%', '761951.58%', '395800.28%', '449949.33%', '405956.74%', '445811.34%', '811033.31%', '333976.49%', '2426101.78%', '661397.37%', '293069.35%', '867219.43%', '1163866.93%', '684615.03%', '1172777.65%', '2264383.48%', '261447.43%', '245175.27%', '678127.02%', '497480.15%', '859160.49%', '559216.14%', '800947.28%', nan, '5816655.35%', '802522.94%', '578018.22%', '411853.91%', '252307.02%', '655421.64%', '538275.20%', '592672.94%', '268347.07%', '269518.24%', '604702.52%', '1317101.28%', '1595001.95%', '252765.38%', '267209.58%', '531329.40%', '2094619.25%', '837535.39%', '480166.15%', '574594.33%', '606611.60%', ...),\\n       (nan, '697953.59%', '1288743.17%', '764586.18%', '536307.65%', '825629.78%', '538089.86%', '721610.03%', '2412750.40%', '738817.81%', '473899.20%', '819719.71%', '879879.70%', '881901.89%', '538443.17%', '746313.94%', '256686.78%', '394524.16%', '571033.31%', '816261.71%', '287205.13%', '617710.93%', '2412750.40%', '245019.10%', '239210.79%', '580206.60%', '394637.21%', '916206.32%', '1290256.01%', '323536.05%', '245458.35%', '1897545.61%', '471532.13%', '473787.17%', '493291.63%', '574422.97%', '1389173.57%', '738097.67%', '309003.41%', '252163.31%', '265206.18%', '277104.50%', '393900.64%', '1223187.97%', '495165.61%', '1281910.29%', '446851.05%', '551434.40%', '334387.53%', '229447.89%', '3670742.64%', '3347334.95%', '798343.17%', '487938.48%', '429399.73%', '716439.55%', '761951.58%', '395800.28%', '449949.33%', '405956.74%', '445811.34%', '811033.31%', '333976.49%', '2426101.78%', '661397.37%', '293069.35%', '867219.43%', '1163866.93%', '684615.03%', '1172777.65%', '2264383.48%', '261447.43%', '245175.27%', '678127.02%', '497480.15%', '859160.49%', '559216.14%', '800947.28%', nan, '5816655.35%', '802522.94%', '578018.22%', '411853.91%', '252307.02%', '655421.64%', '538275.20%', '592672.94%', '268347.07%', '269518.24%', '604702.52%', '1317101.28%', '1595001.95%', '252765.38%', '267209.58%', '531329.40%', '2094619.25%', '837535.39%', '480166.15%', '574594.33%', '606611.60%', ...),\\n       (nan, '697953.59%', '1288743.17%', '764586.18%', '536307.65%', '825629.78%', '538089.86%', '721610.03%', '2412750.40%', '738817.81%', '473899.20%', '819719.71%', '879879.70%', '881901.89%', '538443.17%', '746313.94%', '256686.78%', '394524.16%', '571033.31%', '816261.71%', '287205.13%', '617710.93%', '2412750.40%', '245019.10%', '239210.79%', '580206.60%', '394637.21%', '916206.32%', '1290256.01%', '323536.05%', '245458.35%', '1897545.61%', '471532.13%', '473787.17%', '493291.63%', '574422.97%', '1389173.57%', '738097.67%', '309003.41%', '252163.31%', '265206.18%', '277104.50%', '393900.64%', '1223187.97%', '495165.61%', '1281910.29%', '446851.05%', '551434.40%', '334387.53%', '229447.89%', '3670742.64%', '3347334.95%', '798343.17%', '487938.48%', '429399.73%', '716439.55%', '761951.58%', '395800.28%', '449949.33%', '405956.74%', '445811.34%', '811033.31%', '333976.49%', '2426101.78%', '661397.37%', '293069.35%', '867219.43%', '1163866.93%', '684615.03%', '1172777.65%', '2264383.48%', '261447.43%', '245175.27%', '678127.02%', '497480.15%', '859160.49%', '559216.14%', '800947.28%', nan, '5816655.35%', '802522.94%', '578018.22%', '411853.91%', '252307.02%', '655421.64%', '538275.20%', '592672.94%', '268347.07%', '269518.24%', '604702.52%', '1317101.28%', '1595001.95%', '252765.38%', '267209.58%', '531329.40%', '2094619.25%', '837535.39%', '480166.15%', '574594.33%', '606611.60%', ...),\\n       (nan, '697953.59%', '1288743.17%', '764586.18%', '536307.65%', '825629.78%', '538089.86%', '721610.03%', '2412750.40%', '738817.81%', '473899.20%', '819719.71%', '879879.70%', '881901.89%', '538443.17%', '746313.94%', '256686.78%', '394524.16%', '571033.31%', '816261.71%', '287205.13%', '617710.93%', '2412750.40%', '245019.10%', '239210.79%', '580206.60%', '394637.21%', '916206.32%', '1290256.01%', '323536.05%', '245458.35%', '1897545.61%', '471532.13%', '473787.17%', '493291.63%', '574422.97%', '1389173.57%', '738097.67%', '309003.41%', '252163.31%', '265206.18%', '277104.50%', '393900.64%', '1223187.97%', '495165.61%', '1281910.29%', '446851.05%', '551434.40%', '334387.53%', '229447.89%', '3670742.64%', '3347334.95%', '798343.17%', '487938.48%', '429399.73%', '716439.55%', '761951.58%', '395800.28%', '449949.33%', '405956.74%', '445811.34%', '811033.31%', '333976.49%', '2426101.78%', '661397.37%', '293069.35%', '867219.43%', '1163866.93%', '684615.03%', '1172777.65%', '2264383.48%', '261447.43%', '245175.27%', '678127.02%', '497480.15%', '859160.49%', '559216.14%', '800947.28%', nan, '5816655.35%', '802522.94%', '578018.22%', '411853.91%', '252307.02%', '655421.64%', '538275.20%', '592672.94%', '268347.07%', '269518.24%', '604702.52%', '1317101.28%', '1595001.95%', '252765.38%', '267209.58%', '531329.40%', '2094619.25%', '837535.39%', '480166.15%', '574594.33%', '606611.60%', ...),\\n       (nan, '697953.59%', '1288743.17%', '764586.18%', '536307.65%', '825629.78%', '538089.86%', '721610.03%', '2412750.40%', '738817.81%', '473899.20%', '819719.71%', '879879.70%', '881901.89%', '538443.17%', '746313.94%', '256686.78%', '394524.16%', '571033.31%', '816261.71%', '287205.13%', '617710.93%', '2412750.40%', '245019.10%', '239210.79%', '580206.60%', '394637.21%', '916206.32%', '1290256.01%', '323536.05%', '245458.35%', '1897545.61%', '471532.13%', '473787.17%', '493291.63%', '574422.97%', '1389173.57%', '738097.67%', '309003.41%', '252163.31%', '265206.18%', '277104.50%', '393900.64%', '1223187.97%', '495165.61%', '1281910.29%', '446851.05%', '551434.40%', '334387.53%', '229447.89%', '3670742.64%', '3347334.95%', '798343.17%', '487938.48%', '429399.73%', '716439.55%', '761951.58%', '395800.28%', '449949.33%', '405956.74%', '445811.34%', '811033.31%', '333976.49%', '2426101.78%', '661397.37%', '293069.35%', '867219.43%', '1163866.93%', '684615.03%', '1172777.65%', '2264383.48%', '261447.43%', '245175.27%', '678127.02%', '497480.15%', '859160.49%', '559216.14%', '800947.28%', nan, '5816655.35%', '802522.94%', '578018.22%', '411853.91%', '252307.02%', '655421.64%', '538275.20%', '592672.94%', '268347.07%', '269518.24%', '604702.52%', '1317101.28%', '1595001.95%', '252765.38%', '267209.58%', '531329.40%', '2094619.25%', '837535.39%', '480166.15%', '574594.33%', '606611.60%', ...),\\n       (nan, '697953.59%', '1288743.17%', '764586.18%', '536307.65%', '825629.78%', '538089.86%', '721610.03%', '2412750.40%', '738817.81%', '473899.20%', '819719.71%', '879879.70%', '881901.89%', '538443.17%', '746313.94%', '256686.78%', '394524.16%', '571033.31%', '816261.71%', '287205.13%', '617710.93%', '2412750.40%', '245019.10%', '239210.79%', '580206.60%', '394637.21%', '916206.32%', '1290256.01%', '323536.05%', '245458.35%', '1897545.61%', '471532.13%', '473787.17%', '493291.63%', '574422.97%', '1389173.57%', '738097.67%', '309003.41%', '252163.31%', '265206.18%', '277104.50%', '393900.64%', '1223187.97%', '495165.61%', '1281910.29%', '446851.05%', '551434.40%', '334387.53%', '229447.89%', '3670742.64%', '3347334.95%', '798343.17%', '487938.48%', '429399.73%', '716439.55%', '761951.58%', '395800.28%', '449949.33%', '405956.74%', '445811.34%', '811033.31%', '333976.49%', '2426101.78%', '661397.37%', '293069.35%', '867219.43%', '1163866.93%', '684615.03%', '1172777.65%', '2264383.48%', '261447.43%', '245175.27%', '678127.02%', '497480.15%', '859160.49%', '559216.14%', '800947.28%', nan, '5816655.35%', '802522.94%', '578018.22%', '411853.91%', '252307.02%', '655421.64%', '538275.20%', '592672.94%', '268347.07%', '269518.24%', '604702.52%', '1317101.28%', '1595001.95%', '252765.38%', '267209.58%', '531329.40%', '2094619.25%', '837535.39%', '480166.15%', '574594.33%', '606611.60%', ...),\\n       (nan, '697953.59%', '1288743.17%', '764586.18%', '536307.65%', '825629.78%', '538089.86%', '721610.03%', '2412750.40%', '738817.81%', '473899.20%', '819719.71%', '879879.70%', '881901.89%', '538443.17%', '746313.94%', '256686.78%', '394524.16%', '571033.31%', '816261.71%', '287205.13%', '617710.93%', '2412750.40%', '245019.10%', '239210.79%', '580206.60%', '394637.21%', '916206.32%', '1290256.01%', '323536.05%', '245458.35%', '1897545.61%', '471532.13%', '473787.17%', '493291.63%', '574422.97%', '1389173.57%', '738097.67%', '309003.41%', '252163.31%', '265206.18%', '277104.50%', '393900.64%', '1223187.97%', '495165.61%', '1281910.29%', '446851.05%', '551434.40%', '334387.53%', '229447.89%', '3670742.64%', '3347334.95%', '798343.17%', '487938.48%', '429399.73%', '716439.55%', '761951.58%', '395800.28%', '449949.33%', '405956.74%', '445811.34%', '811033.31%', '333976.49%', '2426101.78%', '661397.37%', '293069.35%', '867219.43%', '1163866.93%', '684615.03%', '1172777.65%', '2264383.48%', '261447.43%', '245175.27%', '678127.02%', '497480.15%', '859160.49%', '559216.14%', '800947.28%', nan, '5816655.35%', '802522.94%', '578018.22%', '411853.91%', '252307.02%', '655421.64%', '538275.20%', '592672.94%', '268347.07%', '269518.24%', '604702.52%', '1317101.28%', '1595001.95%', '252765.38%', '267209.58%', '531329.40%', '2094619.25%', '837535.39%', '480166.15%', '574594.33%', '606611.60%', ...),\\n       (nan, '697953.59%', '1288743.17%', '764586.18%', '536307.65%', '825629.78%', '538089.86%', '721610.03%', '2412750.40%', '738817.81%', '473899.20%', '819719.71%', '879879.70%', '881901.89%', '538443.17%', '746313.94%', '256686.78%', '394524.16%', '571033.31%', '816261.71%', '287205.13%', '617710.93%', '2412750.40%', '245019.10%', '239210.79%', '580206.60%', '394637.21%', '916206.32%', '1290256.01%', '323536.05%', '245458.35%', '1897545.61%', '471532.13%', '473787.17%', '493291.63%', '574422.97%', '1389173.57%', '738097.67%', '309003.41%', '252163.31%', '265206.18%', '277104.50%', '393900.64%', '1223187.97%', '495165.61%', '1281910.29%', '446851.05%', '551434.40%', '334387.53%', '229447.89%', '3670742.64%', '3347334.95%', '798343.17%', '487938.48%', '429399.73%', '716439.55%', '761951.58%', '395800.28%', '449949.33%', '405956.74%', '445811.34%', '811033.31%', '333976.49%', '2426101.78%', '661397.37%', '293069.35%', '867219.43%', '1163866.93%', '684615.03%', '1172777.65%', '2264383.48%', '261447.43%', '245175.27%', '678127.02%', '497480.15%', '859160.49%', '559216.14%', '800947.28%', nan, '5816655.35%', '802522.94%', '578018.22%', '411853.91%', '252307.02%', '655421.64%', '538275.20%', '592672.94%', '268347.07%', '269518.24%', '604702.52%', '1317101.28%', '1595001.95%', '252765.38%', '267209.58%', '531329.40%', '2094619.25%', '837535.39%', '480166.15%', '574594.33%', '606611.60%', ...),\\n       (nan, '697953.59%', '1288743.17%', '764586.18%', '536307.65%', '825629.78%', '538089.86%', '721610.03%', '2412750.40%', '738817.81%', '473899.20%', '819719.71%', '879879.70%', '881901.89%', '538443.17%', '746313.94%', '256686.78%', '394524.16%', '571033.31%', '816261.71%', '287205.13%', '617710.93%', '2412750.40%', '245019.10%', '239210.79%', '580206.60%', '394637.21%', '916206.32%', '1290256.01%', '323536.05%', '245458.35%', '1897545.61%', '471532.13%', '473787.17%', '493291.63%', '574422.97%', '1389173.57%', '738097.67%', '309003.41%', '252163.31%', '265206.18%', '277104.50%', '393900.64%', '1223187.97%', '495165.61%', '1281910.29%', '446851.05%', '551434.40%', '334387.53%', '229447.89%', '3670742.64%', '3347334.95%', '798343.17%', '487938.48%', '429399.73%', '716439.55%', '761951.58%', '395800.28%', '449949.33%', '405956.74%', '445811.34%', '811033.31%', '333976.49%', '2426101.78%', '661397.37%', '293069.35%', '867219.43%', '1163866.93%', '684615.03%', '1172777.65%', '2264383.48%', '261447.43%', '245175.27%', '678127.02%', '497480.15%', '859160.49%', '559216.14%', '800947.28%', nan, '5816655.35%', '802522.94%', '578018.22%', '411853.91%', '252307.02%', '655421.64%', '538275.20%', '592672.94%', '268347.07%', '269518.24%', '604702.52%', '1317101.28%', '1595001.95%', '252765.38%', '267209.58%', '531329.40%', '2094619.25%', '837535.39%', '480166.15%', '574594.33%', '606611.60%', ...),\\n       (nan, '697953.59%', '1288743.17%', '764586.18%', '536307.65%', '825629.78%', '538089.86%', '721610.03%', '2412750.40%', '738817.81%', '473899.20%', '819719.71%', '879879.70%', '881901.89%', '538443.17%', '746313.94%', '256686.78%', '394524.16%', '571033.31%', '816261.71%', '287205.13%', '617710.93%', '2412750.40%', '245019.10%', '239210.79%', '580206.60%', '394637.21%', '916206.32%', '1290256.01%', '323536.05%', '245458.35%', '1897545.61%', '471532.13%', '473787.17%', '493291.63%', '574422.97%', '1389173.57%', '738097.67%', '309003.41%', '252163.31%', '265206.18%', '277104.50%', '393900.64%', '1223187.97%', '495165.61%', '1281910.29%', '446851.05%', '551434.40%', '334387.53%', '229447.89%', '3670742.64%', '3347334.95%', '798343.17%', '487938.48%', '429399.73%', '716439.55%', '761951.58%', '395800.28%', '449949.33%', '405956.74%', '445811.34%', '811033.31%', '333976.49%', '2426101.78%', '661397.37%', '293069.35%', '867219.43%', '1163866.93%', '684615.03%', '1172777.65%', '2264383.48%', '261447.43%', '245175.27%', '678127.02%', '497480.15%', '859160.49%', '559216.14%', '800947.28%', nan, '5816655.35%', '802522.94%', '578018.22%', '411853.91%', '252307.02%', '655421.64%', '538275.20%', '592672.94%', '268347.07%', '269518.24%', '604702.52%', '1317101.28%', '1595001.95%', '252765.38%', '267209.58%', '531329.40%', '2094619.25%', '837535.39%', '480166.15%', '574594.33%', '606611.60%', ...),\\n       (nan, '697953.59%', '1288743.17%', '764586.18%', '536307.65%', '825629.78%', '538089.86%', '721610.03%', '2412750.40%', '738817.81%', '473899.20%', '819719.71%', '879879.70%', '881901.89%', '538443.17%', '746313.94%', '256686.78%', '394524.16%', '571033.31%', '816261.71%', '287205.13%', '617710.93%', '2412750.40%', '245019.10%', '239210.79%', '580206.60%', '394637.21%', '916206.32%', '1290256.01%', '323536.05%', '245458.35%', '1897545.61%', '471532.13%', '473787.17%', '493291.63%', '574422.97%', '1389173.57%', '738097.67%', '309003.41%', '252163.31%', '265206.18%', '277104.50%', '393900.64%', '1223187.97%', '495165.61%', '1281910.29%', '446851.05%', '551434.40%', '334387.53%', '229447.89%', '3670742.64%', '3347334.95%', '798343.17%', '487938.48%', '429399.73%', '716439.55%', '761951.58%', '395800.28%', '449949.33%', '405956.74%', '445811.34%', '811033.31%', '333976.49%', '2426101.78%', '661397.37%', '293069.35%', '867219.43%', '1163866.93%', '684615.03%', '1172777.65%', '2264383.48%', '261447.43%', '245175.27%', '678127.02%', '497480.15%', '859160.49%', '559216.14%', '800947.28%', nan, '5816655.35%', '802522.94%', '578018.22%', '411853.91%', '252307.02%', '655421.64%', '538275.20%', '592672.94%', '268347.07%', '269518.24%', '604702.52%', '1317101.28%', '1595001.95%', '252765.38%', '267209.58%', '531329.40%', '2094619.25%', '837535.39%', '480166.15%', '574594.33%', '606611.60%', ...),\\n       (nan, '697953.59%', '1288743.17%', '764586.18%', '536307.65%', '825629.78%', '538089.86%', '721610.03%', '2412750.40%', '738817.81%', '473899.20%', '819719.71%', '879879.70%', '881901.89%', '538443.17%', '746313.94%', '256686.78%', '394524.16%', '571033.31%', '816261.71%', '287205.13%', '617710.93%', '2412750.40%', '245019.10%', '239210.79%', '580206.60%', '394637.21%', '916206.32%', '1290256.01%', '323536.05%', '245458.35%', '1897545.61%', '471532.13%', '473787.17%', '493291.63%', '574422.97%', '1389173.57%', '738097.67%', '309003.41%', '252163.31%', '265206.18%', '277104.50%', '393900.64%', '1223187.97%', '495165.61%', '1281910.29%', '446851.05%', '551434.40%', '334387.53%', '229447.89%', '3670742.64%', '3347334.95%', '798343.17%', '487938.48%', '429399.73%', '716439.55%', '761951.58%', '395800.28%', '449949.33%', '405956.74%', '445811.34%', '811033.31%', '333976.49%', '2426101.78%', '661397.37%', '293069.35%', '867219.43%', '1163866.93%', '684615.03%', '1172777.65%', '2264383.48%', '261447.43%', '245175.27%', '678127.02%', '497480.15%', '859160.49%', '559216.14%', '800947.28%', nan, '5816655.35%', '802522.94%', '578018.22%', '411853.91%', '252307.02%', '655421.64%', '538275.20%', '592672.94%', '268347.07%', '269518.24%', '604702.52%', '1317101.28%', '1595001.95%', '252765.38%', '267209.58%', '531329.40%', '2094619.25%', '837535.39%', '480166.15%', '574594.33%', '606611.60%', ...),\\n       (nan, '697953.59%', '1288743.17%', '764586.18%', '536307.65%', '825629.78%', '538089.86%', '721610.03%', '2412750.40%', '738817.81%', '473899.20%', '819719.71%', '879879.70%', '881901.89%', '538443.17%', '746313.94%', '256686.78%', '394524.16%', '571033.31%', '816261.71%', '287205.13%', '617710.93%', '2412750.40%', '245019.10%', '239210.79%', '580206.60%', '394637.21%', '916206.32%', '1290256.01%', '323536.05%', '245458.35%', '1897545.61%', '471532.13%', '473787.17%', '493291.63%', '574422.97%', '1389173.57%', '738097.67%', '309003.41%', '252163.31%', '265206.18%', '277104.50%', '393900.64%', '1223187.97%', '495165.61%', '1281910.29%', '446851.05%', '551434.40%', '334387.53%', '229447.89%', '3670742.64%', '3347334.95%', '798343.17%', '487938.48%', '429399.73%', '716439.55%', '761951.58%', '395800.28%', '449949.33%', '405956.74%', '445811.34%', '811033.31%', '333976.49%', '2426101.78%', '661397.37%', '293069.35%', '867219.43%', '1163866.93%', '684615.03%', '1172777.65%', '2264383.48%', '261447.43%', '245175.27%', '678127.02%', '497480.15%', '859160.49%', '559216.14%', '800947.28%', nan, '5816655.35%', '802522.94%', '578018.22%', '411853.91%', '252307.02%', '655421.64%', '538275.20%', '592672.94%', '268347.07%', '269518.24%', '604702.52%', '1317101.28%', '1595001.95%', '252765.38%', '267209.58%', '531329.40%', '2094619.25%', '837535.39%', '480166.15%', '574594.33%', '606611.60%', ...),\\n       (nan, '697953.59%', '1288743.17%', '764586.18%', '536307.65%', '825629.78%', '538089.86%', '721610.03%', '2412750.40%', '738817.81%', '473899.20%', '819719.71%', '879879.70%', '881901.89%', '538443.17%', '746313.94%', '256686.78%', '394524.16%', '571033.31%', '816261.71%', '287205.13%', '617710.93%', '2412750.40%', '245019.10%', '239210.79%', '580206.60%', '394637.21%', '916206.32%', '1290256.01%', '323536.05%', '245458.35%', '1897545.61%', '471532.13%', '473787.17%', '493291.63%', '574422.97%', '1389173.57%', '738097.67%', '309003.41%', '252163.31%', '265206.18%', '277104.50%', '393900.64%', '1223187.97%', '495165.61%', '1281910.29%', '446851.05%', '551434.40%', '334387.53%', '229447.89%', '3670742.64%', '3347334.95%', '798343.17%', '487938.48%', '429399.73%', '716439.55%', '761951.58%', '395800.28%', '449949.33%', '405956.74%', '445811.34%', '811033.31%', '333976.49%', '2426101.78%', '661397.37%', '293069.35%', '867219.43%', '1163866.93%', '684615.03%', '1172777.65%', '2264383.48%', '261447.43%', '245175.27%', '678127.02%', '497480.15%', '859160.49%', '559216.14%', '800947.28%', nan, '5816655.35%', '802522.94%', '578018.22%', '411853.91%', '252307.02%', '655421.64%', '538275.20%', '592672.94%', '268347.07%', '269518.24%', '604702.52%', '1317101.28%', '1595001.95%', '252765.38%', '267209.58%', '531329.40%', '2094619.25%', '837535.39%', '480166.15%', '574594.33%', '606611.60%', ...),\\n       (nan, '697953.59%', '1288743.17%', '764586.18%', '536307.65%', '825629.78%', '538089.86%', '721610.03%', '2412750.40%', '738817.81%', '473899.20%', '819719.71%', '879879.70%', '881901.89%', '538443.17%', '746313.94%', '256686.78%', '394524.16%', '571033.31%', '816261.71%', '287205.13%', '617710.93%', '2412750.40%', '245019.10%', '239210.79%', '580206.60%', '394637.21%', '916206.32%', '1290256.01%', '323536.05%', '245458.35%', '1897545.61%', '471532.13%', '473787.17%', '493291.63%', '574422.97%', '1389173.57%', '738097.67%', '309003.41%', '252163.31%', '265206.18%', '277104.50%', '393900.64%', '1223187.97%', '495165.61%', '1281910.29%', '446851.05%', '551434.40%', '334387.53%', '229447.89%', '3670742.64%', '3347334.95%', '798343.17%', '487938.48%', '429399.73%', '716439.55%', '761951.58%', '395800.28%', '449949.33%', '405956.74%', '445811.34%', '811033.31%', '333976.49%', '2426101.78%', '661397.37%', '293069.35%', '867219.43%', '1163866.93%', '684615.03%', '1172777.65%', '2264383.48%', '261447.43%', '245175.27%', '678127.02%', '497480.15%', '859160.49%', '559216.14%', '800947.28%', nan, '5816655.35%', '802522.94%', '578018.22%', '411853.91%', '252307.02%', '655421.64%', '538275.20%', '592672.94%', '268347.07%', '269518.24%', '604702.52%', '1317101.28%', '1595001.95%', '252765.38%', '267209.58%', '531329.40%', '2094619.25%', '837535.39%', '480166.15%', '574594.33%', '606611.60%', ...),\\n       (nan, '697953.59%', '1288743.17%', '764586.18%', '536307.65%', '825629.78%', '538089.86%', '721610.03%', '2412750.40%', '738817.81%', '473899.20%', '819719.71%', '879879.70%', '881901.89%', '538443.17%', '746313.94%', '256686.78%', '394524.16%', '571033.31%', '816261.71%', '287205.13%', '617710.93%', '2412750.40%', '245019.10%', '239210.79%', '580206.60%', '394637.21%', '916206.32%', '1290256.01%', '323536.05%', '245458.35%', '1897545.61%', '471532.13%', '473787.17%', '493291.63%', '574422.97%', '1389173.57%', '738097.67%', '309003.41%', '252163.31%', '265206.18%', '277104.50%', '393900.64%', '1223187.97%', '495165.61%', '1281910.29%', '446851.05%', '551434.40%', '334387.53%', '229447.89%', '3670742.64%', '3347334.95%', '798343.17%', '487938.48%', '429399.73%', '716439.55%', '761951.58%', '395800.28%', '449949.33%', '405956.74%', '445811.34%', '811033.31%', '333976.49%', '2426101.78%', '661397.37%', '293069.35%', '867219.43%', '1163866.93%', '684615.03%', '1172777.65%', '2264383.48%', '261447.43%', '245175.27%', '678127.02%', '497480.15%', '859160.49%', '559216.14%', '800947.28%', nan, '5816655.35%', '802522.94%', '578018.22%', '411853.91%', '252307.02%', '655421.64%', '538275.20%', '592672.94%', '268347.07%', '269518.24%', '604702.52%', '1317101.28%', '1595001.95%', '252765.38%', '267209.58%', '531329.40%', '2094619.25%', '837535.39%', '480166.15%', '574594.33%', '606611.60%', ...),\\n       (nan, '697953.59%', '1288743.17%', '764586.18%', '536307.65%', '825629.78%', '538089.86%', '721610.03%', '2412750.40%', '738817.81%', '473899.20%', '819719.71%', '879879.70%', '881901.89%', '538443.17%', '746313.94%', '256686.78%', '394524.16%', '571033.31%', '816261.71%', '287205.13%', '617710.93%', '2412750.40%', '245019.10%', '239210.79%', '580206.60%', '394637.21%', '916206.32%', '1290256.01%', '323536.05%', '245458.35%', '1897545.61%', '471532.13%', '473787.17%', '493291.63%', '574422.97%', '1389173.57%', '738097.67%', '309003.41%', '252163.31%', '265206.18%', '277104.50%', '393900.64%', '1223187.97%', '495165.61%', '1281910.29%', '446851.05%', '551434.40%', '334387.53%', '229447.89%', '3670742.64%', '3347334.95%', '798343.17%', '487938.48%', '429399.73%', '716439.55%', '761951.58%', '395800.28%', '449949.33%', '405956.74%', '445811.34%', '811033.31%', '333976.49%', '2426101.78%', '661397.37%', '293069.35%', '867219.43%', '1163866.93%', '684615.03%', '1172777.65%', '2264383.48%', '261447.43%', '245175.27%', '678127.02%', '497480.15%', '859160.49%', '559216.14%', '800947.28%', nan, '5816655.35%', '802522.94%', '578018.22%', '411853.91%', '252307.02%', '655421.64%', '538275.20%', '592672.94%', '268347.07%', '269518.24%', '604702.52%', '1317101.28%', '1595001.95%', '252765.38%', '267209.58%', '531329.40%', '2094619.25%', '837535.39%', '480166.15%', '574594.33%', '606611.60%', ...),\\n       (nan, '697953.59%', '1288743.17%', '764586.18%', '536307.65%', '825629.78%', '538089.86%', '721610.03%', '2412750.40%', '738817.81%', '473899.20%', '819719.71%', '879879.70%', '881901.89%', '538443.17%', '746313.94%', '256686.78%', '394524.16%', '571033.31%', '816261.71%', '287205.13%', '617710.93%', '2412750.40%', '245019.10%', '239210.79%', '580206.60%', '394637.21%', '916206.32%', '1290256.01%', '323536.05%', '245458.35%', '1897545.61%', '471532.13%', '473787.17%', '493291.63%', '574422.97%', '1389173.57%', '738097.67%', '309003.41%', '252163.31%', '265206.18%', '277104.50%', '393900.64%', '1223187.97%', '495165.61%', '1281910.29%', '446851.05%', '551434.40%', '334387.53%', '229447.89%', '3670742.64%', '3347334.95%', '798343.17%', '487938.48%', '429399.73%', '716439.55%', '761951.58%', '395800.28%', '449949.33%', '405956.74%', '445811.34%', '811033.31%', '333976.49%', '2426101.78%', '661397.37%', '293069.35%', '867219.43%', '1163866.93%', '684615.03%', '1172777.65%', '2264383.48%', '261447.43%', '245175.27%', '678127.02%', '497480.15%', '859160.49%', '559216.14%', '800947.28%', nan, '5816655.35%', '802522.94%', '578018.22%', '411853.91%', '252307.02%', '655421.64%', '538275.20%', '592672.94%', '268347.07%', '269518.24%', '604702.52%', '1317101.28%', '1595001.95%', '252765.38%', '267209.58%', '531329.40%', '2094619.25%', '837535.39%', '480166.15%', '574594.33%', '606611.60%', ...),\\n       (nan, '697953.59%', '1288743.17%', '764586.18%', '536307.65%', '825629.78%', '538089.86%', '721610.03%', '2412750.40%', '738817.81%', '473899.20%', '819719.71%', '879879.70%', '881901.89%', '538443.17%', '746313.94%', '256686.78%', '394524.16%', '571033.31%', '816261.71%', '287205.13%', '617710.93%', '2412750.40%', '245019.10%', '239210.79%', '580206.60%', '394637.21%', '916206.32%', '1290256.01%', '323536.05%', '245458.35%', '1897545.61%', '471532.13%', '473787.17%', '493291.63%', '574422.97%', '1389173.57%', '738097.67%', '309003.41%', '252163.31%', '265206.18%', '277104.50%', '393900.64%', '1223187.97%', '495165.61%', '1281910.29%', '446851.05%', '551434.40%', '334387.53%', '229447.89%', '3670742.64%', '3347334.95%', '798343.17%', '487938.48%', '429399.73%', '716439.55%', '761951.58%', '395800.28%', '449949.33%', '405956.74%', '445811.34%', '811033.31%', '333976.49%', '2426101.78%', '661397.37%', '293069.35%', '867219.43%', '1163866.93%', '684615.03%', '1172777.65%', '2264383.48%', '261447.43%', '245175.27%', '678127.02%', '497480.15%', '859160.49%', '559216.14%', '800947.28%', nan, '5816655.35%', '802522.94%', '578018.22%', '411853.91%', '252307.02%', '655421.64%', '538275.20%', '592672.94%', '268347.07%', '269518.24%', '604702.52%', '1317101.28%', '1595001.95%', '252765.38%', '267209.58%', '531329.40%', '2094619.25%', '837535.39%', '480166.15%', '574594.33%', '606611.60%', ...),\\n       (nan, '697953.59%', '1288743.17%', '764586.18%', '536307.65%', '825629.78%', '538089.86%', '721610.03%', '2412750.40%', '738817.81%', '473899.20%', '819719.71%', '879879.70%', '881901.89%', '538443.17%', '746313.94%', '256686.78%', '394524.16%', '571033.31%', '816261.71%', '287205.13%', '617710.93%', '2412750.40%', '245019.10%', '239210.79%', '580206.60%', '394637.21%', '916206.32%', '1290256.01%', '323536.05%', '245458.35%', '1897545.61%', '471532.13%', '473787.17%', '493291.63%', '574422.97%', '1389173.57%', '738097.67%', '309003.41%', '252163.31%', '265206.18%', '277104.50%', '393900.64%', '1223187.97%', '495165.61%', '1281910.29%', '446851.05%', '551434.40%', '334387.53%', '229447.89%', '3670742.64%', '3347334.95%', '798343.17%', '487938.48%', '429399.73%', '716439.55%', '761951.58%', '395800.28%', '449949.33%', '405956.74%', '445811.34%', '811033.31%', '333976.49%', '2426101.78%', '661397.37%', '293069.35%', '867219.43%', '1163866.93%', '684615.03%', '1172777.65%', '2264383.48%', '261447.43%', '245175.27%', '678127.02%', '497480.15%', '859160.49%', '559216.14%', '800947.28%', nan, '5816655.35%', '802522.94%', '578018.22%', '411853.91%', '252307.02%', '655421.64%', '538275.20%', '592672.94%', '268347.07%', '269518.24%', '604702.52%', '1317101.28%', '1595001.95%', '252765.38%', '267209.58%', '531329.40%', '2094619.25%', '837535.39%', '480166.15%', '574594.33%', '606611.60%', ...),\\n       (nan, '697953.59%', '1288743.17%', '764586.18%', '536307.65%', '825629.78%', '538089.86%', '721610.03%', '2412750.40%', '738817.81%', '473899.20%', '819719.71%', '879879.70%', '881901.89%', '538443.17%', '746313.94%', '256686.78%', '394524.16%', '571033.31%', '816261.71%', '287205.13%', '617710.93%', '2412750.40%', '245019.10%', '239210.79%', '580206.60%', '394637.21%', '916206.32%', '1290256.01%', '323536.05%', '245458.35%', '1897545.61%', '471532.13%', '473787.17%', '493291.63%', '574422.97%', '1389173.57%', '738097.67%', '309003.41%', '252163.31%', '265206.18%', '277104.50%', '393900.64%', '1223187.97%', '495165.61%', '1281910.29%', '446851.05%', '551434.40%', '334387.53%', '229447.89%', '3670742.64%', '3347334.95%', '798343.17%', '487938.48%', '429399.73%', '716439.55%', '761951.58%', '395800.28%', '449949.33%', '405956.74%', '445811.34%', '811033.31%', '333976.49%', '2426101.78%', '661397.37%', '293069.35%', '867219.43%', '1163866.93%', '684615.03%', '1172777.65%', '2264383.48%', '261447.43%', '245175.27%', '678127.02%', '497480.15%', '859160.49%', '559216.14%', '800947.28%', nan, '5816655.35%', '802522.94%', '578018.22%', '411853.91%', '252307.02%', '655421.64%', '538275.20%', '592672.94%', '268347.07%', '269518.24%', '604702.52%', '1317101.28%', '1595001.95%', '252765.38%', '267209.58%', '531329.40%', '2094619.25%', '837535.39%', '480166.15%', '574594.33%', '606611.60%', ...),\\n       (nan, '697953.59%', '1288743.17%', '764586.18%', '536307.65%', '825629.78%', '538089.86%', '721610.03%', '2412750.40%', '738817.81%', '473899.20%', '819719.71%', '879879.70%', '881901.89%', '538443.17%', '746313.94%', '256686.78%', '394524.16%', '571033.31%', '816261.71%', '287205.13%', '617710.93%', '2412750.40%', '245019.10%', '239210.79%', '580206.60%', '394637.21%', '916206.32%', '1290256.01%', '323536.05%', '245458.35%', '1897545.61%', '471532.13%', '473787.17%', '493291.63%', '574422.97%', '1389173.57%', '738097.67%', '309003.41%', '252163.31%', '265206.18%', '277104.50%', '393900.64%', '1223187.97%', '495165.61%', '1281910.29%', '446851.05%', '551434.40%', '334387.53%', '229447.89%', '3670742.64%', '3347334.95%', '798343.17%', '487938.48%', '429399.73%', '716439.55%', '761951.58%', '395800.28%', '449949.33%', '405956.74%', '445811.34%', '811033.31%', '333976.49%', '2426101.78%', '661397.37%', '293069.35%', '867219.43%', '1163866.93%', '684615.03%', '1172777.65%', '2264383.48%', '261447.43%', '245175.27%', '678127.02%', '497480.15%', '859160.49%', '559216.14%', '800947.28%', nan, '5816655.35%', '802522.94%', '578018.22%', '411853.91%', '252307.02%', '655421.64%', '538275.20%', '592672.94%', '268347.07%', '269518.24%', '604702.52%', '1317101.28%', '1595001.95%', '252765.38%', '267209.58%', '531329.40%', '2094619.25%', '837535.39%', '480166.15%', '574594.33%', '606611.60%', ...),\\n       (nan, '697953.59%', '1288743.17%', '764586.18%', '536307.65%', '825629.78%', '538089.86%', '721610.03%', '2412750.40%', '738817.81%', '473899.20%', '819719.71%', '879879.70%', '881901.89%', '538443.17%', '746313.94%', '256686.78%', '394524.16%', '571033.31%', '816261.71%', '287205.13%', '617710.93%', '2412750.40%', '245019.10%', '239210.79%', '580206.60%', '394637.21%', '916206.32%', '1290256.01%', '323536.05%', '245458.35%', '1897545.61%', '471532.13%', '473787.17%', '493291.63%', '574422.97%', '1389173.57%', '738097.67%', '309003.41%', '252163.31%', '265206.18%', '277104.50%', '393900.64%', '1223187.97%', '495165.61%', '1281910.29%', '446851.05%', '551434.40%', '334387.53%', '229447.89%', '3670742.64%', '3347334.95%', '798343.17%', '487938.48%', '429399.73%', '716439.55%', '761951.58%', '395800.28%', '449949.33%', '405956.74%', '445811.34%', '811033.31%', '333976.49%', '2426101.78%', '661397.37%', '293069.35%', '867219.43%', '1163866.93%', '684615.03%', '1172777.65%', '2264383.48%', '261447.43%', '245175.27%', '678127.02%', '497480.15%', '859160.49%', '559216.14%', '800947.28%', nan, '5816655.35%', '802522.94%', '578018.22%', '411853.91%', '252307.02%', '655421.64%', '538275.20%', '592672.94%', '268347.07%', '269518.24%', '604702.52%', '1317101.28%', '1595001.95%', '252765.38%', '267209.58%', '531329.40%', '2094619.25%', '837535.39%', '480166.15%', '574594.33%', '606611.60%', ...),\\n       (nan, '697953.59%', '1288743.17%', '764586.18%', '536307.65%', '825629.78%', '538089.86%', '721610.03%', '2412750.40%', '738817.81%', '473899.20%', '819719.71%', '879879.70%', '881901.89%', '538443.17%', '746313.94%', '256686.78%', '394524.16%', '571033.31%', '816261.71%', '287205.13%', '617710.93%', '2412750.40%', '245019.10%', '239210.79%', '580206.60%', '394637.21%', '916206.32%', '1290256.01%', '323536.05%', '245458.35%', '1897545.61%', '471532.13%', '473787.17%', '493291.63%', '574422.97%', '1389173.57%', '738097.67%', '309003.41%', '252163.31%', '265206.18%', '277104.50%', '393900.64%', '1223187.97%', '495165.61%', '1281910.29%', '446851.05%', '551434.40%', '334387.53%', '229447.89%', '3670742.64%', '3347334.95%', '798343.17%', '487938.48%', '429399.73%', '716439.55%', '761951.58%', '395800.28%', '449949.33%', '405956.74%', '445811.34%', '811033.31%', '333976.49%', '2426101.78%', '661397.37%', '293069.35%', '867219.43%', '1163866.93%', '684615.03%', '1172777.65%', '2264383.48%', '261447.43%', '245175.27%', '678127.02%', '497480.15%', '859160.49%', '559216.14%', '800947.28%', nan, '5816655.35%', '802522.94%', '578018.22%', '411853.91%', '252307.02%', '655421.64%', '538275.20%', '592672.94%', '268347.07%', '269518.24%', '604702.52%', '1317101.28%', '1595001.95%', '252765.38%', '267209.58%', '531329.40%', '2094619.25%', '837535.39%', '480166.15%', '574594.33%', '606611.60%', ...),\\n       (nan, '697953.59%', '1288743.17%', '764586.18%', '536307.65%', '825629.78%', '538089.86%', '721610.03%', '2412750.40%', '738817.81%', '473899.20%', '819719.71%', '879879.70%', '881901.89%', '538443.17%', '746313.94%', '256686.78%', '394524.16%', '571033.31%', '816261.71%', '287205.13%', '617710.93%', '2412750.40%', '245019.10%', '239210.79%', '580206.60%', '394637.21%', '916206.32%', '1290256.01%', '323536.05%', '245458.35%', '1897545.61%', '471532.13%', '473787.17%', '493291.63%', '574422.97%', '1389173.57%', '738097.67%', '309003.41%', '252163.31%', '265206.18%', '277104.50%', '393900.64%', '1223187.97%', '495165.61%', '1281910.29%', '446851.05%', '551434.40%', '334387.53%', '229447.89%', '3670742.64%', '3347334.95%', '798343.17%', '487938.48%', '429399.73%', '716439.55%', '761951.58%', '395800.28%', '449949.33%', '405956.74%', '445811.34%', '811033.31%', '333976.49%', '2426101.78%', '661397.37%', '293069.35%', '867219.43%', '1163866.93%', '684615.03%', '1172777.65%', '2264383.48%', '261447.43%', '245175.27%', '678127.02%', '497480.15%', '859160.49%', '559216.14%', '800947.28%', nan, '5816655.35%', '802522.94%', '578018.22%', '411853.91%', '252307.02%', '655421.64%', '538275.20%', '592672.94%', '268347.07%', '269518.24%', '604702.52%', '1317101.28%', '1595001.95%', '252765.38%', '267209.58%', '531329.40%', '2094619.25%', '837535.39%', '480166.15%', '574594.33%', '606611.60%', ...),\\n       (nan, '697953.59%', '1288743.17%', '764586.18%', '536307.65%', '825629.78%', '538089.86%', '721610.03%', '2412750.40%', '738817.81%', '473899.20%', '819719.71%', '879879.70%', '881901.89%', '538443.17%', '746313.94%', '256686.78%', '394524.16%', '571033.31%', '816261.71%', '287205.13%', '617710.93%', '2412750.40%', '245019.10%', '239210.79%', '580206.60%', '394637.21%', '916206.32%', '1290256.01%', '323536.05%', '245458.35%', '1897545.61%', '471532.13%', '473787.17%', '493291.63%', '574422.97%', '1389173.57%', '738097.67%', '309003.41%', '252163.31%', '265206.18%', '277104.50%', '393900.64%', '1223187.97%', '495165.61%', '1281910.29%', '446851.05%', '551434.40%', '334387.53%', '229447.89%', '3670742.64%', '3347334.95%', '798343.17%', '487938.48%', '429399.73%', '716439.55%', '761951.58%', '395800.28%', '449949.33%', '405956.74%', '445811.34%', '811033.31%', '333976.49%', '2426101.78%', '661397.37%', '293069.35%', '867219.43%', '1163866.93%', '684615.03%', '1172777.65%', '2264383.48%', '261447.43%', '245175.27%', '678127.02%', '497480.15%', '859160.49%', '559216.14%', '800947.28%', nan, '5816655.35%', '802522.94%', '578018.22%', '411853.91%', '252307.02%', '655421.64%', '538275.20%', '592672.94%', '268347.07%', '269518.24%', '604702.52%', '1317101.28%', '1595001.95%', '252765.38%', '267209.58%', '531329.40%', '2094619.25%', '837535.39%', '480166.15%', '574594.33%', '606611.60%', ...),\\n       (nan, '697953.59%', '1288743.17%', '764586.18%', '536307.65%', '825629.78%', '538089.86%', '721610.03%', '2412750.40%', '738817.81%', '473899.20%', '819719.71%', '879879.70%', '881901.89%', '538443.17%', '746313.94%', '256686.78%', '394524.16%', '571033.31%', '816261.71%', '287205.13%', '617710.93%', '2412750.40%', '245019.10%', '239210.79%', '580206.60%', '394637.21%', '916206.32%', '1290256.01%', '323536.05%', '245458.35%', '1897545.61%', '471532.13%', '473787.17%', '493291.63%', '574422.97%', '1389173.57%', '738097.67%', '309003.41%', '252163.31%', '265206.18%', '277104.50%', '393900.64%', '1223187.97%', '495165.61%', '1281910.29%', '446851.05%', '551434.40%', '334387.53%', '229447.89%', '3670742.64%', '3347334.95%', '798343.17%', '487938.48%', '429399.73%', '716439.55%', '761951.58%', '395800.28%', '449949.33%', '405956.74%', '445811.34%', '811033.31%', '333976.49%', '2426101.78%', '661397.37%', '293069.35%', '867219.43%', '1163866.93%', '684615.03%', '1172777.65%', '2264383.48%', '261447.43%', '245175.27%', '678127.02%', '497480.15%', '859160.49%', '559216.14%', '800947.28%', nan, '5816655.35%', '802522.94%', '578018.22%', '411853.91%', '252307.02%', '655421.64%', '538275.20%', '592672.94%', '268347.07%', '269518.24%', '604702.52%', '1317101.28%', '1595001.95%', '252765.38%', '267209.58%', '531329.40%', '2094619.25%', '837535.39%', '480166.15%', '574594.33%', '606611.60%', ...),\\n       (nan, '697953.59%', '1288743.17%', '764586.18%', '536307.65%', '825629.78%', '538089.86%', '721610.03%', '2412750.40%', '738817.81%', '473899.20%', '819719.71%', '879879.70%', '881901.89%', '538443.17%', '746313.94%', '256686.78%', '394524.16%', '571033.31%', '816261.71%', '287205.13%', '617710.93%', '2412750.40%', '245019.10%', '239210.79%', '580206.60%', '394637.21%', '916206.32%', '1290256.01%', '323536.05%', '245458.35%', '1897545.61%', '471532.13%', '473787.17%', '493291.63%', '574422.97%', '1389173.57%', '738097.67%', '309003.41%', '252163.31%', '265206.18%', '277104.50%', '393900.64%', '1223187.97%', '495165.61%', '1281910.29%', '446851.05%', '551434.40%', '334387.53%', '229447.89%', '3670742.64%', '3347334.95%', '798343.17%', '487938.48%', '429399.73%', '716439.55%', '761951.58%', '395800.28%', '449949.33%', '405956.74%', '445811.34%', '811033.31%', '333976.49%', '2426101.78%', '661397.37%', '293069.35%', '867219.43%', '1163866.93%', '684615.03%', '1172777.65%', '2264383.48%', '261447.43%', '245175.27%', '678127.02%', '497480.15%', '859160.49%', '559216.14%', '800947.28%', nan, '5816655.35%', '802522.94%', '578018.22%', '411853.91%', '252307.02%', '655421.64%', '538275.20%', '592672.94%', '268347.07%', '269518.24%', '604702.52%', '1317101.28%', '1595001.95%', '252765.38%', '267209.58%', '531329.40%', '2094619.25%', '837535.39%', '480166.15%', '574594.33%', '606611.60%', ...),\\n       (nan, '697953.59%', '1288743.17%', '764586.18%', '536307.65%', '825629.78%', '538089.86%', '721610.03%', '2412750.40%', '738817.81%', '473899.20%', '819719.71%', '879879.70%', '881901.89%', '538443.17%', '746313.94%', '256686.78%', '394524.16%', '571033.31%', '816261.71%', '287205.13%', '617710.93%', '2412750.40%', '245019.10%', '239210.79%', '580206.60%', '394637.21%', '916206.32%', '1290256.01%', '323536.05%', '245458.35%', '1897545.61%', '471532.13%', '473787.17%', '493291.63%', '574422.97%', '1389173.57%', '738097.67%', '309003.41%', '252163.31%', '265206.18%', '277104.50%', '393900.64%', '1223187.97%', '495165.61%', '1281910.29%', '446851.05%', '551434.40%', '334387.53%', '229447.89%', '3670742.64%', '3347334.95%', '798343.17%', '487938.48%', '429399.73%', '716439.55%', '761951.58%', '395800.28%', '449949.33%', '405956.74%', '445811.34%', '811033.31%', '333976.49%', '2426101.78%', '661397.37%', '293069.35%', '867219.43%', '1163866.93%', '684615.03%', '1172777.65%', '2264383.48%', '261447.43%', '245175.27%', '678127.02%', '497480.15%', '859160.49%', '559216.14%', '800947.28%', nan, '5816655.35%', '802522.94%', '578018.22%', '411853.91%', '252307.02%', '655421.64%', '538275.20%', '592672.94%', '268347.07%', '269518.24%', '604702.52%', '1317101.28%', '1595001.95%', '252765.38%', '267209.58%', '531329.40%', '2094619.25%', '837535.39%', '480166.15%', '574594.33%', '606611.60%', ...),\\n       (nan, '697953.59%', '1288743.17%', '764586.18%', '536307.65%', '825629.78%', '538089.86%', '721610.03%', '2412750.40%', '738817.81%', '473899.20%', '819719.71%', '879879.70%', '881901.89%', '538443.17%', '746313.94%', '256686.78%', '394524.16%', '571033.31%', '816261.71%', '287205.13%', '617710.93%', '2412750.40%', '245019.10%', '239210.79%', '580206.60%', '394637.21%', '916206.32%', '1290256.01%', '323536.05%', '245458.35%', '1897545.61%', '471532.13%', '473787.17%', '493291.63%', '574422.97%', '1389173.57%', '738097.67%', '309003.41%', '252163.31%', '265206.18%', '277104.50%', '393900.64%', '1223187.97%', '495165.61%', '1281910.29%', '446851.05%', '551434.40%', '334387.53%', '229447.89%', '3670742.64%', '3347334.95%', '798343.17%', '487938.48%', '429399.73%', '716439.55%', '761951.58%', '395800.28%', '449949.33%', '405956.74%', '445811.34%', '811033.31%', '333976.49%', '2426101.78%', '661397.37%', '293069.35%', '867219.43%', '1163866.93%', '684615.03%', '1172777.65%', '2264383.48%', '261447.43%', '245175.27%', '678127.02%', '497480.15%', '859160.49%', '559216.14%', '800947.28%', nan, '5816655.35%', '802522.94%', '578018.22%', '411853.91%', '252307.02%', '655421.64%', '538275.20%', '592672.94%', '268347.07%', '269518.24%', '604702.52%', '1317101.28%', '1595001.95%', '252765.38%', '267209.58%', '531329.40%', '2094619.25%', '837535.39%', '480166.15%', '574594.33%', '606611.60%', ...),\\n       (nan, '697953.59%', '1288743.17%', '764586.18%', '536307.65%', '825629.78%', '538089.86%', '721610.03%', '2412750.40%', '738817.81%', '473899.20%', '819719.71%', '879879.70%', '881901.89%', '538443.17%', '746313.94%', '256686.78%', '394524.16%', '571033.31%', '816261.71%', '287205.13%', '617710.93%', '2412750.40%', '245019.10%', '239210.79%', '580206.60%', '394637.21%', '916206.32%', '1290256.01%', '323536.05%', '245458.35%', '1897545.61%', '471532.13%', '473787.17%', '493291.63%', '574422.97%', '1389173.57%', '738097.67%', '309003.41%', '252163.31%', '265206.18%', '277104.50%', '393900.64%', '1223187.97%', '495165.61%', '1281910.29%', '446851.05%', '551434.40%', '334387.53%', '229447.89%', '3670742.64%', '3347334.95%', '798343.17%', '487938.48%', '429399.73%', '716439.55%', '761951.58%', '395800.28%', '449949.33%', '405956.74%', '445811.34%', '811033.31%', '333976.49%', '2426101.78%', '661397.37%', '293069.35%', '867219.43%', '1163866.93%', '684615.03%', '1172777.65%', '2264383.48%', '261447.43%', '245175.27%', '678127.02%', '497480.15%', '859160.49%', '559216.14%', '800947.28%', nan, '5816655.35%', '802522.94%', '578018.22%', '411853.91%', '252307.02%', '655421.64%', '538275.20%', '592672.94%', '268347.07%', '269518.24%', '604702.52%', '1317101.28%', '1595001.95%', '252765.38%', '267209.58%', '531329.40%', '2094619.25%', '837535.39%', '480166.15%', '574594.33%', '606611.60%', ...),\\n       (nan, '697953.59%', '1288743.17%', '764586.18%', '536307.65%', '825629.78%', '538089.86%', '721610.03%', '2412750.40%', '738817.81%', '473899.20%', '819719.71%', '879879.70%', '881901.89%', '538443.17%', '746313.94%', '256686.78%', '394524.16%', '571033.31%', '816261.71%', '287205.13%', '617710.93%', '2412750.40%', '245019.10%', '239210.79%', '580206.60%', '394637.21%', '916206.32%', '1290256.01%', '323536.05%', '245458.35%', '1897545.61%', '471532.13%', '473787.17%', '493291.63%', '574422.97%', '1389173.57%', '738097.67%', '309003.41%', '252163.31%', '265206.18%', '277104.50%', '393900.64%', '1223187.97%', '495165.61%', '1281910.29%', '446851.05%', '551434.40%', '334387.53%', '229447.89%', '3670742.64%', '3347334.95%', '798343.17%', '487938.48%', '429399.73%', '716439.55%', '761951.58%', '395800.28%', '449949.33%', '405956.74%', '445811.34%', '811033.31%', '333976.49%', '2426101.78%', '661397.37%', '293069.35%', '867219.43%', '1163866.93%', '684615.03%', '1172777.65%', '2264383.48%', '261447.43%', '245175.27%', '678127.02%', '497480.15%', '859160.49%', '559216.14%', '800947.28%', nan, '5816655.35%', '802522.94%', '578018.22%', '411853.91%', '252307.02%', '655421.64%', '538275.20%', '592672.94%', '268347.07%', '269518.24%', '604702.52%', '1317101.28%', '1595001.95%', '252765.38%', '267209.58%', '531329.40%', '2094619.25%', '837535.39%', '480166.15%', '574594.33%', '606611.60%', ...),\\n       (nan, '697953.59%', '1288743.17%', '764586.18%', '536307.65%', '825629.78%', '538089.86%', '721610.03%', '2412750.40%', '738817.81%', '473899.20%', '819719.71%', '879879.70%', '881901.89%', '538443.17%', '746313.94%', '256686.78%', '394524.16%', '571033.31%', '816261.71%', '287205.13%', '617710.93%', '2412750.40%', '245019.10%', '239210.79%', '580206.60%', '394637.21%', '916206.32%', '1290256.01%', '323536.05%', '245458.35%', '1897545.61%', '471532.13%', '473787.17%', '493291.63%', '574422.97%', '1389173.57%', '738097.67%', '309003.41%', '252163.31%', '265206.18%', '277104.50%', '393900.64%', '1223187.97%', '495165.61%', '1281910.29%', '446851.05%', '551434.40%', '334387.53%', '229447.89%', '3670742.64%', '3347334.95%', '798343.17%', '487938.48%', '429399.73%', '716439.55%', '761951.58%', '395800.28%', '449949.33%', '405956.74%', '445811.34%', '811033.31%', '333976.49%', '2426101.78%', '661397.37%', '293069.35%', '867219.43%', '1163866.93%', '684615.03%', '1172777.65%', '2264383.48%', '261447.43%', '245175.27%', '678127.02%', '497480.15%', '859160.49%', '559216.14%', '800947.28%', nan, '5816655.35%', '802522.94%', '578018.22%', '411853.91%', '252307.02%', '655421.64%', '538275.20%', '592672.94%', '268347.07%', '269518.24%', '604702.52%', '1317101.28%', '1595001.95%', '252765.38%', '267209.58%', '531329.40%', '2094619.25%', '837535.39%', '480166.15%', '574594.33%', '606611.60%', ...),\\n       (nan, '697953.59%', '1288743.17%', '764586.18%', '536307.65%', '825629.78%', '538089.86%', '721610.03%', '2412750.40%', '738817.81%', '473899.20%', '819719.71%', '879879.70%', '881901.89%', '538443.17%', '746313.94%', '256686.78%', '394524.16%', '571033.31%', '816261.71%', '287205.13%', '617710.93%', '2412750.40%', '245019.10%', '239210.79%', '580206.60%', '394637.21%', '916206.32%', '1290256.01%', '323536.05%', '245458.35%', '1897545.61%', '471532.13%', '473787.17%', '493291.63%', '574422.97%', '1389173.57%', '738097.67%', '309003.41%', '252163.31%', '265206.18%', '277104.50%', '393900.64%', '1223187.97%', '495165.61%', '1281910.29%', '446851.05%', '551434.40%', '334387.53%', '229447.89%', '3670742.64%', '3347334.95%', '798343.17%', '487938.48%', '429399.73%', '716439.55%', '761951.58%', '395800.28%', '449949.33%', '405956.74%', '445811.34%', '811033.31%', '333976.49%', '2426101.78%', '661397.37%', '293069.35%', '867219.43%', '1163866.93%', '684615.03%', '1172777.65%', '2264383.48%', '261447.43%', '245175.27%', '678127.02%', '497480.15%', '859160.49%', '559216.14%', '800947.28%', nan, '5816655.35%', '802522.94%', '578018.22%', '411853.91%', '252307.02%', '655421.64%', '538275.20%', '592672.94%', '268347.07%', '269518.24%', '604702.52%', '1317101.28%', '1595001.95%', '252765.38%', '267209.58%', '531329.40%', '2094619.25%', '837535.39%', '480166.15%', '574594.33%', '606611.60%', ...),\\n       (nan, '697953.59%', '1288743.17%', '764586.18%', '536307.65%', '825629.78%', '538089.86%', '721610.03%', '2412750.40%', '738817.81%', '473899.20%', '819719.71%', '879879.70%', '881901.89%', '538443.17%', '746313.94%', '256686.78%', '394524.16%', '571033.31%', '816261.71%', '287205.13%', '617710.93%', '2412750.40%', '245019.10%', '239210.79%', '580206.60%', '394637.21%', '916206.32%', '1290256.01%', '323536.05%', '245458.35%', '1897545.61%', '471532.13%', '473787.17%', '493291.63%', '574422.97%', '1389173.57%', '738097.67%', '309003.41%', '252163.31%', '265206.18%', '277104.50%', '393900.64%', '1223187.97%', '495165.61%', '1281910.29%', '446851.05%', '551434.40%', '334387.53%', '229447.89%', '3670742.64%', '3347334.95%', '798343.17%', '487938.48%', '429399.73%', '716439.55%', '761951.58%', '395800.28%', '449949.33%', '405956.74%', '445811.34%', '811033.31%', '333976.49%', '2426101.78%', '661397.37%', '293069.35%', '867219.43%', '1163866.93%', '684615.03%', '1172777.65%', '2264383.48%', '261447.43%', '245175.27%', '678127.02%', '497480.15%', '859160.49%', '559216.14%', '800947.28%', nan, '5816655.35%', '802522.94%', '578018.22%', '411853.91%', '252307.02%', '655421.64%', '538275.20%', '592672.94%', '268347.07%', '269518.24%', '604702.52%', '1317101.28%', '1595001.95%', '252765.38%', '267209.58%', '531329.40%', '2094619.25%', '837535.39%', '480166.15%', '574594.33%', '606611.60%', ...),\\n       (nan, '697953.59%', '1288743.17%', '764586.18%', '536307.65%', '825629.78%', '538089.86%', '721610.03%', '2412750.40%', '738817.81%', '473899.20%', '819719.71%', '879879.70%', '881901.89%', '538443.17%', '746313.94%', '256686.78%', '394524.16%', '571033.31%', '816261.71%', '287205.13%', '617710.93%', '2412750.40%', '245019.10%', '239210.79%', '580206.60%', '394637.21%', '916206.32%', '1290256.01%', '323536.05%', '245458.35%', '1897545.61%', '471532.13%', '473787.17%', '493291.63%', '574422.97%', '1389173.57%', '738097.67%', '309003.41%', '252163.31%', '265206.18%', '277104.50%', '393900.64%', '1223187.97%', '495165.61%', '1281910.29%', '446851.05%', '551434.40%', '334387.53%', '229447.89%', '3670742.64%', '3347334.95%', '798343.17%', '487938.48%', '429399.73%', '716439.55%', '761951.58%', '395800.28%', '449949.33%', '405956.74%', '445811.34%', '811033.31%', '333976.49%', '2426101.78%', '661397.37%', '293069.35%', '867219.43%', '1163866.93%', '684615.03%', '1172777.65%', '2264383.48%', '261447.43%', '245175.27%', '678127.02%', '497480.15%', '859160.49%', '559216.14%', '800947.28%', nan, '5816655.35%', '802522.94%', '578018.22%', '411853.91%', '252307.02%', '655421.64%', '538275.20%', '592672.94%', '268347.07%', '269518.24%', '604702.52%', '1317101.28%', '1595001.95%', '252765.38%', '267209.58%', '531329.40%', '2094619.25%', '837535.39%', '480166.15%', '574594.33%', '606611.60%', ...),\\n       (nan, '697953.59%', '1288743.17%', '764586.18%', '536307.65%', '825629.78%', '538089.86%', '721610.03%', '2412750.40%', '738817.81%', '473899.20%', '819719.71%', '879879.70%', '881901.89%', '538443.17%', '746313.94%', '256686.78%', '394524.16%', '571033.31%', '816261.71%', '287205.13%', '617710.93%', '2412750.40%', '245019.10%', '239210.79%', '580206.60%', '394637.21%', '916206.32%', '1290256.01%', '323536.05%', '245458.35%', '1897545.61%', '471532.13%', '473787.17%', '493291.63%', '574422.97%', '1389173.57%', '738097.67%', '309003.41%', '252163.31%', '265206.18%', '277104.50%', '393900.64%', '1223187.97%', '495165.61%', '1281910.29%', '446851.05%', '551434.40%', '334387.53%', '229447.89%', '3670742.64%', '3347334.95%', '798343.17%', '487938.48%', '429399.73%', '716439.55%', '761951.58%', '395800.28%', '449949.33%', '405956.74%', '445811.34%', '811033.31%', '333976.49%', '2426101.78%', '661397.37%', '293069.35%', '867219.43%', '1163866.93%', '684615.03%', '1172777.65%', '2264383.48%', '261447.43%', '245175.27%', '678127.02%', '497480.15%', '859160.49%', '559216.14%', '800947.28%', nan, '5816655.35%', '802522.94%', '578018.22%', '411853.91%', '252307.02%', '655421.64%', '538275.20%', '592672.94%', '268347.07%', '269518.24%', '604702.52%', '1317101.28%', '1595001.95%', '252765.38%', '267209.58%', '531329.40%', '2094619.25%', '837535.39%', '480166.15%', '574594.33%', '606611.60%', ...),\\n       (nan, '697953.59%', '1288743.17%', '764586.18%', '536307.65%', '825629.78%', '538089.86%', '721610.03%', '2412750.40%', '738817.81%', '473899.20%', '819719.71%', '879879.70%', '881901.89%', '538443.17%', '746313.94%', '256686.78%', '394524.16%', '571033.31%', '816261.71%', '287205.13%', '617710.93%', '2412750.40%', '245019.10%', '239210.79%', '580206.60%', '394637.21%', '916206.32%', '1290256.01%', '323536.05%', '245458.35%', '1897545.61%', '471532.13%', '473787.17%', '493291.63%', '574422.97%', '1389173.57%', '738097.67%', '309003.41%', '252163.31%', '265206.18%', '277104.50%', '393900.64%', '1223187.97%', '495165.61%', '1281910.29%', '446851.05%', '551434.40%', '334387.53%', '229447.89%', '3670742.64%', '3347334.95%', '798343.17%', '487938.48%', '429399.73%', '716439.55%', '761951.58%', '395800.28%', '449949.33%', '405956.74%', '445811.34%', '811033.31%', '333976.49%', '2426101.78%', '661397.37%', '293069.35%', '867219.43%', '1163866.93%', '684615.03%', '1172777.65%', '2264383.48%', '261447.43%', '245175.27%', '678127.02%', '497480.15%', '859160.49%', '559216.14%', '800947.28%', nan, '5816655.35%', '802522.94%', '578018.22%', '411853.91%', '252307.02%', '655421.64%', '538275.20%', '592672.94%', '268347.07%', '269518.24%', '604702.52%', '1317101.28%', '1595001.95%', '252765.38%', '267209.58%', '531329.40%', '2094619.25%', '837535.39%', '480166.15%', '574594.33%', '606611.60%', ...),\\n       (nan, '697953.59%', '1288743.17%', '764586.18%', '536307.65%', '825629.78%', '538089.86%', '721610.03%', '2412750.40%', '738817.81%', '473899.20%', '819719.71%', '879879.70%', '881901.89%', '538443.17%', '746313.94%', '256686.78%', '394524.16%', '571033.31%', '816261.71%', '287205.13%', '617710.93%', '2412750.40%', '245019.10%', '239210.79%', '580206.60%', '394637.21%', '916206.32%', '1290256.01%', '323536.05%', '245458.35%', '1897545.61%', '471532.13%', '473787.17%', '493291.63%', '574422.97%', '1389173.57%', '738097.67%', '309003.41%', '252163.31%', '265206.18%', '277104.50%', '393900.64%', '1223187.97%', '495165.61%', '1281910.29%', '446851.05%', '551434.40%', '334387.53%', '229447.89%', '3670742.64%', '3347334.95%', '798343.17%', '487938.48%', '429399.73%', '716439.55%', '761951.58%', '395800.28%', '449949.33%', '405956.74%', '445811.34%', '811033.31%', '333976.49%', '2426101.78%', '661397.37%', '293069.35%', '867219.43%', '1163866.93%', '684615.03%', '1172777.65%', '2264383.48%', '261447.43%', '245175.27%', '678127.02%', '497480.15%', '859160.49%', '559216.14%', '800947.28%', nan, '5816655.35%', '802522.94%', '578018.22%', '411853.91%', '252307.02%', '655421.64%', '538275.20%', '592672.94%', '268347.07%', '269518.24%', '604702.52%', '1317101.28%', '1595001.95%', '252765.38%', '267209.58%', '531329.40%', '2094619.25%', '837535.39%', '480166.15%', '574594.33%', '606611.60%', ...),\\n       (nan, '697953.59%', '1288743.17%', '764586.18%', '536307.65%', '825629.78%', '538089.86%', '721610.03%', '2412750.40%', '738817.81%', '473899.20%', '819719.71%', '879879.70%', '881901.89%', '538443.17%', '746313.94%', '256686.78%', '394524.16%', '571033.31%', '816261.71%', '287205.13%', '617710.93%', '2412750.40%', '245019.10%', '239210.79%', '580206.60%', '394637.21%', '916206.32%', '1290256.01%', '323536.05%', '245458.35%', '1897545.61%', '471532.13%', '473787.17%', '493291.63%', '574422.97%', '1389173.57%', '738097.67%', '309003.41%', '252163.31%', '265206.18%', '277104.50%', '393900.64%', '1223187.97%', '495165.61%', '1281910.29%', '446851.05%', '551434.40%', '334387.53%', '229447.89%', '3670742.64%', '3347334.95%', '798343.17%', '487938.48%', '429399.73%', '716439.55%', '761951.58%', '395800.28%', '449949.33%', '405956.74%', '445811.34%', '811033.31%', '333976.49%', '2426101.78%', '661397.37%', '293069.35%', '867219.43%', '1163866.93%', '684615.03%', '1172777.65%', '2264383.48%', '261447.43%', '245175.27%', '678127.02%', '497480.15%', '859160.49%', '559216.14%', '800947.28%', nan, '5816655.35%', '802522.94%', '578018.22%', '411853.91%', '252307.02%', '655421.64%', '538275.20%', '592672.94%', '268347.07%', '269518.24%', '604702.52%', '1317101.28%', '1595001.95%', '252765.38%', '267209.58%', '531329.40%', '2094619.25%', '837535.39%', '480166.15%', '574594.33%', '606611.60%', ...),\\n       (nan, '697953.59%', '1288743.17%', '764586.18%', '536307.65%', '825629.78%', '538089.86%', '721610.03%', '2412750.40%', '738817.81%', '473899.20%', '819719.71%', '879879.70%', '881901.89%', '538443.17%', '746313.94%', '256686.78%', '394524.16%', '571033.31%', '816261.71%', '287205.13%', '617710.93%', '2412750.40%', '245019.10%', '239210.79%', '580206.60%', '394637.21%', '916206.32%', '1290256.01%', '323536.05%', '245458.35%', '1897545.61%', '471532.13%', '473787.17%', '493291.63%', '574422.97%', '1389173.57%', '738097.67%', '309003.41%', '252163.31%', '265206.18%', '277104.50%', '393900.64%', '1223187.97%', '495165.61%', '1281910.29%', '446851.05%', '551434.40%', '334387.53%', '229447.89%', '3670742.64%', '3347334.95%', '798343.17%', '487938.48%', '429399.73%', '716439.55%', '761951.58%', '395800.28%', '449949.33%', '405956.74%', '445811.34%', '811033.31%', '333976.49%', '2426101.78%', '661397.37%', '293069.35%', '867219.43%', '1163866.93%', '684615.03%', '1172777.65%', '2264383.48%', '261447.43%', '245175.27%', '678127.02%', '497480.15%', '859160.49%', '559216.14%', '800947.28%', nan, '5816655.35%', '802522.94%', '578018.22%', '411853.91%', '252307.02%', '655421.64%', '538275.20%', '592672.94%', '268347.07%', '269518.24%', '604702.52%', '1317101.28%', '1595001.95%', '252765.38%', '267209.58%', '531329.40%', '2094619.25%', '837535.39%', '480166.15%', '574594.33%', '606611.60%', ...),\\n       (nan, '697953.59%', '1288743.17%', '764586.18%', '536307.65%', '825629.78%', '538089.86%', '721610.03%', '2412750.40%', '738817.81%', '473899.20%', '819719.71%', '879879.70%', '881901.89%', '538443.17%', '746313.94%', '256686.78%', '394524.16%', '571033.31%', '816261.71%', '287205.13%', '617710.93%', '2412750.40%', '245019.10%', '239210.79%', '580206.60%', '394637.21%', '916206.32%', '1290256.01%', '323536.05%', '245458.35%', '1897545.61%', '471532.13%', '473787.17%', '493291.63%', '574422.97%', '1389173.57%', '738097.67%', '309003.41%', '252163.31%', '265206.18%', '277104.50%', '393900.64%', '1223187.97%', '495165.61%', '1281910.29%', '446851.05%', '551434.40%', '334387.53%', '229447.89%', '3670742.64%', '3347334.95%', '798343.17%', '487938.48%', '429399.73%', '716439.55%', '761951.58%', '395800.28%', '449949.33%', '405956.74%', '445811.34%', '811033.31%', '333976.49%', '2426101.78%', '661397.37%', '293069.35%', '867219.43%', '1163866.93%', '684615.03%', '1172777.65%', '2264383.48%', '261447.43%', '245175.27%', '678127.02%', '497480.15%', '859160.49%', '559216.14%', '800947.28%', nan, '5816655.35%', '802522.94%', '578018.22%', '411853.91%', '252307.02%', '655421.64%', '538275.20%', '592672.94%', '268347.07%', '269518.24%', '604702.52%', '1317101.28%', '1595001.95%', '252765.38%', '267209.58%', '531329.40%', '2094619.25%', '837535.39%', '480166.15%', '574594.33%', '606611.60%', ...),\\n       (nan, '697953.59%', '1288743.17%', '764586.18%', '536307.65%', '825629.78%', '538089.86%', '721610.03%', '2412750.40%', '738817.81%', '473899.20%', '819719.71%', '879879.70%', '881901.89%', '538443.17%', '746313.94%', '256686.78%', '394524.16%', '571033.31%', '816261.71%', '287205.13%', '617710.93%', '2412750.40%', '245019.10%', '239210.79%', '580206.60%', '394637.21%', '916206.32%', '1290256.01%', '323536.05%', '245458.35%', '1897545.61%', '471532.13%', '473787.17%', '493291.63%', '574422.97%', '1389173.57%', '738097.67%', '309003.41%', '252163.31%', '265206.18%', '277104.50%', '393900.64%', '1223187.97%', '495165.61%', '1281910.29%', '446851.05%', '551434.40%', '334387.53%', '229447.89%', '3670742.64%', '3347334.95%', '798343.17%', '487938.48%', '429399.73%', '716439.55%', '761951.58%', '395800.28%', '449949.33%', '405956.74%', '445811.34%', '811033.31%', '333976.49%', '2426101.78%', '661397.37%', '293069.35%', '867219.43%', '1163866.93%', '684615.03%', '1172777.65%', '2264383.48%', '261447.43%', '245175.27%', '678127.02%', '497480.15%', '859160.49%', '559216.14%', '800947.28%', nan, '5816655.35%', '802522.94%', '578018.22%', '411853.91%', '252307.02%', '655421.64%', '538275.20%', '592672.94%', '268347.07%', '269518.24%', '604702.52%', '1317101.28%', '1595001.95%', '252765.38%', '267209.58%', '531329.40%', '2094619.25%', '837535.39%', '480166.15%', '574594.33%', '606611.60%', ...),\\n       (nan, '697953.59%', '1288743.17%', '764586.18%', '536307.65%', '825629.78%', '538089.86%', '721610.03%', '2412750.40%', '738817.81%', '473899.20%', '819719.71%', '879879.70%', '881901.89%', '538443.17%', '746313.94%', '256686.78%', '394524.16%', '571033.31%', '816261.71%', '287205.13%', '617710.93%', '2412750.40%', '245019.10%', '239210.79%', '580206.60%', '394637.21%', '916206.32%', '1290256.01%', '323536.05%', '245458.35%', '1897545.61%', '471532.13%', '473787.17%', '493291.63%', '574422.97%', '1389173.57%', '738097.67%', '309003.41%', '252163.31%', '265206.18%', '277104.50%', '393900.64%', '1223187.97%', '495165.61%', '1281910.29%', '446851.05%', '551434.40%', '334387.53%', '229447.89%', '3670742.64%', '3347334.95%', '798343.17%', '487938.48%', '429399.73%', '716439.55%', '761951.58%', '395800.28%', '449949.33%', '405956.74%', '445811.34%', '811033.31%', '333976.49%', '2426101.78%', '661397.37%', '293069.35%', '867219.43%', '1163866.93%', '684615.03%', '1172777.65%', '2264383.48%', '261447.43%', '245175.27%', '678127.02%', '497480.15%', '859160.49%', '559216.14%', '800947.28%', nan, '5816655.35%', '802522.94%', '578018.22%', '411853.91%', '252307.02%', '655421.64%', '538275.20%', '592672.94%', '268347.07%', '269518.24%', '604702.52%', '1317101.28%', '1595001.95%', '252765.38%', '267209.58%', '531329.40%', '2094619.25%', '837535.39%', '480166.15%', '574594.33%', '606611.60%', ...),\\n       (nan, '697953.59%', '1288743.17%', '764586.18%', '536307.65%', '825629.78%', '538089.86%', '721610.03%', '2412750.40%', '738817.81%', '473899.20%', '819719.71%', '879879.70%', '881901.89%', '538443.17%', '746313.94%', '256686.78%', '394524.16%', '571033.31%', '816261.71%', '287205.13%', '617710.93%', '2412750.40%', '245019.10%', '239210.79%', '580206.60%', '394637.21%', '916206.32%', '1290256.01%', '323536.05%', '245458.35%', '1897545.61%', '471532.13%', '473787.17%', '493291.63%', '574422.97%', '1389173.57%', '738097.67%', '309003.41%', '252163.31%', '265206.18%', '277104.50%', '393900.64%', '1223187.97%', '495165.61%', '1281910.29%', '446851.05%', '551434.40%', '334387.53%', '229447.89%', '3670742.64%', '3347334.95%', '798343.17%', '487938.48%', '429399.73%', '716439.55%', '761951.58%', '395800.28%', '449949.33%', '405956.74%', '445811.34%', '811033.31%', '333976.49%', '2426101.78%', '661397.37%', '293069.35%', '867219.43%', '1163866.93%', '684615.03%', '1172777.65%', '2264383.48%', '261447.43%', '245175.27%', '678127.02%', '497480.15%', '859160.49%', '559216.14%', '800947.28%', nan, '5816655.35%', '802522.94%', '578018.22%', '411853.91%', '252307.02%', '655421.64%', '538275.20%', '592672.94%', '268347.07%', '269518.24%', '604702.52%', '1317101.28%', '1595001.95%', '252765.38%', '267209.58%', '531329.40%', '2094619.25%', '837535.39%', '480166.15%', '574594.33%', '606611.60%', ...),\\n       (nan, '697953.59%', '1288743.17%', '764586.18%', '536307.65%', '825629.78%', '538089.86%', '721610.03%', '2412750.40%', '738817.81%', '473899.20%', '819719.71%', '879879.70%', '881901.89%', '538443.17%', '746313.94%', '256686.78%', '394524.16%', '571033.31%', '816261.71%', '287205.13%', '617710.93%', '2412750.40%', '245019.10%', '239210.79%', '580206.60%', '394637.21%', '916206.32%', '1290256.01%', '323536.05%', '245458.35%', '1897545.61%', '471532.13%', '473787.17%', '493291.63%', '574422.97%', '1389173.57%', '738097.67%', '309003.41%', '252163.31%', '265206.18%', '277104.50%', '393900.64%', '1223187.97%', '495165.61%', '1281910.29%', '446851.05%', '551434.40%', '334387.53%', '229447.89%', '3670742.64%', '3347334.95%', '798343.17%', '487938.48%', '429399.73%', '716439.55%', '761951.58%', '395800.28%', '449949.33%', '405956.74%', '445811.34%', '811033.31%', '333976.49%', '2426101.78%', '661397.37%', '293069.35%', '867219.43%', '1163866.93%', '684615.03%', '1172777.65%', '2264383.48%', '261447.43%', '245175.27%', '678127.02%', '497480.15%', '859160.49%', '559216.14%', '800947.28%', nan, '5816655.35%', '802522.94%', '578018.22%', '411853.91%', '252307.02%', '655421.64%', '538275.20%', '592672.94%', '268347.07%', '269518.24%', '604702.52%', '1317101.28%', '1595001.95%', '252765.38%', '267209.58%', '531329.40%', '2094619.25%', '837535.39%', '480166.15%', '574594.33%', '606611.60%', ...),\\n       (nan, '697953.59%', '1288743.17%', '764586.18%', '536307.65%', '825629.78%', '538089.86%', '721610.03%', '2412750.40%', '738817.81%', '473899.20%', '819719.71%', '879879.70%', '881901.89%', '538443.17%', '746313.94%', '256686.78%', '394524.16%', '571033.31%', '816261.71%', '287205.13%', '617710.93%', '2412750.40%', '245019.10%', '239210.79%', '580206.60%', '394637.21%', '916206.32%', '1290256.01%', '323536.05%', '245458.35%', '1897545.61%', '471532.13%', '473787.17%', '493291.63%', '574422.97%', '1389173.57%', '738097.67%', '309003.41%', '252163.31%', '265206.18%', '277104.50%', '393900.64%', '1223187.97%', '495165.61%', '1281910.29%', '446851.05%', '551434.40%', '334387.53%', '229447.89%', '3670742.64%', '3347334.95%', '798343.17%', '487938.48%', '429399.73%', '716439.55%', '761951.58%', '395800.28%', '449949.33%', '405956.74%', '445811.34%', '811033.31%', '333976.49%', '2426101.78%', '661397.37%', '293069.35%', '867219.43%', '1163866.93%', '684615.03%', '1172777.65%', '2264383.48%', '261447.43%', '245175.27%', '678127.02%', '497480.15%', '859160.49%', '559216.14%', '800947.28%', nan, '5816655.35%', '802522.94%', '578018.22%', '411853.91%', '252307.02%', '655421.64%', '538275.20%', '592672.94%', '268347.07%', '269518.24%', '604702.52%', '1317101.28%', '1595001.95%', '252765.38%', '267209.58%', '531329.40%', '2094619.25%', '837535.39%', '480166.15%', '574594.33%', '606611.60%', ...),\\n       (nan, '697953.59%', '1288743.17%', '764586.18%', '536307.65%', '825629.78%', '538089.86%', '721610.03%', '2412750.40%', '738817.81%', '473899.20%', '819719.71%', '879879.70%', '881901.89%', '538443.17%', '746313.94%', '256686.78%', '394524.16%', '571033.31%', '816261.71%', '287205.13%', '617710.93%', '2412750.40%', '245019.10%', '239210.79%', '580206.60%', '394637.21%', '916206.32%', '1290256.01%', '323536.05%', '245458.35%', '1897545.61%', '471532.13%', '473787.17%', '493291.63%', '574422.97%', '1389173.57%', '738097.67%', '309003.41%', '252163.31%', '265206.18%', '277104.50%', '393900.64%', '1223187.97%', '495165.61%', '1281910.29%', '446851.05%', '551434.40%', '334387.53%', '229447.89%', '3670742.64%', '3347334.95%', '798343.17%', '487938.48%', '429399.73%', '716439.55%', '761951.58%', '395800.28%', '449949.33%', '405956.74%', '445811.34%', '811033.31%', '333976.49%', '2426101.78%', '661397.37%', '293069.35%', '867219.43%', '1163866.93%', '684615.03%', '1172777.65%', '2264383.48%', '261447.43%', '245175.27%', '678127.02%', '497480.15%', '859160.49%', '559216.14%', '800947.28%', nan, '5816655.35%', '802522.94%', '578018.22%', '411853.91%', '252307.02%', '655421.64%', '538275.20%', '592672.94%', '268347.07%', '269518.24%', '604702.52%', '1317101.28%', '1595001.95%', '252765.38%', '267209.58%', '531329.40%', '2094619.25%', '837535.39%', '480166.15%', '574594.33%', '606611.60%', ...),\\n       (nan, '697953.59%', '1288743.17%', '764586.18%', '536307.65%', '825629.78%', '538089.86%', '721610.03%', '2412750.40%', '738817.81%', '473899.20%', '819719.71%', '879879.70%', '881901.89%', '538443.17%', '746313.94%', '256686.78%', '394524.16%', '571033.31%', '816261.71%', '287205.13%', '617710.93%', '2412750.40%', '245019.10%', '239210.79%', '580206.60%', '394637.21%', '916206.32%', '1290256.01%', '323536.05%', '245458.35%', '1897545.61%', '471532.13%', '473787.17%', '493291.63%', '574422.97%', '1389173.57%', '738097.67%', '309003.41%', '252163.31%', '265206.18%', '277104.50%', '393900.64%', '1223187.97%', '495165.61%', '1281910.29%', '446851.05%', '551434.40%', '334387.53%', '229447.89%', '3670742.64%', '3347334.95%', '798343.17%', '487938.48%', '429399.73%', '716439.55%', '761951.58%', '395800.28%', '449949.33%', '405956.74%', '445811.34%', '811033.31%', '333976.49%', '2426101.78%', '661397.37%', '293069.35%', '867219.43%', '1163866.93%', '684615.03%', '1172777.65%', '2264383.48%', '261447.43%', '245175.27%', '678127.02%', '497480.15%', '859160.49%', '559216.14%', '800947.28%', nan, '5816655.35%', '802522.94%', '578018.22%', '411853.91%', '252307.02%', '655421.64%', '538275.20%', '592672.94%', '268347.07%', '269518.24%', '604702.52%', '1317101.28%', '1595001.95%', '252765.38%', '267209.58%', '531329.40%', '2094619.25%', '837535.39%', '480166.15%', '574594.33%', '606611.60%', ...),\\n       (nan, '697953.59%', '1288743.17%', '764586.18%', '536307.65%', '825629.78%', '538089.86%', '721610.03%', '2412750.40%', '738817.81%', '473899.20%', '819719.71%', '879879.70%', '881901.89%', '538443.17%', '746313.94%', '256686.78%', '394524.16%', '571033.31%', '816261.71%', '287205.13%', '617710.93%', '2412750.40%', '245019.10%', '239210.79%', '580206.60%', '394637.21%', '916206.32%', '1290256.01%', '323536.05%', '245458.35%', '1897545.61%', '471532.13%', '473787.17%', '493291.63%', '574422.97%', '1389173.57%', '738097.67%', '309003.41%', '252163.31%', '265206.18%', '277104.50%', '393900.64%', '1223187.97%', '495165.61%', '1281910.29%', '446851.05%', '551434.40%', '334387.53%', '229447.89%', '3670742.64%', '3347334.95%', '798343.17%', '487938.48%', '429399.73%', '716439.55%', '761951.58%', '395800.28%', '449949.33%', '405956.74%', '445811.34%', '811033.31%', '333976.49%', '2426101.78%', '661397.37%', '293069.35%', '867219.43%', '1163866.93%', '684615.03%', '1172777.65%', '2264383.48%', '261447.43%', '245175.27%', '678127.02%', '497480.15%', '859160.49%', '559216.14%', '800947.28%', nan, '5816655.35%', '802522.94%', '578018.22%', '411853.91%', '252307.02%', '655421.64%', '538275.20%', '592672.94%', '268347.07%', '269518.24%', '604702.52%', '1317101.28%', '1595001.95%', '252765.38%', '267209.58%', '531329.40%', '2094619.25%', '837535.39%', '480166.15%', '574594.33%', '606611.60%', ...),\\n       (nan, '697953.59%', '1288743.17%', '764586.18%', '536307.65%', '825629.78%', '538089.86%', '721610.03%', '2412750.40%', '738817.81%', '473899.20%', '819719.71%', '879879.70%', '881901.89%', '538443.17%', '746313.94%', '256686.78%', '394524.16%', '571033.31%', '816261.71%', '287205.13%', '617710.93%', '2412750.40%', '245019.10%', '239210.79%', '580206.60%', '394637.21%', '916206.32%', '1290256.01%', '323536.05%', '245458.35%', '1897545.61%', '471532.13%', '473787.17%', '493291.63%', '574422.97%', '1389173.57%', '738097.67%', '309003.41%', '252163.31%', '265206.18%', '277104.50%', '393900.64%', '1223187.97%', '495165.61%', '1281910.29%', '446851.05%', '551434.40%', '334387.53%', '229447.89%', '3670742.64%', '3347334.95%', '798343.17%', '487938.48%', '429399.73%', '716439.55%', '761951.58%', '395800.28%', '449949.33%', '405956.74%', '445811.34%', '811033.31%', '333976.49%', '2426101.78%', '661397.37%', '293069.35%', '867219.43%', '1163866.93%', '684615.03%', '1172777.65%', '2264383.48%', '261447.43%', '245175.27%', '678127.02%', '497480.15%', '859160.49%', '559216.14%', '800947.28%', nan, '5816655.35%', '802522.94%', '578018.22%', '411853.91%', '252307.02%', '655421.64%', '538275.20%', '592672.94%', '268347.07%', '269518.24%', '604702.52%', '1317101.28%', '1595001.95%', '252765.38%', '267209.58%', '531329.40%', '2094619.25%', '837535.39%', '480166.15%', '574594.33%', '606611.60%', ...),\\n       (nan, '697953.59%', '1288743.17%', '764586.18%', '536307.65%', '825629.78%', '538089.86%', '721610.03%', '2412750.40%', '738817.81%', '473899.20%', '819719.71%', '879879.70%', '881901.89%', '538443.17%', '746313.94%', '256686.78%', '394524.16%', '571033.31%', '816261.71%', '287205.13%', '617710.93%', '2412750.40%', '245019.10%', '239210.79%', '580206.60%', '394637.21%', '916206.32%', '1290256.01%', '323536.05%', '245458.35%', '1897545.61%', '471532.13%', '473787.17%', '493291.63%', '574422.97%', '1389173.57%', '738097.67%', '309003.41%', '252163.31%', '265206.18%', '277104.50%', '393900.64%', '1223187.97%', '495165.61%', '1281910.29%', '446851.05%', '551434.40%', '334387.53%', '229447.89%', '3670742.64%', '3347334.95%', '798343.17%', '487938.48%', '429399.73%', '716439.55%', '761951.58%', '395800.28%', '449949.33%', '405956.74%', '445811.34%', '811033.31%', '333976.49%', '2426101.78%', '661397.37%', '293069.35%', '867219.43%', '1163866.93%', '684615.03%', '1172777.65%', '2264383.48%', '261447.43%', '245175.27%', '678127.02%', '497480.15%', '859160.49%', '559216.14%', '800947.28%', nan, '5816655.35%', '802522.94%', '578018.22%', '411853.91%', '252307.02%', '655421.64%', '538275.20%', '592672.94%', '268347.07%', '269518.24%', '604702.52%', '1317101.28%', '1595001.95%', '252765.38%', '267209.58%', '531329.40%', '2094619.25%', '837535.39%', '480166.15%', '574594.33%', '606611.60%', ...),\\n       (nan, '697953.59%', '1288743.17%', '764586.18%', '536307.65%', '825629.78%', '538089.86%', '721610.03%', '2412750.40%', '738817.81%', '473899.20%', '819719.71%', '879879.70%', '881901.89%', '538443.17%', '746313.94%', '256686.78%', '394524.16%', '571033.31%', '816261.71%', '287205.13%', '617710.93%', '2412750.40%', '245019.10%', '239210.79%', '580206.60%', '394637.21%', '916206.32%', '1290256.01%', '323536.05%', '245458.35%', '1897545.61%', '471532.13%', '473787.17%', '493291.63%', '574422.97%', '1389173.57%', '738097.67%', '309003.41%', '252163.31%', '265206.18%', '277104.50%', '393900.64%', '1223187.97%', '495165.61%', '1281910.29%', '446851.05%', '551434.40%', '334387.53%', '229447.89%', '3670742.64%', '3347334.95%', '798343.17%', '487938.48%', '429399.73%', '716439.55%', '761951.58%', '395800.28%', '449949.33%', '405956.74%', '445811.34%', '811033.31%', '333976.49%', '2426101.78%', '661397.37%', '293069.35%', '867219.43%', '1163866.93%', '684615.03%', '1172777.65%', '2264383.48%', '261447.43%', '245175.27%', '678127.02%', '497480.15%', '859160.49%', '559216.14%', '800947.28%', nan, '5816655.35%', '802522.94%', '578018.22%', '411853.91%', '252307.02%', '655421.64%', '538275.20%', '592672.94%', '268347.07%', '269518.24%', '604702.52%', '1317101.28%', '1595001.95%', '252765.38%', '267209.58%', '531329.40%', '2094619.25%', '837535.39%', '480166.15%', '574594.33%', '606611.60%', ...),\\n       (nan, '697953.59%', '1288743.17%', '764586.18%', '536307.65%', '825629.78%', '538089.86%', '721610.03%', '2412750.40%', '738817.81%', '473899.20%', '819719.71%', '879879.70%', '881901.89%', '538443.17%', '746313.94%', '256686.78%', '394524.16%', '571033.31%', '816261.71%', '287205.13%', '617710.93%', '2412750.40%', '245019.10%', '239210.79%', '580206.60%', '394637.21%', '916206.32%', '1290256.01%', '323536.05%', '245458.35%', '1897545.61%', '471532.13%', '473787.17%', '493291.63%', '574422.97%', '1389173.57%', '738097.67%', '309003.41%', '252163.31%', '265206.18%', '277104.50%', '393900.64%', '1223187.97%', '495165.61%', '1281910.29%', '446851.05%', '551434.40%', '334387.53%', '229447.89%', '3670742.64%', '3347334.95%', '798343.17%', '487938.48%', '429399.73%', '716439.55%', '761951.58%', '395800.28%', '449949.33%', '405956.74%', '445811.34%', '811033.31%', '333976.49%', '2426101.78%', '661397.37%', '293069.35%', '867219.43%', '1163866.93%', '684615.03%', '1172777.65%', '2264383.48%', '261447.43%', '245175.27%', '678127.02%', '497480.15%', '859160.49%', '559216.14%', '800947.28%', nan, '5816655.35%', '802522.94%', '578018.22%', '411853.91%', '252307.02%', '655421.64%', '538275.20%', '592672.94%', '268347.07%', '269518.24%', '604702.52%', '1317101.28%', '1595001.95%', '252765.38%', '267209.58%', '531329.40%', '2094619.25%', '837535.39%', '480166.15%', '574594.33%', '606611.60%', ...),\\n       (nan, '697953.59%', '1288743.17%', '764586.18%', '536307.65%', '825629.78%', '538089.86%', '721610.03%', '2412750.40%', '738817.81%', '473899.20%', '819719.71%', '879879.70%', '881901.89%', '538443.17%', '746313.94%', '256686.78%', '394524.16%', '571033.31%', '816261.71%', '287205.13%', '617710.93%', '2412750.40%', '245019.10%', '239210.79%', '580206.60%', '394637.21%', '916206.32%', '1290256.01%', '323536.05%', '245458.35%', '1897545.61%', '471532.13%', '473787.17%', '493291.63%', '574422.97%', '1389173.57%', '738097.67%', '309003.41%', '252163.31%', '265206.18%', '277104.50%', '393900.64%', '1223187.97%', '495165.61%', '1281910.29%', '446851.05%', '551434.40%', '334387.53%', '229447.89%', '3670742.64%', '3347334.95%', '798343.17%', '487938.48%', '429399.73%', '716439.55%', '761951.58%', '395800.28%', '449949.33%', '405956.74%', '445811.34%', '811033.31%', '333976.49%', '2426101.78%', '661397.37%', '293069.35%', '867219.43%', '1163866.93%', '684615.03%', '1172777.65%', '2264383.48%', '261447.43%', '245175.27%', '678127.02%', '497480.15%', '859160.49%', '559216.14%', '800947.28%', nan, '5816655.35%', '802522.94%', '578018.22%', '411853.91%', '252307.02%', '655421.64%', '538275.20%', '592672.94%', '268347.07%', '269518.24%', '604702.52%', '1317101.28%', '1595001.95%', '252765.38%', '267209.58%', '531329.40%', '2094619.25%', '837535.39%', '480166.15%', '574594.33%', '606611.60%', ...),\\n       (nan, '697953.59%', '1288743.17%', '764586.18%', '536307.65%', '825629.78%', '538089.86%', '721610.03%', '2412750.40%', '738817.81%', '473899.20%', '819719.71%', '879879.70%', '881901.89%', '538443.17%', '746313.94%', '256686.78%', '394524.16%', '571033.31%', '816261.71%', '287205.13%', '617710.93%', '2412750.40%', '245019.10%', '239210.79%', '580206.60%', '394637.21%', '916206.32%', '1290256.01%', '323536.05%', '245458.35%', '1897545.61%', '471532.13%', '473787.17%', '493291.63%', '574422.97%', '1389173.57%', '738097.67%', '309003.41%', '252163.31%', '265206.18%', '277104.50%', '393900.64%', '1223187.97%', '495165.61%', '1281910.29%', '446851.05%', '551434.40%', '334387.53%', '229447.89%', '3670742.64%', '3347334.95%', '798343.17%', '487938.48%', '429399.73%', '716439.55%', '761951.58%', '395800.28%', '449949.33%', '405956.74%', '445811.34%', '811033.31%', '333976.49%', '2426101.78%', '661397.37%', '293069.35%', '867219.43%', '1163866.93%', '684615.03%', '1172777.65%', '2264383.48%', '261447.43%', '245175.27%', '678127.02%', '497480.15%', '859160.49%', '559216.14%', '800947.28%', nan, '5816655.35%', '802522.94%', '578018.22%', '411853.91%', '252307.02%', '655421.64%', '538275.20%', '592672.94%', '268347.07%', '269518.24%', '604702.52%', '1317101.28%', '1595001.95%', '252765.38%', '267209.58%', '531329.40%', '2094619.25%', '837535.39%', '480166.15%', '574594.33%', '606611.60%', ...),\\n       (nan, '697953.59%', '1288743.17%', '764586.18%', '536307.65%', '825629.78%', '538089.86%', '721610.03%', '2412750.40%', '738817.81%', '473899.20%', '819719.71%', '879879.70%', '881901.89%', '538443.17%', '746313.94%', '256686.78%', '394524.16%', '571033.31%', '816261.71%', '287205.13%', '617710.93%', '2412750.40%', '245019.10%', '239210.79%', '580206.60%', '394637.21%', '916206.32%', '1290256.01%', '323536.05%', '245458.35%', '1897545.61%', '471532.13%', '473787.17%', '493291.63%', '574422.97%', '1389173.57%', '738097.67%', '309003.41%', '252163.31%', '265206.18%', '277104.50%', '393900.64%', '1223187.97%', '495165.61%', '1281910.29%', '446851.05%', '551434.40%', '334387.53%', '229447.89%', '3670742.64%', '3347334.95%', '798343.17%', '487938.48%', '429399.73%', '716439.55%', '761951.58%', '395800.28%', '449949.33%', '405956.74%', '445811.34%', '811033.31%', '333976.49%', '2426101.78%', '661397.37%', '293069.35%', '867219.43%', '1163866.93%', '684615.03%', '1172777.65%', '2264383.48%', '261447.43%', '245175.27%', '678127.02%', '497480.15%', '859160.49%', '559216.14%', '800947.28%', nan, '5816655.35%', '802522.94%', '578018.22%', '411853.91%', '252307.02%', '655421.64%', '538275.20%', '592672.94%', '268347.07%', '269518.24%', '604702.52%', '1317101.28%', '1595001.95%', '252765.38%', '267209.58%', '531329.40%', '2094619.25%', '837535.39%', '480166.15%', '574594.33%', '606611.60%', ...),\\n       (nan, '697953.59%', '1288743.17%', '764586.18%', '536307.65%', '825629.78%', '538089.86%', '721610.03%', '2412750.40%', '738817.81%', '473899.20%', '819719.71%', '879879.70%', '881901.89%', '538443.17%', '746313.94%', '256686.78%', '394524.16%', '571033.31%', '816261.71%', '287205.13%', '617710.93%', '2412750.40%', '245019.10%', '239210.79%', '580206.60%', '394637.21%', '916206.32%', '1290256.01%', '323536.05%', '245458.35%', '1897545.61%', '471532.13%', '473787.17%', '493291.63%', '574422.97%', '1389173.57%', '738097.67%', '309003.41%', '252163.31%', '265206.18%', '277104.50%', '393900.64%', '1223187.97%', '495165.61%', '1281910.29%', '446851.05%', '551434.40%', '334387.53%', '229447.89%', '3670742.64%', '3347334.95%', '798343.17%', '487938.48%', '429399.73%', '716439.55%', '761951.58%', '395800.28%', '449949.33%', '405956.74%', '445811.34%', '811033.31%', '333976.49%', '2426101.78%', '661397.37%', '293069.35%', '867219.43%', '1163866.93%', '684615.03%', '1172777.65%', '2264383.48%', '261447.43%', '245175.27%', '678127.02%', '497480.15%', '859160.49%', '559216.14%', '800947.28%', nan, '5816655.35%', '802522.94%', '578018.22%', '411853.91%', '252307.02%', '655421.64%', '538275.20%', '592672.94%', '268347.07%', '269518.24%', '604702.52%', '1317101.28%', '1595001.95%', '252765.38%', '267209.58%', '531329.40%', '2094619.25%', '837535.39%', '480166.15%', '574594.33%', '606611.60%', ...),\\n       (nan, '697953.59%', '1288743.17%', '764586.18%', '536307.65%', '825629.78%', '538089.86%', '721610.03%', '2412750.40%', '738817.81%', '473899.20%', '819719.71%', '879879.70%', '881901.89%', '538443.17%', '746313.94%', '256686.78%', '394524.16%', '571033.31%', '816261.71%', '287205.13%', '617710.93%', '2412750.40%', '245019.10%', '239210.79%', '580206.60%', '394637.21%', '916206.32%', '1290256.01%', '323536.05%', '245458.35%', '1897545.61%', '471532.13%', '473787.17%', '493291.63%', '574422.97%', '1389173.57%', '738097.67%', '309003.41%', '252163.31%', '265206.18%', '277104.50%', '393900.64%', '1223187.97%', '495165.61%', '1281910.29%', '446851.05%', '551434.40%', '334387.53%', '229447.89%', '3670742.64%', '3347334.95%', '798343.17%', '487938.48%', '429399.73%', '716439.55%', '761951.58%', '395800.28%', '449949.33%', '405956.74%', '445811.34%', '811033.31%', '333976.49%', '2426101.78%', '661397.37%', '293069.35%', '867219.43%', '1163866.93%', '684615.03%', '1172777.65%', '2264383.48%', '261447.43%', '245175.27%', '678127.02%', '497480.15%', '859160.49%', '559216.14%', '800947.28%', nan, '5816655.35%', '802522.94%', '578018.22%', '411853.91%', '252307.02%', '655421.64%', '538275.20%', '592672.94%', '268347.07%', '269518.24%', '604702.52%', '1317101.28%', '1595001.95%', '252765.38%', '267209.58%', '531329.40%', '2094619.25%', '837535.39%', '480166.15%', '574594.33%', '606611.60%', ...),\\n       (nan, '697953.59%', '1288743.17%', '764586.18%', '536307.65%', '825629.78%', '538089.86%', '721610.03%', '2412750.40%', '738817.81%', '473899.20%', '819719.71%', '879879.70%', '881901.89%', '538443.17%', '746313.94%', '256686.78%', '394524.16%', '571033.31%', '816261.71%', '287205.13%', '617710.93%', '2412750.40%', '245019.10%', '239210.79%', '580206.60%', '394637.21%', '916206.32%', '1290256.01%', '323536.05%', '245458.35%', '1897545.61%', '471532.13%', '473787.17%', '493291.63%', '574422.97%', '1389173.57%', '738097.67%', '309003.41%', '252163.31%', '265206.18%', '277104.50%', '393900.64%', '1223187.97%', '495165.61%', '1281910.29%', '446851.05%', '551434.40%', '334387.53%', '229447.89%', '3670742.64%', '3347334.95%', '798343.17%', '487938.48%', '429399.73%', '716439.55%', '761951.58%', '395800.28%', '449949.33%', '405956.74%', '445811.34%', '811033.31%', '333976.49%', '2426101.78%', '661397.37%', '293069.35%', '867219.43%', '1163866.93%', '684615.03%', '1172777.65%', '2264383.48%', '261447.43%', '245175.27%', '678127.02%', '497480.15%', '859160.49%', '559216.14%', '800947.28%', nan, '5816655.35%', '802522.94%', '578018.22%', '411853.91%', '252307.02%', '655421.64%', '538275.20%', '592672.94%', '268347.07%', '269518.24%', '604702.52%', '1317101.28%', '1595001.95%', '252765.38%', '267209.58%', '531329.40%', '2094619.25%', '837535.39%', '480166.15%', '574594.33%', '606611.60%', ...),\\n       (nan, '697953.59%', '1288743.17%', '764586.18%', '536307.65%', '825629.78%', '538089.86%', '721610.03%', '2412750.40%', '738817.81%', '473899.20%', '819719.71%', '879879.70%', '881901.89%', '538443.17%', '746313.94%', '256686.78%', '394524.16%', '571033.31%', '816261.71%', '287205.13%', '617710.93%', '2412750.40%', '245019.10%', '239210.79%', '580206.60%', '394637.21%', '916206.32%', '1290256.01%', '323536.05%', '245458.35%', '1897545.61%', '471532.13%', '473787.17%', '493291.63%', '574422.97%', '1389173.57%', '738097.67%', '309003.41%', '252163.31%', '265206.18%', '277104.50%', '393900.64%', '1223187.97%', '495165.61%', '1281910.29%', '446851.05%', '551434.40%', '334387.53%', '229447.89%', '3670742.64%', '3347334.95%', '798343.17%', '487938.48%', '429399.73%', '716439.55%', '761951.58%', '395800.28%', '449949.33%', '405956.74%', '445811.34%', '811033.31%', '333976.49%', '2426101.78%', '661397.37%', '293069.35%', '867219.43%', '1163866.93%', '684615.03%', '1172777.65%', '2264383.48%', '261447.43%', '245175.27%', '678127.02%', '497480.15%', '859160.49%', '559216.14%', '800947.28%', nan, '5816655.35%', '802522.94%', '578018.22%', '411853.91%', '252307.02%', '655421.64%', '538275.20%', '592672.94%', '268347.07%', '269518.24%', '604702.52%', '1317101.28%', '1595001.95%', '252765.38%', '267209.58%', '531329.40%', '2094619.25%', '837535.39%', '480166.15%', '574594.33%', '606611.60%', ...),\\n       (nan, '697953.59%', '1288743.17%', '764586.18%', '536307.65%', '825629.78%', '538089.86%', '721610.03%', '2412750.40%', '738817.81%', '473899.20%', '819719.71%', '879879.70%', '881901.89%', '538443.17%', '746313.94%', '256686.78%', '394524.16%', '571033.31%', '816261.71%', '287205.13%', '617710.93%', '2412750.40%', '245019.10%', '239210.79%', '580206.60%', '394637.21%', '916206.32%', '1290256.01%', '323536.05%', '245458.35%', '1897545.61%', '471532.13%', '473787.17%', '493291.63%', '574422.97%', '1389173.57%', '738097.67%', '309003.41%', '252163.31%', '265206.18%', '277104.50%', '393900.64%', '1223187.97%', '495165.61%', '1281910.29%', '446851.05%', '551434.40%', '334387.53%', '229447.89%', '3670742.64%', '3347334.95%', '798343.17%', '487938.48%', '429399.73%', '716439.55%', '761951.58%', '395800.28%', '449949.33%', '405956.74%', '445811.34%', '811033.31%', '333976.49%', '2426101.78%', '661397.37%', '293069.35%', '867219.43%', '1163866.93%', '684615.03%', '1172777.65%', '2264383.48%', '261447.43%', '245175.27%', '678127.02%', '497480.15%', '859160.49%', '559216.14%', '800947.28%', nan, '5816655.35%', '802522.94%', '578018.22%', '411853.91%', '252307.02%', '655421.64%', '538275.20%', '592672.94%', '268347.07%', '269518.24%', '604702.52%', '1317101.28%', '1595001.95%', '252765.38%', '267209.58%', '531329.40%', '2094619.25%', '837535.39%', '480166.15%', '574594.33%', '606611.60%', ...),\\n       (nan, '697953.59%', '1288743.17%', '764586.18%', '536307.65%', '825629.78%', '538089.86%', '721610.03%', '2412750.40%', '738817.81%', '473899.20%', '819719.71%', '879879.70%', '881901.89%', '538443.17%', '746313.94%', '256686.78%', '394524.16%', '571033.31%', '816261.71%', '287205.13%', '617710.93%', '2412750.40%', '245019.10%', '239210.79%', '580206.60%', '394637.21%', '916206.32%', '1290256.01%', '323536.05%', '245458.35%', '1897545.61%', '471532.13%', '473787.17%', '493291.63%', '574422.97%', '1389173.57%', '738097.67%', '309003.41%', '252163.31%', '265206.18%', '277104.50%', '393900.64%', '1223187.97%', '495165.61%', '1281910.29%', '446851.05%', '551434.40%', '334387.53%', '229447.89%', '3670742.64%', '3347334.95%', '798343.17%', '487938.48%', '429399.73%', '716439.55%', '761951.58%', '395800.28%', '449949.33%', '405956.74%', '445811.34%', '811033.31%', '333976.49%', '2426101.78%', '661397.37%', '293069.35%', '867219.43%', '1163866.93%', '684615.03%', '1172777.65%', '2264383.48%', '261447.43%', '245175.27%', '678127.02%', '497480.15%', '859160.49%', '559216.14%', '800947.28%', nan, '5816655.35%', '802522.94%', '578018.22%', '411853.91%', '252307.02%', '655421.64%', '538275.20%', '592672.94%', '268347.07%', '269518.24%', '604702.52%', '1317101.28%', '1595001.95%', '252765.38%', '267209.58%', '531329.40%', '2094619.25%', '837535.39%', '480166.15%', '574594.33%', '606611.60%', ...),\\n       (nan, '697953.59%', '1288743.17%', '764586.18%', '536307.65%', '825629.78%', '538089.86%', '721610.03%', '2412750.40%', '738817.81%', '473899.20%', '819719.71%', '879879.70%', '881901.89%', '538443.17%', '746313.94%', '256686.78%', '394524.16%', '571033.31%', '816261.71%', '287205.13%', '617710.93%', '2412750.40%', '245019.10%', '239210.79%', '580206.60%', '394637.21%', '916206.32%', '1290256.01%', '323536.05%', '245458.35%', '1897545.61%', '471532.13%', '473787.17%', '493291.63%', '574422.97%', '1389173.57%', '738097.67%', '309003.41%', '252163.31%', '265206.18%', '277104.50%', '393900.64%', '1223187.97%', '495165.61%', '1281910.29%', '446851.05%', '551434.40%', '334387.53%', '229447.89%', '3670742.64%', '3347334.95%', '798343.17%', '487938.48%', '429399.73%', '716439.55%', '761951.58%', '395800.28%', '449949.33%', '405956.74%', '445811.34%', '811033.31%', '333976.49%', '2426101.78%', '661397.37%', '293069.35%', '867219.43%', '1163866.93%', '684615.03%', '1172777.65%', '2264383.48%', '261447.43%', '245175.27%', '678127.02%', '497480.15%', '859160.49%', '559216.14%', '800947.28%', nan, '5816655.35%', '802522.94%', '578018.22%', '411853.91%', '252307.02%', '655421.64%', '538275.20%', '592672.94%', '268347.07%', '269518.24%', '604702.52%', '1317101.28%', '1595001.95%', '252765.38%', '267209.58%', '531329.40%', '2094619.25%', '837535.39%', '480166.15%', '574594.33%', '606611.60%', ...),\\n       (nan, '697953.59%', '1288743.17%', '764586.18%', '536307.65%', '825629.78%', '538089.86%', '721610.03%', '2412750.40%', '738817.81%', '473899.20%', '819719.71%', '879879.70%', '881901.89%', '538443.17%', '746313.94%', '256686.78%', '394524.16%', '571033.31%', '816261.71%', '287205.13%', '617710.93%', '2412750.40%', '245019.10%', '239210.79%', '580206.60%', '394637.21%', '916206.32%', '1290256.01%', '323536.05%', '245458.35%', '1897545.61%', '471532.13%', '473787.17%', '493291.63%', '574422.97%', '1389173.57%', '738097.67%', '309003.41%', '252163.31%', '265206.18%', '277104.50%', '393900.64%', '1223187.97%', '495165.61%', '1281910.29%', '446851.05%', '551434.40%', '334387.53%', '229447.89%', '3670742.64%', '3347334.95%', '798343.17%', '487938.48%', '429399.73%', '716439.55%', '761951.58%', '395800.28%', '449949.33%', '405956.74%', '445811.34%', '811033.31%', '333976.49%', '2426101.78%', '661397.37%', '293069.35%', '867219.43%', '1163866.93%', '684615.03%', '1172777.65%', '2264383.48%', '261447.43%', '245175.27%', '678127.02%', '497480.15%', '859160.49%', '559216.14%', '800947.28%', nan, '5816655.35%', '802522.94%', '578018.22%', '411853.91%', '252307.02%', '655421.64%', '538275.20%', '592672.94%', '268347.07%', '269518.24%', '604702.52%', '1317101.28%', '1595001.95%', '252765.38%', '267209.58%', '531329.40%', '2094619.25%', '837535.39%', '480166.15%', '574594.33%', '606611.60%', ...),\\n       (nan, '697953.59%', '1288743.17%', '764586.18%', '536307.65%', '825629.78%', '538089.86%', '721610.03%', '2412750.40%', '738817.81%', '473899.20%', '819719.71%', '879879.70%', '881901.89%', '538443.17%', '746313.94%', '256686.78%', '394524.16%', '571033.31%', '816261.71%', '287205.13%', '617710.93%', '2412750.40%', '245019.10%', '239210.79%', '580206.60%', '394637.21%', '916206.32%', '1290256.01%', '323536.05%', '245458.35%', '1897545.61%', '471532.13%', '473787.17%', '493291.63%', '574422.97%', '1389173.57%', '738097.67%', '309003.41%', '252163.31%', '265206.18%', '277104.50%', '393900.64%', '1223187.97%', '495165.61%', '1281910.29%', '446851.05%', '551434.40%', '334387.53%', '229447.89%', '3670742.64%', '3347334.95%', '798343.17%', '487938.48%', '429399.73%', '716439.55%', '761951.58%', '395800.28%', '449949.33%', '405956.74%', '445811.34%', '811033.31%', '333976.49%', '2426101.78%', '661397.37%', '293069.35%', '867219.43%', '1163866.93%', '684615.03%', '1172777.65%', '2264383.48%', '261447.43%', '245175.27%', '678127.02%', '497480.15%', '859160.49%', '559216.14%', '800947.28%', nan, '5816655.35%', '802522.94%', '578018.22%', '411853.91%', '252307.02%', '655421.64%', '538275.20%', '592672.94%', '268347.07%', '269518.24%', '604702.52%', '1317101.28%', '1595001.95%', '252765.38%', '267209.58%', '531329.40%', '2094619.25%', '837535.39%', '480166.15%', '574594.33%', '606611.60%', ...),\\n       (nan, '697953.59%', '1288743.17%', '764586.18%', '536307.65%', '825629.78%', '538089.86%', '721610.03%', '2412750.40%', '738817.81%', '473899.20%', '819719.71%', '879879.70%', '881901.89%', '538443.17%', '746313.94%', '256686.78%', '394524.16%', '571033.31%', '816261.71%', '287205.13%', '617710.93%', '2412750.40%', '245019.10%', '239210.79%', '580206.60%', '394637.21%', '916206.32%', '1290256.01%', '323536.05%', '245458.35%', '1897545.61%', '471532.13%', '473787.17%', '493291.63%', '574422.97%', '1389173.57%', '738097.67%', '309003.41%', '252163.31%', '265206.18%', '277104.50%', '393900.64%', '1223187.97%', '495165.61%', '1281910.29%', '446851.05%', '551434.40%', '334387.53%', '229447.89%', '3670742.64%', '3347334.95%', '798343.17%', '487938.48%', '429399.73%', '716439.55%', '761951.58%', '395800.28%', '449949.33%', '405956.74%', '445811.34%', '811033.31%', '333976.49%', '2426101.78%', '661397.37%', '293069.35%', '867219.43%', '1163866.93%', '684615.03%', '1172777.65%', '2264383.48%', '261447.43%', '245175.27%', '678127.02%', '497480.15%', '859160.49%', '559216.14%', '800947.28%', nan, '5816655.35%', '802522.94%', '578018.22%', '411853.91%', '252307.02%', '655421.64%', '538275.20%', '592672.94%', '268347.07%', '269518.24%', '604702.52%', '1317101.28%', '1595001.95%', '252765.38%', '267209.58%', '531329.40%', '2094619.25%', '837535.39%', '480166.15%', '574594.33%', '606611.60%', ...),\\n       (nan, '697953.59%', '1288743.17%', '764586.18%', '536307.65%', '825629.78%', '538089.86%', '721610.03%', '2412750.40%', '738817.81%', '473899.20%', '819719.71%', '879879.70%', '881901.89%', '538443.17%', '746313.94%', '256686.78%', '394524.16%', '571033.31%', '816261.71%', '287205.13%', '617710.93%', '2412750.40%', '245019.10%', '239210.79%', '580206.60%', '394637.21%', '916206.32%', '1290256.01%', '323536.05%', '245458.35%', '1897545.61%', '471532.13%', '473787.17%', '493291.63%', '574422.97%', '1389173.57%', '738097.67%', '309003.41%', '252163.31%', '265206.18%', '277104.50%', '393900.64%', '1223187.97%', '495165.61%', '1281910.29%', '446851.05%', '551434.40%', '334387.53%', '229447.89%', '3670742.64%', '3347334.95%', '798343.17%', '487938.48%', '429399.73%', '716439.55%', '761951.58%', '395800.28%', '449949.33%', '405956.74%', '445811.34%', '811033.31%', '333976.49%', '2426101.78%', '661397.37%', '293069.35%', '867219.43%', '1163866.93%', '684615.03%', '1172777.65%', '2264383.48%', '261447.43%', '245175.27%', '678127.02%', '497480.15%', '859160.49%', '559216.14%', '800947.28%', nan, '5816655.35%', '802522.94%', '578018.22%', '411853.91%', '252307.02%', '655421.64%', '538275.20%', '592672.94%', '268347.07%', '269518.24%', '604702.52%', '1317101.28%', '1595001.95%', '252765.38%', '267209.58%', '531329.40%', '2094619.25%', '837535.39%', '480166.15%', '574594.33%', '606611.60%', ...),\\n       (nan, '697953.59%', '1288743.17%', '764586.18%', '536307.65%', '825629.78%', '538089.86%', '721610.03%', '2412750.40%', '738817.81%', '473899.20%', '819719.71%', '879879.70%', '881901.89%', '538443.17%', '746313.94%', '256686.78%', '394524.16%', '571033.31%', '816261.71%', '287205.13%', '617710.93%', '2412750.40%', '245019.10%', '239210.79%', '580206.60%', '394637.21%', '916206.32%', '1290256.01%', '323536.05%', '245458.35%', '1897545.61%', '471532.13%', '473787.17%', '493291.63%', '574422.97%', '1389173.57%', '738097.67%', '309003.41%', '252163.31%', '265206.18%', '277104.50%', '393900.64%', '1223187.97%', '495165.61%', '1281910.29%', '446851.05%', '551434.40%', '334387.53%', '229447.89%', '3670742.64%', '3347334.95%', '798343.17%', '487938.48%', '429399.73%', '716439.55%', '761951.58%', '395800.28%', '449949.33%', '405956.74%', '445811.34%', '811033.31%', '333976.49%', '2426101.78%', '661397.37%', '293069.35%', '867219.43%', '1163866.93%', '684615.03%', '1172777.65%', '2264383.48%', '261447.43%', '245175.27%', '678127.02%', '497480.15%', '859160.49%', '559216.14%', '800947.28%', nan, '5816655.35%', '802522.94%', '578018.22%', '411853.91%', '252307.02%', '655421.64%', '538275.20%', '592672.94%', '268347.07%', '269518.24%', '604702.52%', '1317101.28%', '1595001.95%', '252765.38%', '267209.58%', '531329.40%', '2094619.25%', '837535.39%', '480166.15%', '574594.33%', '606611.60%', ...),\\n       (nan, '697953.59%', '1288743.17%', '764586.18%', '536307.65%', '825629.78%', '538089.86%', '721610.03%', '2412750.40%', '738817.81%', '473899.20%', '819719.71%', '879879.70%', '881901.89%', '538443.17%', '746313.94%', '256686.78%', '394524.16%', '571033.31%', '816261.71%', '287205.13%', '617710.93%', '2412750.40%', '245019.10%', '239210.79%', '580206.60%', '394637.21%', '916206.32%', '1290256.01%', '323536.05%', '245458.35%', '1897545.61%', '471532.13%', '473787.17%', '493291.63%', '574422.97%', '1389173.57%', '738097.67%', '309003.41%', '252163.31%', '265206.18%', '277104.50%', '393900.64%', '1223187.97%', '495165.61%', '1281910.29%', '446851.05%', '551434.40%', '334387.53%', '229447.89%', '3670742.64%', '3347334.95%', '798343.17%', '487938.48%', '429399.73%', '716439.55%', '761951.58%', '395800.28%', '449949.33%', '405956.74%', '445811.34%', '811033.31%', '333976.49%', '2426101.78%', '661397.37%', '293069.35%', '867219.43%', '1163866.93%', '684615.03%', '1172777.65%', '2264383.48%', '261447.43%', '245175.27%', '678127.02%', '497480.15%', '859160.49%', '559216.14%', '800947.28%', nan, '5816655.35%', '802522.94%', '578018.22%', '411853.91%', '252307.02%', '655421.64%', '538275.20%', '592672.94%', '268347.07%', '269518.24%', '604702.52%', '1317101.28%', '1595001.95%', '252765.38%', '267209.58%', '531329.40%', '2094619.25%', '837535.39%', '480166.15%', '574594.33%', '606611.60%', ...),\\n       (nan, '697953.59%', '1288743.17%', '764586.18%', '536307.65%', '825629.78%', '538089.86%', '721610.03%', '2412750.40%', '738817.81%', '473899.20%', '819719.71%', '879879.70%', '881901.89%', '538443.17%', '746313.94%', '256686.78%', '394524.16%', '571033.31%', '816261.71%', '287205.13%', '617710.93%', '2412750.40%', '245019.10%', '239210.79%', '580206.60%', '394637.21%', '916206.32%', '1290256.01%', '323536.05%', '245458.35%', '1897545.61%', '471532.13%', '473787.17%', '493291.63%', '574422.97%', '1389173.57%', '738097.67%', '309003.41%', '252163.31%', '265206.18%', '277104.50%', '393900.64%', '1223187.97%', '495165.61%', '1281910.29%', '446851.05%', '551434.40%', '334387.53%', '229447.89%', '3670742.64%', '3347334.95%', '798343.17%', '487938.48%', '429399.73%', '716439.55%', '761951.58%', '395800.28%', '449949.33%', '405956.74%', '445811.34%', '811033.31%', '333976.49%', '2426101.78%', '661397.37%', '293069.35%', '867219.43%', '1163866.93%', '684615.03%', '1172777.65%', '2264383.48%', '261447.43%', '245175.27%', '678127.02%', '497480.15%', '859160.49%', '559216.14%', '800947.28%', nan, '5816655.35%', '802522.94%', '578018.22%', '411853.91%', '252307.02%', '655421.64%', '538275.20%', '592672.94%', '268347.07%', '269518.24%', '604702.52%', '1317101.28%', '1595001.95%', '252765.38%', '267209.58%', '531329.40%', '2094619.25%', '837535.39%', '480166.15%', '574594.33%', '606611.60%', ...),\\n       (nan, '697953.59%', '1288743.17%', '764586.18%', '536307.65%', '825629.78%', '538089.86%', '721610.03%', '2412750.40%', '738817.81%', '473899.20%', '819719.71%', '879879.70%', '881901.89%', '538443.17%', '746313.94%', '256686.78%', '394524.16%', '571033.31%', '816261.71%', '287205.13%', '617710.93%', '2412750.40%', '245019.10%', '239210.79%', '580206.60%', '394637.21%', '916206.32%', '1290256.01%', '323536.05%', '245458.35%', '1897545.61%', '471532.13%', '473787.17%', '493291.63%', '574422.97%', '1389173.57%', '738097.67%', '309003.41%', '252163.31%', '265206.18%', '277104.50%', '393900.64%', '1223187.97%', '495165.61%', '1281910.29%', '446851.05%', '551434.40%', '334387.53%', '229447.89%', '3670742.64%', '3347334.95%', '798343.17%', '487938.48%', '429399.73%', '716439.55%', '761951.58%', '395800.28%', '449949.33%', '405956.74%', '445811.34%', '811033.31%', '333976.49%', '2426101.78%', '661397.37%', '293069.35%', '867219.43%', '1163866.93%', '684615.03%', '1172777.65%', '2264383.48%', '261447.43%', '245175.27%', '678127.02%', '497480.15%', '859160.49%', '559216.14%', '800947.28%', nan, '5816655.35%', '802522.94%', '578018.22%', '411853.91%', '252307.02%', '655421.64%', '538275.20%', '592672.94%', '268347.07%', '269518.24%', '604702.52%', '1317101.28%', '1595001.95%', '252765.38%', '267209.58%', '531329.40%', '2094619.25%', '837535.39%', '480166.15%', '574594.33%', '606611.60%', ...),\\n       (nan, '697953.59%', '1288743.17%', '764586.18%', '536307.65%', '825629.78%', '538089.86%', '721610.03%', '2412750.40%', '738817.81%', '473899.20%', '819719.71%', '879879.70%', '881901.89%', '538443.17%', '746313.94%', '256686.78%', '394524.16%', '571033.31%', '816261.71%', '287205.13%', '617710.93%', '2412750.40%', '245019.10%', '239210.79%', '580206.60%', '394637.21%', '916206.32%', '1290256.01%', '323536.05%', '245458.35%', '1897545.61%', '471532.13%', '473787.17%', '493291.63%', '574422.97%', '1389173.57%', '738097.67%', '309003.41%', '252163.31%', '265206.18%', '277104.50%', '393900.64%', '1223187.97%', '495165.61%', '1281910.29%', '446851.05%', '551434.40%', '334387.53%', '229447.89%', '3670742.64%', '3347334.95%', '798343.17%', '487938.48%', '429399.73%', '716439.55%', '761951.58%', '395800.28%', '449949.33%', '405956.74%', '445811.34%', '811033.31%', '333976.49%', '2426101.78%', '661397.37%', '293069.35%', '867219.43%', '1163866.93%', '684615.03%', '1172777.65%', '2264383.48%', '261447.43%', '245175.27%', '678127.02%', '497480.15%', '859160.49%', '559216.14%', '800947.28%', nan, '5816655.35%', '802522.94%', '578018.22%', '411853.91%', '252307.02%', '655421.64%', '538275.20%', '592672.94%', '268347.07%', '269518.24%', '604702.52%', '1317101.28%', '1595001.95%', '252765.38%', '267209.58%', '531329.40%', '2094619.25%', '837535.39%', '480166.15%', '574594.33%', '606611.60%', ...)],\\n      dtype='object')] are in the [columns]\"",
     "output_type": "error",
     "traceback": [
      "\u001b[1;31m---------------------------------------------------------------------------\u001b[0m",
      "\u001b[1;31mKeyError\u001b[0m                                  Traceback (most recent call last)",
      "\u001b[1;32m~\\AppData\\Local\\Temp\\ipykernel_4112\\2454933873.py\u001b[0m in \u001b[0;36m<module>\u001b[1;34m\u001b[0m\n\u001b[1;32m----> 1\u001b[1;33m \u001b[0mdata\u001b[0m\u001b[1;33m[\u001b[0m\u001b[1;34m'customer_lifetime_value'\u001b[0m\u001b[1;33m]\u001b[0m \u001b[1;33m=\u001b[0m \u001b[0mdata\u001b[0m \u001b[1;33m[\u001b[0m\u001b[0mx\u001b[0m\u001b[1;33m]\u001b[0m\u001b[1;33m\u001b[0m\u001b[1;33m\u001b[0m\u001b[0m\n\u001b[0m\u001b[0;32m      2\u001b[0m \u001b[1;31m#data.head()\u001b[0m\u001b[1;33m\u001b[0m\u001b[1;33m\u001b[0m\u001b[0m\n",
      "\u001b[1;32m~\\anaconda3\\lib\\site-packages\\pandas\\core\\frame.py\u001b[0m in \u001b[0;36m__getitem__\u001b[1;34m(self, key)\u001b[0m\n\u001b[0;32m   3509\u001b[0m             \u001b[1;32mif\u001b[0m \u001b[0mis_iterator\u001b[0m\u001b[1;33m(\u001b[0m\u001b[0mkey\u001b[0m\u001b[1;33m)\u001b[0m\u001b[1;33m:\u001b[0m\u001b[1;33m\u001b[0m\u001b[1;33m\u001b[0m\u001b[0m\n\u001b[0;32m   3510\u001b[0m                 \u001b[0mkey\u001b[0m \u001b[1;33m=\u001b[0m \u001b[0mlist\u001b[0m\u001b[1;33m(\u001b[0m\u001b[0mkey\u001b[0m\u001b[1;33m)\u001b[0m\u001b[1;33m\u001b[0m\u001b[1;33m\u001b[0m\u001b[0m\n\u001b[1;32m-> 3511\u001b[1;33m             \u001b[0mindexer\u001b[0m \u001b[1;33m=\u001b[0m \u001b[0mself\u001b[0m\u001b[1;33m.\u001b[0m\u001b[0mcolumns\u001b[0m\u001b[1;33m.\u001b[0m\u001b[0m_get_indexer_strict\u001b[0m\u001b[1;33m(\u001b[0m\u001b[0mkey\u001b[0m\u001b[1;33m,\u001b[0m \u001b[1;34m\"columns\"\u001b[0m\u001b[1;33m)\u001b[0m\u001b[1;33m[\u001b[0m\u001b[1;36m1\u001b[0m\u001b[1;33m]\u001b[0m\u001b[1;33m\u001b[0m\u001b[1;33m\u001b[0m\u001b[0m\n\u001b[0m\u001b[0;32m   3512\u001b[0m \u001b[1;33m\u001b[0m\u001b[0m\n\u001b[0;32m   3513\u001b[0m         \u001b[1;31m# take() does not accept boolean indexers\u001b[0m\u001b[1;33m\u001b[0m\u001b[1;33m\u001b[0m\u001b[0m\n",
      "\u001b[1;32m~\\anaconda3\\lib\\site-packages\\pandas\\core\\indexes\\base.py\u001b[0m in \u001b[0;36m_get_indexer_strict\u001b[1;34m(self, key, axis_name)\u001b[0m\n\u001b[0;32m   5794\u001b[0m             \u001b[0mkeyarr\u001b[0m\u001b[1;33m,\u001b[0m \u001b[0mindexer\u001b[0m\u001b[1;33m,\u001b[0m \u001b[0mnew_indexer\u001b[0m \u001b[1;33m=\u001b[0m \u001b[0mself\u001b[0m\u001b[1;33m.\u001b[0m\u001b[0m_reindex_non_unique\u001b[0m\u001b[1;33m(\u001b[0m\u001b[0mkeyarr\u001b[0m\u001b[1;33m)\u001b[0m\u001b[1;33m\u001b[0m\u001b[1;33m\u001b[0m\u001b[0m\n\u001b[0;32m   5795\u001b[0m \u001b[1;33m\u001b[0m\u001b[0m\n\u001b[1;32m-> 5796\u001b[1;33m         \u001b[0mself\u001b[0m\u001b[1;33m.\u001b[0m\u001b[0m_raise_if_missing\u001b[0m\u001b[1;33m(\u001b[0m\u001b[0mkeyarr\u001b[0m\u001b[1;33m,\u001b[0m \u001b[0mindexer\u001b[0m\u001b[1;33m,\u001b[0m \u001b[0maxis_name\u001b[0m\u001b[1;33m)\u001b[0m\u001b[1;33m\u001b[0m\u001b[1;33m\u001b[0m\u001b[0m\n\u001b[0m\u001b[0;32m   5797\u001b[0m \u001b[1;33m\u001b[0m\u001b[0m\n\u001b[0;32m   5798\u001b[0m         \u001b[0mkeyarr\u001b[0m \u001b[1;33m=\u001b[0m \u001b[0mself\u001b[0m\u001b[1;33m.\u001b[0m\u001b[0mtake\u001b[0m\u001b[1;33m(\u001b[0m\u001b[0mindexer\u001b[0m\u001b[1;33m)\u001b[0m\u001b[1;33m\u001b[0m\u001b[1;33m\u001b[0m\u001b[0m\n",
      "\u001b[1;32m~\\anaconda3\\lib\\site-packages\\pandas\\core\\indexes\\base.py\u001b[0m in \u001b[0;36m_raise_if_missing\u001b[1;34m(self, key, indexer, axis_name)\u001b[0m\n\u001b[0;32m   5854\u001b[0m                 \u001b[1;32mif\u001b[0m \u001b[0muse_interval_msg\u001b[0m\u001b[1;33m:\u001b[0m\u001b[1;33m\u001b[0m\u001b[1;33m\u001b[0m\u001b[0m\n\u001b[0;32m   5855\u001b[0m                     \u001b[0mkey\u001b[0m \u001b[1;33m=\u001b[0m \u001b[0mlist\u001b[0m\u001b[1;33m(\u001b[0m\u001b[0mkey\u001b[0m\u001b[1;33m)\u001b[0m\u001b[1;33m\u001b[0m\u001b[1;33m\u001b[0m\u001b[0m\n\u001b[1;32m-> 5856\u001b[1;33m                 \u001b[1;32mraise\u001b[0m \u001b[0mKeyError\u001b[0m\u001b[1;33m(\u001b[0m\u001b[1;34mf\"None of [{key}] are in the [{axis_name}]\"\u001b[0m\u001b[1;33m)\u001b[0m\u001b[1;33m\u001b[0m\u001b[1;33m\u001b[0m\u001b[0m\n\u001b[0m\u001b[0;32m   5857\u001b[0m \u001b[1;33m\u001b[0m\u001b[0m\n\u001b[0;32m   5858\u001b[0m             \u001b[0mnot_found\u001b[0m \u001b[1;33m=\u001b[0m \u001b[0mlist\u001b[0m\u001b[1;33m(\u001b[0m\u001b[0mensure_index\u001b[0m\u001b[1;33m(\u001b[0m\u001b[0mkey\u001b[0m\u001b[1;33m)\u001b[0m\u001b[1;33m[\u001b[0m\u001b[0mmissing_mask\u001b[0m\u001b[1;33m.\u001b[0m\u001b[0mnonzero\u001b[0m\u001b[1;33m(\u001b[0m\u001b[1;33m)\u001b[0m\u001b[1;33m[\u001b[0m\u001b[1;36m0\u001b[0m\u001b[1;33m]\u001b[0m\u001b[1;33m]\u001b[0m\u001b[1;33m.\u001b[0m\u001b[0munique\u001b[0m\u001b[1;33m(\u001b[0m\u001b[1;33m)\u001b[0m\u001b[1;33m)\u001b[0m\u001b[1;33m\u001b[0m\u001b[1;33m\u001b[0m\u001b[0m\n",
      "\u001b[1;31mKeyError\u001b[0m: \"None of [Index([(nan, '697953.59%', '1288743.17%', '764586.18%', '536307.65%', '825629.78%', '538089.86%', '721610.03%', '2412750.40%', '738817.81%', '473899.20%', '819719.71%', '879879.70%', '881901.89%', '538443.17%', '746313.94%', '256686.78%', '394524.16%', '571033.31%', '816261.71%', '287205.13%', '617710.93%', '2412750.40%', '245019.10%', '239210.79%', '580206.60%', '394637.21%', '916206.32%', '1290256.01%', '323536.05%', '245458.35%', '1897545.61%', '471532.13%', '473787.17%', '493291.63%', '574422.97%', '1389173.57%', '738097.67%', '309003.41%', '252163.31%', '265206.18%', '277104.50%', '393900.64%', '1223187.97%', '495165.61%', '1281910.29%', '446851.05%', '551434.40%', '334387.53%', '229447.89%', '3670742.64%', '3347334.95%', '798343.17%', '487938.48%', '429399.73%', '716439.55%', '761951.58%', '395800.28%', '449949.33%', '405956.74%', '445811.34%', '811033.31%', '333976.49%', '2426101.78%', '661397.37%', '293069.35%', '867219.43%', '1163866.93%', '684615.03%', '1172777.65%', '2264383.48%', '261447.43%', '245175.27%', '678127.02%', '497480.15%', '859160.49%', '559216.14%', '800947.28%', nan, '5816655.35%', '802522.94%', '578018.22%', '411853.91%', '252307.02%', '655421.64%', '538275.20%', '592672.94%', '268347.07%', '269518.24%', '604702.52%', '1317101.28%', '1595001.95%', '252765.38%', '267209.58%', '531329.40%', '2094619.25%', '837535.39%', '480166.15%', '574594.33%', '606611.60%', ...),\\n       (nan, '697953.59%', '1288743.17%', '764586.18%', '536307.65%', '825629.78%', '538089.86%', '721610.03%', '2412750.40%', '738817.81%', '473899.20%', '819719.71%', '879879.70%', '881901.89%', '538443.17%', '746313.94%', '256686.78%', '394524.16%', '571033.31%', '816261.71%', '287205.13%', '617710.93%', '2412750.40%', '245019.10%', '239210.79%', '580206.60%', '394637.21%', '916206.32%', '1290256.01%', '323536.05%', '245458.35%', '1897545.61%', '471532.13%', '473787.17%', '493291.63%', '574422.97%', '1389173.57%', '738097.67%', '309003.41%', '252163.31%', '265206.18%', '277104.50%', '393900.64%', '1223187.97%', '495165.61%', '1281910.29%', '446851.05%', '551434.40%', '334387.53%', '229447.89%', '3670742.64%', '3347334.95%', '798343.17%', '487938.48%', '429399.73%', '716439.55%', '761951.58%', '395800.28%', '449949.33%', '405956.74%', '445811.34%', '811033.31%', '333976.49%', '2426101.78%', '661397.37%', '293069.35%', '867219.43%', '1163866.93%', '684615.03%', '1172777.65%', '2264383.48%', '261447.43%', '245175.27%', '678127.02%', '497480.15%', '859160.49%', '559216.14%', '800947.28%', nan, '5816655.35%', '802522.94%', '578018.22%', '411853.91%', '252307.02%', '655421.64%', '538275.20%', '592672.94%', '268347.07%', '269518.24%', '604702.52%', '1317101.28%', '1595001.95%', '252765.38%', '267209.58%', '531329.40%', '2094619.25%', '837535.39%', '480166.15%', '574594.33%', '606611.60%', ...),\\n       (nan, '697953.59%', '1288743.17%', '764586.18%', '536307.65%', '825629.78%', '538089.86%', '721610.03%', '2412750.40%', '738817.81%', '473899.20%', '819719.71%', '879879.70%', '881901.89%', '538443.17%', '746313.94%', '256686.78%', '394524.16%', '571033.31%', '816261.71%', '287205.13%', '617710.93%', '2412750.40%', '245019.10%', '239210.79%', '580206.60%', '394637.21%', '916206.32%', '1290256.01%', '323536.05%', '245458.35%', '1897545.61%', '471532.13%', '473787.17%', '493291.63%', '574422.97%', '1389173.57%', '738097.67%', '309003.41%', '252163.31%', '265206.18%', '277104.50%', '393900.64%', '1223187.97%', '495165.61%', '1281910.29%', '446851.05%', '551434.40%', '334387.53%', '229447.89%', '3670742.64%', '3347334.95%', '798343.17%', '487938.48%', '429399.73%', '716439.55%', '761951.58%', '395800.28%', '449949.33%', '405956.74%', '445811.34%', '811033.31%', '333976.49%', '2426101.78%', '661397.37%', '293069.35%', '867219.43%', '1163866.93%', '684615.03%', '1172777.65%', '2264383.48%', '261447.43%', '245175.27%', '678127.02%', '497480.15%', '859160.49%', '559216.14%', '800947.28%', nan, '5816655.35%', '802522.94%', '578018.22%', '411853.91%', '252307.02%', '655421.64%', '538275.20%', '592672.94%', '268347.07%', '269518.24%', '604702.52%', '1317101.28%', '1595001.95%', '252765.38%', '267209.58%', '531329.40%', '2094619.25%', '837535.39%', '480166.15%', '574594.33%', '606611.60%', ...),\\n       (nan, '697953.59%', '1288743.17%', '764586.18%', '536307.65%', '825629.78%', '538089.86%', '721610.03%', '2412750.40%', '738817.81%', '473899.20%', '819719.71%', '879879.70%', '881901.89%', '538443.17%', '746313.94%', '256686.78%', '394524.16%', '571033.31%', '816261.71%', '287205.13%', '617710.93%', '2412750.40%', '245019.10%', '239210.79%', '580206.60%', '394637.21%', '916206.32%', '1290256.01%', '323536.05%', '245458.35%', '1897545.61%', '471532.13%', '473787.17%', '493291.63%', '574422.97%', '1389173.57%', '738097.67%', '309003.41%', '252163.31%', '265206.18%', '277104.50%', '393900.64%', '1223187.97%', '495165.61%', '1281910.29%', '446851.05%', '551434.40%', '334387.53%', '229447.89%', '3670742.64%', '3347334.95%', '798343.17%', '487938.48%', '429399.73%', '716439.55%', '761951.58%', '395800.28%', '449949.33%', '405956.74%', '445811.34%', '811033.31%', '333976.49%', '2426101.78%', '661397.37%', '293069.35%', '867219.43%', '1163866.93%', '684615.03%', '1172777.65%', '2264383.48%', '261447.43%', '245175.27%', '678127.02%', '497480.15%', '859160.49%', '559216.14%', '800947.28%', nan, '5816655.35%', '802522.94%', '578018.22%', '411853.91%', '252307.02%', '655421.64%', '538275.20%', '592672.94%', '268347.07%', '269518.24%', '604702.52%', '1317101.28%', '1595001.95%', '252765.38%', '267209.58%', '531329.40%', '2094619.25%', '837535.39%', '480166.15%', '574594.33%', '606611.60%', ...),\\n       (nan, '697953.59%', '1288743.17%', '764586.18%', '536307.65%', '825629.78%', '538089.86%', '721610.03%', '2412750.40%', '738817.81%', '473899.20%', '819719.71%', '879879.70%', '881901.89%', '538443.17%', '746313.94%', '256686.78%', '394524.16%', '571033.31%', '816261.71%', '287205.13%', '617710.93%', '2412750.40%', '245019.10%', '239210.79%', '580206.60%', '394637.21%', '916206.32%', '1290256.01%', '323536.05%', '245458.35%', '1897545.61%', '471532.13%', '473787.17%', '493291.63%', '574422.97%', '1389173.57%', '738097.67%', '309003.41%', '252163.31%', '265206.18%', '277104.50%', '393900.64%', '1223187.97%', '495165.61%', '1281910.29%', '446851.05%', '551434.40%', '334387.53%', '229447.89%', '3670742.64%', '3347334.95%', '798343.17%', '487938.48%', '429399.73%', '716439.55%', '761951.58%', '395800.28%', '449949.33%', '405956.74%', '445811.34%', '811033.31%', '333976.49%', '2426101.78%', '661397.37%', '293069.35%', '867219.43%', '1163866.93%', '684615.03%', '1172777.65%', '2264383.48%', '261447.43%', '245175.27%', '678127.02%', '497480.15%', '859160.49%', '559216.14%', '800947.28%', nan, '5816655.35%', '802522.94%', '578018.22%', '411853.91%', '252307.02%', '655421.64%', '538275.20%', '592672.94%', '268347.07%', '269518.24%', '604702.52%', '1317101.28%', '1595001.95%', '252765.38%', '267209.58%', '531329.40%', '2094619.25%', '837535.39%', '480166.15%', '574594.33%', '606611.60%', ...),\\n       (nan, '697953.59%', '1288743.17%', '764586.18%', '536307.65%', '825629.78%', '538089.86%', '721610.03%', '2412750.40%', '738817.81%', '473899.20%', '819719.71%', '879879.70%', '881901.89%', '538443.17%', '746313.94%', '256686.78%', '394524.16%', '571033.31%', '816261.71%', '287205.13%', '617710.93%', '2412750.40%', '245019.10%', '239210.79%', '580206.60%', '394637.21%', '916206.32%', '1290256.01%', '323536.05%', '245458.35%', '1897545.61%', '471532.13%', '473787.17%', '493291.63%', '574422.97%', '1389173.57%', '738097.67%', '309003.41%', '252163.31%', '265206.18%', '277104.50%', '393900.64%', '1223187.97%', '495165.61%', '1281910.29%', '446851.05%', '551434.40%', '334387.53%', '229447.89%', '3670742.64%', '3347334.95%', '798343.17%', '487938.48%', '429399.73%', '716439.55%', '761951.58%', '395800.28%', '449949.33%', '405956.74%', '445811.34%', '811033.31%', '333976.49%', '2426101.78%', '661397.37%', '293069.35%', '867219.43%', '1163866.93%', '684615.03%', '1172777.65%', '2264383.48%', '261447.43%', '245175.27%', '678127.02%', '497480.15%', '859160.49%', '559216.14%', '800947.28%', nan, '5816655.35%', '802522.94%', '578018.22%', '411853.91%', '252307.02%', '655421.64%', '538275.20%', '592672.94%', '268347.07%', '269518.24%', '604702.52%', '1317101.28%', '1595001.95%', '252765.38%', '267209.58%', '531329.40%', '2094619.25%', '837535.39%', '480166.15%', '574594.33%', '606611.60%', ...),\\n       (nan, '697953.59%', '1288743.17%', '764586.18%', '536307.65%', '825629.78%', '538089.86%', '721610.03%', '2412750.40%', '738817.81%', '473899.20%', '819719.71%', '879879.70%', '881901.89%', '538443.17%', '746313.94%', '256686.78%', '394524.16%', '571033.31%', '816261.71%', '287205.13%', '617710.93%', '2412750.40%', '245019.10%', '239210.79%', '580206.60%', '394637.21%', '916206.32%', '1290256.01%', '323536.05%', '245458.35%', '1897545.61%', '471532.13%', '473787.17%', '493291.63%', '574422.97%', '1389173.57%', '738097.67%', '309003.41%', '252163.31%', '265206.18%', '277104.50%', '393900.64%', '1223187.97%', '495165.61%', '1281910.29%', '446851.05%', '551434.40%', '334387.53%', '229447.89%', '3670742.64%', '3347334.95%', '798343.17%', '487938.48%', '429399.73%', '716439.55%', '761951.58%', '395800.28%', '449949.33%', '405956.74%', '445811.34%', '811033.31%', '333976.49%', '2426101.78%', '661397.37%', '293069.35%', '867219.43%', '1163866.93%', '684615.03%', '1172777.65%', '2264383.48%', '261447.43%', '245175.27%', '678127.02%', '497480.15%', '859160.49%', '559216.14%', '800947.28%', nan, '5816655.35%', '802522.94%', '578018.22%', '411853.91%', '252307.02%', '655421.64%', '538275.20%', '592672.94%', '268347.07%', '269518.24%', '604702.52%', '1317101.28%', '1595001.95%', '252765.38%', '267209.58%', '531329.40%', '2094619.25%', '837535.39%', '480166.15%', '574594.33%', '606611.60%', ...),\\n       (nan, '697953.59%', '1288743.17%', '764586.18%', '536307.65%', '825629.78%', '538089.86%', '721610.03%', '2412750.40%', '738817.81%', '473899.20%', '819719.71%', '879879.70%', '881901.89%', '538443.17%', '746313.94%', '256686.78%', '394524.16%', '571033.31%', '816261.71%', '287205.13%', '617710.93%', '2412750.40%', '245019.10%', '239210.79%', '580206.60%', '394637.21%', '916206.32%', '1290256.01%', '323536.05%', '245458.35%', '1897545.61%', '471532.13%', '473787.17%', '493291.63%', '574422.97%', '1389173.57%', '738097.67%', '309003.41%', '252163.31%', '265206.18%', '277104.50%', '393900.64%', '1223187.97%', '495165.61%', '1281910.29%', '446851.05%', '551434.40%', '334387.53%', '229447.89%', '3670742.64%', '3347334.95%', '798343.17%', '487938.48%', '429399.73%', '716439.55%', '761951.58%', '395800.28%', '449949.33%', '405956.74%', '445811.34%', '811033.31%', '333976.49%', '2426101.78%', '661397.37%', '293069.35%', '867219.43%', '1163866.93%', '684615.03%', '1172777.65%', '2264383.48%', '261447.43%', '245175.27%', '678127.02%', '497480.15%', '859160.49%', '559216.14%', '800947.28%', nan, '5816655.35%', '802522.94%', '578018.22%', '411853.91%', '252307.02%', '655421.64%', '538275.20%', '592672.94%', '268347.07%', '269518.24%', '604702.52%', '1317101.28%', '1595001.95%', '252765.38%', '267209.58%', '531329.40%', '2094619.25%', '837535.39%', '480166.15%', '574594.33%', '606611.60%', ...),\\n       (nan, '697953.59%', '1288743.17%', '764586.18%', '536307.65%', '825629.78%', '538089.86%', '721610.03%', '2412750.40%', '738817.81%', '473899.20%', '819719.71%', '879879.70%', '881901.89%', '538443.17%', '746313.94%', '256686.78%', '394524.16%', '571033.31%', '816261.71%', '287205.13%', '617710.93%', '2412750.40%', '245019.10%', '239210.79%', '580206.60%', '394637.21%', '916206.32%', '1290256.01%', '323536.05%', '245458.35%', '1897545.61%', '471532.13%', '473787.17%', '493291.63%', '574422.97%', '1389173.57%', '738097.67%', '309003.41%', '252163.31%', '265206.18%', '277104.50%', '393900.64%', '1223187.97%', '495165.61%', '1281910.29%', '446851.05%', '551434.40%', '334387.53%', '229447.89%', '3670742.64%', '3347334.95%', '798343.17%', '487938.48%', '429399.73%', '716439.55%', '761951.58%', '395800.28%', '449949.33%', '405956.74%', '445811.34%', '811033.31%', '333976.49%', '2426101.78%', '661397.37%', '293069.35%', '867219.43%', '1163866.93%', '684615.03%', '1172777.65%', '2264383.48%', '261447.43%', '245175.27%', '678127.02%', '497480.15%', '859160.49%', '559216.14%', '800947.28%', nan, '5816655.35%', '802522.94%', '578018.22%', '411853.91%', '252307.02%', '655421.64%', '538275.20%', '592672.94%', '268347.07%', '269518.24%', '604702.52%', '1317101.28%', '1595001.95%', '252765.38%', '267209.58%', '531329.40%', '2094619.25%', '837535.39%', '480166.15%', '574594.33%', '606611.60%', ...),\\n       (nan, '697953.59%', '1288743.17%', '764586.18%', '536307.65%', '825629.78%', '538089.86%', '721610.03%', '2412750.40%', '738817.81%', '473899.20%', '819719.71%', '879879.70%', '881901.89%', '538443.17%', '746313.94%', '256686.78%', '394524.16%', '571033.31%', '816261.71%', '287205.13%', '617710.93%', '2412750.40%', '245019.10%', '239210.79%', '580206.60%', '394637.21%', '916206.32%', '1290256.01%', '323536.05%', '245458.35%', '1897545.61%', '471532.13%', '473787.17%', '493291.63%', '574422.97%', '1389173.57%', '738097.67%', '309003.41%', '252163.31%', '265206.18%', '277104.50%', '393900.64%', '1223187.97%', '495165.61%', '1281910.29%', '446851.05%', '551434.40%', '334387.53%', '229447.89%', '3670742.64%', '3347334.95%', '798343.17%', '487938.48%', '429399.73%', '716439.55%', '761951.58%', '395800.28%', '449949.33%', '405956.74%', '445811.34%', '811033.31%', '333976.49%', '2426101.78%', '661397.37%', '293069.35%', '867219.43%', '1163866.93%', '684615.03%', '1172777.65%', '2264383.48%', '261447.43%', '245175.27%', '678127.02%', '497480.15%', '859160.49%', '559216.14%', '800947.28%', nan, '5816655.35%', '802522.94%', '578018.22%', '411853.91%', '252307.02%', '655421.64%', '538275.20%', '592672.94%', '268347.07%', '269518.24%', '604702.52%', '1317101.28%', '1595001.95%', '252765.38%', '267209.58%', '531329.40%', '2094619.25%', '837535.39%', '480166.15%', '574594.33%', '606611.60%', ...),\\n       (nan, '697953.59%', '1288743.17%', '764586.18%', '536307.65%', '825629.78%', '538089.86%', '721610.03%', '2412750.40%', '738817.81%', '473899.20%', '819719.71%', '879879.70%', '881901.89%', '538443.17%', '746313.94%', '256686.78%', '394524.16%', '571033.31%', '816261.71%', '287205.13%', '617710.93%', '2412750.40%', '245019.10%', '239210.79%', '580206.60%', '394637.21%', '916206.32%', '1290256.01%', '323536.05%', '245458.35%', '1897545.61%', '471532.13%', '473787.17%', '493291.63%', '574422.97%', '1389173.57%', '738097.67%', '309003.41%', '252163.31%', '265206.18%', '277104.50%', '393900.64%', '1223187.97%', '495165.61%', '1281910.29%', '446851.05%', '551434.40%', '334387.53%', '229447.89%', '3670742.64%', '3347334.95%', '798343.17%', '487938.48%', '429399.73%', '716439.55%', '761951.58%', '395800.28%', '449949.33%', '405956.74%', '445811.34%', '811033.31%', '333976.49%', '2426101.78%', '661397.37%', '293069.35%', '867219.43%', '1163866.93%', '684615.03%', '1172777.65%', '2264383.48%', '261447.43%', '245175.27%', '678127.02%', '497480.15%', '859160.49%', '559216.14%', '800947.28%', nan, '5816655.35%', '802522.94%', '578018.22%', '411853.91%', '252307.02%', '655421.64%', '538275.20%', '592672.94%', '268347.07%', '269518.24%', '604702.52%', '1317101.28%', '1595001.95%', '252765.38%', '267209.58%', '531329.40%', '2094619.25%', '837535.39%', '480166.15%', '574594.33%', '606611.60%', ...),\\n       (nan, '697953.59%', '1288743.17%', '764586.18%', '536307.65%', '825629.78%', '538089.86%', '721610.03%', '2412750.40%', '738817.81%', '473899.20%', '819719.71%', '879879.70%', '881901.89%', '538443.17%', '746313.94%', '256686.78%', '394524.16%', '571033.31%', '816261.71%', '287205.13%', '617710.93%', '2412750.40%', '245019.10%', '239210.79%', '580206.60%', '394637.21%', '916206.32%', '1290256.01%', '323536.05%', '245458.35%', '1897545.61%', '471532.13%', '473787.17%', '493291.63%', '574422.97%', '1389173.57%', '738097.67%', '309003.41%', '252163.31%', '265206.18%', '277104.50%', '393900.64%', '1223187.97%', '495165.61%', '1281910.29%', '446851.05%', '551434.40%', '334387.53%', '229447.89%', '3670742.64%', '3347334.95%', '798343.17%', '487938.48%', '429399.73%', '716439.55%', '761951.58%', '395800.28%', '449949.33%', '405956.74%', '445811.34%', '811033.31%', '333976.49%', '2426101.78%', '661397.37%', '293069.35%', '867219.43%', '1163866.93%', '684615.03%', '1172777.65%', '2264383.48%', '261447.43%', '245175.27%', '678127.02%', '497480.15%', '859160.49%', '559216.14%', '800947.28%', nan, '5816655.35%', '802522.94%', '578018.22%', '411853.91%', '252307.02%', '655421.64%', '538275.20%', '592672.94%', '268347.07%', '269518.24%', '604702.52%', '1317101.28%', '1595001.95%', '252765.38%', '267209.58%', '531329.40%', '2094619.25%', '837535.39%', '480166.15%', '574594.33%', '606611.60%', ...),\\n       (nan, '697953.59%', '1288743.17%', '764586.18%', '536307.65%', '825629.78%', '538089.86%', '721610.03%', '2412750.40%', '738817.81%', '473899.20%', '819719.71%', '879879.70%', '881901.89%', '538443.17%', '746313.94%', '256686.78%', '394524.16%', '571033.31%', '816261.71%', '287205.13%', '617710.93%', '2412750.40%', '245019.10%', '239210.79%', '580206.60%', '394637.21%', '916206.32%', '1290256.01%', '323536.05%', '245458.35%', '1897545.61%', '471532.13%', '473787.17%', '493291.63%', '574422.97%', '1389173.57%', '738097.67%', '309003.41%', '252163.31%', '265206.18%', '277104.50%', '393900.64%', '1223187.97%', '495165.61%', '1281910.29%', '446851.05%', '551434.40%', '334387.53%', '229447.89%', '3670742.64%', '3347334.95%', '798343.17%', '487938.48%', '429399.73%', '716439.55%', '761951.58%', '395800.28%', '449949.33%', '405956.74%', '445811.34%', '811033.31%', '333976.49%', '2426101.78%', '661397.37%', '293069.35%', '867219.43%', '1163866.93%', '684615.03%', '1172777.65%', '2264383.48%', '261447.43%', '245175.27%', '678127.02%', '497480.15%', '859160.49%', '559216.14%', '800947.28%', nan, '5816655.35%', '802522.94%', '578018.22%', '411853.91%', '252307.02%', '655421.64%', '538275.20%', '592672.94%', '268347.07%', '269518.24%', '604702.52%', '1317101.28%', '1595001.95%', '252765.38%', '267209.58%', '531329.40%', '2094619.25%', '837535.39%', '480166.15%', '574594.33%', '606611.60%', ...),\\n       (nan, '697953.59%', '1288743.17%', '764586.18%', '536307.65%', '825629.78%', '538089.86%', '721610.03%', '2412750.40%', '738817.81%', '473899.20%', '819719.71%', '879879.70%', '881901.89%', '538443.17%', '746313.94%', '256686.78%', '394524.16%', '571033.31%', '816261.71%', '287205.13%', '617710.93%', '2412750.40%', '245019.10%', '239210.79%', '580206.60%', '394637.21%', '916206.32%', '1290256.01%', '323536.05%', '245458.35%', '1897545.61%', '471532.13%', '473787.17%', '493291.63%', '574422.97%', '1389173.57%', '738097.67%', '309003.41%', '252163.31%', '265206.18%', '277104.50%', '393900.64%', '1223187.97%', '495165.61%', '1281910.29%', '446851.05%', '551434.40%', '334387.53%', '229447.89%', '3670742.64%', '3347334.95%', '798343.17%', '487938.48%', '429399.73%', '716439.55%', '761951.58%', '395800.28%', '449949.33%', '405956.74%', '445811.34%', '811033.31%', '333976.49%', '2426101.78%', '661397.37%', '293069.35%', '867219.43%', '1163866.93%', '684615.03%', '1172777.65%', '2264383.48%', '261447.43%', '245175.27%', '678127.02%', '497480.15%', '859160.49%', '559216.14%', '800947.28%', nan, '5816655.35%', '802522.94%', '578018.22%', '411853.91%', '252307.02%', '655421.64%', '538275.20%', '592672.94%', '268347.07%', '269518.24%', '604702.52%', '1317101.28%', '1595001.95%', '252765.38%', '267209.58%', '531329.40%', '2094619.25%', '837535.39%', '480166.15%', '574594.33%', '606611.60%', ...),\\n       (nan, '697953.59%', '1288743.17%', '764586.18%', '536307.65%', '825629.78%', '538089.86%', '721610.03%', '2412750.40%', '738817.81%', '473899.20%', '819719.71%', '879879.70%', '881901.89%', '538443.17%', '746313.94%', '256686.78%', '394524.16%', '571033.31%', '816261.71%', '287205.13%', '617710.93%', '2412750.40%', '245019.10%', '239210.79%', '580206.60%', '394637.21%', '916206.32%', '1290256.01%', '323536.05%', '245458.35%', '1897545.61%', '471532.13%', '473787.17%', '493291.63%', '574422.97%', '1389173.57%', '738097.67%', '309003.41%', '252163.31%', '265206.18%', '277104.50%', '393900.64%', '1223187.97%', '495165.61%', '1281910.29%', '446851.05%', '551434.40%', '334387.53%', '229447.89%', '3670742.64%', '3347334.95%', '798343.17%', '487938.48%', '429399.73%', '716439.55%', '761951.58%', '395800.28%', '449949.33%', '405956.74%', '445811.34%', '811033.31%', '333976.49%', '2426101.78%', '661397.37%', '293069.35%', '867219.43%', '1163866.93%', '684615.03%', '1172777.65%', '2264383.48%', '261447.43%', '245175.27%', '678127.02%', '497480.15%', '859160.49%', '559216.14%', '800947.28%', nan, '5816655.35%', '802522.94%', '578018.22%', '411853.91%', '252307.02%', '655421.64%', '538275.20%', '592672.94%', '268347.07%', '269518.24%', '604702.52%', '1317101.28%', '1595001.95%', '252765.38%', '267209.58%', '531329.40%', '2094619.25%', '837535.39%', '480166.15%', '574594.33%', '606611.60%', ...),\\n       (nan, '697953.59%', '1288743.17%', '764586.18%', '536307.65%', '825629.78%', '538089.86%', '721610.03%', '2412750.40%', '738817.81%', '473899.20%', '819719.71%', '879879.70%', '881901.89%', '538443.17%', '746313.94%', '256686.78%', '394524.16%', '571033.31%', '816261.71%', '287205.13%', '617710.93%', '2412750.40%', '245019.10%', '239210.79%', '580206.60%', '394637.21%', '916206.32%', '1290256.01%', '323536.05%', '245458.35%', '1897545.61%', '471532.13%', '473787.17%', '493291.63%', '574422.97%', '1389173.57%', '738097.67%', '309003.41%', '252163.31%', '265206.18%', '277104.50%', '393900.64%', '1223187.97%', '495165.61%', '1281910.29%', '446851.05%', '551434.40%', '334387.53%', '229447.89%', '3670742.64%', '3347334.95%', '798343.17%', '487938.48%', '429399.73%', '716439.55%', '761951.58%', '395800.28%', '449949.33%', '405956.74%', '445811.34%', '811033.31%', '333976.49%', '2426101.78%', '661397.37%', '293069.35%', '867219.43%', '1163866.93%', '684615.03%', '1172777.65%', '2264383.48%', '261447.43%', '245175.27%', '678127.02%', '497480.15%', '859160.49%', '559216.14%', '800947.28%', nan, '5816655.35%', '802522.94%', '578018.22%', '411853.91%', '252307.02%', '655421.64%', '538275.20%', '592672.94%', '268347.07%', '269518.24%', '604702.52%', '1317101.28%', '1595001.95%', '252765.38%', '267209.58%', '531329.40%', '2094619.25%', '837535.39%', '480166.15%', '574594.33%', '606611.60%', ...),\\n       (nan, '697953.59%', '1288743.17%', '764586.18%', '536307.65%', '825629.78%', '538089.86%', '721610.03%', '2412750.40%', '738817.81%', '473899.20%', '819719.71%', '879879.70%', '881901.89%', '538443.17%', '746313.94%', '256686.78%', '394524.16%', '571033.31%', '816261.71%', '287205.13%', '617710.93%', '2412750.40%', '245019.10%', '239210.79%', '580206.60%', '394637.21%', '916206.32%', '1290256.01%', '323536.05%', '245458.35%', '1897545.61%', '471532.13%', '473787.17%', '493291.63%', '574422.97%', '1389173.57%', '738097.67%', '309003.41%', '252163.31%', '265206.18%', '277104.50%', '393900.64%', '1223187.97%', '495165.61%', '1281910.29%', '446851.05%', '551434.40%', '334387.53%', '229447.89%', '3670742.64%', '3347334.95%', '798343.17%', '487938.48%', '429399.73%', '716439.55%', '761951.58%', '395800.28%', '449949.33%', '405956.74%', '445811.34%', '811033.31%', '333976.49%', '2426101.78%', '661397.37%', '293069.35%', '867219.43%', '1163866.93%', '684615.03%', '1172777.65%', '2264383.48%', '261447.43%', '245175.27%', '678127.02%', '497480.15%', '859160.49%', '559216.14%', '800947.28%', nan, '5816655.35%', '802522.94%', '578018.22%', '411853.91%', '252307.02%', '655421.64%', '538275.20%', '592672.94%', '268347.07%', '269518.24%', '604702.52%', '1317101.28%', '1595001.95%', '252765.38%', '267209.58%', '531329.40%', '2094619.25%', '837535.39%', '480166.15%', '574594.33%', '606611.60%', ...),\\n       (nan, '697953.59%', '1288743.17%', '764586.18%', '536307.65%', '825629.78%', '538089.86%', '721610.03%', '2412750.40%', '738817.81%', '473899.20%', '819719.71%', '879879.70%', '881901.89%', '538443.17%', '746313.94%', '256686.78%', '394524.16%', '571033.31%', '816261.71%', '287205.13%', '617710.93%', '2412750.40%', '245019.10%', '239210.79%', '580206.60%', '394637.21%', '916206.32%', '1290256.01%', '323536.05%', '245458.35%', '1897545.61%', '471532.13%', '473787.17%', '493291.63%', '574422.97%', '1389173.57%', '738097.67%', '309003.41%', '252163.31%', '265206.18%', '277104.50%', '393900.64%', '1223187.97%', '495165.61%', '1281910.29%', '446851.05%', '551434.40%', '334387.53%', '229447.89%', '3670742.64%', '3347334.95%', '798343.17%', '487938.48%', '429399.73%', '716439.55%', '761951.58%', '395800.28%', '449949.33%', '405956.74%', '445811.34%', '811033.31%', '333976.49%', '2426101.78%', '661397.37%', '293069.35%', '867219.43%', '1163866.93%', '684615.03%', '1172777.65%', '2264383.48%', '261447.43%', '245175.27%', '678127.02%', '497480.15%', '859160.49%', '559216.14%', '800947.28%', nan, '5816655.35%', '802522.94%', '578018.22%', '411853.91%', '252307.02%', '655421.64%', '538275.20%', '592672.94%', '268347.07%', '269518.24%', '604702.52%', '1317101.28%', '1595001.95%', '252765.38%', '267209.58%', '531329.40%', '2094619.25%', '837535.39%', '480166.15%', '574594.33%', '606611.60%', ...),\\n       (nan, '697953.59%', '1288743.17%', '764586.18%', '536307.65%', '825629.78%', '538089.86%', '721610.03%', '2412750.40%', '738817.81%', '473899.20%', '819719.71%', '879879.70%', '881901.89%', '538443.17%', '746313.94%', '256686.78%', '394524.16%', '571033.31%', '816261.71%', '287205.13%', '617710.93%', '2412750.40%', '245019.10%', '239210.79%', '580206.60%', '394637.21%', '916206.32%', '1290256.01%', '323536.05%', '245458.35%', '1897545.61%', '471532.13%', '473787.17%', '493291.63%', '574422.97%', '1389173.57%', '738097.67%', '309003.41%', '252163.31%', '265206.18%', '277104.50%', '393900.64%', '1223187.97%', '495165.61%', '1281910.29%', '446851.05%', '551434.40%', '334387.53%', '229447.89%', '3670742.64%', '3347334.95%', '798343.17%', '487938.48%', '429399.73%', '716439.55%', '761951.58%', '395800.28%', '449949.33%', '405956.74%', '445811.34%', '811033.31%', '333976.49%', '2426101.78%', '661397.37%', '293069.35%', '867219.43%', '1163866.93%', '684615.03%', '1172777.65%', '2264383.48%', '261447.43%', '245175.27%', '678127.02%', '497480.15%', '859160.49%', '559216.14%', '800947.28%', nan, '5816655.35%', '802522.94%', '578018.22%', '411853.91%', '252307.02%', '655421.64%', '538275.20%', '592672.94%', '268347.07%', '269518.24%', '604702.52%', '1317101.28%', '1595001.95%', '252765.38%', '267209.58%', '531329.40%', '2094619.25%', '837535.39%', '480166.15%', '574594.33%', '606611.60%', ...),\\n       (nan, '697953.59%', '1288743.17%', '764586.18%', '536307.65%', '825629.78%', '538089.86%', '721610.03%', '2412750.40%', '738817.81%', '473899.20%', '819719.71%', '879879.70%', '881901.89%', '538443.17%', '746313.94%', '256686.78%', '394524.16%', '571033.31%', '816261.71%', '287205.13%', '617710.93%', '2412750.40%', '245019.10%', '239210.79%', '580206.60%', '394637.21%', '916206.32%', '1290256.01%', '323536.05%', '245458.35%', '1897545.61%', '471532.13%', '473787.17%', '493291.63%', '574422.97%', '1389173.57%', '738097.67%', '309003.41%', '252163.31%', '265206.18%', '277104.50%', '393900.64%', '1223187.97%', '495165.61%', '1281910.29%', '446851.05%', '551434.40%', '334387.53%', '229447.89%', '3670742.64%', '3347334.95%', '798343.17%', '487938.48%', '429399.73%', '716439.55%', '761951.58%', '395800.28%', '449949.33%', '405956.74%', '445811.34%', '811033.31%', '333976.49%', '2426101.78%', '661397.37%', '293069.35%', '867219.43%', '1163866.93%', '684615.03%', '1172777.65%', '2264383.48%', '261447.43%', '245175.27%', '678127.02%', '497480.15%', '859160.49%', '559216.14%', '800947.28%', nan, '5816655.35%', '802522.94%', '578018.22%', '411853.91%', '252307.02%', '655421.64%', '538275.20%', '592672.94%', '268347.07%', '269518.24%', '604702.52%', '1317101.28%', '1595001.95%', '252765.38%', '267209.58%', '531329.40%', '2094619.25%', '837535.39%', '480166.15%', '574594.33%', '606611.60%', ...),\\n       (nan, '697953.59%', '1288743.17%', '764586.18%', '536307.65%', '825629.78%', '538089.86%', '721610.03%', '2412750.40%', '738817.81%', '473899.20%', '819719.71%', '879879.70%', '881901.89%', '538443.17%', '746313.94%', '256686.78%', '394524.16%', '571033.31%', '816261.71%', '287205.13%', '617710.93%', '2412750.40%', '245019.10%', '239210.79%', '580206.60%', '394637.21%', '916206.32%', '1290256.01%', '323536.05%', '245458.35%', '1897545.61%', '471532.13%', '473787.17%', '493291.63%', '574422.97%', '1389173.57%', '738097.67%', '309003.41%', '252163.31%', '265206.18%', '277104.50%', '393900.64%', '1223187.97%', '495165.61%', '1281910.29%', '446851.05%', '551434.40%', '334387.53%', '229447.89%', '3670742.64%', '3347334.95%', '798343.17%', '487938.48%', '429399.73%', '716439.55%', '761951.58%', '395800.28%', '449949.33%', '405956.74%', '445811.34%', '811033.31%', '333976.49%', '2426101.78%', '661397.37%', '293069.35%', '867219.43%', '1163866.93%', '684615.03%', '1172777.65%', '2264383.48%', '261447.43%', '245175.27%', '678127.02%', '497480.15%', '859160.49%', '559216.14%', '800947.28%', nan, '5816655.35%', '802522.94%', '578018.22%', '411853.91%', '252307.02%', '655421.64%', '538275.20%', '592672.94%', '268347.07%', '269518.24%', '604702.52%', '1317101.28%', '1595001.95%', '252765.38%', '267209.58%', '531329.40%', '2094619.25%', '837535.39%', '480166.15%', '574594.33%', '606611.60%', ...),\\n       (nan, '697953.59%', '1288743.17%', '764586.18%', '536307.65%', '825629.78%', '538089.86%', '721610.03%', '2412750.40%', '738817.81%', '473899.20%', '819719.71%', '879879.70%', '881901.89%', '538443.17%', '746313.94%', '256686.78%', '394524.16%', '571033.31%', '816261.71%', '287205.13%', '617710.93%', '2412750.40%', '245019.10%', '239210.79%', '580206.60%', '394637.21%', '916206.32%', '1290256.01%', '323536.05%', '245458.35%', '1897545.61%', '471532.13%', '473787.17%', '493291.63%', '574422.97%', '1389173.57%', '738097.67%', '309003.41%', '252163.31%', '265206.18%', '277104.50%', '393900.64%', '1223187.97%', '495165.61%', '1281910.29%', '446851.05%', '551434.40%', '334387.53%', '229447.89%', '3670742.64%', '3347334.95%', '798343.17%', '487938.48%', '429399.73%', '716439.55%', '761951.58%', '395800.28%', '449949.33%', '405956.74%', '445811.34%', '811033.31%', '333976.49%', '2426101.78%', '661397.37%', '293069.35%', '867219.43%', '1163866.93%', '684615.03%', '1172777.65%', '2264383.48%', '261447.43%', '245175.27%', '678127.02%', '497480.15%', '859160.49%', '559216.14%', '800947.28%', nan, '5816655.35%', '802522.94%', '578018.22%', '411853.91%', '252307.02%', '655421.64%', '538275.20%', '592672.94%', '268347.07%', '269518.24%', '604702.52%', '1317101.28%', '1595001.95%', '252765.38%', '267209.58%', '531329.40%', '2094619.25%', '837535.39%', '480166.15%', '574594.33%', '606611.60%', ...),\\n       (nan, '697953.59%', '1288743.17%', '764586.18%', '536307.65%', '825629.78%', '538089.86%', '721610.03%', '2412750.40%', '738817.81%', '473899.20%', '819719.71%', '879879.70%', '881901.89%', '538443.17%', '746313.94%', '256686.78%', '394524.16%', '571033.31%', '816261.71%', '287205.13%', '617710.93%', '2412750.40%', '245019.10%', '239210.79%', '580206.60%', '394637.21%', '916206.32%', '1290256.01%', '323536.05%', '245458.35%', '1897545.61%', '471532.13%', '473787.17%', '493291.63%', '574422.97%', '1389173.57%', '738097.67%', '309003.41%', '252163.31%', '265206.18%', '277104.50%', '393900.64%', '1223187.97%', '495165.61%', '1281910.29%', '446851.05%', '551434.40%', '334387.53%', '229447.89%', '3670742.64%', '3347334.95%', '798343.17%', '487938.48%', '429399.73%', '716439.55%', '761951.58%', '395800.28%', '449949.33%', '405956.74%', '445811.34%', '811033.31%', '333976.49%', '2426101.78%', '661397.37%', '293069.35%', '867219.43%', '1163866.93%', '684615.03%', '1172777.65%', '2264383.48%', '261447.43%', '245175.27%', '678127.02%', '497480.15%', '859160.49%', '559216.14%', '800947.28%', nan, '5816655.35%', '802522.94%', '578018.22%', '411853.91%', '252307.02%', '655421.64%', '538275.20%', '592672.94%', '268347.07%', '269518.24%', '604702.52%', '1317101.28%', '1595001.95%', '252765.38%', '267209.58%', '531329.40%', '2094619.25%', '837535.39%', '480166.15%', '574594.33%', '606611.60%', ...),\\n       (nan, '697953.59%', '1288743.17%', '764586.18%', '536307.65%', '825629.78%', '538089.86%', '721610.03%', '2412750.40%', '738817.81%', '473899.20%', '819719.71%', '879879.70%', '881901.89%', '538443.17%', '746313.94%', '256686.78%', '394524.16%', '571033.31%', '816261.71%', '287205.13%', '617710.93%', '2412750.40%', '245019.10%', '239210.79%', '580206.60%', '394637.21%', '916206.32%', '1290256.01%', '323536.05%', '245458.35%', '1897545.61%', '471532.13%', '473787.17%', '493291.63%', '574422.97%', '1389173.57%', '738097.67%', '309003.41%', '252163.31%', '265206.18%', '277104.50%', '393900.64%', '1223187.97%', '495165.61%', '1281910.29%', '446851.05%', '551434.40%', '334387.53%', '229447.89%', '3670742.64%', '3347334.95%', '798343.17%', '487938.48%', '429399.73%', '716439.55%', '761951.58%', '395800.28%', '449949.33%', '405956.74%', '445811.34%', '811033.31%', '333976.49%', '2426101.78%', '661397.37%', '293069.35%', '867219.43%', '1163866.93%', '684615.03%', '1172777.65%', '2264383.48%', '261447.43%', '245175.27%', '678127.02%', '497480.15%', '859160.49%', '559216.14%', '800947.28%', nan, '5816655.35%', '802522.94%', '578018.22%', '411853.91%', '252307.02%', '655421.64%', '538275.20%', '592672.94%', '268347.07%', '269518.24%', '604702.52%', '1317101.28%', '1595001.95%', '252765.38%', '267209.58%', '531329.40%', '2094619.25%', '837535.39%', '480166.15%', '574594.33%', '606611.60%', ...),\\n       (nan, '697953.59%', '1288743.17%', '764586.18%', '536307.65%', '825629.78%', '538089.86%', '721610.03%', '2412750.40%', '738817.81%', '473899.20%', '819719.71%', '879879.70%', '881901.89%', '538443.17%', '746313.94%', '256686.78%', '394524.16%', '571033.31%', '816261.71%', '287205.13%', '617710.93%', '2412750.40%', '245019.10%', '239210.79%', '580206.60%', '394637.21%', '916206.32%', '1290256.01%', '323536.05%', '245458.35%', '1897545.61%', '471532.13%', '473787.17%', '493291.63%', '574422.97%', '1389173.57%', '738097.67%', '309003.41%', '252163.31%', '265206.18%', '277104.50%', '393900.64%', '1223187.97%', '495165.61%', '1281910.29%', '446851.05%', '551434.40%', '334387.53%', '229447.89%', '3670742.64%', '3347334.95%', '798343.17%', '487938.48%', '429399.73%', '716439.55%', '761951.58%', '395800.28%', '449949.33%', '405956.74%', '445811.34%', '811033.31%', '333976.49%', '2426101.78%', '661397.37%', '293069.35%', '867219.43%', '1163866.93%', '684615.03%', '1172777.65%', '2264383.48%', '261447.43%', '245175.27%', '678127.02%', '497480.15%', '859160.49%', '559216.14%', '800947.28%', nan, '5816655.35%', '802522.94%', '578018.22%', '411853.91%', '252307.02%', '655421.64%', '538275.20%', '592672.94%', '268347.07%', '269518.24%', '604702.52%', '1317101.28%', '1595001.95%', '252765.38%', '267209.58%', '531329.40%', '2094619.25%', '837535.39%', '480166.15%', '574594.33%', '606611.60%', ...),\\n       (nan, '697953.59%', '1288743.17%', '764586.18%', '536307.65%', '825629.78%', '538089.86%', '721610.03%', '2412750.40%', '738817.81%', '473899.20%', '819719.71%', '879879.70%', '881901.89%', '538443.17%', '746313.94%', '256686.78%', '394524.16%', '571033.31%', '816261.71%', '287205.13%', '617710.93%', '2412750.40%', '245019.10%', '239210.79%', '580206.60%', '394637.21%', '916206.32%', '1290256.01%', '323536.05%', '245458.35%', '1897545.61%', '471532.13%', '473787.17%', '493291.63%', '574422.97%', '1389173.57%', '738097.67%', '309003.41%', '252163.31%', '265206.18%', '277104.50%', '393900.64%', '1223187.97%', '495165.61%', '1281910.29%', '446851.05%', '551434.40%', '334387.53%', '229447.89%', '3670742.64%', '3347334.95%', '798343.17%', '487938.48%', '429399.73%', '716439.55%', '761951.58%', '395800.28%', '449949.33%', '405956.74%', '445811.34%', '811033.31%', '333976.49%', '2426101.78%', '661397.37%', '293069.35%', '867219.43%', '1163866.93%', '684615.03%', '1172777.65%', '2264383.48%', '261447.43%', '245175.27%', '678127.02%', '497480.15%', '859160.49%', '559216.14%', '800947.28%', nan, '5816655.35%', '802522.94%', '578018.22%', '411853.91%', '252307.02%', '655421.64%', '538275.20%', '592672.94%', '268347.07%', '269518.24%', '604702.52%', '1317101.28%', '1595001.95%', '252765.38%', '267209.58%', '531329.40%', '2094619.25%', '837535.39%', '480166.15%', '574594.33%', '606611.60%', ...),\\n       (nan, '697953.59%', '1288743.17%', '764586.18%', '536307.65%', '825629.78%', '538089.86%', '721610.03%', '2412750.40%', '738817.81%', '473899.20%', '819719.71%', '879879.70%', '881901.89%', '538443.17%', '746313.94%', '256686.78%', '394524.16%', '571033.31%', '816261.71%', '287205.13%', '617710.93%', '2412750.40%', '245019.10%', '239210.79%', '580206.60%', '394637.21%', '916206.32%', '1290256.01%', '323536.05%', '245458.35%', '1897545.61%', '471532.13%', '473787.17%', '493291.63%', '574422.97%', '1389173.57%', '738097.67%', '309003.41%', '252163.31%', '265206.18%', '277104.50%', '393900.64%', '1223187.97%', '495165.61%', '1281910.29%', '446851.05%', '551434.40%', '334387.53%', '229447.89%', '3670742.64%', '3347334.95%', '798343.17%', '487938.48%', '429399.73%', '716439.55%', '761951.58%', '395800.28%', '449949.33%', '405956.74%', '445811.34%', '811033.31%', '333976.49%', '2426101.78%', '661397.37%', '293069.35%', '867219.43%', '1163866.93%', '684615.03%', '1172777.65%', '2264383.48%', '261447.43%', '245175.27%', '678127.02%', '497480.15%', '859160.49%', '559216.14%', '800947.28%', nan, '5816655.35%', '802522.94%', '578018.22%', '411853.91%', '252307.02%', '655421.64%', '538275.20%', '592672.94%', '268347.07%', '269518.24%', '604702.52%', '1317101.28%', '1595001.95%', '252765.38%', '267209.58%', '531329.40%', '2094619.25%', '837535.39%', '480166.15%', '574594.33%', '606611.60%', ...),\\n       (nan, '697953.59%', '1288743.17%', '764586.18%', '536307.65%', '825629.78%', '538089.86%', '721610.03%', '2412750.40%', '738817.81%', '473899.20%', '819719.71%', '879879.70%', '881901.89%', '538443.17%', '746313.94%', '256686.78%', '394524.16%', '571033.31%', '816261.71%', '287205.13%', '617710.93%', '2412750.40%', '245019.10%', '239210.79%', '580206.60%', '394637.21%', '916206.32%', '1290256.01%', '323536.05%', '245458.35%', '1897545.61%', '471532.13%', '473787.17%', '493291.63%', '574422.97%', '1389173.57%', '738097.67%', '309003.41%', '252163.31%', '265206.18%', '277104.50%', '393900.64%', '1223187.97%', '495165.61%', '1281910.29%', '446851.05%', '551434.40%', '334387.53%', '229447.89%', '3670742.64%', '3347334.95%', '798343.17%', '487938.48%', '429399.73%', '716439.55%', '761951.58%', '395800.28%', '449949.33%', '405956.74%', '445811.34%', '811033.31%', '333976.49%', '2426101.78%', '661397.37%', '293069.35%', '867219.43%', '1163866.93%', '684615.03%', '1172777.65%', '2264383.48%', '261447.43%', '245175.27%', '678127.02%', '497480.15%', '859160.49%', '559216.14%', '800947.28%', nan, '5816655.35%', '802522.94%', '578018.22%', '411853.91%', '252307.02%', '655421.64%', '538275.20%', '592672.94%', '268347.07%', '269518.24%', '604702.52%', '1317101.28%', '1595001.95%', '252765.38%', '267209.58%', '531329.40%', '2094619.25%', '837535.39%', '480166.15%', '574594.33%', '606611.60%', ...),\\n       (nan, '697953.59%', '1288743.17%', '764586.18%', '536307.65%', '825629.78%', '538089.86%', '721610.03%', '2412750.40%', '738817.81%', '473899.20%', '819719.71%', '879879.70%', '881901.89%', '538443.17%', '746313.94%', '256686.78%', '394524.16%', '571033.31%', '816261.71%', '287205.13%', '617710.93%', '2412750.40%', '245019.10%', '239210.79%', '580206.60%', '394637.21%', '916206.32%', '1290256.01%', '323536.05%', '245458.35%', '1897545.61%', '471532.13%', '473787.17%', '493291.63%', '574422.97%', '1389173.57%', '738097.67%', '309003.41%', '252163.31%', '265206.18%', '277104.50%', '393900.64%', '1223187.97%', '495165.61%', '1281910.29%', '446851.05%', '551434.40%', '334387.53%', '229447.89%', '3670742.64%', '3347334.95%', '798343.17%', '487938.48%', '429399.73%', '716439.55%', '761951.58%', '395800.28%', '449949.33%', '405956.74%', '445811.34%', '811033.31%', '333976.49%', '2426101.78%', '661397.37%', '293069.35%', '867219.43%', '1163866.93%', '684615.03%', '1172777.65%', '2264383.48%', '261447.43%', '245175.27%', '678127.02%', '497480.15%', '859160.49%', '559216.14%', '800947.28%', nan, '5816655.35%', '802522.94%', '578018.22%', '411853.91%', '252307.02%', '655421.64%', '538275.20%', '592672.94%', '268347.07%', '269518.24%', '604702.52%', '1317101.28%', '1595001.95%', '252765.38%', '267209.58%', '531329.40%', '2094619.25%', '837535.39%', '480166.15%', '574594.33%', '606611.60%', ...),\\n       (nan, '697953.59%', '1288743.17%', '764586.18%', '536307.65%', '825629.78%', '538089.86%', '721610.03%', '2412750.40%', '738817.81%', '473899.20%', '819719.71%', '879879.70%', '881901.89%', '538443.17%', '746313.94%', '256686.78%', '394524.16%', '571033.31%', '816261.71%', '287205.13%', '617710.93%', '2412750.40%', '245019.10%', '239210.79%', '580206.60%', '394637.21%', '916206.32%', '1290256.01%', '323536.05%', '245458.35%', '1897545.61%', '471532.13%', '473787.17%', '493291.63%', '574422.97%', '1389173.57%', '738097.67%', '309003.41%', '252163.31%', '265206.18%', '277104.50%', '393900.64%', '1223187.97%', '495165.61%', '1281910.29%', '446851.05%', '551434.40%', '334387.53%', '229447.89%', '3670742.64%', '3347334.95%', '798343.17%', '487938.48%', '429399.73%', '716439.55%', '761951.58%', '395800.28%', '449949.33%', '405956.74%', '445811.34%', '811033.31%', '333976.49%', '2426101.78%', '661397.37%', '293069.35%', '867219.43%', '1163866.93%', '684615.03%', '1172777.65%', '2264383.48%', '261447.43%', '245175.27%', '678127.02%', '497480.15%', '859160.49%', '559216.14%', '800947.28%', nan, '5816655.35%', '802522.94%', '578018.22%', '411853.91%', '252307.02%', '655421.64%', '538275.20%', '592672.94%', '268347.07%', '269518.24%', '604702.52%', '1317101.28%', '1595001.95%', '252765.38%', '267209.58%', '531329.40%', '2094619.25%', '837535.39%', '480166.15%', '574594.33%', '606611.60%', ...),\\n       (nan, '697953.59%', '1288743.17%', '764586.18%', '536307.65%', '825629.78%', '538089.86%', '721610.03%', '2412750.40%', '738817.81%', '473899.20%', '819719.71%', '879879.70%', '881901.89%', '538443.17%', '746313.94%', '256686.78%', '394524.16%', '571033.31%', '816261.71%', '287205.13%', '617710.93%', '2412750.40%', '245019.10%', '239210.79%', '580206.60%', '394637.21%', '916206.32%', '1290256.01%', '323536.05%', '245458.35%', '1897545.61%', '471532.13%', '473787.17%', '493291.63%', '574422.97%', '1389173.57%', '738097.67%', '309003.41%', '252163.31%', '265206.18%', '277104.50%', '393900.64%', '1223187.97%', '495165.61%', '1281910.29%', '446851.05%', '551434.40%', '334387.53%', '229447.89%', '3670742.64%', '3347334.95%', '798343.17%', '487938.48%', '429399.73%', '716439.55%', '761951.58%', '395800.28%', '449949.33%', '405956.74%', '445811.34%', '811033.31%', '333976.49%', '2426101.78%', '661397.37%', '293069.35%', '867219.43%', '1163866.93%', '684615.03%', '1172777.65%', '2264383.48%', '261447.43%', '245175.27%', '678127.02%', '497480.15%', '859160.49%', '559216.14%', '800947.28%', nan, '5816655.35%', '802522.94%', '578018.22%', '411853.91%', '252307.02%', '655421.64%', '538275.20%', '592672.94%', '268347.07%', '269518.24%', '604702.52%', '1317101.28%', '1595001.95%', '252765.38%', '267209.58%', '531329.40%', '2094619.25%', '837535.39%', '480166.15%', '574594.33%', '606611.60%', ...),\\n       (nan, '697953.59%', '1288743.17%', '764586.18%', '536307.65%', '825629.78%', '538089.86%', '721610.03%', '2412750.40%', '738817.81%', '473899.20%', '819719.71%', '879879.70%', '881901.89%', '538443.17%', '746313.94%', '256686.78%', '394524.16%', '571033.31%', '816261.71%', '287205.13%', '617710.93%', '2412750.40%', '245019.10%', '239210.79%', '580206.60%', '394637.21%', '916206.32%', '1290256.01%', '323536.05%', '245458.35%', '1897545.61%', '471532.13%', '473787.17%', '493291.63%', '574422.97%', '1389173.57%', '738097.67%', '309003.41%', '252163.31%', '265206.18%', '277104.50%', '393900.64%', '1223187.97%', '495165.61%', '1281910.29%', '446851.05%', '551434.40%', '334387.53%', '229447.89%', '3670742.64%', '3347334.95%', '798343.17%', '487938.48%', '429399.73%', '716439.55%', '761951.58%', '395800.28%', '449949.33%', '405956.74%', '445811.34%', '811033.31%', '333976.49%', '2426101.78%', '661397.37%', '293069.35%', '867219.43%', '1163866.93%', '684615.03%', '1172777.65%', '2264383.48%', '261447.43%', '245175.27%', '678127.02%', '497480.15%', '859160.49%', '559216.14%', '800947.28%', nan, '5816655.35%', '802522.94%', '578018.22%', '411853.91%', '252307.02%', '655421.64%', '538275.20%', '592672.94%', '268347.07%', '269518.24%', '604702.52%', '1317101.28%', '1595001.95%', '252765.38%', '267209.58%', '531329.40%', '2094619.25%', '837535.39%', '480166.15%', '574594.33%', '606611.60%', ...),\\n       (nan, '697953.59%', '1288743.17%', '764586.18%', '536307.65%', '825629.78%', '538089.86%', '721610.03%', '2412750.40%', '738817.81%', '473899.20%', '819719.71%', '879879.70%', '881901.89%', '538443.17%', '746313.94%', '256686.78%', '394524.16%', '571033.31%', '816261.71%', '287205.13%', '617710.93%', '2412750.40%', '245019.10%', '239210.79%', '580206.60%', '394637.21%', '916206.32%', '1290256.01%', '323536.05%', '245458.35%', '1897545.61%', '471532.13%', '473787.17%', '493291.63%', '574422.97%', '1389173.57%', '738097.67%', '309003.41%', '252163.31%', '265206.18%', '277104.50%', '393900.64%', '1223187.97%', '495165.61%', '1281910.29%', '446851.05%', '551434.40%', '334387.53%', '229447.89%', '3670742.64%', '3347334.95%', '798343.17%', '487938.48%', '429399.73%', '716439.55%', '761951.58%', '395800.28%', '449949.33%', '405956.74%', '445811.34%', '811033.31%', '333976.49%', '2426101.78%', '661397.37%', '293069.35%', '867219.43%', '1163866.93%', '684615.03%', '1172777.65%', '2264383.48%', '261447.43%', '245175.27%', '678127.02%', '497480.15%', '859160.49%', '559216.14%', '800947.28%', nan, '5816655.35%', '802522.94%', '578018.22%', '411853.91%', '252307.02%', '655421.64%', '538275.20%', '592672.94%', '268347.07%', '269518.24%', '604702.52%', '1317101.28%', '1595001.95%', '252765.38%', '267209.58%', '531329.40%', '2094619.25%', '837535.39%', '480166.15%', '574594.33%', '606611.60%', ...),\\n       (nan, '697953.59%', '1288743.17%', '764586.18%', '536307.65%', '825629.78%', '538089.86%', '721610.03%', '2412750.40%', '738817.81%', '473899.20%', '819719.71%', '879879.70%', '881901.89%', '538443.17%', '746313.94%', '256686.78%', '394524.16%', '571033.31%', '816261.71%', '287205.13%', '617710.93%', '2412750.40%', '245019.10%', '239210.79%', '580206.60%', '394637.21%', '916206.32%', '1290256.01%', '323536.05%', '245458.35%', '1897545.61%', '471532.13%', '473787.17%', '493291.63%', '574422.97%', '1389173.57%', '738097.67%', '309003.41%', '252163.31%', '265206.18%', '277104.50%', '393900.64%', '1223187.97%', '495165.61%', '1281910.29%', '446851.05%', '551434.40%', '334387.53%', '229447.89%', '3670742.64%', '3347334.95%', '798343.17%', '487938.48%', '429399.73%', '716439.55%', '761951.58%', '395800.28%', '449949.33%', '405956.74%', '445811.34%', '811033.31%', '333976.49%', '2426101.78%', '661397.37%', '293069.35%', '867219.43%', '1163866.93%', '684615.03%', '1172777.65%', '2264383.48%', '261447.43%', '245175.27%', '678127.02%', '497480.15%', '859160.49%', '559216.14%', '800947.28%', nan, '5816655.35%', '802522.94%', '578018.22%', '411853.91%', '252307.02%', '655421.64%', '538275.20%', '592672.94%', '268347.07%', '269518.24%', '604702.52%', '1317101.28%', '1595001.95%', '252765.38%', '267209.58%', '531329.40%', '2094619.25%', '837535.39%', '480166.15%', '574594.33%', '606611.60%', ...),\\n       (nan, '697953.59%', '1288743.17%', '764586.18%', '536307.65%', '825629.78%', '538089.86%', '721610.03%', '2412750.40%', '738817.81%', '473899.20%', '819719.71%', '879879.70%', '881901.89%', '538443.17%', '746313.94%', '256686.78%', '394524.16%', '571033.31%', '816261.71%', '287205.13%', '617710.93%', '2412750.40%', '245019.10%', '239210.79%', '580206.60%', '394637.21%', '916206.32%', '1290256.01%', '323536.05%', '245458.35%', '1897545.61%', '471532.13%', '473787.17%', '493291.63%', '574422.97%', '1389173.57%', '738097.67%', '309003.41%', '252163.31%', '265206.18%', '277104.50%', '393900.64%', '1223187.97%', '495165.61%', '1281910.29%', '446851.05%', '551434.40%', '334387.53%', '229447.89%', '3670742.64%', '3347334.95%', '798343.17%', '487938.48%', '429399.73%', '716439.55%', '761951.58%', '395800.28%', '449949.33%', '405956.74%', '445811.34%', '811033.31%', '333976.49%', '2426101.78%', '661397.37%', '293069.35%', '867219.43%', '1163866.93%', '684615.03%', '1172777.65%', '2264383.48%', '261447.43%', '245175.27%', '678127.02%', '497480.15%', '859160.49%', '559216.14%', '800947.28%', nan, '5816655.35%', '802522.94%', '578018.22%', '411853.91%', '252307.02%', '655421.64%', '538275.20%', '592672.94%', '268347.07%', '269518.24%', '604702.52%', '1317101.28%', '1595001.95%', '252765.38%', '267209.58%', '531329.40%', '2094619.25%', '837535.39%', '480166.15%', '574594.33%', '606611.60%', ...),\\n       (nan, '697953.59%', '1288743.17%', '764586.18%', '536307.65%', '825629.78%', '538089.86%', '721610.03%', '2412750.40%', '738817.81%', '473899.20%', '819719.71%', '879879.70%', '881901.89%', '538443.17%', '746313.94%', '256686.78%', '394524.16%', '571033.31%', '816261.71%', '287205.13%', '617710.93%', '2412750.40%', '245019.10%', '239210.79%', '580206.60%', '394637.21%', '916206.32%', '1290256.01%', '323536.05%', '245458.35%', '1897545.61%', '471532.13%', '473787.17%', '493291.63%', '574422.97%', '1389173.57%', '738097.67%', '309003.41%', '252163.31%', '265206.18%', '277104.50%', '393900.64%', '1223187.97%', '495165.61%', '1281910.29%', '446851.05%', '551434.40%', '334387.53%', '229447.89%', '3670742.64%', '3347334.95%', '798343.17%', '487938.48%', '429399.73%', '716439.55%', '761951.58%', '395800.28%', '449949.33%', '405956.74%', '445811.34%', '811033.31%', '333976.49%', '2426101.78%', '661397.37%', '293069.35%', '867219.43%', '1163866.93%', '684615.03%', '1172777.65%', '2264383.48%', '261447.43%', '245175.27%', '678127.02%', '497480.15%', '859160.49%', '559216.14%', '800947.28%', nan, '5816655.35%', '802522.94%', '578018.22%', '411853.91%', '252307.02%', '655421.64%', '538275.20%', '592672.94%', '268347.07%', '269518.24%', '604702.52%', '1317101.28%', '1595001.95%', '252765.38%', '267209.58%', '531329.40%', '2094619.25%', '837535.39%', '480166.15%', '574594.33%', '606611.60%', ...),\\n       (nan, '697953.59%', '1288743.17%', '764586.18%', '536307.65%', '825629.78%', '538089.86%', '721610.03%', '2412750.40%', '738817.81%', '473899.20%', '819719.71%', '879879.70%', '881901.89%', '538443.17%', '746313.94%', '256686.78%', '394524.16%', '571033.31%', '816261.71%', '287205.13%', '617710.93%', '2412750.40%', '245019.10%', '239210.79%', '580206.60%', '394637.21%', '916206.32%', '1290256.01%', '323536.05%', '245458.35%', '1897545.61%', '471532.13%', '473787.17%', '493291.63%', '574422.97%', '1389173.57%', '738097.67%', '309003.41%', '252163.31%', '265206.18%', '277104.50%', '393900.64%', '1223187.97%', '495165.61%', '1281910.29%', '446851.05%', '551434.40%', '334387.53%', '229447.89%', '3670742.64%', '3347334.95%', '798343.17%', '487938.48%', '429399.73%', '716439.55%', '761951.58%', '395800.28%', '449949.33%', '405956.74%', '445811.34%', '811033.31%', '333976.49%', '2426101.78%', '661397.37%', '293069.35%', '867219.43%', '1163866.93%', '684615.03%', '1172777.65%', '2264383.48%', '261447.43%', '245175.27%', '678127.02%', '497480.15%', '859160.49%', '559216.14%', '800947.28%', nan, '5816655.35%', '802522.94%', '578018.22%', '411853.91%', '252307.02%', '655421.64%', '538275.20%', '592672.94%', '268347.07%', '269518.24%', '604702.52%', '1317101.28%', '1595001.95%', '252765.38%', '267209.58%', '531329.40%', '2094619.25%', '837535.39%', '480166.15%', '574594.33%', '606611.60%', ...),\\n       (nan, '697953.59%', '1288743.17%', '764586.18%', '536307.65%', '825629.78%', '538089.86%', '721610.03%', '2412750.40%', '738817.81%', '473899.20%', '819719.71%', '879879.70%', '881901.89%', '538443.17%', '746313.94%', '256686.78%', '394524.16%', '571033.31%', '816261.71%', '287205.13%', '617710.93%', '2412750.40%', '245019.10%', '239210.79%', '580206.60%', '394637.21%', '916206.32%', '1290256.01%', '323536.05%', '245458.35%', '1897545.61%', '471532.13%', '473787.17%', '493291.63%', '574422.97%', '1389173.57%', '738097.67%', '309003.41%', '252163.31%', '265206.18%', '277104.50%', '393900.64%', '1223187.97%', '495165.61%', '1281910.29%', '446851.05%', '551434.40%', '334387.53%', '229447.89%', '3670742.64%', '3347334.95%', '798343.17%', '487938.48%', '429399.73%', '716439.55%', '761951.58%', '395800.28%', '449949.33%', '405956.74%', '445811.34%', '811033.31%', '333976.49%', '2426101.78%', '661397.37%', '293069.35%', '867219.43%', '1163866.93%', '684615.03%', '1172777.65%', '2264383.48%', '261447.43%', '245175.27%', '678127.02%', '497480.15%', '859160.49%', '559216.14%', '800947.28%', nan, '5816655.35%', '802522.94%', '578018.22%', '411853.91%', '252307.02%', '655421.64%', '538275.20%', '592672.94%', '268347.07%', '269518.24%', '604702.52%', '1317101.28%', '1595001.95%', '252765.38%', '267209.58%', '531329.40%', '2094619.25%', '837535.39%', '480166.15%', '574594.33%', '606611.60%', ...),\\n       (nan, '697953.59%', '1288743.17%', '764586.18%', '536307.65%', '825629.78%', '538089.86%', '721610.03%', '2412750.40%', '738817.81%', '473899.20%', '819719.71%', '879879.70%', '881901.89%', '538443.17%', '746313.94%', '256686.78%', '394524.16%', '571033.31%', '816261.71%', '287205.13%', '617710.93%', '2412750.40%', '245019.10%', '239210.79%', '580206.60%', '394637.21%', '916206.32%', '1290256.01%', '323536.05%', '245458.35%', '1897545.61%', '471532.13%', '473787.17%', '493291.63%', '574422.97%', '1389173.57%', '738097.67%', '309003.41%', '252163.31%', '265206.18%', '277104.50%', '393900.64%', '1223187.97%', '495165.61%', '1281910.29%', '446851.05%', '551434.40%', '334387.53%', '229447.89%', '3670742.64%', '3347334.95%', '798343.17%', '487938.48%', '429399.73%', '716439.55%', '761951.58%', '395800.28%', '449949.33%', '405956.74%', '445811.34%', '811033.31%', '333976.49%', '2426101.78%', '661397.37%', '293069.35%', '867219.43%', '1163866.93%', '684615.03%', '1172777.65%', '2264383.48%', '261447.43%', '245175.27%', '678127.02%', '497480.15%', '859160.49%', '559216.14%', '800947.28%', nan, '5816655.35%', '802522.94%', '578018.22%', '411853.91%', '252307.02%', '655421.64%', '538275.20%', '592672.94%', '268347.07%', '269518.24%', '604702.52%', '1317101.28%', '1595001.95%', '252765.38%', '267209.58%', '531329.40%', '2094619.25%', '837535.39%', '480166.15%', '574594.33%', '606611.60%', ...),\\n       (nan, '697953.59%', '1288743.17%', '764586.18%', '536307.65%', '825629.78%', '538089.86%', '721610.03%', '2412750.40%', '738817.81%', '473899.20%', '819719.71%', '879879.70%', '881901.89%', '538443.17%', '746313.94%', '256686.78%', '394524.16%', '571033.31%', '816261.71%', '287205.13%', '617710.93%', '2412750.40%', '245019.10%', '239210.79%', '580206.60%', '394637.21%', '916206.32%', '1290256.01%', '323536.05%', '245458.35%', '1897545.61%', '471532.13%', '473787.17%', '493291.63%', '574422.97%', '1389173.57%', '738097.67%', '309003.41%', '252163.31%', '265206.18%', '277104.50%', '393900.64%', '1223187.97%', '495165.61%', '1281910.29%', '446851.05%', '551434.40%', '334387.53%', '229447.89%', '3670742.64%', '3347334.95%', '798343.17%', '487938.48%', '429399.73%', '716439.55%', '761951.58%', '395800.28%', '449949.33%', '405956.74%', '445811.34%', '811033.31%', '333976.49%', '2426101.78%', '661397.37%', '293069.35%', '867219.43%', '1163866.93%', '684615.03%', '1172777.65%', '2264383.48%', '261447.43%', '245175.27%', '678127.02%', '497480.15%', '859160.49%', '559216.14%', '800947.28%', nan, '5816655.35%', '802522.94%', '578018.22%', '411853.91%', '252307.02%', '655421.64%', '538275.20%', '592672.94%', '268347.07%', '269518.24%', '604702.52%', '1317101.28%', '1595001.95%', '252765.38%', '267209.58%', '531329.40%', '2094619.25%', '837535.39%', '480166.15%', '574594.33%', '606611.60%', ...),\\n       (nan, '697953.59%', '1288743.17%', '764586.18%', '536307.65%', '825629.78%', '538089.86%', '721610.03%', '2412750.40%', '738817.81%', '473899.20%', '819719.71%', '879879.70%', '881901.89%', '538443.17%', '746313.94%', '256686.78%', '394524.16%', '571033.31%', '816261.71%', '287205.13%', '617710.93%', '2412750.40%', '245019.10%', '239210.79%', '580206.60%', '394637.21%', '916206.32%', '1290256.01%', '323536.05%', '245458.35%', '1897545.61%', '471532.13%', '473787.17%', '493291.63%', '574422.97%', '1389173.57%', '738097.67%', '309003.41%', '252163.31%', '265206.18%', '277104.50%', '393900.64%', '1223187.97%', '495165.61%', '1281910.29%', '446851.05%', '551434.40%', '334387.53%', '229447.89%', '3670742.64%', '3347334.95%', '798343.17%', '487938.48%', '429399.73%', '716439.55%', '761951.58%', '395800.28%', '449949.33%', '405956.74%', '445811.34%', '811033.31%', '333976.49%', '2426101.78%', '661397.37%', '293069.35%', '867219.43%', '1163866.93%', '684615.03%', '1172777.65%', '2264383.48%', '261447.43%', '245175.27%', '678127.02%', '497480.15%', '859160.49%', '559216.14%', '800947.28%', nan, '5816655.35%', '802522.94%', '578018.22%', '411853.91%', '252307.02%', '655421.64%', '538275.20%', '592672.94%', '268347.07%', '269518.24%', '604702.52%', '1317101.28%', '1595001.95%', '252765.38%', '267209.58%', '531329.40%', '2094619.25%', '837535.39%', '480166.15%', '574594.33%', '606611.60%', ...),\\n       (nan, '697953.59%', '1288743.17%', '764586.18%', '536307.65%', '825629.78%', '538089.86%', '721610.03%', '2412750.40%', '738817.81%', '473899.20%', '819719.71%', '879879.70%', '881901.89%', '538443.17%', '746313.94%', '256686.78%', '394524.16%', '571033.31%', '816261.71%', '287205.13%', '617710.93%', '2412750.40%', '245019.10%', '239210.79%', '580206.60%', '394637.21%', '916206.32%', '1290256.01%', '323536.05%', '245458.35%', '1897545.61%', '471532.13%', '473787.17%', '493291.63%', '574422.97%', '1389173.57%', '738097.67%', '309003.41%', '252163.31%', '265206.18%', '277104.50%', '393900.64%', '1223187.97%', '495165.61%', '1281910.29%', '446851.05%', '551434.40%', '334387.53%', '229447.89%', '3670742.64%', '3347334.95%', '798343.17%', '487938.48%', '429399.73%', '716439.55%', '761951.58%', '395800.28%', '449949.33%', '405956.74%', '445811.34%', '811033.31%', '333976.49%', '2426101.78%', '661397.37%', '293069.35%', '867219.43%', '1163866.93%', '684615.03%', '1172777.65%', '2264383.48%', '261447.43%', '245175.27%', '678127.02%', '497480.15%', '859160.49%', '559216.14%', '800947.28%', nan, '5816655.35%', '802522.94%', '578018.22%', '411853.91%', '252307.02%', '655421.64%', '538275.20%', '592672.94%', '268347.07%', '269518.24%', '604702.52%', '1317101.28%', '1595001.95%', '252765.38%', '267209.58%', '531329.40%', '2094619.25%', '837535.39%', '480166.15%', '574594.33%', '606611.60%', ...),\\n       (nan, '697953.59%', '1288743.17%', '764586.18%', '536307.65%', '825629.78%', '538089.86%', '721610.03%', '2412750.40%', '738817.81%', '473899.20%', '819719.71%', '879879.70%', '881901.89%', '538443.17%', '746313.94%', '256686.78%', '394524.16%', '571033.31%', '816261.71%', '287205.13%', '617710.93%', '2412750.40%', '245019.10%', '239210.79%', '580206.60%', '394637.21%', '916206.32%', '1290256.01%', '323536.05%', '245458.35%', '1897545.61%', '471532.13%', '473787.17%', '493291.63%', '574422.97%', '1389173.57%', '738097.67%', '309003.41%', '252163.31%', '265206.18%', '277104.50%', '393900.64%', '1223187.97%', '495165.61%', '1281910.29%', '446851.05%', '551434.40%', '334387.53%', '229447.89%', '3670742.64%', '3347334.95%', '798343.17%', '487938.48%', '429399.73%', '716439.55%', '761951.58%', '395800.28%', '449949.33%', '405956.74%', '445811.34%', '811033.31%', '333976.49%', '2426101.78%', '661397.37%', '293069.35%', '867219.43%', '1163866.93%', '684615.03%', '1172777.65%', '2264383.48%', '261447.43%', '245175.27%', '678127.02%', '497480.15%', '859160.49%', '559216.14%', '800947.28%', nan, '5816655.35%', '802522.94%', '578018.22%', '411853.91%', '252307.02%', '655421.64%', '538275.20%', '592672.94%', '268347.07%', '269518.24%', '604702.52%', '1317101.28%', '1595001.95%', '252765.38%', '267209.58%', '531329.40%', '2094619.25%', '837535.39%', '480166.15%', '574594.33%', '606611.60%', ...),\\n       (nan, '697953.59%', '1288743.17%', '764586.18%', '536307.65%', '825629.78%', '538089.86%', '721610.03%', '2412750.40%', '738817.81%', '473899.20%', '819719.71%', '879879.70%', '881901.89%', '538443.17%', '746313.94%', '256686.78%', '394524.16%', '571033.31%', '816261.71%', '287205.13%', '617710.93%', '2412750.40%', '245019.10%', '239210.79%', '580206.60%', '394637.21%', '916206.32%', '1290256.01%', '323536.05%', '245458.35%', '1897545.61%', '471532.13%', '473787.17%', '493291.63%', '574422.97%', '1389173.57%', '738097.67%', '309003.41%', '252163.31%', '265206.18%', '277104.50%', '393900.64%', '1223187.97%', '495165.61%', '1281910.29%', '446851.05%', '551434.40%', '334387.53%', '229447.89%', '3670742.64%', '3347334.95%', '798343.17%', '487938.48%', '429399.73%', '716439.55%', '761951.58%', '395800.28%', '449949.33%', '405956.74%', '445811.34%', '811033.31%', '333976.49%', '2426101.78%', '661397.37%', '293069.35%', '867219.43%', '1163866.93%', '684615.03%', '1172777.65%', '2264383.48%', '261447.43%', '245175.27%', '678127.02%', '497480.15%', '859160.49%', '559216.14%', '800947.28%', nan, '5816655.35%', '802522.94%', '578018.22%', '411853.91%', '252307.02%', '655421.64%', '538275.20%', '592672.94%', '268347.07%', '269518.24%', '604702.52%', '1317101.28%', '1595001.95%', '252765.38%', '267209.58%', '531329.40%', '2094619.25%', '837535.39%', '480166.15%', '574594.33%', '606611.60%', ...),\\n       (nan, '697953.59%', '1288743.17%', '764586.18%', '536307.65%', '825629.78%', '538089.86%', '721610.03%', '2412750.40%', '738817.81%', '473899.20%', '819719.71%', '879879.70%', '881901.89%', '538443.17%', '746313.94%', '256686.78%', '394524.16%', '571033.31%', '816261.71%', '287205.13%', '617710.93%', '2412750.40%', '245019.10%', '239210.79%', '580206.60%', '394637.21%', '916206.32%', '1290256.01%', '323536.05%', '245458.35%', '1897545.61%', '471532.13%', '473787.17%', '493291.63%', '574422.97%', '1389173.57%', '738097.67%', '309003.41%', '252163.31%', '265206.18%', '277104.50%', '393900.64%', '1223187.97%', '495165.61%', '1281910.29%', '446851.05%', '551434.40%', '334387.53%', '229447.89%', '3670742.64%', '3347334.95%', '798343.17%', '487938.48%', '429399.73%', '716439.55%', '761951.58%', '395800.28%', '449949.33%', '405956.74%', '445811.34%', '811033.31%', '333976.49%', '2426101.78%', '661397.37%', '293069.35%', '867219.43%', '1163866.93%', '684615.03%', '1172777.65%', '2264383.48%', '261447.43%', '245175.27%', '678127.02%', '497480.15%', '859160.49%', '559216.14%', '800947.28%', nan, '5816655.35%', '802522.94%', '578018.22%', '411853.91%', '252307.02%', '655421.64%', '538275.20%', '592672.94%', '268347.07%', '269518.24%', '604702.52%', '1317101.28%', '1595001.95%', '252765.38%', '267209.58%', '531329.40%', '2094619.25%', '837535.39%', '480166.15%', '574594.33%', '606611.60%', ...),\\n       (nan, '697953.59%', '1288743.17%', '764586.18%', '536307.65%', '825629.78%', '538089.86%', '721610.03%', '2412750.40%', '738817.81%', '473899.20%', '819719.71%', '879879.70%', '881901.89%', '538443.17%', '746313.94%', '256686.78%', '394524.16%', '571033.31%', '816261.71%', '287205.13%', '617710.93%', '2412750.40%', '245019.10%', '239210.79%', '580206.60%', '394637.21%', '916206.32%', '1290256.01%', '323536.05%', '245458.35%', '1897545.61%', '471532.13%', '473787.17%', '493291.63%', '574422.97%', '1389173.57%', '738097.67%', '309003.41%', '252163.31%', '265206.18%', '277104.50%', '393900.64%', '1223187.97%', '495165.61%', '1281910.29%', '446851.05%', '551434.40%', '334387.53%', '229447.89%', '3670742.64%', '3347334.95%', '798343.17%', '487938.48%', '429399.73%', '716439.55%', '761951.58%', '395800.28%', '449949.33%', '405956.74%', '445811.34%', '811033.31%', '333976.49%', '2426101.78%', '661397.37%', '293069.35%', '867219.43%', '1163866.93%', '684615.03%', '1172777.65%', '2264383.48%', '261447.43%', '245175.27%', '678127.02%', '497480.15%', '859160.49%', '559216.14%', '800947.28%', nan, '5816655.35%', '802522.94%', '578018.22%', '411853.91%', '252307.02%', '655421.64%', '538275.20%', '592672.94%', '268347.07%', '269518.24%', '604702.52%', '1317101.28%', '1595001.95%', '252765.38%', '267209.58%', '531329.40%', '2094619.25%', '837535.39%', '480166.15%', '574594.33%', '606611.60%', ...),\\n       (nan, '697953.59%', '1288743.17%', '764586.18%', '536307.65%', '825629.78%', '538089.86%', '721610.03%', '2412750.40%', '738817.81%', '473899.20%', '819719.71%', '879879.70%', '881901.89%', '538443.17%', '746313.94%', '256686.78%', '394524.16%', '571033.31%', '816261.71%', '287205.13%', '617710.93%', '2412750.40%', '245019.10%', '239210.79%', '580206.60%', '394637.21%', '916206.32%', '1290256.01%', '323536.05%', '245458.35%', '1897545.61%', '471532.13%', '473787.17%', '493291.63%', '574422.97%', '1389173.57%', '738097.67%', '309003.41%', '252163.31%', '265206.18%', '277104.50%', '393900.64%', '1223187.97%', '495165.61%', '1281910.29%', '446851.05%', '551434.40%', '334387.53%', '229447.89%', '3670742.64%', '3347334.95%', '798343.17%', '487938.48%', '429399.73%', '716439.55%', '761951.58%', '395800.28%', '449949.33%', '405956.74%', '445811.34%', '811033.31%', '333976.49%', '2426101.78%', '661397.37%', '293069.35%', '867219.43%', '1163866.93%', '684615.03%', '1172777.65%', '2264383.48%', '261447.43%', '245175.27%', '678127.02%', '497480.15%', '859160.49%', '559216.14%', '800947.28%', nan, '5816655.35%', '802522.94%', '578018.22%', '411853.91%', '252307.02%', '655421.64%', '538275.20%', '592672.94%', '268347.07%', '269518.24%', '604702.52%', '1317101.28%', '1595001.95%', '252765.38%', '267209.58%', '531329.40%', '2094619.25%', '837535.39%', '480166.15%', '574594.33%', '606611.60%', ...),\\n       (nan, '697953.59%', '1288743.17%', '764586.18%', '536307.65%', '825629.78%', '538089.86%', '721610.03%', '2412750.40%', '738817.81%', '473899.20%', '819719.71%', '879879.70%', '881901.89%', '538443.17%', '746313.94%', '256686.78%', '394524.16%', '571033.31%', '816261.71%', '287205.13%', '617710.93%', '2412750.40%', '245019.10%', '239210.79%', '580206.60%', '394637.21%', '916206.32%', '1290256.01%', '323536.05%', '245458.35%', '1897545.61%', '471532.13%', '473787.17%', '493291.63%', '574422.97%', '1389173.57%', '738097.67%', '309003.41%', '252163.31%', '265206.18%', '277104.50%', '393900.64%', '1223187.97%', '495165.61%', '1281910.29%', '446851.05%', '551434.40%', '334387.53%', '229447.89%', '3670742.64%', '3347334.95%', '798343.17%', '487938.48%', '429399.73%', '716439.55%', '761951.58%', '395800.28%', '449949.33%', '405956.74%', '445811.34%', '811033.31%', '333976.49%', '2426101.78%', '661397.37%', '293069.35%', '867219.43%', '1163866.93%', '684615.03%', '1172777.65%', '2264383.48%', '261447.43%', '245175.27%', '678127.02%', '497480.15%', '859160.49%', '559216.14%', '800947.28%', nan, '5816655.35%', '802522.94%', '578018.22%', '411853.91%', '252307.02%', '655421.64%', '538275.20%', '592672.94%', '268347.07%', '269518.24%', '604702.52%', '1317101.28%', '1595001.95%', '252765.38%', '267209.58%', '531329.40%', '2094619.25%', '837535.39%', '480166.15%', '574594.33%', '606611.60%', ...),\\n       (nan, '697953.59%', '1288743.17%', '764586.18%', '536307.65%', '825629.78%', '538089.86%', '721610.03%', '2412750.40%', '738817.81%', '473899.20%', '819719.71%', '879879.70%', '881901.89%', '538443.17%', '746313.94%', '256686.78%', '394524.16%', '571033.31%', '816261.71%', '287205.13%', '617710.93%', '2412750.40%', '245019.10%', '239210.79%', '580206.60%', '394637.21%', '916206.32%', '1290256.01%', '323536.05%', '245458.35%', '1897545.61%', '471532.13%', '473787.17%', '493291.63%', '574422.97%', '1389173.57%', '738097.67%', '309003.41%', '252163.31%', '265206.18%', '277104.50%', '393900.64%', '1223187.97%', '495165.61%', '1281910.29%', '446851.05%', '551434.40%', '334387.53%', '229447.89%', '3670742.64%', '3347334.95%', '798343.17%', '487938.48%', '429399.73%', '716439.55%', '761951.58%', '395800.28%', '449949.33%', '405956.74%', '445811.34%', '811033.31%', '333976.49%', '2426101.78%', '661397.37%', '293069.35%', '867219.43%', '1163866.93%', '684615.03%', '1172777.65%', '2264383.48%', '261447.43%', '245175.27%', '678127.02%', '497480.15%', '859160.49%', '559216.14%', '800947.28%', nan, '5816655.35%', '802522.94%', '578018.22%', '411853.91%', '252307.02%', '655421.64%', '538275.20%', '592672.94%', '268347.07%', '269518.24%', '604702.52%', '1317101.28%', '1595001.95%', '252765.38%', '267209.58%', '531329.40%', '2094619.25%', '837535.39%', '480166.15%', '574594.33%', '606611.60%', ...),\\n       (nan, '697953.59%', '1288743.17%', '764586.18%', '536307.65%', '825629.78%', '538089.86%', '721610.03%', '2412750.40%', '738817.81%', '473899.20%', '819719.71%', '879879.70%', '881901.89%', '538443.17%', '746313.94%', '256686.78%', '394524.16%', '571033.31%', '816261.71%', '287205.13%', '617710.93%', '2412750.40%', '245019.10%', '239210.79%', '580206.60%', '394637.21%', '916206.32%', '1290256.01%', '323536.05%', '245458.35%', '1897545.61%', '471532.13%', '473787.17%', '493291.63%', '574422.97%', '1389173.57%', '738097.67%', '309003.41%', '252163.31%', '265206.18%', '277104.50%', '393900.64%', '1223187.97%', '495165.61%', '1281910.29%', '446851.05%', '551434.40%', '334387.53%', '229447.89%', '3670742.64%', '3347334.95%', '798343.17%', '487938.48%', '429399.73%', '716439.55%', '761951.58%', '395800.28%', '449949.33%', '405956.74%', '445811.34%', '811033.31%', '333976.49%', '2426101.78%', '661397.37%', '293069.35%', '867219.43%', '1163866.93%', '684615.03%', '1172777.65%', '2264383.48%', '261447.43%', '245175.27%', '678127.02%', '497480.15%', '859160.49%', '559216.14%', '800947.28%', nan, '5816655.35%', '802522.94%', '578018.22%', '411853.91%', '252307.02%', '655421.64%', '538275.20%', '592672.94%', '268347.07%', '269518.24%', '604702.52%', '1317101.28%', '1595001.95%', '252765.38%', '267209.58%', '531329.40%', '2094619.25%', '837535.39%', '480166.15%', '574594.33%', '606611.60%', ...),\\n       (nan, '697953.59%', '1288743.17%', '764586.18%', '536307.65%', '825629.78%', '538089.86%', '721610.03%', '2412750.40%', '738817.81%', '473899.20%', '819719.71%', '879879.70%', '881901.89%', '538443.17%', '746313.94%', '256686.78%', '394524.16%', '571033.31%', '816261.71%', '287205.13%', '617710.93%', '2412750.40%', '245019.10%', '239210.79%', '580206.60%', '394637.21%', '916206.32%', '1290256.01%', '323536.05%', '245458.35%', '1897545.61%', '471532.13%', '473787.17%', '493291.63%', '574422.97%', '1389173.57%', '738097.67%', '309003.41%', '252163.31%', '265206.18%', '277104.50%', '393900.64%', '1223187.97%', '495165.61%', '1281910.29%', '446851.05%', '551434.40%', '334387.53%', '229447.89%', '3670742.64%', '3347334.95%', '798343.17%', '487938.48%', '429399.73%', '716439.55%', '761951.58%', '395800.28%', '449949.33%', '405956.74%', '445811.34%', '811033.31%', '333976.49%', '2426101.78%', '661397.37%', '293069.35%', '867219.43%', '1163866.93%', '684615.03%', '1172777.65%', '2264383.48%', '261447.43%', '245175.27%', '678127.02%', '497480.15%', '859160.49%', '559216.14%', '800947.28%', nan, '5816655.35%', '802522.94%', '578018.22%', '411853.91%', '252307.02%', '655421.64%', '538275.20%', '592672.94%', '268347.07%', '269518.24%', '604702.52%', '1317101.28%', '1595001.95%', '252765.38%', '267209.58%', '531329.40%', '2094619.25%', '837535.39%', '480166.15%', '574594.33%', '606611.60%', ...),\\n       (nan, '697953.59%', '1288743.17%', '764586.18%', '536307.65%', '825629.78%', '538089.86%', '721610.03%', '2412750.40%', '738817.81%', '473899.20%', '819719.71%', '879879.70%', '881901.89%', '538443.17%', '746313.94%', '256686.78%', '394524.16%', '571033.31%', '816261.71%', '287205.13%', '617710.93%', '2412750.40%', '245019.10%', '239210.79%', '580206.60%', '394637.21%', '916206.32%', '1290256.01%', '323536.05%', '245458.35%', '1897545.61%', '471532.13%', '473787.17%', '493291.63%', '574422.97%', '1389173.57%', '738097.67%', '309003.41%', '252163.31%', '265206.18%', '277104.50%', '393900.64%', '1223187.97%', '495165.61%', '1281910.29%', '446851.05%', '551434.40%', '334387.53%', '229447.89%', '3670742.64%', '3347334.95%', '798343.17%', '487938.48%', '429399.73%', '716439.55%', '761951.58%', '395800.28%', '449949.33%', '405956.74%', '445811.34%', '811033.31%', '333976.49%', '2426101.78%', '661397.37%', '293069.35%', '867219.43%', '1163866.93%', '684615.03%', '1172777.65%', '2264383.48%', '261447.43%', '245175.27%', '678127.02%', '497480.15%', '859160.49%', '559216.14%', '800947.28%', nan, '5816655.35%', '802522.94%', '578018.22%', '411853.91%', '252307.02%', '655421.64%', '538275.20%', '592672.94%', '268347.07%', '269518.24%', '604702.52%', '1317101.28%', '1595001.95%', '252765.38%', '267209.58%', '531329.40%', '2094619.25%', '837535.39%', '480166.15%', '574594.33%', '606611.60%', ...),\\n       (nan, '697953.59%', '1288743.17%', '764586.18%', '536307.65%', '825629.78%', '538089.86%', '721610.03%', '2412750.40%', '738817.81%', '473899.20%', '819719.71%', '879879.70%', '881901.89%', '538443.17%', '746313.94%', '256686.78%', '394524.16%', '571033.31%', '816261.71%', '287205.13%', '617710.93%', '2412750.40%', '245019.10%', '239210.79%', '580206.60%', '394637.21%', '916206.32%', '1290256.01%', '323536.05%', '245458.35%', '1897545.61%', '471532.13%', '473787.17%', '493291.63%', '574422.97%', '1389173.57%', '738097.67%', '309003.41%', '252163.31%', '265206.18%', '277104.50%', '393900.64%', '1223187.97%', '495165.61%', '1281910.29%', '446851.05%', '551434.40%', '334387.53%', '229447.89%', '3670742.64%', '3347334.95%', '798343.17%', '487938.48%', '429399.73%', '716439.55%', '761951.58%', '395800.28%', '449949.33%', '405956.74%', '445811.34%', '811033.31%', '333976.49%', '2426101.78%', '661397.37%', '293069.35%', '867219.43%', '1163866.93%', '684615.03%', '1172777.65%', '2264383.48%', '261447.43%', '245175.27%', '678127.02%', '497480.15%', '859160.49%', '559216.14%', '800947.28%', nan, '5816655.35%', '802522.94%', '578018.22%', '411853.91%', '252307.02%', '655421.64%', '538275.20%', '592672.94%', '268347.07%', '269518.24%', '604702.52%', '1317101.28%', '1595001.95%', '252765.38%', '267209.58%', '531329.40%', '2094619.25%', '837535.39%', '480166.15%', '574594.33%', '606611.60%', ...),\\n       (nan, '697953.59%', '1288743.17%', '764586.18%', '536307.65%', '825629.78%', '538089.86%', '721610.03%', '2412750.40%', '738817.81%', '473899.20%', '819719.71%', '879879.70%', '881901.89%', '538443.17%', '746313.94%', '256686.78%', '394524.16%', '571033.31%', '816261.71%', '287205.13%', '617710.93%', '2412750.40%', '245019.10%', '239210.79%', '580206.60%', '394637.21%', '916206.32%', '1290256.01%', '323536.05%', '245458.35%', '1897545.61%', '471532.13%', '473787.17%', '493291.63%', '574422.97%', '1389173.57%', '738097.67%', '309003.41%', '252163.31%', '265206.18%', '277104.50%', '393900.64%', '1223187.97%', '495165.61%', '1281910.29%', '446851.05%', '551434.40%', '334387.53%', '229447.89%', '3670742.64%', '3347334.95%', '798343.17%', '487938.48%', '429399.73%', '716439.55%', '761951.58%', '395800.28%', '449949.33%', '405956.74%', '445811.34%', '811033.31%', '333976.49%', '2426101.78%', '661397.37%', '293069.35%', '867219.43%', '1163866.93%', '684615.03%', '1172777.65%', '2264383.48%', '261447.43%', '245175.27%', '678127.02%', '497480.15%', '859160.49%', '559216.14%', '800947.28%', nan, '5816655.35%', '802522.94%', '578018.22%', '411853.91%', '252307.02%', '655421.64%', '538275.20%', '592672.94%', '268347.07%', '269518.24%', '604702.52%', '1317101.28%', '1595001.95%', '252765.38%', '267209.58%', '531329.40%', '2094619.25%', '837535.39%', '480166.15%', '574594.33%', '606611.60%', ...),\\n       (nan, '697953.59%', '1288743.17%', '764586.18%', '536307.65%', '825629.78%', '538089.86%', '721610.03%', '2412750.40%', '738817.81%', '473899.20%', '819719.71%', '879879.70%', '881901.89%', '538443.17%', '746313.94%', '256686.78%', '394524.16%', '571033.31%', '816261.71%', '287205.13%', '617710.93%', '2412750.40%', '245019.10%', '239210.79%', '580206.60%', '394637.21%', '916206.32%', '1290256.01%', '323536.05%', '245458.35%', '1897545.61%', '471532.13%', '473787.17%', '493291.63%', '574422.97%', '1389173.57%', '738097.67%', '309003.41%', '252163.31%', '265206.18%', '277104.50%', '393900.64%', '1223187.97%', '495165.61%', '1281910.29%', '446851.05%', '551434.40%', '334387.53%', '229447.89%', '3670742.64%', '3347334.95%', '798343.17%', '487938.48%', '429399.73%', '716439.55%', '761951.58%', '395800.28%', '449949.33%', '405956.74%', '445811.34%', '811033.31%', '333976.49%', '2426101.78%', '661397.37%', '293069.35%', '867219.43%', '1163866.93%', '684615.03%', '1172777.65%', '2264383.48%', '261447.43%', '245175.27%', '678127.02%', '497480.15%', '859160.49%', '559216.14%', '800947.28%', nan, '5816655.35%', '802522.94%', '578018.22%', '411853.91%', '252307.02%', '655421.64%', '538275.20%', '592672.94%', '268347.07%', '269518.24%', '604702.52%', '1317101.28%', '1595001.95%', '252765.38%', '267209.58%', '531329.40%', '2094619.25%', '837535.39%', '480166.15%', '574594.33%', '606611.60%', ...),\\n       (nan, '697953.59%', '1288743.17%', '764586.18%', '536307.65%', '825629.78%', '538089.86%', '721610.03%', '2412750.40%', '738817.81%', '473899.20%', '819719.71%', '879879.70%', '881901.89%', '538443.17%', '746313.94%', '256686.78%', '394524.16%', '571033.31%', '816261.71%', '287205.13%', '617710.93%', '2412750.40%', '245019.10%', '239210.79%', '580206.60%', '394637.21%', '916206.32%', '1290256.01%', '323536.05%', '245458.35%', '1897545.61%', '471532.13%', '473787.17%', '493291.63%', '574422.97%', '1389173.57%', '738097.67%', '309003.41%', '252163.31%', '265206.18%', '277104.50%', '393900.64%', '1223187.97%', '495165.61%', '1281910.29%', '446851.05%', '551434.40%', '334387.53%', '229447.89%', '3670742.64%', '3347334.95%', '798343.17%', '487938.48%', '429399.73%', '716439.55%', '761951.58%', '395800.28%', '449949.33%', '405956.74%', '445811.34%', '811033.31%', '333976.49%', '2426101.78%', '661397.37%', '293069.35%', '867219.43%', '1163866.93%', '684615.03%', '1172777.65%', '2264383.48%', '261447.43%', '245175.27%', '678127.02%', '497480.15%', '859160.49%', '559216.14%', '800947.28%', nan, '5816655.35%', '802522.94%', '578018.22%', '411853.91%', '252307.02%', '655421.64%', '538275.20%', '592672.94%', '268347.07%', '269518.24%', '604702.52%', '1317101.28%', '1595001.95%', '252765.38%', '267209.58%', '531329.40%', '2094619.25%', '837535.39%', '480166.15%', '574594.33%', '606611.60%', ...),\\n       (nan, '697953.59%', '1288743.17%', '764586.18%', '536307.65%', '825629.78%', '538089.86%', '721610.03%', '2412750.40%', '738817.81%', '473899.20%', '819719.71%', '879879.70%', '881901.89%', '538443.17%', '746313.94%', '256686.78%', '394524.16%', '571033.31%', '816261.71%', '287205.13%', '617710.93%', '2412750.40%', '245019.10%', '239210.79%', '580206.60%', '394637.21%', '916206.32%', '1290256.01%', '323536.05%', '245458.35%', '1897545.61%', '471532.13%', '473787.17%', '493291.63%', '574422.97%', '1389173.57%', '738097.67%', '309003.41%', '252163.31%', '265206.18%', '277104.50%', '393900.64%', '1223187.97%', '495165.61%', '1281910.29%', '446851.05%', '551434.40%', '334387.53%', '229447.89%', '3670742.64%', '3347334.95%', '798343.17%', '487938.48%', '429399.73%', '716439.55%', '761951.58%', '395800.28%', '449949.33%', '405956.74%', '445811.34%', '811033.31%', '333976.49%', '2426101.78%', '661397.37%', '293069.35%', '867219.43%', '1163866.93%', '684615.03%', '1172777.65%', '2264383.48%', '261447.43%', '245175.27%', '678127.02%', '497480.15%', '859160.49%', '559216.14%', '800947.28%', nan, '5816655.35%', '802522.94%', '578018.22%', '411853.91%', '252307.02%', '655421.64%', '538275.20%', '592672.94%', '268347.07%', '269518.24%', '604702.52%', '1317101.28%', '1595001.95%', '252765.38%', '267209.58%', '531329.40%', '2094619.25%', '837535.39%', '480166.15%', '574594.33%', '606611.60%', ...),\\n       (nan, '697953.59%', '1288743.17%', '764586.18%', '536307.65%', '825629.78%', '538089.86%', '721610.03%', '2412750.40%', '738817.81%', '473899.20%', '819719.71%', '879879.70%', '881901.89%', '538443.17%', '746313.94%', '256686.78%', '394524.16%', '571033.31%', '816261.71%', '287205.13%', '617710.93%', '2412750.40%', '245019.10%', '239210.79%', '580206.60%', '394637.21%', '916206.32%', '1290256.01%', '323536.05%', '245458.35%', '1897545.61%', '471532.13%', '473787.17%', '493291.63%', '574422.97%', '1389173.57%', '738097.67%', '309003.41%', '252163.31%', '265206.18%', '277104.50%', '393900.64%', '1223187.97%', '495165.61%', '1281910.29%', '446851.05%', '551434.40%', '334387.53%', '229447.89%', '3670742.64%', '3347334.95%', '798343.17%', '487938.48%', '429399.73%', '716439.55%', '761951.58%', '395800.28%', '449949.33%', '405956.74%', '445811.34%', '811033.31%', '333976.49%', '2426101.78%', '661397.37%', '293069.35%', '867219.43%', '1163866.93%', '684615.03%', '1172777.65%', '2264383.48%', '261447.43%', '245175.27%', '678127.02%', '497480.15%', '859160.49%', '559216.14%', '800947.28%', nan, '5816655.35%', '802522.94%', '578018.22%', '411853.91%', '252307.02%', '655421.64%', '538275.20%', '592672.94%', '268347.07%', '269518.24%', '604702.52%', '1317101.28%', '1595001.95%', '252765.38%', '267209.58%', '531329.40%', '2094619.25%', '837535.39%', '480166.15%', '574594.33%', '606611.60%', ...),\\n       (nan, '697953.59%', '1288743.17%', '764586.18%', '536307.65%', '825629.78%', '538089.86%', '721610.03%', '2412750.40%', '738817.81%', '473899.20%', '819719.71%', '879879.70%', '881901.89%', '538443.17%', '746313.94%', '256686.78%', '394524.16%', '571033.31%', '816261.71%', '287205.13%', '617710.93%', '2412750.40%', '245019.10%', '239210.79%', '580206.60%', '394637.21%', '916206.32%', '1290256.01%', '323536.05%', '245458.35%', '1897545.61%', '471532.13%', '473787.17%', '493291.63%', '574422.97%', '1389173.57%', '738097.67%', '309003.41%', '252163.31%', '265206.18%', '277104.50%', '393900.64%', '1223187.97%', '495165.61%', '1281910.29%', '446851.05%', '551434.40%', '334387.53%', '229447.89%', '3670742.64%', '3347334.95%', '798343.17%', '487938.48%', '429399.73%', '716439.55%', '761951.58%', '395800.28%', '449949.33%', '405956.74%', '445811.34%', '811033.31%', '333976.49%', '2426101.78%', '661397.37%', '293069.35%', '867219.43%', '1163866.93%', '684615.03%', '1172777.65%', '2264383.48%', '261447.43%', '245175.27%', '678127.02%', '497480.15%', '859160.49%', '559216.14%', '800947.28%', nan, '5816655.35%', '802522.94%', '578018.22%', '411853.91%', '252307.02%', '655421.64%', '538275.20%', '592672.94%', '268347.07%', '269518.24%', '604702.52%', '1317101.28%', '1595001.95%', '252765.38%', '267209.58%', '531329.40%', '2094619.25%', '837535.39%', '480166.15%', '574594.33%', '606611.60%', ...),\\n       (nan, '697953.59%', '1288743.17%', '764586.18%', '536307.65%', '825629.78%', '538089.86%', '721610.03%', '2412750.40%', '738817.81%', '473899.20%', '819719.71%', '879879.70%', '881901.89%', '538443.17%', '746313.94%', '256686.78%', '394524.16%', '571033.31%', '816261.71%', '287205.13%', '617710.93%', '2412750.40%', '245019.10%', '239210.79%', '580206.60%', '394637.21%', '916206.32%', '1290256.01%', '323536.05%', '245458.35%', '1897545.61%', '471532.13%', '473787.17%', '493291.63%', '574422.97%', '1389173.57%', '738097.67%', '309003.41%', '252163.31%', '265206.18%', '277104.50%', '393900.64%', '1223187.97%', '495165.61%', '1281910.29%', '446851.05%', '551434.40%', '334387.53%', '229447.89%', '3670742.64%', '3347334.95%', '798343.17%', '487938.48%', '429399.73%', '716439.55%', '761951.58%', '395800.28%', '449949.33%', '405956.74%', '445811.34%', '811033.31%', '333976.49%', '2426101.78%', '661397.37%', '293069.35%', '867219.43%', '1163866.93%', '684615.03%', '1172777.65%', '2264383.48%', '261447.43%', '245175.27%', '678127.02%', '497480.15%', '859160.49%', '559216.14%', '800947.28%', nan, '5816655.35%', '802522.94%', '578018.22%', '411853.91%', '252307.02%', '655421.64%', '538275.20%', '592672.94%', '268347.07%', '269518.24%', '604702.52%', '1317101.28%', '1595001.95%', '252765.38%', '267209.58%', '531329.40%', '2094619.25%', '837535.39%', '480166.15%', '574594.33%', '606611.60%', ...),\\n       (nan, '697953.59%', '1288743.17%', '764586.18%', '536307.65%', '825629.78%', '538089.86%', '721610.03%', '2412750.40%', '738817.81%', '473899.20%', '819719.71%', '879879.70%', '881901.89%', '538443.17%', '746313.94%', '256686.78%', '394524.16%', '571033.31%', '816261.71%', '287205.13%', '617710.93%', '2412750.40%', '245019.10%', '239210.79%', '580206.60%', '394637.21%', '916206.32%', '1290256.01%', '323536.05%', '245458.35%', '1897545.61%', '471532.13%', '473787.17%', '493291.63%', '574422.97%', '1389173.57%', '738097.67%', '309003.41%', '252163.31%', '265206.18%', '277104.50%', '393900.64%', '1223187.97%', '495165.61%', '1281910.29%', '446851.05%', '551434.40%', '334387.53%', '229447.89%', '3670742.64%', '3347334.95%', '798343.17%', '487938.48%', '429399.73%', '716439.55%', '761951.58%', '395800.28%', '449949.33%', '405956.74%', '445811.34%', '811033.31%', '333976.49%', '2426101.78%', '661397.37%', '293069.35%', '867219.43%', '1163866.93%', '684615.03%', '1172777.65%', '2264383.48%', '261447.43%', '245175.27%', '678127.02%', '497480.15%', '859160.49%', '559216.14%', '800947.28%', nan, '5816655.35%', '802522.94%', '578018.22%', '411853.91%', '252307.02%', '655421.64%', '538275.20%', '592672.94%', '268347.07%', '269518.24%', '604702.52%', '1317101.28%', '1595001.95%', '252765.38%', '267209.58%', '531329.40%', '2094619.25%', '837535.39%', '480166.15%', '574594.33%', '606611.60%', ...),\\n       (nan, '697953.59%', '1288743.17%', '764586.18%', '536307.65%', '825629.78%', '538089.86%', '721610.03%', '2412750.40%', '738817.81%', '473899.20%', '819719.71%', '879879.70%', '881901.89%', '538443.17%', '746313.94%', '256686.78%', '394524.16%', '571033.31%', '816261.71%', '287205.13%', '617710.93%', '2412750.40%', '245019.10%', '239210.79%', '580206.60%', '394637.21%', '916206.32%', '1290256.01%', '323536.05%', '245458.35%', '1897545.61%', '471532.13%', '473787.17%', '493291.63%', '574422.97%', '1389173.57%', '738097.67%', '309003.41%', '252163.31%', '265206.18%', '277104.50%', '393900.64%', '1223187.97%', '495165.61%', '1281910.29%', '446851.05%', '551434.40%', '334387.53%', '229447.89%', '3670742.64%', '3347334.95%', '798343.17%', '487938.48%', '429399.73%', '716439.55%', '761951.58%', '395800.28%', '449949.33%', '405956.74%', '445811.34%', '811033.31%', '333976.49%', '2426101.78%', '661397.37%', '293069.35%', '867219.43%', '1163866.93%', '684615.03%', '1172777.65%', '2264383.48%', '261447.43%', '245175.27%', '678127.02%', '497480.15%', '859160.49%', '559216.14%', '800947.28%', nan, '5816655.35%', '802522.94%', '578018.22%', '411853.91%', '252307.02%', '655421.64%', '538275.20%', '592672.94%', '268347.07%', '269518.24%', '604702.52%', '1317101.28%', '1595001.95%', '252765.38%', '267209.58%', '531329.40%', '2094619.25%', '837535.39%', '480166.15%', '574594.33%', '606611.60%', ...),\\n       (nan, '697953.59%', '1288743.17%', '764586.18%', '536307.65%', '825629.78%', '538089.86%', '721610.03%', '2412750.40%', '738817.81%', '473899.20%', '819719.71%', '879879.70%', '881901.89%', '538443.17%', '746313.94%', '256686.78%', '394524.16%', '571033.31%', '816261.71%', '287205.13%', '617710.93%', '2412750.40%', '245019.10%', '239210.79%', '580206.60%', '394637.21%', '916206.32%', '1290256.01%', '323536.05%', '245458.35%', '1897545.61%', '471532.13%', '473787.17%', '493291.63%', '574422.97%', '1389173.57%', '738097.67%', '309003.41%', '252163.31%', '265206.18%', '277104.50%', '393900.64%', '1223187.97%', '495165.61%', '1281910.29%', '446851.05%', '551434.40%', '334387.53%', '229447.89%', '3670742.64%', '3347334.95%', '798343.17%', '487938.48%', '429399.73%', '716439.55%', '761951.58%', '395800.28%', '449949.33%', '405956.74%', '445811.34%', '811033.31%', '333976.49%', '2426101.78%', '661397.37%', '293069.35%', '867219.43%', '1163866.93%', '684615.03%', '1172777.65%', '2264383.48%', '261447.43%', '245175.27%', '678127.02%', '497480.15%', '859160.49%', '559216.14%', '800947.28%', nan, '5816655.35%', '802522.94%', '578018.22%', '411853.91%', '252307.02%', '655421.64%', '538275.20%', '592672.94%', '268347.07%', '269518.24%', '604702.52%', '1317101.28%', '1595001.95%', '252765.38%', '267209.58%', '531329.40%', '2094619.25%', '837535.39%', '480166.15%', '574594.33%', '606611.60%', ...),\\n       (nan, '697953.59%', '1288743.17%', '764586.18%', '536307.65%', '825629.78%', '538089.86%', '721610.03%', '2412750.40%', '738817.81%', '473899.20%', '819719.71%', '879879.70%', '881901.89%', '538443.17%', '746313.94%', '256686.78%', '394524.16%', '571033.31%', '816261.71%', '287205.13%', '617710.93%', '2412750.40%', '245019.10%', '239210.79%', '580206.60%', '394637.21%', '916206.32%', '1290256.01%', '323536.05%', '245458.35%', '1897545.61%', '471532.13%', '473787.17%', '493291.63%', '574422.97%', '1389173.57%', '738097.67%', '309003.41%', '252163.31%', '265206.18%', '277104.50%', '393900.64%', '1223187.97%', '495165.61%', '1281910.29%', '446851.05%', '551434.40%', '334387.53%', '229447.89%', '3670742.64%', '3347334.95%', '798343.17%', '487938.48%', '429399.73%', '716439.55%', '761951.58%', '395800.28%', '449949.33%', '405956.74%', '445811.34%', '811033.31%', '333976.49%', '2426101.78%', '661397.37%', '293069.35%', '867219.43%', '1163866.93%', '684615.03%', '1172777.65%', '2264383.48%', '261447.43%', '245175.27%', '678127.02%', '497480.15%', '859160.49%', '559216.14%', '800947.28%', nan, '5816655.35%', '802522.94%', '578018.22%', '411853.91%', '252307.02%', '655421.64%', '538275.20%', '592672.94%', '268347.07%', '269518.24%', '604702.52%', '1317101.28%', '1595001.95%', '252765.38%', '267209.58%', '531329.40%', '2094619.25%', '837535.39%', '480166.15%', '574594.33%', '606611.60%', ...),\\n       (nan, '697953.59%', '1288743.17%', '764586.18%', '536307.65%', '825629.78%', '538089.86%', '721610.03%', '2412750.40%', '738817.81%', '473899.20%', '819719.71%', '879879.70%', '881901.89%', '538443.17%', '746313.94%', '256686.78%', '394524.16%', '571033.31%', '816261.71%', '287205.13%', '617710.93%', '2412750.40%', '245019.10%', '239210.79%', '580206.60%', '394637.21%', '916206.32%', '1290256.01%', '323536.05%', '245458.35%', '1897545.61%', '471532.13%', '473787.17%', '493291.63%', '574422.97%', '1389173.57%', '738097.67%', '309003.41%', '252163.31%', '265206.18%', '277104.50%', '393900.64%', '1223187.97%', '495165.61%', '1281910.29%', '446851.05%', '551434.40%', '334387.53%', '229447.89%', '3670742.64%', '3347334.95%', '798343.17%', '487938.48%', '429399.73%', '716439.55%', '761951.58%', '395800.28%', '449949.33%', '405956.74%', '445811.34%', '811033.31%', '333976.49%', '2426101.78%', '661397.37%', '293069.35%', '867219.43%', '1163866.93%', '684615.03%', '1172777.65%', '2264383.48%', '261447.43%', '245175.27%', '678127.02%', '497480.15%', '859160.49%', '559216.14%', '800947.28%', nan, '5816655.35%', '802522.94%', '578018.22%', '411853.91%', '252307.02%', '655421.64%', '538275.20%', '592672.94%', '268347.07%', '269518.24%', '604702.52%', '1317101.28%', '1595001.95%', '252765.38%', '267209.58%', '531329.40%', '2094619.25%', '837535.39%', '480166.15%', '574594.33%', '606611.60%', ...),\\n       (nan, '697953.59%', '1288743.17%', '764586.18%', '536307.65%', '825629.78%', '538089.86%', '721610.03%', '2412750.40%', '738817.81%', '473899.20%', '819719.71%', '879879.70%', '881901.89%', '538443.17%', '746313.94%', '256686.78%', '394524.16%', '571033.31%', '816261.71%', '287205.13%', '617710.93%', '2412750.40%', '245019.10%', '239210.79%', '580206.60%', '394637.21%', '916206.32%', '1290256.01%', '323536.05%', '245458.35%', '1897545.61%', '471532.13%', '473787.17%', '493291.63%', '574422.97%', '1389173.57%', '738097.67%', '309003.41%', '252163.31%', '265206.18%', '277104.50%', '393900.64%', '1223187.97%', '495165.61%', '1281910.29%', '446851.05%', '551434.40%', '334387.53%', '229447.89%', '3670742.64%', '3347334.95%', '798343.17%', '487938.48%', '429399.73%', '716439.55%', '761951.58%', '395800.28%', '449949.33%', '405956.74%', '445811.34%', '811033.31%', '333976.49%', '2426101.78%', '661397.37%', '293069.35%', '867219.43%', '1163866.93%', '684615.03%', '1172777.65%', '2264383.48%', '261447.43%', '245175.27%', '678127.02%', '497480.15%', '859160.49%', '559216.14%', '800947.28%', nan, '5816655.35%', '802522.94%', '578018.22%', '411853.91%', '252307.02%', '655421.64%', '538275.20%', '592672.94%', '268347.07%', '269518.24%', '604702.52%', '1317101.28%', '1595001.95%', '252765.38%', '267209.58%', '531329.40%', '2094619.25%', '837535.39%', '480166.15%', '574594.33%', '606611.60%', ...),\\n       (nan, '697953.59%', '1288743.17%', '764586.18%', '536307.65%', '825629.78%', '538089.86%', '721610.03%', '2412750.40%', '738817.81%', '473899.20%', '819719.71%', '879879.70%', '881901.89%', '538443.17%', '746313.94%', '256686.78%', '394524.16%', '571033.31%', '816261.71%', '287205.13%', '617710.93%', '2412750.40%', '245019.10%', '239210.79%', '580206.60%', '394637.21%', '916206.32%', '1290256.01%', '323536.05%', '245458.35%', '1897545.61%', '471532.13%', '473787.17%', '493291.63%', '574422.97%', '1389173.57%', '738097.67%', '309003.41%', '252163.31%', '265206.18%', '277104.50%', '393900.64%', '1223187.97%', '495165.61%', '1281910.29%', '446851.05%', '551434.40%', '334387.53%', '229447.89%', '3670742.64%', '3347334.95%', '798343.17%', '487938.48%', '429399.73%', '716439.55%', '761951.58%', '395800.28%', '449949.33%', '405956.74%', '445811.34%', '811033.31%', '333976.49%', '2426101.78%', '661397.37%', '293069.35%', '867219.43%', '1163866.93%', '684615.03%', '1172777.65%', '2264383.48%', '261447.43%', '245175.27%', '678127.02%', '497480.15%', '859160.49%', '559216.14%', '800947.28%', nan, '5816655.35%', '802522.94%', '578018.22%', '411853.91%', '252307.02%', '655421.64%', '538275.20%', '592672.94%', '268347.07%', '269518.24%', '604702.52%', '1317101.28%', '1595001.95%', '252765.38%', '267209.58%', '531329.40%', '2094619.25%', '837535.39%', '480166.15%', '574594.33%', '606611.60%', ...),\\n       (nan, '697953.59%', '1288743.17%', '764586.18%', '536307.65%', '825629.78%', '538089.86%', '721610.03%', '2412750.40%', '738817.81%', '473899.20%', '819719.71%', '879879.70%', '881901.89%', '538443.17%', '746313.94%', '256686.78%', '394524.16%', '571033.31%', '816261.71%', '287205.13%', '617710.93%', '2412750.40%', '245019.10%', '239210.79%', '580206.60%', '394637.21%', '916206.32%', '1290256.01%', '323536.05%', '245458.35%', '1897545.61%', '471532.13%', '473787.17%', '493291.63%', '574422.97%', '1389173.57%', '738097.67%', '309003.41%', '252163.31%', '265206.18%', '277104.50%', '393900.64%', '1223187.97%', '495165.61%', '1281910.29%', '446851.05%', '551434.40%', '334387.53%', '229447.89%', '3670742.64%', '3347334.95%', '798343.17%', '487938.48%', '429399.73%', '716439.55%', '761951.58%', '395800.28%', '449949.33%', '405956.74%', '445811.34%', '811033.31%', '333976.49%', '2426101.78%', '661397.37%', '293069.35%', '867219.43%', '1163866.93%', '684615.03%', '1172777.65%', '2264383.48%', '261447.43%', '245175.27%', '678127.02%', '497480.15%', '859160.49%', '559216.14%', '800947.28%', nan, '5816655.35%', '802522.94%', '578018.22%', '411853.91%', '252307.02%', '655421.64%', '538275.20%', '592672.94%', '268347.07%', '269518.24%', '604702.52%', '1317101.28%', '1595001.95%', '252765.38%', '267209.58%', '531329.40%', '2094619.25%', '837535.39%', '480166.15%', '574594.33%', '606611.60%', ...),\\n       (nan, '697953.59%', '1288743.17%', '764586.18%', '536307.65%', '825629.78%', '538089.86%', '721610.03%', '2412750.40%', '738817.81%', '473899.20%', '819719.71%', '879879.70%', '881901.89%', '538443.17%', '746313.94%', '256686.78%', '394524.16%', '571033.31%', '816261.71%', '287205.13%', '617710.93%', '2412750.40%', '245019.10%', '239210.79%', '580206.60%', '394637.21%', '916206.32%', '1290256.01%', '323536.05%', '245458.35%', '1897545.61%', '471532.13%', '473787.17%', '493291.63%', '574422.97%', '1389173.57%', '738097.67%', '309003.41%', '252163.31%', '265206.18%', '277104.50%', '393900.64%', '1223187.97%', '495165.61%', '1281910.29%', '446851.05%', '551434.40%', '334387.53%', '229447.89%', '3670742.64%', '3347334.95%', '798343.17%', '487938.48%', '429399.73%', '716439.55%', '761951.58%', '395800.28%', '449949.33%', '405956.74%', '445811.34%', '811033.31%', '333976.49%', '2426101.78%', '661397.37%', '293069.35%', '867219.43%', '1163866.93%', '684615.03%', '1172777.65%', '2264383.48%', '261447.43%', '245175.27%', '678127.02%', '497480.15%', '859160.49%', '559216.14%', '800947.28%', nan, '5816655.35%', '802522.94%', '578018.22%', '411853.91%', '252307.02%', '655421.64%', '538275.20%', '592672.94%', '268347.07%', '269518.24%', '604702.52%', '1317101.28%', '1595001.95%', '252765.38%', '267209.58%', '531329.40%', '2094619.25%', '837535.39%', '480166.15%', '574594.33%', '606611.60%', ...),\\n       (nan, '697953.59%', '1288743.17%', '764586.18%', '536307.65%', '825629.78%', '538089.86%', '721610.03%', '2412750.40%', '738817.81%', '473899.20%', '819719.71%', '879879.70%', '881901.89%', '538443.17%', '746313.94%', '256686.78%', '394524.16%', '571033.31%', '816261.71%', '287205.13%', '617710.93%', '2412750.40%', '245019.10%', '239210.79%', '580206.60%', '394637.21%', '916206.32%', '1290256.01%', '323536.05%', '245458.35%', '1897545.61%', '471532.13%', '473787.17%', '493291.63%', '574422.97%', '1389173.57%', '738097.67%', '309003.41%', '252163.31%', '265206.18%', '277104.50%', '393900.64%', '1223187.97%', '495165.61%', '1281910.29%', '446851.05%', '551434.40%', '334387.53%', '229447.89%', '3670742.64%', '3347334.95%', '798343.17%', '487938.48%', '429399.73%', '716439.55%', '761951.58%', '395800.28%', '449949.33%', '405956.74%', '445811.34%', '811033.31%', '333976.49%', '2426101.78%', '661397.37%', '293069.35%', '867219.43%', '1163866.93%', '684615.03%', '1172777.65%', '2264383.48%', '261447.43%', '245175.27%', '678127.02%', '497480.15%', '859160.49%', '559216.14%', '800947.28%', nan, '5816655.35%', '802522.94%', '578018.22%', '411853.91%', '252307.02%', '655421.64%', '538275.20%', '592672.94%', '268347.07%', '269518.24%', '604702.52%', '1317101.28%', '1595001.95%', '252765.38%', '267209.58%', '531329.40%', '2094619.25%', '837535.39%', '480166.15%', '574594.33%', '606611.60%', ...),\\n       (nan, '697953.59%', '1288743.17%', '764586.18%', '536307.65%', '825629.78%', '538089.86%', '721610.03%', '2412750.40%', '738817.81%', '473899.20%', '819719.71%', '879879.70%', '881901.89%', '538443.17%', '746313.94%', '256686.78%', '394524.16%', '571033.31%', '816261.71%', '287205.13%', '617710.93%', '2412750.40%', '245019.10%', '239210.79%', '580206.60%', '394637.21%', '916206.32%', '1290256.01%', '323536.05%', '245458.35%', '1897545.61%', '471532.13%', '473787.17%', '493291.63%', '574422.97%', '1389173.57%', '738097.67%', '309003.41%', '252163.31%', '265206.18%', '277104.50%', '393900.64%', '1223187.97%', '495165.61%', '1281910.29%', '446851.05%', '551434.40%', '334387.53%', '229447.89%', '3670742.64%', '3347334.95%', '798343.17%', '487938.48%', '429399.73%', '716439.55%', '761951.58%', '395800.28%', '449949.33%', '405956.74%', '445811.34%', '811033.31%', '333976.49%', '2426101.78%', '661397.37%', '293069.35%', '867219.43%', '1163866.93%', '684615.03%', '1172777.65%', '2264383.48%', '261447.43%', '245175.27%', '678127.02%', '497480.15%', '859160.49%', '559216.14%', '800947.28%', nan, '5816655.35%', '802522.94%', '578018.22%', '411853.91%', '252307.02%', '655421.64%', '538275.20%', '592672.94%', '268347.07%', '269518.24%', '604702.52%', '1317101.28%', '1595001.95%', '252765.38%', '267209.58%', '531329.40%', '2094619.25%', '837535.39%', '480166.15%', '574594.33%', '606611.60%', ...),\\n       (nan, '697953.59%', '1288743.17%', '764586.18%', '536307.65%', '825629.78%', '538089.86%', '721610.03%', '2412750.40%', '738817.81%', '473899.20%', '819719.71%', '879879.70%', '881901.89%', '538443.17%', '746313.94%', '256686.78%', '394524.16%', '571033.31%', '816261.71%', '287205.13%', '617710.93%', '2412750.40%', '245019.10%', '239210.79%', '580206.60%', '394637.21%', '916206.32%', '1290256.01%', '323536.05%', '245458.35%', '1897545.61%', '471532.13%', '473787.17%', '493291.63%', '574422.97%', '1389173.57%', '738097.67%', '309003.41%', '252163.31%', '265206.18%', '277104.50%', '393900.64%', '1223187.97%', '495165.61%', '1281910.29%', '446851.05%', '551434.40%', '334387.53%', '229447.89%', '3670742.64%', '3347334.95%', '798343.17%', '487938.48%', '429399.73%', '716439.55%', '761951.58%', '395800.28%', '449949.33%', '405956.74%', '445811.34%', '811033.31%', '333976.49%', '2426101.78%', '661397.37%', '293069.35%', '867219.43%', '1163866.93%', '684615.03%', '1172777.65%', '2264383.48%', '261447.43%', '245175.27%', '678127.02%', '497480.15%', '859160.49%', '559216.14%', '800947.28%', nan, '5816655.35%', '802522.94%', '578018.22%', '411853.91%', '252307.02%', '655421.64%', '538275.20%', '592672.94%', '268347.07%', '269518.24%', '604702.52%', '1317101.28%', '1595001.95%', '252765.38%', '267209.58%', '531329.40%', '2094619.25%', '837535.39%', '480166.15%', '574594.33%', '606611.60%', ...),\\n       (nan, '697953.59%', '1288743.17%', '764586.18%', '536307.65%', '825629.78%', '538089.86%', '721610.03%', '2412750.40%', '738817.81%', '473899.20%', '819719.71%', '879879.70%', '881901.89%', '538443.17%', '746313.94%', '256686.78%', '394524.16%', '571033.31%', '816261.71%', '287205.13%', '617710.93%', '2412750.40%', '245019.10%', '239210.79%', '580206.60%', '394637.21%', '916206.32%', '1290256.01%', '323536.05%', '245458.35%', '1897545.61%', '471532.13%', '473787.17%', '493291.63%', '574422.97%', '1389173.57%', '738097.67%', '309003.41%', '252163.31%', '265206.18%', '277104.50%', '393900.64%', '1223187.97%', '495165.61%', '1281910.29%', '446851.05%', '551434.40%', '334387.53%', '229447.89%', '3670742.64%', '3347334.95%', '798343.17%', '487938.48%', '429399.73%', '716439.55%', '761951.58%', '395800.28%', '449949.33%', '405956.74%', '445811.34%', '811033.31%', '333976.49%', '2426101.78%', '661397.37%', '293069.35%', '867219.43%', '1163866.93%', '684615.03%', '1172777.65%', '2264383.48%', '261447.43%', '245175.27%', '678127.02%', '497480.15%', '859160.49%', '559216.14%', '800947.28%', nan, '5816655.35%', '802522.94%', '578018.22%', '411853.91%', '252307.02%', '655421.64%', '538275.20%', '592672.94%', '268347.07%', '269518.24%', '604702.52%', '1317101.28%', '1595001.95%', '252765.38%', '267209.58%', '531329.40%', '2094619.25%', '837535.39%', '480166.15%', '574594.33%', '606611.60%', ...),\\n       (nan, '697953.59%', '1288743.17%', '764586.18%', '536307.65%', '825629.78%', '538089.86%', '721610.03%', '2412750.40%', '738817.81%', '473899.20%', '819719.71%', '879879.70%', '881901.89%', '538443.17%', '746313.94%', '256686.78%', '394524.16%', '571033.31%', '816261.71%', '287205.13%', '617710.93%', '2412750.40%', '245019.10%', '239210.79%', '580206.60%', '394637.21%', '916206.32%', '1290256.01%', '323536.05%', '245458.35%', '1897545.61%', '471532.13%', '473787.17%', '493291.63%', '574422.97%', '1389173.57%', '738097.67%', '309003.41%', '252163.31%', '265206.18%', '277104.50%', '393900.64%', '1223187.97%', '495165.61%', '1281910.29%', '446851.05%', '551434.40%', '334387.53%', '229447.89%', '3670742.64%', '3347334.95%', '798343.17%', '487938.48%', '429399.73%', '716439.55%', '761951.58%', '395800.28%', '449949.33%', '405956.74%', '445811.34%', '811033.31%', '333976.49%', '2426101.78%', '661397.37%', '293069.35%', '867219.43%', '1163866.93%', '684615.03%', '1172777.65%', '2264383.48%', '261447.43%', '245175.27%', '678127.02%', '497480.15%', '859160.49%', '559216.14%', '800947.28%', nan, '5816655.35%', '802522.94%', '578018.22%', '411853.91%', '252307.02%', '655421.64%', '538275.20%', '592672.94%', '268347.07%', '269518.24%', '604702.52%', '1317101.28%', '1595001.95%', '252765.38%', '267209.58%', '531329.40%', '2094619.25%', '837535.39%', '480166.15%', '574594.33%', '606611.60%', ...),\\n       (nan, '697953.59%', '1288743.17%', '764586.18%', '536307.65%', '825629.78%', '538089.86%', '721610.03%', '2412750.40%', '738817.81%', '473899.20%', '819719.71%', '879879.70%', '881901.89%', '538443.17%', '746313.94%', '256686.78%', '394524.16%', '571033.31%', '816261.71%', '287205.13%', '617710.93%', '2412750.40%', '245019.10%', '239210.79%', '580206.60%', '394637.21%', '916206.32%', '1290256.01%', '323536.05%', '245458.35%', '1897545.61%', '471532.13%', '473787.17%', '493291.63%', '574422.97%', '1389173.57%', '738097.67%', '309003.41%', '252163.31%', '265206.18%', '277104.50%', '393900.64%', '1223187.97%', '495165.61%', '1281910.29%', '446851.05%', '551434.40%', '334387.53%', '229447.89%', '3670742.64%', '3347334.95%', '798343.17%', '487938.48%', '429399.73%', '716439.55%', '761951.58%', '395800.28%', '449949.33%', '405956.74%', '445811.34%', '811033.31%', '333976.49%', '2426101.78%', '661397.37%', '293069.35%', '867219.43%', '1163866.93%', '684615.03%', '1172777.65%', '2264383.48%', '261447.43%', '245175.27%', '678127.02%', '497480.15%', '859160.49%', '559216.14%', '800947.28%', nan, '5816655.35%', '802522.94%', '578018.22%', '411853.91%', '252307.02%', '655421.64%', '538275.20%', '592672.94%', '268347.07%', '269518.24%', '604702.52%', '1317101.28%', '1595001.95%', '252765.38%', '267209.58%', '531329.40%', '2094619.25%', '837535.39%', '480166.15%', '574594.33%', '606611.60%', ...),\\n       (nan, '697953.59%', '1288743.17%', '764586.18%', '536307.65%', '825629.78%', '538089.86%', '721610.03%', '2412750.40%', '738817.81%', '473899.20%', '819719.71%', '879879.70%', '881901.89%', '538443.17%', '746313.94%', '256686.78%', '394524.16%', '571033.31%', '816261.71%', '287205.13%', '617710.93%', '2412750.40%', '245019.10%', '239210.79%', '580206.60%', '394637.21%', '916206.32%', '1290256.01%', '323536.05%', '245458.35%', '1897545.61%', '471532.13%', '473787.17%', '493291.63%', '574422.97%', '1389173.57%', '738097.67%', '309003.41%', '252163.31%', '265206.18%', '277104.50%', '393900.64%', '1223187.97%', '495165.61%', '1281910.29%', '446851.05%', '551434.40%', '334387.53%', '229447.89%', '3670742.64%', '3347334.95%', '798343.17%', '487938.48%', '429399.73%', '716439.55%', '761951.58%', '395800.28%', '449949.33%', '405956.74%', '445811.34%', '811033.31%', '333976.49%', '2426101.78%', '661397.37%', '293069.35%', '867219.43%', '1163866.93%', '684615.03%', '1172777.65%', '2264383.48%', '261447.43%', '245175.27%', '678127.02%', '497480.15%', '859160.49%', '559216.14%', '800947.28%', nan, '5816655.35%', '802522.94%', '578018.22%', '411853.91%', '252307.02%', '655421.64%', '538275.20%', '592672.94%', '268347.07%', '269518.24%', '604702.52%', '1317101.28%', '1595001.95%', '252765.38%', '267209.58%', '531329.40%', '2094619.25%', '837535.39%', '480166.15%', '574594.33%', '606611.60%', ...),\\n       (nan, '697953.59%', '1288743.17%', '764586.18%', '536307.65%', '825629.78%', '538089.86%', '721610.03%', '2412750.40%', '738817.81%', '473899.20%', '819719.71%', '879879.70%', '881901.89%', '538443.17%', '746313.94%', '256686.78%', '394524.16%', '571033.31%', '816261.71%', '287205.13%', '617710.93%', '2412750.40%', '245019.10%', '239210.79%', '580206.60%', '394637.21%', '916206.32%', '1290256.01%', '323536.05%', '245458.35%', '1897545.61%', '471532.13%', '473787.17%', '493291.63%', '574422.97%', '1389173.57%', '738097.67%', '309003.41%', '252163.31%', '265206.18%', '277104.50%', '393900.64%', '1223187.97%', '495165.61%', '1281910.29%', '446851.05%', '551434.40%', '334387.53%', '229447.89%', '3670742.64%', '3347334.95%', '798343.17%', '487938.48%', '429399.73%', '716439.55%', '761951.58%', '395800.28%', '449949.33%', '405956.74%', '445811.34%', '811033.31%', '333976.49%', '2426101.78%', '661397.37%', '293069.35%', '867219.43%', '1163866.93%', '684615.03%', '1172777.65%', '2264383.48%', '261447.43%', '245175.27%', '678127.02%', '497480.15%', '859160.49%', '559216.14%', '800947.28%', nan, '5816655.35%', '802522.94%', '578018.22%', '411853.91%', '252307.02%', '655421.64%', '538275.20%', '592672.94%', '268347.07%', '269518.24%', '604702.52%', '1317101.28%', '1595001.95%', '252765.38%', '267209.58%', '531329.40%', '2094619.25%', '837535.39%', '480166.15%', '574594.33%', '606611.60%', ...),\\n       (nan, '697953.59%', '1288743.17%', '764586.18%', '536307.65%', '825629.78%', '538089.86%', '721610.03%', '2412750.40%', '738817.81%', '473899.20%', '819719.71%', '879879.70%', '881901.89%', '538443.17%', '746313.94%', '256686.78%', '394524.16%', '571033.31%', '816261.71%', '287205.13%', '617710.93%', '2412750.40%', '245019.10%', '239210.79%', '580206.60%', '394637.21%', '916206.32%', '1290256.01%', '323536.05%', '245458.35%', '1897545.61%', '471532.13%', '473787.17%', '493291.63%', '574422.97%', '1389173.57%', '738097.67%', '309003.41%', '252163.31%', '265206.18%', '277104.50%', '393900.64%', '1223187.97%', '495165.61%', '1281910.29%', '446851.05%', '551434.40%', '334387.53%', '229447.89%', '3670742.64%', '3347334.95%', '798343.17%', '487938.48%', '429399.73%', '716439.55%', '761951.58%', '395800.28%', '449949.33%', '405956.74%', '445811.34%', '811033.31%', '333976.49%', '2426101.78%', '661397.37%', '293069.35%', '867219.43%', '1163866.93%', '684615.03%', '1172777.65%', '2264383.48%', '261447.43%', '245175.27%', '678127.02%', '497480.15%', '859160.49%', '559216.14%', '800947.28%', nan, '5816655.35%', '802522.94%', '578018.22%', '411853.91%', '252307.02%', '655421.64%', '538275.20%', '592672.94%', '268347.07%', '269518.24%', '604702.52%', '1317101.28%', '1595001.95%', '252765.38%', '267209.58%', '531329.40%', '2094619.25%', '837535.39%', '480166.15%', '574594.33%', '606611.60%', ...),\\n       (nan, '697953.59%', '1288743.17%', '764586.18%', '536307.65%', '825629.78%', '538089.86%', '721610.03%', '2412750.40%', '738817.81%', '473899.20%', '819719.71%', '879879.70%', '881901.89%', '538443.17%', '746313.94%', '256686.78%', '394524.16%', '571033.31%', '816261.71%', '287205.13%', '617710.93%', '2412750.40%', '245019.10%', '239210.79%', '580206.60%', '394637.21%', '916206.32%', '1290256.01%', '323536.05%', '245458.35%', '1897545.61%', '471532.13%', '473787.17%', '493291.63%', '574422.97%', '1389173.57%', '738097.67%', '309003.41%', '252163.31%', '265206.18%', '277104.50%', '393900.64%', '1223187.97%', '495165.61%', '1281910.29%', '446851.05%', '551434.40%', '334387.53%', '229447.89%', '3670742.64%', '3347334.95%', '798343.17%', '487938.48%', '429399.73%', '716439.55%', '761951.58%', '395800.28%', '449949.33%', '405956.74%', '445811.34%', '811033.31%', '333976.49%', '2426101.78%', '661397.37%', '293069.35%', '867219.43%', '1163866.93%', '684615.03%', '1172777.65%', '2264383.48%', '261447.43%', '245175.27%', '678127.02%', '497480.15%', '859160.49%', '559216.14%', '800947.28%', nan, '5816655.35%', '802522.94%', '578018.22%', '411853.91%', '252307.02%', '655421.64%', '538275.20%', '592672.94%', '268347.07%', '269518.24%', '604702.52%', '1317101.28%', '1595001.95%', '252765.38%', '267209.58%', '531329.40%', '2094619.25%', '837535.39%', '480166.15%', '574594.33%', '606611.60%', ...),\\n       (nan, '697953.59%', '1288743.17%', '764586.18%', '536307.65%', '825629.78%', '538089.86%', '721610.03%', '2412750.40%', '738817.81%', '473899.20%', '819719.71%', '879879.70%', '881901.89%', '538443.17%', '746313.94%', '256686.78%', '394524.16%', '571033.31%', '816261.71%', '287205.13%', '617710.93%', '2412750.40%', '245019.10%', '239210.79%', '580206.60%', '394637.21%', '916206.32%', '1290256.01%', '323536.05%', '245458.35%', '1897545.61%', '471532.13%', '473787.17%', '493291.63%', '574422.97%', '1389173.57%', '738097.67%', '309003.41%', '252163.31%', '265206.18%', '277104.50%', '393900.64%', '1223187.97%', '495165.61%', '1281910.29%', '446851.05%', '551434.40%', '334387.53%', '229447.89%', '3670742.64%', '3347334.95%', '798343.17%', '487938.48%', '429399.73%', '716439.55%', '761951.58%', '395800.28%', '449949.33%', '405956.74%', '445811.34%', '811033.31%', '333976.49%', '2426101.78%', '661397.37%', '293069.35%', '867219.43%', '1163866.93%', '684615.03%', '1172777.65%', '2264383.48%', '261447.43%', '245175.27%', '678127.02%', '497480.15%', '859160.49%', '559216.14%', '800947.28%', nan, '5816655.35%', '802522.94%', '578018.22%', '411853.91%', '252307.02%', '655421.64%', '538275.20%', '592672.94%', '268347.07%', '269518.24%', '604702.52%', '1317101.28%', '1595001.95%', '252765.38%', '267209.58%', '531329.40%', '2094619.25%', '837535.39%', '480166.15%', '574594.33%', '606611.60%', ...),\\n       (nan, '697953.59%', '1288743.17%', '764586.18%', '536307.65%', '825629.78%', '538089.86%', '721610.03%', '2412750.40%', '738817.81%', '473899.20%', '819719.71%', '879879.70%', '881901.89%', '538443.17%', '746313.94%', '256686.78%', '394524.16%', '571033.31%', '816261.71%', '287205.13%', '617710.93%', '2412750.40%', '245019.10%', '239210.79%', '580206.60%', '394637.21%', '916206.32%', '1290256.01%', '323536.05%', '245458.35%', '1897545.61%', '471532.13%', '473787.17%', '493291.63%', '574422.97%', '1389173.57%', '738097.67%', '309003.41%', '252163.31%', '265206.18%', '277104.50%', '393900.64%', '1223187.97%', '495165.61%', '1281910.29%', '446851.05%', '551434.40%', '334387.53%', '229447.89%', '3670742.64%', '3347334.95%', '798343.17%', '487938.48%', '429399.73%', '716439.55%', '761951.58%', '395800.28%', '449949.33%', '405956.74%', '445811.34%', '811033.31%', '333976.49%', '2426101.78%', '661397.37%', '293069.35%', '867219.43%', '1163866.93%', '684615.03%', '1172777.65%', '2264383.48%', '261447.43%', '245175.27%', '678127.02%', '497480.15%', '859160.49%', '559216.14%', '800947.28%', nan, '5816655.35%', '802522.94%', '578018.22%', '411853.91%', '252307.02%', '655421.64%', '538275.20%', '592672.94%', '268347.07%', '269518.24%', '604702.52%', '1317101.28%', '1595001.95%', '252765.38%', '267209.58%', '531329.40%', '2094619.25%', '837535.39%', '480166.15%', '574594.33%', '606611.60%', ...),\\n       (nan, '697953.59%', '1288743.17%', '764586.18%', '536307.65%', '825629.78%', '538089.86%', '721610.03%', '2412750.40%', '738817.81%', '473899.20%', '819719.71%', '879879.70%', '881901.89%', '538443.17%', '746313.94%', '256686.78%', '394524.16%', '571033.31%', '816261.71%', '287205.13%', '617710.93%', '2412750.40%', '245019.10%', '239210.79%', '580206.60%', '394637.21%', '916206.32%', '1290256.01%', '323536.05%', '245458.35%', '1897545.61%', '471532.13%', '473787.17%', '493291.63%', '574422.97%', '1389173.57%', '738097.67%', '309003.41%', '252163.31%', '265206.18%', '277104.50%', '393900.64%', '1223187.97%', '495165.61%', '1281910.29%', '446851.05%', '551434.40%', '334387.53%', '229447.89%', '3670742.64%', '3347334.95%', '798343.17%', '487938.48%', '429399.73%', '716439.55%', '761951.58%', '395800.28%', '449949.33%', '405956.74%', '445811.34%', '811033.31%', '333976.49%', '2426101.78%', '661397.37%', '293069.35%', '867219.43%', '1163866.93%', '684615.03%', '1172777.65%', '2264383.48%', '261447.43%', '245175.27%', '678127.02%', '497480.15%', '859160.49%', '559216.14%', '800947.28%', nan, '5816655.35%', '802522.94%', '578018.22%', '411853.91%', '252307.02%', '655421.64%', '538275.20%', '592672.94%', '268347.07%', '269518.24%', '604702.52%', '1317101.28%', '1595001.95%', '252765.38%', '267209.58%', '531329.40%', '2094619.25%', '837535.39%', '480166.15%', '574594.33%', '606611.60%', ...),\\n       (nan, '697953.59%', '1288743.17%', '764586.18%', '536307.65%', '825629.78%', '538089.86%', '721610.03%', '2412750.40%', '738817.81%', '473899.20%', '819719.71%', '879879.70%', '881901.89%', '538443.17%', '746313.94%', '256686.78%', '394524.16%', '571033.31%', '816261.71%', '287205.13%', '617710.93%', '2412750.40%', '245019.10%', '239210.79%', '580206.60%', '394637.21%', '916206.32%', '1290256.01%', '323536.05%', '245458.35%', '1897545.61%', '471532.13%', '473787.17%', '493291.63%', '574422.97%', '1389173.57%', '738097.67%', '309003.41%', '252163.31%', '265206.18%', '277104.50%', '393900.64%', '1223187.97%', '495165.61%', '1281910.29%', '446851.05%', '551434.40%', '334387.53%', '229447.89%', '3670742.64%', '3347334.95%', '798343.17%', '487938.48%', '429399.73%', '716439.55%', '761951.58%', '395800.28%', '449949.33%', '405956.74%', '445811.34%', '811033.31%', '333976.49%', '2426101.78%', '661397.37%', '293069.35%', '867219.43%', '1163866.93%', '684615.03%', '1172777.65%', '2264383.48%', '261447.43%', '245175.27%', '678127.02%', '497480.15%', '859160.49%', '559216.14%', '800947.28%', nan, '5816655.35%', '802522.94%', '578018.22%', '411853.91%', '252307.02%', '655421.64%', '538275.20%', '592672.94%', '268347.07%', '269518.24%', '604702.52%', '1317101.28%', '1595001.95%', '252765.38%', '267209.58%', '531329.40%', '2094619.25%', '837535.39%', '480166.15%', '574594.33%', '606611.60%', ...),\\n       (nan, '697953.59%', '1288743.17%', '764586.18%', '536307.65%', '825629.78%', '538089.86%', '721610.03%', '2412750.40%', '738817.81%', '473899.20%', '819719.71%', '879879.70%', '881901.89%', '538443.17%', '746313.94%', '256686.78%', '394524.16%', '571033.31%', '816261.71%', '287205.13%', '617710.93%', '2412750.40%', '245019.10%', '239210.79%', '580206.60%', '394637.21%', '916206.32%', '1290256.01%', '323536.05%', '245458.35%', '1897545.61%', '471532.13%', '473787.17%', '493291.63%', '574422.97%', '1389173.57%', '738097.67%', '309003.41%', '252163.31%', '265206.18%', '277104.50%', '393900.64%', '1223187.97%', '495165.61%', '1281910.29%', '446851.05%', '551434.40%', '334387.53%', '229447.89%', '3670742.64%', '3347334.95%', '798343.17%', '487938.48%', '429399.73%', '716439.55%', '761951.58%', '395800.28%', '449949.33%', '405956.74%', '445811.34%', '811033.31%', '333976.49%', '2426101.78%', '661397.37%', '293069.35%', '867219.43%', '1163866.93%', '684615.03%', '1172777.65%', '2264383.48%', '261447.43%', '245175.27%', '678127.02%', '497480.15%', '859160.49%', '559216.14%', '800947.28%', nan, '5816655.35%', '802522.94%', '578018.22%', '411853.91%', '252307.02%', '655421.64%', '538275.20%', '592672.94%', '268347.07%', '269518.24%', '604702.52%', '1317101.28%', '1595001.95%', '252765.38%', '267209.58%', '531329.40%', '2094619.25%', '837535.39%', '480166.15%', '574594.33%', '606611.60%', ...),\\n       (nan, '697953.59%', '1288743.17%', '764586.18%', '536307.65%', '825629.78%', '538089.86%', '721610.03%', '2412750.40%', '738817.81%', '473899.20%', '819719.71%', '879879.70%', '881901.89%', '538443.17%', '746313.94%', '256686.78%', '394524.16%', '571033.31%', '816261.71%', '287205.13%', '617710.93%', '2412750.40%', '245019.10%', '239210.79%', '580206.60%', '394637.21%', '916206.32%', '1290256.01%', '323536.05%', '245458.35%', '1897545.61%', '471532.13%', '473787.17%', '493291.63%', '574422.97%', '1389173.57%', '738097.67%', '309003.41%', '252163.31%', '265206.18%', '277104.50%', '393900.64%', '1223187.97%', '495165.61%', '1281910.29%', '446851.05%', '551434.40%', '334387.53%', '229447.89%', '3670742.64%', '3347334.95%', '798343.17%', '487938.48%', '429399.73%', '716439.55%', '761951.58%', '395800.28%', '449949.33%', '405956.74%', '445811.34%', '811033.31%', '333976.49%', '2426101.78%', '661397.37%', '293069.35%', '867219.43%', '1163866.93%', '684615.03%', '1172777.65%', '2264383.48%', '261447.43%', '245175.27%', '678127.02%', '497480.15%', '859160.49%', '559216.14%', '800947.28%', nan, '5816655.35%', '802522.94%', '578018.22%', '411853.91%', '252307.02%', '655421.64%', '538275.20%', '592672.94%', '268347.07%', '269518.24%', '604702.52%', '1317101.28%', '1595001.95%', '252765.38%', '267209.58%', '531329.40%', '2094619.25%', '837535.39%', '480166.15%', '574594.33%', '606611.60%', ...),\\n       (nan, '697953.59%', '1288743.17%', '764586.18%', '536307.65%', '825629.78%', '538089.86%', '721610.03%', '2412750.40%', '738817.81%', '473899.20%', '819719.71%', '879879.70%', '881901.89%', '538443.17%', '746313.94%', '256686.78%', '394524.16%', '571033.31%', '816261.71%', '287205.13%', '617710.93%', '2412750.40%', '245019.10%', '239210.79%', '580206.60%', '394637.21%', '916206.32%', '1290256.01%', '323536.05%', '245458.35%', '1897545.61%', '471532.13%', '473787.17%', '493291.63%', '574422.97%', '1389173.57%', '738097.67%', '309003.41%', '252163.31%', '265206.18%', '277104.50%', '393900.64%', '1223187.97%', '495165.61%', '1281910.29%', '446851.05%', '551434.40%', '334387.53%', '229447.89%', '3670742.64%', '3347334.95%', '798343.17%', '487938.48%', '429399.73%', '716439.55%', '761951.58%', '395800.28%', '449949.33%', '405956.74%', '445811.34%', '811033.31%', '333976.49%', '2426101.78%', '661397.37%', '293069.35%', '867219.43%', '1163866.93%', '684615.03%', '1172777.65%', '2264383.48%', '261447.43%', '245175.27%', '678127.02%', '497480.15%', '859160.49%', '559216.14%', '800947.28%', nan, '5816655.35%', '802522.94%', '578018.22%', '411853.91%', '252307.02%', '655421.64%', '538275.20%', '592672.94%', '268347.07%', '269518.24%', '604702.52%', '1317101.28%', '1595001.95%', '252765.38%', '267209.58%', '531329.40%', '2094619.25%', '837535.39%', '480166.15%', '574594.33%', '606611.60%', ...),\\n       (nan, '697953.59%', '1288743.17%', '764586.18%', '536307.65%', '825629.78%', '538089.86%', '721610.03%', '2412750.40%', '738817.81%', '473899.20%', '819719.71%', '879879.70%', '881901.89%', '538443.17%', '746313.94%', '256686.78%', '394524.16%', '571033.31%', '816261.71%', '287205.13%', '617710.93%', '2412750.40%', '245019.10%', '239210.79%', '580206.60%', '394637.21%', '916206.32%', '1290256.01%', '323536.05%', '245458.35%', '1897545.61%', '471532.13%', '473787.17%', '493291.63%', '574422.97%', '1389173.57%', '738097.67%', '309003.41%', '252163.31%', '265206.18%', '277104.50%', '393900.64%', '1223187.97%', '495165.61%', '1281910.29%', '446851.05%', '551434.40%', '334387.53%', '229447.89%', '3670742.64%', '3347334.95%', '798343.17%', '487938.48%', '429399.73%', '716439.55%', '761951.58%', '395800.28%', '449949.33%', '405956.74%', '445811.34%', '811033.31%', '333976.49%', '2426101.78%', '661397.37%', '293069.35%', '867219.43%', '1163866.93%', '684615.03%', '1172777.65%', '2264383.48%', '261447.43%', '245175.27%', '678127.02%', '497480.15%', '859160.49%', '559216.14%', '800947.28%', nan, '5816655.35%', '802522.94%', '578018.22%', '411853.91%', '252307.02%', '655421.64%', '538275.20%', '592672.94%', '268347.07%', '269518.24%', '604702.52%', '1317101.28%', '1595001.95%', '252765.38%', '267209.58%', '531329.40%', '2094619.25%', '837535.39%', '480166.15%', '574594.33%', '606611.60%', ...),\\n       (nan, '697953.59%', '1288743.17%', '764586.18%', '536307.65%', '825629.78%', '538089.86%', '721610.03%', '2412750.40%', '738817.81%', '473899.20%', '819719.71%', '879879.70%', '881901.89%', '538443.17%', '746313.94%', '256686.78%', '394524.16%', '571033.31%', '816261.71%', '287205.13%', '617710.93%', '2412750.40%', '245019.10%', '239210.79%', '580206.60%', '394637.21%', '916206.32%', '1290256.01%', '323536.05%', '245458.35%', '1897545.61%', '471532.13%', '473787.17%', '493291.63%', '574422.97%', '1389173.57%', '738097.67%', '309003.41%', '252163.31%', '265206.18%', '277104.50%', '393900.64%', '1223187.97%', '495165.61%', '1281910.29%', '446851.05%', '551434.40%', '334387.53%', '229447.89%', '3670742.64%', '3347334.95%', '798343.17%', '487938.48%', '429399.73%', '716439.55%', '761951.58%', '395800.28%', '449949.33%', '405956.74%', '445811.34%', '811033.31%', '333976.49%', '2426101.78%', '661397.37%', '293069.35%', '867219.43%', '1163866.93%', '684615.03%', '1172777.65%', '2264383.48%', '261447.43%', '245175.27%', '678127.02%', '497480.15%', '859160.49%', '559216.14%', '800947.28%', nan, '5816655.35%', '802522.94%', '578018.22%', '411853.91%', '252307.02%', '655421.64%', '538275.20%', '592672.94%', '268347.07%', '269518.24%', '604702.52%', '1317101.28%', '1595001.95%', '252765.38%', '267209.58%', '531329.40%', '2094619.25%', '837535.39%', '480166.15%', '574594.33%', '606611.60%', ...),\\n       (nan, '697953.59%', '1288743.17%', '764586.18%', '536307.65%', '825629.78%', '538089.86%', '721610.03%', '2412750.40%', '738817.81%', '473899.20%', '819719.71%', '879879.70%', '881901.89%', '538443.17%', '746313.94%', '256686.78%', '394524.16%', '571033.31%', '816261.71%', '287205.13%', '617710.93%', '2412750.40%', '245019.10%', '239210.79%', '580206.60%', '394637.21%', '916206.32%', '1290256.01%', '323536.05%', '245458.35%', '1897545.61%', '471532.13%', '473787.17%', '493291.63%', '574422.97%', '1389173.57%', '738097.67%', '309003.41%', '252163.31%', '265206.18%', '277104.50%', '393900.64%', '1223187.97%', '495165.61%', '1281910.29%', '446851.05%', '551434.40%', '334387.53%', '229447.89%', '3670742.64%', '3347334.95%', '798343.17%', '487938.48%', '429399.73%', '716439.55%', '761951.58%', '395800.28%', '449949.33%', '405956.74%', '445811.34%', '811033.31%', '333976.49%', '2426101.78%', '661397.37%', '293069.35%', '867219.43%', '1163866.93%', '684615.03%', '1172777.65%', '2264383.48%', '261447.43%', '245175.27%', '678127.02%', '497480.15%', '859160.49%', '559216.14%', '800947.28%', nan, '5816655.35%', '802522.94%', '578018.22%', '411853.91%', '252307.02%', '655421.64%', '538275.20%', '592672.94%', '268347.07%', '269518.24%', '604702.52%', '1317101.28%', '1595001.95%', '252765.38%', '267209.58%', '531329.40%', '2094619.25%', '837535.39%', '480166.15%', '574594.33%', '606611.60%', ...),\\n       (nan, '697953.59%', '1288743.17%', '764586.18%', '536307.65%', '825629.78%', '538089.86%', '721610.03%', '2412750.40%', '738817.81%', '473899.20%', '819719.71%', '879879.70%', '881901.89%', '538443.17%', '746313.94%', '256686.78%', '394524.16%', '571033.31%', '816261.71%', '287205.13%', '617710.93%', '2412750.40%', '245019.10%', '239210.79%', '580206.60%', '394637.21%', '916206.32%', '1290256.01%', '323536.05%', '245458.35%', '1897545.61%', '471532.13%', '473787.17%', '493291.63%', '574422.97%', '1389173.57%', '738097.67%', '309003.41%', '252163.31%', '265206.18%', '277104.50%', '393900.64%', '1223187.97%', '495165.61%', '1281910.29%', '446851.05%', '551434.40%', '334387.53%', '229447.89%', '3670742.64%', '3347334.95%', '798343.17%', '487938.48%', '429399.73%', '716439.55%', '761951.58%', '395800.28%', '449949.33%', '405956.74%', '445811.34%', '811033.31%', '333976.49%', '2426101.78%', '661397.37%', '293069.35%', '867219.43%', '1163866.93%', '684615.03%', '1172777.65%', '2264383.48%', '261447.43%', '245175.27%', '678127.02%', '497480.15%', '859160.49%', '559216.14%', '800947.28%', nan, '5816655.35%', '802522.94%', '578018.22%', '411853.91%', '252307.02%', '655421.64%', '538275.20%', '592672.94%', '268347.07%', '269518.24%', '604702.52%', '1317101.28%', '1595001.95%', '252765.38%', '267209.58%', '531329.40%', '2094619.25%', '837535.39%', '480166.15%', '574594.33%', '606611.60%', ...),\\n       (nan, '697953.59%', '1288743.17%', '764586.18%', '536307.65%', '825629.78%', '538089.86%', '721610.03%', '2412750.40%', '738817.81%', '473899.20%', '819719.71%', '879879.70%', '881901.89%', '538443.17%', '746313.94%', '256686.78%', '394524.16%', '571033.31%', '816261.71%', '287205.13%', '617710.93%', '2412750.40%', '245019.10%', '239210.79%', '580206.60%', '394637.21%', '916206.32%', '1290256.01%', '323536.05%', '245458.35%', '1897545.61%', '471532.13%', '473787.17%', '493291.63%', '574422.97%', '1389173.57%', '738097.67%', '309003.41%', '252163.31%', '265206.18%', '277104.50%', '393900.64%', '1223187.97%', '495165.61%', '1281910.29%', '446851.05%', '551434.40%', '334387.53%', '229447.89%', '3670742.64%', '3347334.95%', '798343.17%', '487938.48%', '429399.73%', '716439.55%', '761951.58%', '395800.28%', '449949.33%', '405956.74%', '445811.34%', '811033.31%', '333976.49%', '2426101.78%', '661397.37%', '293069.35%', '867219.43%', '1163866.93%', '684615.03%', '1172777.65%', '2264383.48%', '261447.43%', '245175.27%', '678127.02%', '497480.15%', '859160.49%', '559216.14%', '800947.28%', nan, '5816655.35%', '802522.94%', '578018.22%', '411853.91%', '252307.02%', '655421.64%', '538275.20%', '592672.94%', '268347.07%', '269518.24%', '604702.52%', '1317101.28%', '1595001.95%', '252765.38%', '267209.58%', '531329.40%', '2094619.25%', '837535.39%', '480166.15%', '574594.33%', '606611.60%', ...),\\n       (nan, '697953.59%', '1288743.17%', '764586.18%', '536307.65%', '825629.78%', '538089.86%', '721610.03%', '2412750.40%', '738817.81%', '473899.20%', '819719.71%', '879879.70%', '881901.89%', '538443.17%', '746313.94%', '256686.78%', '394524.16%', '571033.31%', '816261.71%', '287205.13%', '617710.93%', '2412750.40%', '245019.10%', '239210.79%', '580206.60%', '394637.21%', '916206.32%', '1290256.01%', '323536.05%', '245458.35%', '1897545.61%', '471532.13%', '473787.17%', '493291.63%', '574422.97%', '1389173.57%', '738097.67%', '309003.41%', '252163.31%', '265206.18%', '277104.50%', '393900.64%', '1223187.97%', '495165.61%', '1281910.29%', '446851.05%', '551434.40%', '334387.53%', '229447.89%', '3670742.64%', '3347334.95%', '798343.17%', '487938.48%', '429399.73%', '716439.55%', '761951.58%', '395800.28%', '449949.33%', '405956.74%', '445811.34%', '811033.31%', '333976.49%', '2426101.78%', '661397.37%', '293069.35%', '867219.43%', '1163866.93%', '684615.03%', '1172777.65%', '2264383.48%', '261447.43%', '245175.27%', '678127.02%', '497480.15%', '859160.49%', '559216.14%', '800947.28%', nan, '5816655.35%', '802522.94%', '578018.22%', '411853.91%', '252307.02%', '655421.64%', '538275.20%', '592672.94%', '268347.07%', '269518.24%', '604702.52%', '1317101.28%', '1595001.95%', '252765.38%', '267209.58%', '531329.40%', '2094619.25%', '837535.39%', '480166.15%', '574594.33%', '606611.60%', ...),\\n       (nan, '697953.59%', '1288743.17%', '764586.18%', '536307.65%', '825629.78%', '538089.86%', '721610.03%', '2412750.40%', '738817.81%', '473899.20%', '819719.71%', '879879.70%', '881901.89%', '538443.17%', '746313.94%', '256686.78%', '394524.16%', '571033.31%', '816261.71%', '287205.13%', '617710.93%', '2412750.40%', '245019.10%', '239210.79%', '580206.60%', '394637.21%', '916206.32%', '1290256.01%', '323536.05%', '245458.35%', '1897545.61%', '471532.13%', '473787.17%', '493291.63%', '574422.97%', '1389173.57%', '738097.67%', '309003.41%', '252163.31%', '265206.18%', '277104.50%', '393900.64%', '1223187.97%', '495165.61%', '1281910.29%', '446851.05%', '551434.40%', '334387.53%', '229447.89%', '3670742.64%', '3347334.95%', '798343.17%', '487938.48%', '429399.73%', '716439.55%', '761951.58%', '395800.28%', '449949.33%', '405956.74%', '445811.34%', '811033.31%', '333976.49%', '2426101.78%', '661397.37%', '293069.35%', '867219.43%', '1163866.93%', '684615.03%', '1172777.65%', '2264383.48%', '261447.43%', '245175.27%', '678127.02%', '497480.15%', '859160.49%', '559216.14%', '800947.28%', nan, '5816655.35%', '802522.94%', '578018.22%', '411853.91%', '252307.02%', '655421.64%', '538275.20%', '592672.94%', '268347.07%', '269518.24%', '604702.52%', '1317101.28%', '1595001.95%', '252765.38%', '267209.58%', '531329.40%', '2094619.25%', '837535.39%', '480166.15%', '574594.33%', '606611.60%', ...),\\n       (nan, '697953.59%', '1288743.17%', '764586.18%', '536307.65%', '825629.78%', '538089.86%', '721610.03%', '2412750.40%', '738817.81%', '473899.20%', '819719.71%', '879879.70%', '881901.89%', '538443.17%', '746313.94%', '256686.78%', '394524.16%', '571033.31%', '816261.71%', '287205.13%', '617710.93%', '2412750.40%', '245019.10%', '239210.79%', '580206.60%', '394637.21%', '916206.32%', '1290256.01%', '323536.05%', '245458.35%', '1897545.61%', '471532.13%', '473787.17%', '493291.63%', '574422.97%', '1389173.57%', '738097.67%', '309003.41%', '252163.31%', '265206.18%', '277104.50%', '393900.64%', '1223187.97%', '495165.61%', '1281910.29%', '446851.05%', '551434.40%', '334387.53%', '229447.89%', '3670742.64%', '3347334.95%', '798343.17%', '487938.48%', '429399.73%', '716439.55%', '761951.58%', '395800.28%', '449949.33%', '405956.74%', '445811.34%', '811033.31%', '333976.49%', '2426101.78%', '661397.37%', '293069.35%', '867219.43%', '1163866.93%', '684615.03%', '1172777.65%', '2264383.48%', '261447.43%', '245175.27%', '678127.02%', '497480.15%', '859160.49%', '559216.14%', '800947.28%', nan, '5816655.35%', '802522.94%', '578018.22%', '411853.91%', '252307.02%', '655421.64%', '538275.20%', '592672.94%', '268347.07%', '269518.24%', '604702.52%', '1317101.28%', '1595001.95%', '252765.38%', '267209.58%', '531329.40%', '2094619.25%', '837535.39%', '480166.15%', '574594.33%', '606611.60%', ...),\\n       (nan, '697953.59%', '1288743.17%', '764586.18%', '536307.65%', '825629.78%', '538089.86%', '721610.03%', '2412750.40%', '738817.81%', '473899.20%', '819719.71%', '879879.70%', '881901.89%', '538443.17%', '746313.94%', '256686.78%', '394524.16%', '571033.31%', '816261.71%', '287205.13%', '617710.93%', '2412750.40%', '245019.10%', '239210.79%', '580206.60%', '394637.21%', '916206.32%', '1290256.01%', '323536.05%', '245458.35%', '1897545.61%', '471532.13%', '473787.17%', '493291.63%', '574422.97%', '1389173.57%', '738097.67%', '309003.41%', '252163.31%', '265206.18%', '277104.50%', '393900.64%', '1223187.97%', '495165.61%', '1281910.29%', '446851.05%', '551434.40%', '334387.53%', '229447.89%', '3670742.64%', '3347334.95%', '798343.17%', '487938.48%', '429399.73%', '716439.55%', '761951.58%', '395800.28%', '449949.33%', '405956.74%', '445811.34%', '811033.31%', '333976.49%', '2426101.78%', '661397.37%', '293069.35%', '867219.43%', '1163866.93%', '684615.03%', '1172777.65%', '2264383.48%', '261447.43%', '245175.27%', '678127.02%', '497480.15%', '859160.49%', '559216.14%', '800947.28%', nan, '5816655.35%', '802522.94%', '578018.22%', '411853.91%', '252307.02%', '655421.64%', '538275.20%', '592672.94%', '268347.07%', '269518.24%', '604702.52%', '1317101.28%', '1595001.95%', '252765.38%', '267209.58%', '531329.40%', '2094619.25%', '837535.39%', '480166.15%', '574594.33%', '606611.60%', ...),\\n       (nan, '697953.59%', '1288743.17%', '764586.18%', '536307.65%', '825629.78%', '538089.86%', '721610.03%', '2412750.40%', '738817.81%', '473899.20%', '819719.71%', '879879.70%', '881901.89%', '538443.17%', '746313.94%', '256686.78%', '394524.16%', '571033.31%', '816261.71%', '287205.13%', '617710.93%', '2412750.40%', '245019.10%', '239210.79%', '580206.60%', '394637.21%', '916206.32%', '1290256.01%', '323536.05%', '245458.35%', '1897545.61%', '471532.13%', '473787.17%', '493291.63%', '574422.97%', '1389173.57%', '738097.67%', '309003.41%', '252163.31%', '265206.18%', '277104.50%', '393900.64%', '1223187.97%', '495165.61%', '1281910.29%', '446851.05%', '551434.40%', '334387.53%', '229447.89%', '3670742.64%', '3347334.95%', '798343.17%', '487938.48%', '429399.73%', '716439.55%', '761951.58%', '395800.28%', '449949.33%', '405956.74%', '445811.34%', '811033.31%', '333976.49%', '2426101.78%', '661397.37%', '293069.35%', '867219.43%', '1163866.93%', '684615.03%', '1172777.65%', '2264383.48%', '261447.43%', '245175.27%', '678127.02%', '497480.15%', '859160.49%', '559216.14%', '800947.28%', nan, '5816655.35%', '802522.94%', '578018.22%', '411853.91%', '252307.02%', '655421.64%', '538275.20%', '592672.94%', '268347.07%', '269518.24%', '604702.52%', '1317101.28%', '1595001.95%', '252765.38%', '267209.58%', '531329.40%', '2094619.25%', '837535.39%', '480166.15%', '574594.33%', '606611.60%', ...),\\n       (nan, '697953.59%', '1288743.17%', '764586.18%', '536307.65%', '825629.78%', '538089.86%', '721610.03%', '2412750.40%', '738817.81%', '473899.20%', '819719.71%', '879879.70%', '881901.89%', '538443.17%', '746313.94%', '256686.78%', '394524.16%', '571033.31%', '816261.71%', '287205.13%', '617710.93%', '2412750.40%', '245019.10%', '239210.79%', '580206.60%', '394637.21%', '916206.32%', '1290256.01%', '323536.05%', '245458.35%', '1897545.61%', '471532.13%', '473787.17%', '493291.63%', '574422.97%', '1389173.57%', '738097.67%', '309003.41%', '252163.31%', '265206.18%', '277104.50%', '393900.64%', '1223187.97%', '495165.61%', '1281910.29%', '446851.05%', '551434.40%', '334387.53%', '229447.89%', '3670742.64%', '3347334.95%', '798343.17%', '487938.48%', '429399.73%', '716439.55%', '761951.58%', '395800.28%', '449949.33%', '405956.74%', '445811.34%', '811033.31%', '333976.49%', '2426101.78%', '661397.37%', '293069.35%', '867219.43%', '1163866.93%', '684615.03%', '1172777.65%', '2264383.48%', '261447.43%', '245175.27%', '678127.02%', '497480.15%', '859160.49%', '559216.14%', '800947.28%', nan, '5816655.35%', '802522.94%', '578018.22%', '411853.91%', '252307.02%', '655421.64%', '538275.20%', '592672.94%', '268347.07%', '269518.24%', '604702.52%', '1317101.28%', '1595001.95%', '252765.38%', '267209.58%', '531329.40%', '2094619.25%', '837535.39%', '480166.15%', '574594.33%', '606611.60%', ...),\\n       (nan, '697953.59%', '1288743.17%', '764586.18%', '536307.65%', '825629.78%', '538089.86%', '721610.03%', '2412750.40%', '738817.81%', '473899.20%', '819719.71%', '879879.70%', '881901.89%', '538443.17%', '746313.94%', '256686.78%', '394524.16%', '571033.31%', '816261.71%', '287205.13%', '617710.93%', '2412750.40%', '245019.10%', '239210.79%', '580206.60%', '394637.21%', '916206.32%', '1290256.01%', '323536.05%', '245458.35%', '1897545.61%', '471532.13%', '473787.17%', '493291.63%', '574422.97%', '1389173.57%', '738097.67%', '309003.41%', '252163.31%', '265206.18%', '277104.50%', '393900.64%', '1223187.97%', '495165.61%', '1281910.29%', '446851.05%', '551434.40%', '334387.53%', '229447.89%', '3670742.64%', '3347334.95%', '798343.17%', '487938.48%', '429399.73%', '716439.55%', '761951.58%', '395800.28%', '449949.33%', '405956.74%', '445811.34%', '811033.31%', '333976.49%', '2426101.78%', '661397.37%', '293069.35%', '867219.43%', '1163866.93%', '684615.03%', '1172777.65%', '2264383.48%', '261447.43%', '245175.27%', '678127.02%', '497480.15%', '859160.49%', '559216.14%', '800947.28%', nan, '5816655.35%', '802522.94%', '578018.22%', '411853.91%', '252307.02%', '655421.64%', '538275.20%', '592672.94%', '268347.07%', '269518.24%', '604702.52%', '1317101.28%', '1595001.95%', '252765.38%', '267209.58%', '531329.40%', '2094619.25%', '837535.39%', '480166.15%', '574594.33%', '606611.60%', ...),\\n       (nan, '697953.59%', '1288743.17%', '764586.18%', '536307.65%', '825629.78%', '538089.86%', '721610.03%', '2412750.40%', '738817.81%', '473899.20%', '819719.71%', '879879.70%', '881901.89%', '538443.17%', '746313.94%', '256686.78%', '394524.16%', '571033.31%', '816261.71%', '287205.13%', '617710.93%', '2412750.40%', '245019.10%', '239210.79%', '580206.60%', '394637.21%', '916206.32%', '1290256.01%', '323536.05%', '245458.35%', '1897545.61%', '471532.13%', '473787.17%', '493291.63%', '574422.97%', '1389173.57%', '738097.67%', '309003.41%', '252163.31%', '265206.18%', '277104.50%', '393900.64%', '1223187.97%', '495165.61%', '1281910.29%', '446851.05%', '551434.40%', '334387.53%', '229447.89%', '3670742.64%', '3347334.95%', '798343.17%', '487938.48%', '429399.73%', '716439.55%', '761951.58%', '395800.28%', '449949.33%', '405956.74%', '445811.34%', '811033.31%', '333976.49%', '2426101.78%', '661397.37%', '293069.35%', '867219.43%', '1163866.93%', '684615.03%', '1172777.65%', '2264383.48%', '261447.43%', '245175.27%', '678127.02%', '497480.15%', '859160.49%', '559216.14%', '800947.28%', nan, '5816655.35%', '802522.94%', '578018.22%', '411853.91%', '252307.02%', '655421.64%', '538275.20%', '592672.94%', '268347.07%', '269518.24%', '604702.52%', '1317101.28%', '1595001.95%', '252765.38%', '267209.58%', '531329.40%', '2094619.25%', '837535.39%', '480166.15%', '574594.33%', '606611.60%', ...),\\n       (nan, '697953.59%', '1288743.17%', '764586.18%', '536307.65%', '825629.78%', '538089.86%', '721610.03%', '2412750.40%', '738817.81%', '473899.20%', '819719.71%', '879879.70%', '881901.89%', '538443.17%', '746313.94%', '256686.78%', '394524.16%', '571033.31%', '816261.71%', '287205.13%', '617710.93%', '2412750.40%', '245019.10%', '239210.79%', '580206.60%', '394637.21%', '916206.32%', '1290256.01%', '323536.05%', '245458.35%', '1897545.61%', '471532.13%', '473787.17%', '493291.63%', '574422.97%', '1389173.57%', '738097.67%', '309003.41%', '252163.31%', '265206.18%', '277104.50%', '393900.64%', '1223187.97%', '495165.61%', '1281910.29%', '446851.05%', '551434.40%', '334387.53%', '229447.89%', '3670742.64%', '3347334.95%', '798343.17%', '487938.48%', '429399.73%', '716439.55%', '761951.58%', '395800.28%', '449949.33%', '405956.74%', '445811.34%', '811033.31%', '333976.49%', '2426101.78%', '661397.37%', '293069.35%', '867219.43%', '1163866.93%', '684615.03%', '1172777.65%', '2264383.48%', '261447.43%', '245175.27%', '678127.02%', '497480.15%', '859160.49%', '559216.14%', '800947.28%', nan, '5816655.35%', '802522.94%', '578018.22%', '411853.91%', '252307.02%', '655421.64%', '538275.20%', '592672.94%', '268347.07%', '269518.24%', '604702.52%', '1317101.28%', '1595001.95%', '252765.38%', '267209.58%', '531329.40%', '2094619.25%', '837535.39%', '480166.15%', '574594.33%', '606611.60%', ...)],\\n      dtype='object')] are in the [columns]\""
     ]
    }
   ],
   "source": [
    "data['customer_lifetime_value'] = data [x]\n",
    "#data.head()"
   ]
  }
 ],
 "metadata": {
  "kernelspec": {
   "display_name": "Python 3 (ipykernel)",
   "language": "python",
   "name": "python3"
  },
  "language_info": {
   "codemirror_mode": {
    "name": "ipython",
    "version": 3
   },
   "file_extension": ".py",
   "mimetype": "text/x-python",
   "name": "python",
   "nbconvert_exporter": "python",
   "pygments_lexer": "ipython3",
   "version": "3.9.13"
  }
 },
 "nbformat": 4,
 "nbformat_minor": 5
}
